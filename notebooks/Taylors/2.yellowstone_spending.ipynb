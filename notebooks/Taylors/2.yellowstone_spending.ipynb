{
 "cells": [
  {
   "cell_type": "code",
   "execution_count": 1,
   "metadata": {},
   "outputs": [
    {
     "ename": "KeyboardInterrupt",
     "evalue": "",
     "output_type": "error",
     "traceback": [
      "\u001b[1;31m---------------------------------------------------------------------------\u001b[0m",
      "\u001b[1;31mKeyboardInterrupt\u001b[0m                         Traceback (most recent call last)",
      "Cell \u001b[1;32mIn[1], line 4\u001b[0m\n\u001b[0;32m      1\u001b[0m \u001b[38;5;66;03m# Load data\u001b[39;00m\n\u001b[0;32m      3\u001b[0m \u001b[38;5;28;01mimport\u001b[39;00m \u001b[38;5;21;01mos\u001b[39;00m\n\u001b[1;32m----> 4\u001b[0m \u001b[38;5;28;01mimport\u001b[39;00m \u001b[38;5;21;01mpandas\u001b[39;00m \u001b[38;5;28;01mas\u001b[39;00m \u001b[38;5;21;01mpd\u001b[39;00m\n\u001b[0;32m      6\u001b[0m pd\u001b[38;5;241m.\u001b[39mset_option(\u001b[38;5;124m'\u001b[39m\u001b[38;5;124mdisplay.max_columns\u001b[39m\u001b[38;5;124m'\u001b[39m, \u001b[38;5;28;01mNone\u001b[39;00m)\n\u001b[0;32m      7\u001b[0m pd\u001b[38;5;241m.\u001b[39mset_option(\u001b[38;5;124m'\u001b[39m\u001b[38;5;124mdisplay.width\u001b[39m\u001b[38;5;124m'\u001b[39m, \u001b[38;5;241m40000\u001b[39m)\n",
      "File \u001b[1;32mc:\\Users\\tjbla\\miniforge3\\envs\\worth\\Lib\\site-packages\\pandas\\__init__.py:26\u001b[0m\n\u001b[0;32m     22\u001b[0m \u001b[38;5;28;01mdel\u001b[39;00m _hard_dependencies, _dependency, _missing_dependencies\n\u001b[0;32m     24\u001b[0m \u001b[38;5;28;01mtry\u001b[39;00m:\n\u001b[0;32m     25\u001b[0m     \u001b[38;5;66;03m# numpy compat\u001b[39;00m\n\u001b[1;32m---> 26\u001b[0m     \u001b[38;5;28;01mfrom\u001b[39;00m \u001b[38;5;21;01mpandas\u001b[39;00m\u001b[38;5;21;01m.\u001b[39;00m\u001b[38;5;21;01mcompat\u001b[39;00m \u001b[38;5;28;01mimport\u001b[39;00m (\n\u001b[0;32m     27\u001b[0m         is_numpy_dev \u001b[38;5;28;01mas\u001b[39;00m _is_numpy_dev,  \u001b[38;5;66;03m# pyright: ignore[reportUnusedImport] # noqa: F401\u001b[39;00m\n\u001b[0;32m     28\u001b[0m     )\n\u001b[0;32m     29\u001b[0m \u001b[38;5;28;01mexcept\u001b[39;00m \u001b[38;5;167;01mImportError\u001b[39;00m \u001b[38;5;28;01mas\u001b[39;00m _err:  \u001b[38;5;66;03m# pragma: no cover\u001b[39;00m\n\u001b[0;32m     30\u001b[0m     _module \u001b[38;5;241m=\u001b[39m _err\u001b[38;5;241m.\u001b[39mname\n",
      "File \u001b[1;32mc:\\Users\\tjbla\\miniforge3\\envs\\worth\\Lib\\site-packages\\pandas\\compat\\__init__.py:27\u001b[0m\n\u001b[0;32m     25\u001b[0m \u001b[38;5;28;01mimport\u001b[39;00m \u001b[38;5;21;01mpandas\u001b[39;00m\u001b[38;5;21;01m.\u001b[39;00m\u001b[38;5;21;01mcompat\u001b[39;00m\u001b[38;5;21;01m.\u001b[39;00m\u001b[38;5;21;01mcompressors\u001b[39;00m\n\u001b[0;32m     26\u001b[0m \u001b[38;5;28;01mfrom\u001b[39;00m \u001b[38;5;21;01mpandas\u001b[39;00m\u001b[38;5;21;01m.\u001b[39;00m\u001b[38;5;21;01mcompat\u001b[39;00m\u001b[38;5;21;01m.\u001b[39;00m\u001b[38;5;21;01mnumpy\u001b[39;00m \u001b[38;5;28;01mimport\u001b[39;00m is_numpy_dev\n\u001b[1;32m---> 27\u001b[0m \u001b[38;5;28;01mfrom\u001b[39;00m \u001b[38;5;21;01mpandas\u001b[39;00m\u001b[38;5;21;01m.\u001b[39;00m\u001b[38;5;21;01mcompat\u001b[39;00m\u001b[38;5;21;01m.\u001b[39;00m\u001b[38;5;21;01mpyarrow\u001b[39;00m \u001b[38;5;28;01mimport\u001b[39;00m (\n\u001b[0;32m     28\u001b[0m     pa_version_under10p1,\n\u001b[0;32m     29\u001b[0m     pa_version_under11p0,\n\u001b[0;32m     30\u001b[0m     pa_version_under13p0,\n\u001b[0;32m     31\u001b[0m     pa_version_under14p0,\n\u001b[0;32m     32\u001b[0m     pa_version_under14p1,\n\u001b[0;32m     33\u001b[0m     pa_version_under16p0,\n\u001b[0;32m     34\u001b[0m     pa_version_under17p0,\n\u001b[0;32m     35\u001b[0m )\n\u001b[0;32m     37\u001b[0m \u001b[38;5;28;01mif\u001b[39;00m TYPE_CHECKING:\n\u001b[0;32m     38\u001b[0m     \u001b[38;5;28;01mfrom\u001b[39;00m \u001b[38;5;21;01mpandas\u001b[39;00m\u001b[38;5;21;01m.\u001b[39;00m\u001b[38;5;21;01m_typing\u001b[39;00m \u001b[38;5;28;01mimport\u001b[39;00m F\n",
      "File \u001b[1;32mc:\\Users\\tjbla\\miniforge3\\envs\\worth\\Lib\\site-packages\\pandas\\compat\\pyarrow.py:8\u001b[0m\n\u001b[0;32m      5\u001b[0m \u001b[38;5;28;01mfrom\u001b[39;00m \u001b[38;5;21;01mpandas\u001b[39;00m\u001b[38;5;21;01m.\u001b[39;00m\u001b[38;5;21;01mutil\u001b[39;00m\u001b[38;5;21;01m.\u001b[39;00m\u001b[38;5;21;01mversion\u001b[39;00m \u001b[38;5;28;01mimport\u001b[39;00m Version\n\u001b[0;32m      7\u001b[0m \u001b[38;5;28;01mtry\u001b[39;00m:\n\u001b[1;32m----> 8\u001b[0m     \u001b[38;5;28;01mimport\u001b[39;00m \u001b[38;5;21;01mpyarrow\u001b[39;00m \u001b[38;5;28;01mas\u001b[39;00m \u001b[38;5;21;01mpa\u001b[39;00m\n\u001b[0;32m     10\u001b[0m     _palv \u001b[38;5;241m=\u001b[39m Version(Version(pa\u001b[38;5;241m.\u001b[39m__version__)\u001b[38;5;241m.\u001b[39mbase_version)\n\u001b[0;32m     11\u001b[0m     pa_version_under10p1 \u001b[38;5;241m=\u001b[39m _palv \u001b[38;5;241m<\u001b[39m Version(\u001b[38;5;124m\"\u001b[39m\u001b[38;5;124m10.0.1\u001b[39m\u001b[38;5;124m\"\u001b[39m)\n",
      "File \u001b[1;32mc:\\Users\\tjbla\\miniforge3\\envs\\worth\\Lib\\site-packages\\pyarrow\\__init__.py:65\u001b[0m\n\u001b[0;32m     63\u001b[0m _gc_enabled \u001b[38;5;241m=\u001b[39m _gc\u001b[38;5;241m.\u001b[39misenabled()\n\u001b[0;32m     64\u001b[0m _gc\u001b[38;5;241m.\u001b[39mdisable()\n\u001b[1;32m---> 65\u001b[0m \u001b[38;5;28;01mimport\u001b[39;00m \u001b[38;5;21;01mpyarrow\u001b[39;00m\u001b[38;5;21;01m.\u001b[39;00m\u001b[38;5;21;01mlib\u001b[39;00m \u001b[38;5;28;01mas\u001b[39;00m \u001b[38;5;21;01m_lib\u001b[39;00m\n\u001b[0;32m     66\u001b[0m \u001b[38;5;28;01mif\u001b[39;00m _gc_enabled:\n\u001b[0;32m     67\u001b[0m     _gc\u001b[38;5;241m.\u001b[39menable()\n",
      "File \u001b[1;32m<frozen importlib._bootstrap>:645\u001b[0m, in \u001b[0;36mparent\u001b[1;34m(self)\u001b[0m\n",
      "\u001b[1;31mKeyboardInterrupt\u001b[0m: "
     ]
    }
   ],
   "source": [
    "# Load data\n",
    "\n",
    "import os\n",
    "import pandas as pd\n",
    "\n",
    "pd.set_option('display.max_columns', None)\n",
    "pd.set_option('display.width', 40000)\n",
    "pd.set_option('display.max_rows', None)\n",
    "\n",
    "# Read the data from the CSV file\n",
    "df_safegraph_spend = pd.read_csv(os.path.join('..', 'dewey_data_filtered','SafeGraph_SPEND_Yellowstone_200miRadius.csv.gz'))\n",
    "\n",
    "# Print the first 5 rows of the DataFrame\n",
    "# print(df_safegraph_spend.info())\n",
    "# print(df_safegraph_spend.head())\n"
   ]
  },
  {
   "cell_type": "code",
   "execution_count": 16,
   "metadata": {},
   "outputs": [],
   "source": [
    "# Filter by Geographic Region\n",
    "\n",
    "# Create a geojson file using this online tool: https://geojson.io/#map=6.57/43.031/-108.404\n",
    "\n",
    "import geopandas as gpd\n",
    "\n",
    "filter_region = gpd.read_file(os.path.join('..', 'map','justYellowstone.geojson')) # Put your new location geojson file here\n",
    "\n",
    "# The following code does a 2-step filtering process: 1) filter the POI down to be within the region, 2) use the POI set to filter the SPEND data\n",
    "\n",
    "# 1 - Filter POI within the filter_region\n",
    "df_safegraph_poi = pd.read_csv(os.path.join('..', 'dewey_data_filtered','SafeGraph_POI_Yellowstone_200miRadius.csv.gz'))\n",
    "\n",
    "# print('(before filter) # of rows: ', len(df_safegraph_poi))\n",
    "\n",
    "if 'LONGITUDE' in df_safegraph_poi.columns and 'LATITUDE' in df_safegraph_poi.columns:\n",
    "    points = gpd.points_from_xy(df_safegraph_poi['LONGITUDE'], df_safegraph_poi['LATITUDE'])\n",
    "    mask = points.within(filter_region.geometry.iloc[0])  # Assuming filter_region has only one polygon\n",
    "    df_safegraph_poi_filtered = df_safegraph_poi[mask]\n",
    "else:\n",
    "    print(\"Error: DataFrame does not contain 'LONGITUDE' and/or 'LATITUDE' columns.\")\n",
    "\n",
    "# print('(after filter)  # of rows: ', len(df_safegraph_poi_filtered))\n",
    "# print(df_safegraph_poi_filtered.head())\n",
    "\n",
    "# 2 - Filter SPEND data by matching the PLACEKEY with the filtered POI\n",
    "# print('(before filter) # of rows: ', len(df_safegraph_spend))\n",
    "\n",
    "if 'PLACEKEY' in df_safegraph_spend.columns:\n",
    "    df_filtered = df_safegraph_spend[df_safegraph_spend['PLACEKEY'].isin(df_safegraph_poi_filtered['PLACEKEY'])]\n",
    "else:\n",
    "    print(\"Error: DataFrame does not contain 'PLACEKEY' column.\")\n",
    "\n",
    "# print('(after filter)  # of rows: ', len(df_filtered))\n",
    "# print(df_filtered.head())\n"
   ]
  },
  {
   "cell_type": "code",
   "execution_count": 17,
   "metadata": {},
   "outputs": [
    {
     "name": "stdout",
     "output_type": "stream",
     "text": [
      "                  PLACEKEY                        SAFEGRAPH_BRAND_IDS       BRANDS   SPEND_DATE_RANGE_START     SPEND_DATE_RANGE_END  RAW_TOTAL_SPEND  RAW_NUM_TRANSACTIONS  RAW_NUM_CUSTOMERS  MEDIAN_SPEND_PER_TRANSACTION  MEDIAN_SPEND_PER_CUSTOMER SPEND_PER_TRANSACTION_PERCENTILES                                       SPEND_BY_DAY                       SPEND_PER_TRANSACTION_BY_DAY                               SPEND_BY_DAY_OF_WEEK                                         DAY_COUNTS  SPEND_PCT_CHANGE_VS_PREV_MONTH  SPEND_PCT_CHANGE_VS_PREV_YEAR  ONLINE_TRANSACTIONS  ONLINE_SPEND TRANSACTION_INTERMEDIARY SPEND_BY_TRANSACTION_INTERMEDIARY                    BUCKETED_CUSTOMER_FREQUENCY               MEAN_SPEND_PER_CUSTOMER_BY_FREQUENCY                          BUCKETED_CUSTOMER_INCOMES                  MEAN_SPEND_PER_CUSTOMER_BY_INCOME                                 CUSTOMER_HOME_CITY         RELATED_CROSS_SHOPPING_PHYSICAL_BRANDS_PCT        RELATED_CROSS_SHOPPING_ONLINE_MERCHANTS_PCT    RELATED_CROSS_SHOPPING_SAME_CATEGORY_BRANDS_PCT RELATED_CROSS_SHOPPING_LOCAL_BRANDS_PCT                       RELATED_WIRELESS_CARRIER_PCT                        RELATED_STREAMING_CABLE_PCT                       RELATED_DELIVERY_SERVICE_PCT RELATED_RIDESHARE_SERVICE_PCT RELATED_BUYNOWPAYLATER_SERVICE_PCT RELATED_PAYMENT_PLATFORM_PCT\n",
      "14238  zzy-222@5wg-ky9-skf                                        NaN          NaN  2019-05-01 00:00:00.000  2019-06-01 00:00:00.000          9587.20                    21                 20                        181.77                     219.73           {\"25\":9.67,\"75\":925.87}  [0.00,0.00,0.00,0.00,0.00,0.00,0.00,0.00,0.00,...  [null,null,null,null,null,null,null,null,null,...  {\"Monday\":181.77,\"Tuesday\":2840.82,\"Wednesday\"...  {\"Wednesday\":5,\"Monday\":4,\"Saturday\":4,\"Thursd...                             NaN                            NaN                    0           0.0   {\"No intermediary\":21}       {\"No intermediary\":9587.20}    {\"1\":19,\"2\":1,\"3\":0,\"4\":0,\"5-10\":0,\">10\":0}  {\"1\":504.38,\"2\":4.00,\"3\":null,\"4\":null,\"5-10\":...  {\"<25k\":2,\"25-45k\":3,\"45-60k\":2,\"75-100k\":5,\"1...  {\"<25k\":172.81,\"25-45k\":26.88,\"45-60k\":17.24,\"...  {\"Minneapolis, MN\":2,\"Conifer, CO\":2,\"Chicago,...  {\"Walmart\":50,\"McDonald's\":45,\"Walgreens\":30,\"...  {\"Amazon\":45,\"iTunes\":40,\"Amazon Marketplace\":...  {\"Best Western\":15,\"Sheraton Hotels & Resorts\"...                                      {}  {\"AT&T\":30,\"Sprint\":10,\"Verizon Wireless\":5,\"C...  {\"Netflix\":25,\"Amazon Prime\":20,\"Redbox\":5,\"Fu...                                      {\"Grubhub\":5}         {\"Uber\":30,\"Lyft\":15}                                 {}                {\"PayPal\":10}\n",
      "14742  223-222@5sy-d6f-rzf  SG_BRAND_a144a8c10e1fe8006125571afd1a1e80  Exxon Mobil  2019-05-01 00:00:00.000  2019-06-01 00:00:00.000           876.25                    27                 26                         31.64                      31.64           {\"25\":17.61,\"75\":41.34}  [0.00,0.00,0.00,0.00,0.00,62.38,0.00,28.42,29....  [null,null,null,null,null,6.80,null,28.42,29.0...  {\"Monday\":280.09,\"Tuesday\":206.60,\"Wednesday\":...  {\"Wednesday\":5,\"Monday\":4,\"Saturday\":4,\"Thursd...                            68.0                            NaN                    0           0.0   {\"No intermediary\":27}        {\"No intermediary\":876.25}    {\"1\":25,\"2\":1,\"3\":0,\"4\":0,\"5-10\":0,\">10\":0}  {\"1\":32.75,\"2\":57.38,\"3\":null,\"4\":null,\"5-10\":...  {\"<25k\":2,\"25-45k\":2,\"45-60k\":2,\"60-75k\":2,\"75...  {\"<25k\":30.70,\"25-45k\":32.87,\"45-60k\":40.81,\"6...  {\"Evanston, IL\":5,\"Centennial, CO\":3,\"Yuma, AZ...  {\"ConocoPhillips\":62,\"Walmart\":58,\"Shell Oil\":...  {\"Amazon\":62,\"iTunes\":47,\"Amazon Prime\":31,\"Am...  {\"ConocoPhillips\":62,\"Shell Oil\":58,\"Chevron\":...                           {\"Super 8\":4}  {\"AT&T\":27,\"Verizon Wireless\":20,\"Sprint\":4,\"T...  {\"Amazon Prime\":31,\"Netflix\":20,\"Dish Network\"...                                    {\"Uber Eats\":4}         {\"Uber\":20,\"Lyft\":16}                                 {}                           {}\n",
      "15604  zzy-223@5wg-gzj-zzz                                        NaN          NaN  2019-05-01 00:00:00.000  2019-06-01 00:00:00.000          1371.60                    10                  9                         28.92                      28.92          {\"25\":14.46,\"75\":339.45}  [0.00,9.36,0.00,0.00,0.00,213.58,0.00,28.92,10...  [null,9.36,null,null,null,213.58,null,14.46,34...  {\"Monday\":213.58,\"Tuesday\":57.84,\"Wednesday\":2...  {\"Wednesday\":5,\"Monday\":4,\"Saturday\":4,\"Thursd...                             NaN                            NaN                    0           0.0   {\"No intermediary\":10}       {\"No intermediary\":1371.60}     {\"1\":8,\"2\":1,\"3\":0,\"4\":0,\"5-10\":0,\">10\":0}  {\"1\":84.68,\"2\":694.14,\"3\":null,\"4\":null,\"5-10\"...  {\"<25k\":3,\"25-45k\":2,\"45-60k\":2,\"60-75k\":2,\"75...  {\"<25k\":12.76,\"25-45k\":28.92,\"45-60k\":14.46,\"6...  {\"Bowling Green, KY\":2,\"Perrysburg, OH\":2,\"Sea...  {\"ConocoPhillips\":67,\"McDonald's\":67,\"Shell Oi...  {\"Amazon\":56,\"Spotify\":56,\"iTunes\":45,\"Netflix...                                                 {}                                      {}                                        {\"AT&T\":23}                           {\"Netflix\":34,\"Hulu\":12}                                                 {}         {\"Uber\":23,\"Lyft\":12}                                 {}                           {}\n",
      "15853  zzy-224@5wg-k4r-yn5                                        NaN          NaN  2019-05-01 00:00:00.000  2019-06-01 00:00:00.000         10679.40                   214                150                         24.49                      38.14            {\"25\":9.36,\"75\":53.86}  [0.00,0.00,0.00,369.75,0.00,1755.95,520.21,0.0...  [null,null,null,46.11,null,34.56,19.03,null,nu...  {\"Monday\":1755.95,\"Tuesday\":520.21,\"Wednesday\"...  {\"Wednesday\":5,\"Monday\":4,\"Saturday\":4,\"Thursd...                             NaN                            NaN                    0           0.0  {\"No intermediary\":214}      {\"No intermediary\":10679.40}  {\"1\":111,\"2\":27,\"3\":6,\"4\":4,\"5-10\":2,\">10\":0}  {\"1\":57.46,\"2\":88.47,\"3\":72.86,\"4\":232.77,\"5-1...  {\"<25k\":17,\"25-45k\":26,\"45-60k\":18,\"60-75k\":5,...  {\"<25k\":59.37,\"25-45k\":65.71,\"45-60k\":42.49,\"6...  {\"Marietta, GA\":6,\"Boise, ID\":5,\"Los Altos, CA...  {\"McDonald's\":51,\"Walmart\":50,\"Shell Oil\":42,\"...  {\"Amazon\":46,\"iTunes\":40,\"Netflix\":26,\"Amazon ...  {\"Hallmark Cards\":5,\"Staples\":3,\"Office Depot\"...                                      {}  {\"Verizon Wireless\":26,\"AT&T\":18,\"T-Mobile\":9,...  {\"Netflix\":26,\"Amazon Prime\":14,\"Hulu\":7,\"Redb...  {\"DoorDash\":4,\"Uber Eats\":2,\"Shipt\":2,\"Postmat...          {\"Uber\":17,\"Lyft\":8}                   {\"Affirm.com\":2}       {\"PayPal\":3,\"Venmo\":1}\n",
      "16012  zzw-222@5sy-d6f-f2k                                        NaN          NaN  2019-05-01 00:00:00.000  2019-06-01 00:00:00.000           302.00                     7                  7                         19.50                      19.50           {\"25\":12.00,\"75\":44.00}  [0.00,0.00,0.00,0.00,0.00,0.00,0.00,0.00,0.00,...  [null,null,null,null,null,null,null,null,null,...  {\"Monday\":49.40,\"Tuesday\":175.00,\"Wednesday\":3...  {\"Wednesday\":5,\"Monday\":4,\"Saturday\":4,\"Thursd...                           163.0                            NaN                    0           0.0    {\"No intermediary\":7}        {\"No intermediary\":302.00}     {\"1\":7,\"2\":0,\"3\":0,\"4\":0,\"5-10\":0,\">10\":0}  {\"1\":43.14,\"2\":null,\"3\":null,\"4\":null,\"5-10\":n...         {\"<25k\":3,\"25-45k\":2,\"45-60k\":2,\">150k\":3}  {\"<25k\":14.75,\"25-45k\":12.00,\"45-60k\":17.90,\">...  {\"Centennial, CO\":2,\"Gilbert, AZ\":2,\"Pall Mall...  {\"Walmart\":58,\"Starbucks\":58,\"ConocoPhillips\":...  {\"Amazon\":43,\"iTunes\":43,\"Netflix\":29,\"Audible...  {\"Starbucks\":58,\"McDonald's\":43,\"Pei Wei Asian...                      {\"Exxon Mobil\":15}                            {\"Verizon Wireless\":29}                   {\"Netflix\":29,\"Amazon Prime\":15}                                                 {}                   {\"Uber\":15}                                 {}                           {}\n"
     ]
    },
    {
     "name": "stderr",
     "output_type": "stream",
     "text": [
      "C:\\Users\\tjbla\\AppData\\Local\\Temp\\ipykernel_17748\\1004588570.py:12: UserWarning: Boolean Series key will be reindexed to match DataFrame index.\n",
      "  df_filtered_2019 = df[(df_safegraph_spend['SPEND_DATE_RANGE_START'] >= datetime_start) &\n"
     ]
    }
   ],
   "source": [
    "# Filter by Dates\n",
    "\n",
    "# print('(before filter) # of rows: ', len(df_filtered))\n",
    "df = df_filtered.copy()\n",
    "\n",
    "datetime_start = pd.to_datetime('2019-05-01')\n",
    "datetime_end = pd.to_datetime('2019-09-01')\n",
    "\n",
    "df_safegraph_spend['SPEND_DATE_RANGE_START'] = pd.to_datetime(df_safegraph_spend['SPEND_DATE_RANGE_START'])\n",
    "df_safegraph_spend['SPEND_DATE_RANGE_END'] = pd.to_datetime(df_safegraph_spend['SPEND_DATE_RANGE_END'])\n",
    "\n",
    "df_filtered_2019 = df[(df_safegraph_spend['SPEND_DATE_RANGE_START'] >= datetime_start) &\n",
    "                                 (df_safegraph_spend['SPEND_DATE_RANGE_END'] <= datetime_end)]\n",
    "\n",
    "#print('(after filter) # of rows: ', len(df_filtered))\n",
    "print(df_filtered_2019.head())"
   ]
  },
  {
   "cell_type": "code",
   "execution_count": 19,
   "metadata": {},
   "outputs": [
    {
     "name": "stdout",
     "output_type": "stream",
     "text": [
      "                  PLACEKEY                        SAFEGRAPH_BRAND_IDS       BRANDS   SPEND_DATE_RANGE_START     SPEND_DATE_RANGE_END  RAW_TOTAL_SPEND  RAW_NUM_TRANSACTIONS  RAW_NUM_CUSTOMERS  MEDIAN_SPEND_PER_TRANSACTION  MEDIAN_SPEND_PER_CUSTOMER SPEND_PER_TRANSACTION_PERCENTILES                                       SPEND_BY_DAY                       SPEND_PER_TRANSACTION_BY_DAY                               SPEND_BY_DAY_OF_WEEK                                         DAY_COUNTS  SPEND_PCT_CHANGE_VS_PREV_MONTH  SPEND_PCT_CHANGE_VS_PREV_YEAR  ONLINE_TRANSACTIONS  ONLINE_SPEND TRANSACTION_INTERMEDIARY SPEND_BY_TRANSACTION_INTERMEDIARY                    BUCKETED_CUSTOMER_FREQUENCY               MEAN_SPEND_PER_CUSTOMER_BY_FREQUENCY                          BUCKETED_CUSTOMER_INCOMES                  MEAN_SPEND_PER_CUSTOMER_BY_INCOME                                 CUSTOMER_HOME_CITY         RELATED_CROSS_SHOPPING_PHYSICAL_BRANDS_PCT        RELATED_CROSS_SHOPPING_ONLINE_MERCHANTS_PCT    RELATED_CROSS_SHOPPING_SAME_CATEGORY_BRANDS_PCT RELATED_CROSS_SHOPPING_LOCAL_BRANDS_PCT                       RELATED_WIRELESS_CARRIER_PCT                        RELATED_STREAMING_CABLE_PCT                       RELATED_DELIVERY_SERVICE_PCT RELATED_RIDESHARE_SERVICE_PCT RELATED_BUYNOWPAYLATER_SERVICE_PCT RELATED_PAYMENT_PLATFORM_PCT                                      DATE_OF_MONTH\n",
      "14238  zzy-222@5wg-ky9-skf                                        NaN          NaN  2019-05-01 00:00:00.000  2019-06-01 00:00:00.000          9587.20                    21                 20                        181.77                     219.73           {\"25\":9.67,\"75\":925.87}  [0.0, 0.0, 0.0, 0.0, 0.0, 0.0, 0.0, 0.0, 0.0, ...  [null,null,null,null,null,null,null,null,null,...  {\"Monday\":181.77,\"Tuesday\":2840.82,\"Wednesday\"...  {\"Wednesday\":5,\"Monday\":4,\"Saturday\":4,\"Thursd...                             NaN                            NaN                    0           0.0   {\"No intermediary\":21}       {\"No intermediary\":9587.20}    {\"1\":19,\"2\":1,\"3\":0,\"4\":0,\"5-10\":0,\">10\":0}  {\"1\":504.38,\"2\":4.00,\"3\":null,\"4\":null,\"5-10\":...  {\"<25k\":2,\"25-45k\":3,\"45-60k\":2,\"75-100k\":5,\"1...  {\"<25k\":172.81,\"25-45k\":26.88,\"45-60k\":17.24,\"...  {\"Minneapolis, MN\":2,\"Conifer, CO\":2,\"Chicago,...  {\"Walmart\":50,\"McDonald's\":45,\"Walgreens\":30,\"...  {\"Amazon\":45,\"iTunes\":40,\"Amazon Marketplace\":...  {\"Best Western\":15,\"Sheraton Hotels & Resorts\"...                                      {}  {\"AT&T\":30,\"Sprint\":10,\"Verizon Wireless\":5,\"C...  {\"Netflix\":25,\"Amazon Prime\":20,\"Redbox\":5,\"Fu...                                      {\"Grubhub\":5}         {\"Uber\":30,\"Lyft\":15}                                 {}                {\"PayPal\":10}  [1, 2, 3, 4, 5, 6, 7, 8, 9, 10, 11, 12, 13, 14...\n",
      "14742  223-222@5sy-d6f-rzf  SG_BRAND_a144a8c10e1fe8006125571afd1a1e80  Exxon Mobil  2019-05-01 00:00:00.000  2019-06-01 00:00:00.000           876.25                    27                 26                         31.64                      31.64           {\"25\":17.61,\"75\":41.34}  [0.0, 0.0, 0.0, 0.0, 0.0, 62.38, 0.0, 28.42, 2...  [null,null,null,null,null,6.80,null,28.42,29.0...  {\"Monday\":280.09,\"Tuesday\":206.60,\"Wednesday\":...  {\"Wednesday\":5,\"Monday\":4,\"Saturday\":4,\"Thursd...                            68.0                            NaN                    0           0.0   {\"No intermediary\":27}        {\"No intermediary\":876.25}    {\"1\":25,\"2\":1,\"3\":0,\"4\":0,\"5-10\":0,\">10\":0}  {\"1\":32.75,\"2\":57.38,\"3\":null,\"4\":null,\"5-10\":...  {\"<25k\":2,\"25-45k\":2,\"45-60k\":2,\"60-75k\":2,\"75...  {\"<25k\":30.70,\"25-45k\":32.87,\"45-60k\":40.81,\"6...  {\"Evanston, IL\":5,\"Centennial, CO\":3,\"Yuma, AZ...  {\"ConocoPhillips\":62,\"Walmart\":58,\"Shell Oil\":...  {\"Amazon\":62,\"iTunes\":47,\"Amazon Prime\":31,\"Am...  {\"ConocoPhillips\":62,\"Shell Oil\":58,\"Chevron\":...                           {\"Super 8\":4}  {\"AT&T\":27,\"Verizon Wireless\":20,\"Sprint\":4,\"T...  {\"Amazon Prime\":31,\"Netflix\":20,\"Dish Network\"...                                    {\"Uber Eats\":4}         {\"Uber\":20,\"Lyft\":16}                                 {}                           {}  [1, 2, 3, 4, 5, 6, 7, 8, 9, 10, 11, 12, 13, 14...\n",
      "15604  zzy-223@5wg-gzj-zzz                                        NaN          NaN  2019-05-01 00:00:00.000  2019-06-01 00:00:00.000          1371.60                    10                  9                         28.92                      28.92          {\"25\":14.46,\"75\":339.45}  [0.0, 9.36, 0.0, 0.0, 0.0, 213.58, 0.0, 28.92,...  [null,9.36,null,null,null,213.58,null,14.46,34...  {\"Monday\":213.58,\"Tuesday\":57.84,\"Wednesday\":2...  {\"Wednesday\":5,\"Monday\":4,\"Saturday\":4,\"Thursd...                             NaN                            NaN                    0           0.0   {\"No intermediary\":10}       {\"No intermediary\":1371.60}     {\"1\":8,\"2\":1,\"3\":0,\"4\":0,\"5-10\":0,\">10\":0}  {\"1\":84.68,\"2\":694.14,\"3\":null,\"4\":null,\"5-10\"...  {\"<25k\":3,\"25-45k\":2,\"45-60k\":2,\"60-75k\":2,\"75...  {\"<25k\":12.76,\"25-45k\":28.92,\"45-60k\":14.46,\"6...  {\"Bowling Green, KY\":2,\"Perrysburg, OH\":2,\"Sea...  {\"ConocoPhillips\":67,\"McDonald's\":67,\"Shell Oi...  {\"Amazon\":56,\"Spotify\":56,\"iTunes\":45,\"Netflix...                                                 {}                                      {}                                        {\"AT&T\":23}                           {\"Netflix\":34,\"Hulu\":12}                                                 {}         {\"Uber\":23,\"Lyft\":12}                                 {}                           {}  [1, 2, 3, 4, 5, 6, 7, 8, 9, 10, 11, 12, 13, 14...\n",
      "15853  zzy-224@5wg-k4r-yn5                                        NaN          NaN  2019-05-01 00:00:00.000  2019-06-01 00:00:00.000         10679.40                   214                150                         24.49                      38.14            {\"25\":9.36,\"75\":53.86}  [0.0, 0.0, 0.0, 369.75, 0.0, 1755.95, 520.21, ...  [null,null,null,46.11,null,34.56,19.03,null,nu...  {\"Monday\":1755.95,\"Tuesday\":520.21,\"Wednesday\"...  {\"Wednesday\":5,\"Monday\":4,\"Saturday\":4,\"Thursd...                             NaN                            NaN                    0           0.0  {\"No intermediary\":214}      {\"No intermediary\":10679.40}  {\"1\":111,\"2\":27,\"3\":6,\"4\":4,\"5-10\":2,\">10\":0}  {\"1\":57.46,\"2\":88.47,\"3\":72.86,\"4\":232.77,\"5-1...  {\"<25k\":17,\"25-45k\":26,\"45-60k\":18,\"60-75k\":5,...  {\"<25k\":59.37,\"25-45k\":65.71,\"45-60k\":42.49,\"6...  {\"Marietta, GA\":6,\"Boise, ID\":5,\"Los Altos, CA...  {\"McDonald's\":51,\"Walmart\":50,\"Shell Oil\":42,\"...  {\"Amazon\":46,\"iTunes\":40,\"Netflix\":26,\"Amazon ...  {\"Hallmark Cards\":5,\"Staples\":3,\"Office Depot\"...                                      {}  {\"Verizon Wireless\":26,\"AT&T\":18,\"T-Mobile\":9,...  {\"Netflix\":26,\"Amazon Prime\":14,\"Hulu\":7,\"Redb...  {\"DoorDash\":4,\"Uber Eats\":2,\"Shipt\":2,\"Postmat...          {\"Uber\":17,\"Lyft\":8}                   {\"Affirm.com\":2}       {\"PayPal\":3,\"Venmo\":1}  [1, 2, 3, 4, 5, 6, 7, 8, 9, 10, 11, 12, 13, 14...\n",
      "16012  zzw-222@5sy-d6f-f2k                                        NaN          NaN  2019-05-01 00:00:00.000  2019-06-01 00:00:00.000           302.00                     7                  7                         19.50                      19.50           {\"25\":12.00,\"75\":44.00}  [0.0, 0.0, 0.0, 0.0, 0.0, 0.0, 0.0, 0.0, 0.0, ...  [null,null,null,null,null,null,null,null,null,...  {\"Monday\":49.40,\"Tuesday\":175.00,\"Wednesday\":3...  {\"Wednesday\":5,\"Monday\":4,\"Saturday\":4,\"Thursd...                           163.0                            NaN                    0           0.0    {\"No intermediary\":7}        {\"No intermediary\":302.00}     {\"1\":7,\"2\":0,\"3\":0,\"4\":0,\"5-10\":0,\">10\":0}  {\"1\":43.14,\"2\":null,\"3\":null,\"4\":null,\"5-10\":n...         {\"<25k\":3,\"25-45k\":2,\"45-60k\":2,\">150k\":3}  {\"<25k\":14.75,\"25-45k\":12.00,\"45-60k\":17.90,\">...  {\"Centennial, CO\":2,\"Gilbert, AZ\":2,\"Pall Mall...  {\"Walmart\":58,\"Starbucks\":58,\"ConocoPhillips\":...  {\"Amazon\":43,\"iTunes\":43,\"Netflix\":29,\"Audible...  {\"Starbucks\":58,\"McDonald's\":43,\"Pei Wei Asian...                      {\"Exxon Mobil\":15}                            {\"Verizon Wireless\":29}                   {\"Netflix\":29,\"Amazon Prime\":15}                                                 {}                   {\"Uber\":15}                                 {}                           {}  [1, 2, 3, 4, 5, 6, 7, 8, 9, 10, 11, 12, 13, 14...\n"
     ]
    }
   ],
   "source": [
    "import ast  # For safely evaluating strings containing Python literals\n",
    "\n",
    "df = df_filtered_2019.copy()\n",
    "\n",
    "# Convert string representations of lists in 'SPEND_BY_DAY' to actual lists\n",
    "df['SPEND_BY_DAY'] = df['SPEND_BY_DAY'].apply(ast.literal_eval)\n",
    "\n",
    "# Add a new column called 'DATE_OF_MONTH', as a list of integers from 1 to the end of the month (length of the 'SPEND_BY_DAY' list)\n",
    "df['DATE_OF_MONTH'] = df['SPEND_BY_DAY'].apply(lambda x: list(range(1, len(x) + 1)))\n",
    "\n",
    "print(df.head())\n",
    "\n",
    "# Explode both 'SPEND_BY_DAY' and 'DATE_OF_MONTH' simultaneously to keep their mapping correct\n",
    "df_spend_by_day = df.explode(['SPEND_BY_DAY', 'DATE_OF_MONTH'])\n",
    "\n",
    "# Convert the spending amounts to float\n",
    "df_spend_by_day['SPEND_BY_DAY'] = df_spend_by_day['SPEND_BY_DAY'].astype(float)\n",
    "df_spend_by_day['DATE_OF_MONTH'] = df_spend_by_day['DATE_OF_MONTH'].astype(int)\n",
    "\n",
    "\n",
    "# Calculate 'DATE' correctly by subtracting 1 since 'DATE_OF_MONTH' starts from 1, not 0\n",
    "df_spend_by_day['DATE'] = pd.to_datetime(df_spend_by_day['SPEND_DATE_RANGE_START']) + pd.to_timedelta(df_spend_by_day['DATE_OF_MONTH'] - 1, unit='D')\n",
    "df_spend_by_day['DATE'] = df_spend_by_day['DATE'].dt.strftime('%m-%d')\n",
    "\n",
    "# Ensure the DataFrame is sorted by 'DATE' if not already\n",
    "# df_spend_by_day = df_spend_by_day.sort_values('DATE')\n",
    "\n",
    "#print('# of rows: ', len(df_spend_by_day))\n",
    "#print(df_spend_by_day.head(10))\n",
    "\n",
    "# Plot df_spend_by_day using plotly\n",
    "#fig = px.scatter(df_spend_by_day, x='DATE', y='SPEND_BY_DAY', title='Daily Spend', labels={'SPEND_BY_DAY': 'Spend ($)'})\n",
    "\n",
    "#fig.show()\n",
    "\n",
    "grouped_19_ynp = df_spend_by_day.groupby('DATE')['SPEND_BY_DAY'].sum()"
   ]
  },
  {
   "cell_type": "code",
   "execution_count": 20,
   "metadata": {},
   "outputs": [
    {
     "name": "stdout",
     "output_type": "stream",
     "text": [
      "                   PLACEKEY                        SAFEGRAPH_BRAND_IDS                               BRANDS   SPEND_DATE_RANGE_START     SPEND_DATE_RANGE_END  RAW_TOTAL_SPEND  RAW_NUM_TRANSACTIONS  RAW_NUM_CUSTOMERS  MEDIAN_SPEND_PER_TRANSACTION  MEDIAN_SPEND_PER_CUSTOMER SPEND_PER_TRANSACTION_PERCENTILES                                       SPEND_BY_DAY                       SPEND_PER_TRANSACTION_BY_DAY                               SPEND_BY_DAY_OF_WEEK                                         DAY_COUNTS  SPEND_PCT_CHANGE_VS_PREV_MONTH  SPEND_PCT_CHANGE_VS_PREV_YEAR  ONLINE_TRANSACTIONS  ONLINE_SPEND TRANSACTION_INTERMEDIARY SPEND_BY_TRANSACTION_INTERMEDIARY                   BUCKETED_CUSTOMER_FREQUENCY               MEAN_SPEND_PER_CUSTOMER_BY_FREQUENCY                          BUCKETED_CUSTOMER_INCOMES                  MEAN_SPEND_PER_CUSTOMER_BY_INCOME                                 CUSTOMER_HOME_CITY         RELATED_CROSS_SHOPPING_PHYSICAL_BRANDS_PCT        RELATED_CROSS_SHOPPING_ONLINE_MERCHANTS_PCT    RELATED_CROSS_SHOPPING_SAME_CATEGORY_BRANDS_PCT RELATED_CROSS_SHOPPING_LOCAL_BRANDS_PCT                       RELATED_WIRELESS_CARRIER_PCT                        RELATED_STREAMING_CABLE_PCT                       RELATED_DELIVERY_SERVICE_PCT RELATED_RIDESHARE_SERVICE_PCT                 RELATED_BUYNOWPAYLATER_SERVICE_PCT RELATED_PAYMENT_PLATFORM_PCT\n",
      "109765  zzw-222@5wg-hq9-52k  SG_BRAND_27ee73cd1fb6f5e432852fea401eacce  United States Postal Service (USPS)  2021-05-01 00:00:00.000  2021-06-01 00:00:00.000            57.98                     2                  2                         28.99                      28.99           {\"25\":24.40,\"75\":33.58}  [0.00,0.00,0.00,0.00,0.00,0.00,0.00,0.00,0.00,...  [null,null,null,null,null,null,null,null,null,...  {\"Monday\":0.00,\"Tuesday\":33.58,\"Wednesday\":24....  {\"Wednesday\":4,\"Monday\":5,\"Saturday\":5,\"Thursd...                            48.0                            NaN                    0          0.00    {\"No intermediary\":2}         {\"No intermediary\":57.98}    {\"1\":2,\"2\":0,\"3\":0,\"4\":0,\"5-10\":0,\">10\":0}  {\"1\":28.99,\"2\":null,\"3\":null,\"4\":null,\"5-10\":n...                             {\"25-45k\":2,\">150k\":2}                     {\"25-45k\":24.40,\">150k\":33.58}                                 {\"New York, NY\":2}  {\"Walmart\":50,\"Ramada\":50,\"Chevron\":50,\"Coach\"...  {\"Amazon\":50,\"Sirius XM\":50,\"Gold's Gym\":50,\"A...                                                 {}                                      {}                                                 {}                                                 {}                                                 {}                            {}                                                 {}                           {}\n",
      "109925  223-222@5sy-d6f-nnq                                        NaN                                  NaN  2021-05-01 00:00:00.000  2021-06-01 00:00:00.000          1683.52                    21                 20                         45.88                      50.43           {\"25\":30.52,\"75\":86.52}  [0.00,24.14,0.00,0.00,0.00,0.00,95.57,0.00,0.0...  [null,24.14,null,null,null,null,26.54,null,nul...  {\"Monday\":725.01,\"Tuesday\":221.40,\"Wednesday\":...  {\"Wednesday\":4,\"Monday\":5,\"Saturday\":5,\"Thursd...                           203.0                            NaN                    0          0.00   {\"No intermediary\":21}       {\"No intermediary\":1683.52}   {\"1\":19,\"2\":1,\"3\":0,\"4\":0,\"5-10\":0,\">10\":0}  {\"1\":84.43,\"2\":79.40,\"3\":null,\"4\":null,\"5-10\":...  {\"<25k\":2,\"25-45k\":6,\"45-60k\":2,\"60-75k\":2,\"75...  {\"<25k\":114.36,\"25-45k\":32.53,\"45-60k\":42.29,\"...  {\"Redding, CA\":4,\"South Jordan, UT\":2,\"Houston...  {\"Exxon Mobil\":70,\"Walmart\":65,\"Shell Oil\":40,...  {\"Amazon\":55,\"Netflix\":40,\"Amazon Digital Serv...  {\"Hampton\":10,\"Comfort Suites\":10,\"Econo Lodge...                      {\"Exxon Mobil\":15}    {\"Verizon Wireless\":25,\"AT&T\":20,\"T-Mobile\":10}  {\"Netflix\":40,\"Disney Plus\":10,\"Roku\":5,\"YouTu...           {\"Uber Eats\":5,\"DoorDash\":5,\"Grubhub\":5}                    {\"Uber\":5}                                                 {}                           {}\n",
      "110369  zzy-223@5wg-k4s-mzf                                        NaN                                  NaN  2021-05-01 00:00:00.000  2021-06-01 00:00:00.000          4160.00                    94                 91                         35.00                      35.00           {\"25\":35.00,\"75\":37.50}  [0.00,0.00,70.00,35.00,0.00,265.00,210.00,80.0...  [null,null,35.00,35.00,null,35.00,35.00,80.00,...  {\"Monday\":1210.00,\"Tuesday\":385.00,\"Wednesday\"...  {\"Wednesday\":4,\"Monday\":5,\"Saturday\":5,\"Thursd...                           164.0                         1531.0                    0          0.00   {\"No intermediary\":94}       {\"No intermediary\":4160.00}   {\"1\":88,\"2\":3,\"3\":0,\"4\":0,\"5-10\":0,\">10\":0}  {\"1\":43.81,\"2\":101.67,\"3\":null,\"4\":null,\"5-10\"...  {\"<25k\":8,\"25-45k\":12,\"45-60k\":9,\"60-75k\":7,\"7...  {\"<25k\":40.63,\"25-45k\":47.86,\"45-60k\":50.00,\"6...  {\"Idaho Falls, ID\":7,\"West Columbia, SC\":4,\"Dr...  {\"Walmart\":66,\"McDonald's\":65,\"Shell Oil\":51,\"...  {\"Amazon\":54,\"Apple\":38,\"Netflix\":33,\"Spotify\"...                                                 {}                                      {}  {\"Verizon Wireless\":33,\"AT&T\":20,\"T-Mobile\":6,...  {\"Netflix\":33,\"Hulu\":16,\"Amazon Prime\":7,\"Disn...  {\"DoorDash\":9,\"Dashpass\":6,\"Grubhub\":3,\"Instac...           {\"Uber\":8,\"Lyft\":2}  {\"Afterpay\":3,\"Acima Credit\":2,\"Affirm.com\":2,...             {\"Apple Card\":2}\n",
      "110680  zzy-223@5wg-gzj-zzz                                        NaN                                  NaN  2021-05-01 00:00:00.000  2021-06-01 00:00:00.000          5847.50                   134                129                         35.00                      35.00           {\"25\":35.00,\"75\":35.00}  [0.00,0.00,345.00,100.00,50.00,60.00,35.00,0.0...  [null,null,57.50,25.00,25.00,30.00,35.00,null,...  {\"Monday\":2150.00,\"Tuesday\":900.00,\"Wednesday\"...  {\"Wednesday\":4,\"Monday\":5,\"Saturday\":5,\"Thursd...                           257.0                          127.0                    0          0.00  {\"No intermediary\":134}       {\"No intermediary\":5847.50}  {\"1\":124,\"2\":5,\"3\":0,\"4\":0,\"5-10\":0,\">10\":0}  {\"1\":43.93,\"2\":80.00,\"3\":null,\"4\":null,\"5-10\":...  {\"<25k\":22,\"25-45k\":22,\"45-60k\":15,\"60-75k\":2,...  {\"<25k\":46.30,\"25-45k\":42.02,\"45-60k\":44.00,\"6...  {\"Salt Lake City, UT\":5,\"Pittsburgh, PA\":5,\"Si...  {\"Walmart\":54,\"McDonald's\":54,\"Shell Oil\":48,\"...  {\"Amazon\":54,\"Apple\":43,\"Spotify\":28,\"Netflix\"...                                                 {}                                      {}  {\"Verizon Wireless\":23,\"AT&T\":19,\"T-Mobile\":7,...  {\"Netflix\":25,\"Disney Plus\":13,\"Hulu\":9,\"Roku\"...  {\"Uber Eats\":6,\"HelloFresh\":3,\"Grubhub\":3,\"Das...         {\"Uber\":20,\"Lyft\":12}  {\"Affirm.com\":5,\"Afterpay\":4,\"Klarna\":3,\"Sezzl...  {\"Apple Card\":4,\"PayPal\":2}\n",
      "110804  223-222@5sy-d6f-rzf  SG_BRAND_a144a8c10e1fe8006125571afd1a1e80                          Exxon Mobil  2021-05-01 00:00:00.000  2021-06-01 00:00:00.000          1291.57                    49                 43                         22.33                      26.48           {\"25\":15.06,\"75\":38.79}  [46.13,0.00,27.54,0.00,0.00,0.00,0.00,0.00,0.0...  [23.06,null,13.77,null,null,null,null,null,nul...  {\"Monday\":297.95,\"Tuesday\":151.69,\"Wednesday\":...  {\"Wednesday\":4,\"Monday\":5,\"Saturday\":5,\"Thursd...                           235.0                          776.0                    3        104.12   {\"No intermediary\":49}       {\"No intermediary\":1291.57}   {\"1\":37,\"2\":6,\"3\":0,\"4\":0,\"5-10\":0,\">10\":0}  {\"1\":25.95,\"2\":55.21,\"3\":null,\"4\":null,\"5-10\":...  {\"<25k\":3,\"25-45k\":2,\"45-60k\":7,\"60-75k\":2,\"75...  {\"<25k\":21.17,\"25-45k\":18.22,\"45-60k\":33.11,\"6...  {\"Missoula, MT\":7,\"Logan, UT\":5,\"Boston, MA\":3...  {\"Walmart\":63,\"McDonald's\":63,\"ConocoPhillips\"...  {\"Amazon\":63,\"Apple\":42,\"Netflix\":35,\"Spotify\"...  {\"ConocoPhillips\":49,\"Shell Oil\":42,\"Chevron\":...                           {\"Super 8\":3}  {\"Verizon Wireless\":38,\"T-Mobile\":19,\"AT&T\":14...  {\"Netflix\":35,\"Hulu\":14,\"YouTube TV\":7,\"Disney...  {\"DoorDash\":12,\"HelloFresh\":5,\"Instacart\":3,\"D...                   {\"Uber\":14}                      {\"Afterpay\":3,\"Affirm.com\":3}                 {\"PayPal\":3}\n"
     ]
    },
    {
     "name": "stderr",
     "output_type": "stream",
     "text": [
      "C:\\Users\\tjbla\\AppData\\Local\\Temp\\ipykernel_17748\\1595654646.py:12: UserWarning: Boolean Series key will be reindexed to match DataFrame index.\n",
      "  df_filtered_2021 = df[(df_safegraph_spend['SPEND_DATE_RANGE_START'] >= datetime_start) &\n"
     ]
    }
   ],
   "source": [
    "# Filter by Dates\n",
    "\n",
    "# print('(before filter) # of rows: ', len(df_filtered))\n",
    "df = df_filtered.copy()\n",
    "\n",
    "datetime_start = pd.to_datetime('2021-05-01')\n",
    "datetime_end = pd.to_datetime('2021-09-01')\n",
    "\n",
    "df_safegraph_spend['SPEND_DATE_RANGE_START'] = pd.to_datetime(df_safegraph_spend['SPEND_DATE_RANGE_START'])\n",
    "df_safegraph_spend['SPEND_DATE_RANGE_END'] = pd.to_datetime(df_safegraph_spend['SPEND_DATE_RANGE_END'])\n",
    "\n",
    "df_filtered_2021 = df[(df_safegraph_spend['SPEND_DATE_RANGE_START'] >= datetime_start) &\n",
    "                                 (df_safegraph_spend['SPEND_DATE_RANGE_END'] <= datetime_end)]\n",
    "\n",
    "#print('(after filter) # of rows: ', len(df_filtered))\n",
    "print(df_filtered_2021.head())\n"
   ]
  },
  {
   "cell_type": "code",
   "execution_count": 21,
   "metadata": {},
   "outputs": [
    {
     "name": "stdout",
     "output_type": "stream",
     "text": [
      "                   PLACEKEY                        SAFEGRAPH_BRAND_IDS                               BRANDS   SPEND_DATE_RANGE_START     SPEND_DATE_RANGE_END  RAW_TOTAL_SPEND  RAW_NUM_TRANSACTIONS  RAW_NUM_CUSTOMERS  MEDIAN_SPEND_PER_TRANSACTION  MEDIAN_SPEND_PER_CUSTOMER SPEND_PER_TRANSACTION_PERCENTILES                                       SPEND_BY_DAY                       SPEND_PER_TRANSACTION_BY_DAY                               SPEND_BY_DAY_OF_WEEK                                         DAY_COUNTS  SPEND_PCT_CHANGE_VS_PREV_MONTH  SPEND_PCT_CHANGE_VS_PREV_YEAR  ONLINE_TRANSACTIONS  ONLINE_SPEND TRANSACTION_INTERMEDIARY SPEND_BY_TRANSACTION_INTERMEDIARY                   BUCKETED_CUSTOMER_FREQUENCY               MEAN_SPEND_PER_CUSTOMER_BY_FREQUENCY                          BUCKETED_CUSTOMER_INCOMES                  MEAN_SPEND_PER_CUSTOMER_BY_INCOME                                 CUSTOMER_HOME_CITY         RELATED_CROSS_SHOPPING_PHYSICAL_BRANDS_PCT        RELATED_CROSS_SHOPPING_ONLINE_MERCHANTS_PCT    RELATED_CROSS_SHOPPING_SAME_CATEGORY_BRANDS_PCT RELATED_CROSS_SHOPPING_LOCAL_BRANDS_PCT                       RELATED_WIRELESS_CARRIER_PCT                        RELATED_STREAMING_CABLE_PCT                       RELATED_DELIVERY_SERVICE_PCT RELATED_RIDESHARE_SERVICE_PCT                 RELATED_BUYNOWPAYLATER_SERVICE_PCT RELATED_PAYMENT_PLATFORM_PCT                                      DATE_OF_MONTH\n",
      "109765  zzw-222@5wg-hq9-52k  SG_BRAND_27ee73cd1fb6f5e432852fea401eacce  United States Postal Service (USPS)  2021-05-01 00:00:00.000  2021-06-01 00:00:00.000            57.98                     2                  2                         28.99                      28.99           {\"25\":24.40,\"75\":33.58}  [0.0, 0.0, 0.0, 0.0, 0.0, 0.0, 0.0, 0.0, 0.0, ...  [null,null,null,null,null,null,null,null,null,...  {\"Monday\":0.00,\"Tuesday\":33.58,\"Wednesday\":24....  {\"Wednesday\":4,\"Monday\":5,\"Saturday\":5,\"Thursd...                            48.0                            NaN                    0          0.00    {\"No intermediary\":2}         {\"No intermediary\":57.98}    {\"1\":2,\"2\":0,\"3\":0,\"4\":0,\"5-10\":0,\">10\":0}  {\"1\":28.99,\"2\":null,\"3\":null,\"4\":null,\"5-10\":n...                             {\"25-45k\":2,\">150k\":2}                     {\"25-45k\":24.40,\">150k\":33.58}                                 {\"New York, NY\":2}  {\"Walmart\":50,\"Ramada\":50,\"Chevron\":50,\"Coach\"...  {\"Amazon\":50,\"Sirius XM\":50,\"Gold's Gym\":50,\"A...                                                 {}                                      {}                                                 {}                                                 {}                                                 {}                            {}                                                 {}                           {}  [1, 2, 3, 4, 5, 6, 7, 8, 9, 10, 11, 12, 13, 14...\n",
      "109925  223-222@5sy-d6f-nnq                                        NaN                                  NaN  2021-05-01 00:00:00.000  2021-06-01 00:00:00.000          1683.52                    21                 20                         45.88                      50.43           {\"25\":30.52,\"75\":86.52}  [0.0, 24.14, 0.0, 0.0, 0.0, 0.0, 95.57, 0.0, 0...  [null,24.14,null,null,null,null,26.54,null,nul...  {\"Monday\":725.01,\"Tuesday\":221.40,\"Wednesday\":...  {\"Wednesday\":4,\"Monday\":5,\"Saturday\":5,\"Thursd...                           203.0                            NaN                    0          0.00   {\"No intermediary\":21}       {\"No intermediary\":1683.52}   {\"1\":19,\"2\":1,\"3\":0,\"4\":0,\"5-10\":0,\">10\":0}  {\"1\":84.43,\"2\":79.40,\"3\":null,\"4\":null,\"5-10\":...  {\"<25k\":2,\"25-45k\":6,\"45-60k\":2,\"60-75k\":2,\"75...  {\"<25k\":114.36,\"25-45k\":32.53,\"45-60k\":42.29,\"...  {\"Redding, CA\":4,\"South Jordan, UT\":2,\"Houston...  {\"Exxon Mobil\":70,\"Walmart\":65,\"Shell Oil\":40,...  {\"Amazon\":55,\"Netflix\":40,\"Amazon Digital Serv...  {\"Hampton\":10,\"Comfort Suites\":10,\"Econo Lodge...                      {\"Exxon Mobil\":15}    {\"Verizon Wireless\":25,\"AT&T\":20,\"T-Mobile\":10}  {\"Netflix\":40,\"Disney Plus\":10,\"Roku\":5,\"YouTu...           {\"Uber Eats\":5,\"DoorDash\":5,\"Grubhub\":5}                    {\"Uber\":5}                                                 {}                           {}  [1, 2, 3, 4, 5, 6, 7, 8, 9, 10, 11, 12, 13, 14...\n",
      "110369  zzy-223@5wg-k4s-mzf                                        NaN                                  NaN  2021-05-01 00:00:00.000  2021-06-01 00:00:00.000          4160.00                    94                 91                         35.00                      35.00           {\"25\":35.00,\"75\":37.50}  [0.0, 0.0, 70.0, 35.0, 0.0, 265.0, 210.0, 80.0...  [null,null,35.00,35.00,null,35.00,35.00,80.00,...  {\"Monday\":1210.00,\"Tuesday\":385.00,\"Wednesday\"...  {\"Wednesday\":4,\"Monday\":5,\"Saturday\":5,\"Thursd...                           164.0                         1531.0                    0          0.00   {\"No intermediary\":94}       {\"No intermediary\":4160.00}   {\"1\":88,\"2\":3,\"3\":0,\"4\":0,\"5-10\":0,\">10\":0}  {\"1\":43.81,\"2\":101.67,\"3\":null,\"4\":null,\"5-10\"...  {\"<25k\":8,\"25-45k\":12,\"45-60k\":9,\"60-75k\":7,\"7...  {\"<25k\":40.63,\"25-45k\":47.86,\"45-60k\":50.00,\"6...  {\"Idaho Falls, ID\":7,\"West Columbia, SC\":4,\"Dr...  {\"Walmart\":66,\"McDonald's\":65,\"Shell Oil\":51,\"...  {\"Amazon\":54,\"Apple\":38,\"Netflix\":33,\"Spotify\"...                                                 {}                                      {}  {\"Verizon Wireless\":33,\"AT&T\":20,\"T-Mobile\":6,...  {\"Netflix\":33,\"Hulu\":16,\"Amazon Prime\":7,\"Disn...  {\"DoorDash\":9,\"Dashpass\":6,\"Grubhub\":3,\"Instac...           {\"Uber\":8,\"Lyft\":2}  {\"Afterpay\":3,\"Acima Credit\":2,\"Affirm.com\":2,...             {\"Apple Card\":2}  [1, 2, 3, 4, 5, 6, 7, 8, 9, 10, 11, 12, 13, 14...\n",
      "110680  zzy-223@5wg-gzj-zzz                                        NaN                                  NaN  2021-05-01 00:00:00.000  2021-06-01 00:00:00.000          5847.50                   134                129                         35.00                      35.00           {\"25\":35.00,\"75\":35.00}  [0.0, 0.0, 345.0, 100.0, 50.0, 60.0, 35.0, 0.0...  [null,null,57.50,25.00,25.00,30.00,35.00,null,...  {\"Monday\":2150.00,\"Tuesday\":900.00,\"Wednesday\"...  {\"Wednesday\":4,\"Monday\":5,\"Saturday\":5,\"Thursd...                           257.0                          127.0                    0          0.00  {\"No intermediary\":134}       {\"No intermediary\":5847.50}  {\"1\":124,\"2\":5,\"3\":0,\"4\":0,\"5-10\":0,\">10\":0}  {\"1\":43.93,\"2\":80.00,\"3\":null,\"4\":null,\"5-10\":...  {\"<25k\":22,\"25-45k\":22,\"45-60k\":15,\"60-75k\":2,...  {\"<25k\":46.30,\"25-45k\":42.02,\"45-60k\":44.00,\"6...  {\"Salt Lake City, UT\":5,\"Pittsburgh, PA\":5,\"Si...  {\"Walmart\":54,\"McDonald's\":54,\"Shell Oil\":48,\"...  {\"Amazon\":54,\"Apple\":43,\"Spotify\":28,\"Netflix\"...                                                 {}                                      {}  {\"Verizon Wireless\":23,\"AT&T\":19,\"T-Mobile\":7,...  {\"Netflix\":25,\"Disney Plus\":13,\"Hulu\":9,\"Roku\"...  {\"Uber Eats\":6,\"HelloFresh\":3,\"Grubhub\":3,\"Das...         {\"Uber\":20,\"Lyft\":12}  {\"Affirm.com\":5,\"Afterpay\":4,\"Klarna\":3,\"Sezzl...  {\"Apple Card\":4,\"PayPal\":2}  [1, 2, 3, 4, 5, 6, 7, 8, 9, 10, 11, 12, 13, 14...\n",
      "110804  223-222@5sy-d6f-rzf  SG_BRAND_a144a8c10e1fe8006125571afd1a1e80                          Exxon Mobil  2021-05-01 00:00:00.000  2021-06-01 00:00:00.000          1291.57                    49                 43                         22.33                      26.48           {\"25\":15.06,\"75\":38.79}  [46.13, 0.0, 27.54, 0.0, 0.0, 0.0, 0.0, 0.0, 0...  [23.06,null,13.77,null,null,null,null,null,nul...  {\"Monday\":297.95,\"Tuesday\":151.69,\"Wednesday\":...  {\"Wednesday\":4,\"Monday\":5,\"Saturday\":5,\"Thursd...                           235.0                          776.0                    3        104.12   {\"No intermediary\":49}       {\"No intermediary\":1291.57}   {\"1\":37,\"2\":6,\"3\":0,\"4\":0,\"5-10\":0,\">10\":0}  {\"1\":25.95,\"2\":55.21,\"3\":null,\"4\":null,\"5-10\":...  {\"<25k\":3,\"25-45k\":2,\"45-60k\":7,\"60-75k\":2,\"75...  {\"<25k\":21.17,\"25-45k\":18.22,\"45-60k\":33.11,\"6...  {\"Missoula, MT\":7,\"Logan, UT\":5,\"Boston, MA\":3...  {\"Walmart\":63,\"McDonald's\":63,\"ConocoPhillips\"...  {\"Amazon\":63,\"Apple\":42,\"Netflix\":35,\"Spotify\"...  {\"ConocoPhillips\":49,\"Shell Oil\":42,\"Chevron\":...                           {\"Super 8\":3}  {\"Verizon Wireless\":38,\"T-Mobile\":19,\"AT&T\":14...  {\"Netflix\":35,\"Hulu\":14,\"YouTube TV\":7,\"Disney...  {\"DoorDash\":12,\"HelloFresh\":5,\"Instacart\":3,\"D...                   {\"Uber\":14}                      {\"Afterpay\":3,\"Affirm.com\":3}                 {\"PayPal\":3}  [1, 2, 3, 4, 5, 6, 7, 8, 9, 10, 11, 12, 13, 14...\n"
     ]
    }
   ],
   "source": [
    "# Make a Plot of the Data\n",
    "\n",
    "# Note: 'SPEND_DATE_RANGE_START' and 'SPEND_DATE_RANGE_END' is typically separated by 1 month (~30 days)\n",
    "#       'SPEND_BY_DAY' is each spend data for each day of the month\n",
    "# Goal; Plot spending for each single day using plotly\n",
    "\n",
    "#import plotly.express as px\n",
    "import ast  # For safely evaluating strings containing Python literals\n",
    "\n",
    "df = df_filtered_2021.copy()\n",
    "\n",
    "# Convert string representations of lists in 'SPEND_BY_DAY' to actual lists\n",
    "df['SPEND_BY_DAY'] = df['SPEND_BY_DAY'].apply(ast.literal_eval)\n",
    "\n",
    "# Add a new column called 'DATE_OF_MONTH', as a list of integers from 1 to the end of the month (length of the 'SPEND_BY_DAY' list)\n",
    "df['DATE_OF_MONTH'] = df['SPEND_BY_DAY'].apply(lambda x: list(range(1, len(x) + 1)))\n",
    "\n",
    "print(df.head())\n",
    "\n",
    "# Explode both 'SPEND_BY_DAY' and 'DATE_OF_MONTH' simultaneously to keep their mapping correct\n",
    "df_spend_by_day = df.explode(['SPEND_BY_DAY', 'DATE_OF_MONTH'])\n",
    "\n",
    "# Convert the spending amounts to float\n",
    "df_spend_by_day['SPEND_BY_DAY'] = df_spend_by_day['SPEND_BY_DAY'].astype(float)\n",
    "df_spend_by_day['DATE_OF_MONTH'] = df_spend_by_day['DATE_OF_MONTH'].astype(int)\n",
    "\n",
    "\n",
    "# Calculate 'DATE' correctly by subtracting 1 since 'DATE_OF_MONTH' starts from 1, not 0\n",
    "df_spend_by_day['DATE'] = pd.to_datetime(df_spend_by_day['SPEND_DATE_RANGE_START']) + pd.to_timedelta(df_spend_by_day['DATE_OF_MONTH'] - 1, unit='D')\n",
    "df_spend_by_day['DATE'] = df_spend_by_day['DATE'].dt.strftime('%m-%d')\n",
    "\n",
    "# Ensure the DataFrame is sorted by 'DATE' if not already\n",
    "# df_spend_by_day = df_spend_by_day.sort_values('DATE')\n",
    "\n",
    "#print('# of rows: ', len(df_spend_by_day))\n",
    "#print(df_spend_by_day.head(10))\n",
    "\n",
    "# Plot df_spend_by_day using plotly\n",
    "#fig = px.scatter(df_spend_by_day, x='DATE', y='SPEND_BY_DAY', title='Daily Spend', labels={'SPEND_BY_DAY': 'Spend ($)'})\n",
    "\n",
    "#fig.show()\n",
    "\n",
    "grouped_21_ynp = df_spend_by_day.groupby('DATE')['SPEND_BY_DAY'].sum()\n"
   ]
  },
  {
   "cell_type": "code",
   "execution_count": 22,
   "metadata": {},
   "outputs": [
    {
     "name": "stdout",
     "output_type": "stream",
     "text": [
      "                   PLACEKEY SAFEGRAPH_BRAND_IDS BRANDS   SPEND_DATE_RANGE_START     SPEND_DATE_RANGE_END  RAW_TOTAL_SPEND  RAW_NUM_TRANSACTIONS  RAW_NUM_CUSTOMERS  MEDIAN_SPEND_PER_TRANSACTION  MEDIAN_SPEND_PER_CUSTOMER SPEND_PER_TRANSACTION_PERCENTILES                                       SPEND_BY_DAY                       SPEND_PER_TRANSACTION_BY_DAY                               SPEND_BY_DAY_OF_WEEK                                         DAY_COUNTS  SPEND_PCT_CHANGE_VS_PREV_MONTH  SPEND_PCT_CHANGE_VS_PREV_YEAR  ONLINE_TRANSACTIONS  ONLINE_SPEND TRANSACTION_INTERMEDIARY SPEND_BY_TRANSACTION_INTERMEDIARY                   BUCKETED_CUSTOMER_FREQUENCY               MEAN_SPEND_PER_CUSTOMER_BY_FREQUENCY                          BUCKETED_CUSTOMER_INCOMES                  MEAN_SPEND_PER_CUSTOMER_BY_INCOME                                 CUSTOMER_HOME_CITY         RELATED_CROSS_SHOPPING_PHYSICAL_BRANDS_PCT        RELATED_CROSS_SHOPPING_ONLINE_MERCHANTS_PCT    RELATED_CROSS_SHOPPING_SAME_CATEGORY_BRANDS_PCT RELATED_CROSS_SHOPPING_LOCAL_BRANDS_PCT                       RELATED_WIRELESS_CARRIER_PCT                        RELATED_STREAMING_CABLE_PCT                       RELATED_DELIVERY_SERVICE_PCT RELATED_RIDESHARE_SERVICE_PCT                 RELATED_BUYNOWPAYLATER_SERVICE_PCT               RELATED_PAYMENT_PLATFORM_PCT\n",
      "163061  zzw-222@5wg-h6c-6rk                 NaN    NaN  2022-07-01 00:00:00.000  2022-08-01 00:00:00.000          9048.35                   250                125                         25.94                      46.00           {\"25\":11.18,\"75\":49.22}  [0.00,0.00,0.00,0.00,0.00,0.00,904.29,1374.22,...  [null,null,null,null,null,null,35.37,16.25,nul...  {\"Monday\":1981.56,\"Tuesday\":0.00,\"Wednesday\":1...  {\"Wednesday\":4,\"Monday\":4,\"Saturday\":5,\"Thursd...                           -49.0                          -71.0                    0           0.0  {\"No intermediary\":250}       {\"No intermediary\":9048.35}  {\"1\":50,\"2\":60,\"3\":1,\"4\":7,\"5-10\":7,\">10\":0}  {\"1\":42.56,\"2\":70.02,\"3\":27.03,\"4\":149.58,\"5-1...  {\"<25k\":18,\"25-45k\":20,\"45-60k\":11,\"60-75k\":5,...  {\"<25k\":74.38,\"25-45k\":61.83,\"45-60k\":46.04,\"6...  {\"Grayling, MT\":6,\"Lyndhurst, OH\":4,\"Bozeman, ...  {\"Walmart\":61,\"McDonald's\":55,\"Target\":45,\"She...  {\"Amazon\":52,\"Apple\":48,\"Netflix\":32,\"Spotify\"...                                                 {}                                      {}  {\"Verizon Wireless\":31,\"AT&T\":16,\"T-Mobile\":5,...  {\"Netflix\":32,\"Hulu\":17,\"Disney Plus\":8,\"Amazo...  {\"DoorDash\":1,\"Postmates\":1,\"Instacart\":1,\"Das...           {\"Uber\":9,\"Lyft\":5}  {\"Affirm.com\":4,\"Afterpay\":3,\"Klarna\":3,\"Sezzl...  {\"Apple Card\":5,\"Apple Cash\":2,\"Venmo\":1}\n",
      "163174  zzy-223@5wg-ky9-t7q                 NaN    NaN  2022-07-01 00:00:00.000  2022-08-01 00:00:00.000           116.33                     2                  2                         58.16                      58.16           {\"25\":38.73,\"75\":77.60}  [0.00,0.00,0.00,0.00,0.00,0.00,0.00,0.00,0.00,...  [null,null,null,null,null,null,null,null,null,...  {\"Monday\":0.00,\"Tuesday\":0.00,\"Wednesday\":0.00...  {\"Wednesday\":4,\"Monday\":4,\"Saturday\":5,\"Thursd...                             NaN                            NaN                    0           0.0    {\"No intermediary\":2}        {\"No intermediary\":116.33}    {\"1\":2,\"2\":0,\"3\":0,\"4\":0,\"5-10\":0,\">10\":0}  {\"1\":58.17,\"2\":null,\"3\":null,\"4\":null,\"5-10\":n...                            {\"<25k\":2,\"100-150k\":2}                    {\"<25k\":77.60,\"100-150k\":38.73}                                    {\"Ogden, UT\":2}  {\"Walmart\":100,\"Petco\":50,\"Big D\":50,\"Little C...  {\"Amazon\":100,\"Apple\":100,\"Target\":50,\"Chewy\":...                                                 {}                                      {}                                    {\"T-Mobile\":50}                                {\"Disney Plus\":100}                                                 {}                            {}                                                 {}                                         {}\n",
      "164514  zzy-222@5wg-ky9-skf                 NaN    NaN  2022-05-01 00:00:00.000  2022-06-01 00:00:00.000          6845.60                    12                 10                        555.78                     743.32         {\"25\":376.76,\"75\":927.56}  [0.00,0.00,0.00,0.00,0.00,0.00,0.00,0.00,0.00,...  [null,null,null,null,null,null,null,null,null,...  {\"Monday\":884.72,\"Tuesday\":3.89,\"Wednesday\":15...  {\"Wednesday\":4,\"Monday\":5,\"Saturday\":4,\"Thursd...                             NaN                           53.0                    0           0.0   {\"No intermediary\":12}       {\"No intermediary\":6845.60}    {\"1\":8,\"2\":2,\"3\":0,\"4\":0,\"5-10\":0,\">10\":0}  {\"1\":612.15,\"2\":974.22,\"3\":null,\"4\":null,\"5-10...                {\"25-45k\":2,\"100-150k\":2,\">150k\":6}  {\"25-45k\":579.68,\"100-150k\":670.01,\">150k\":703...  {\"Merritt Island, FL\":3,\"Shreveport, LA\":2,\"Ch...  {\"McDonald's\":60,\"Verizon Wireless\":50,\"Albert...  {\"Apple\":60,\"Amazon\":50,\"Netflix\":40,\"Uber\":30...  {\"Comfort Suites\":20,\"Holiday Inn\":10,\"Hampton...                                      {}   {\"Verizon Wireless\":50,\"AT&T\":20,\"Google Fi\":10}  {\"Netflix\":40,\"Hulu\":30,\"HBO Max\":10,\"Dish Net...                                    {\"DoorDash\":10}                   {\"Uber\":30}                                                 {}                                         {}\n",
      "164847  223-222@5sy-d6f-dy9                 NaN    NaN  2022-05-01 00:00:00.000  2022-06-01 00:00:00.000           779.62                    11                 11                         80.17                      80.17           {\"25\":52.78,\"75\":91.98}  [0.00,0.00,0.00,0.00,0.00,0.00,0.00,0.00,0.00,...  [null,null,null,null,null,null,null,null,null,...  {\"Monday\":97.03,\"Tuesday\":52.78,\"Wednesday\":0....  {\"Wednesday\":4,\"Monday\":5,\"Saturday\":4,\"Thursd...                             NaN                          147.0                    0           0.0   {\"No intermediary\":11}        {\"No intermediary\":779.62}   {\"1\":11,\"2\":0,\"3\":0,\"4\":0,\"5-10\":0,\">10\":0}  {\"1\":70.87,\"2\":null,\"3\":null,\"4\":null,\"5-10\":n...     {\"25-45k\":2,\"60-75k\":2,\"100-150k\":2,\">150k\":5}  {\"25-45k\":83.65,\"60-75k\":16.59,\"100-150k\":86.0...  {\"South Jordan, UT\":4,\"Salt Lake City, UT\":2,\"...  {\"Walmart\":55,\"Chevron\":37,\"Costco\":37,\"Shell ...  {\"Amazon\":46,\"Apple\":46,\"Netflix\":46,\"Amazon D...  {\"Olive Garden\":28,\"Wendy's\":28,\"McDonald's\":2...                      {\"Exxon Mobil\":10}  {\"Verizon Wireless\":37,\"T-Mobile\":10,\"Straight...  {\"Netflix\":46,\"Redbox\":19,\"HBO Max\":10,\"YouTub...                                                 {}                   {\"Uber\":10}           {\"Afterpay\":10,\"Progressive Leasing\":10}                                         {}\n",
      "165374  223-222@5sy-d6f-nnq                 NaN    NaN  2022-05-01 00:00:00.000  2022-06-01 00:00:00.000           821.90                     9                  8                         34.08                      33.69          {\"25\":29.28,\"75\":155.04}  [0.00,0.00,0.00,0.00,0.00,0.00,0.00,0.00,0.00,...  [null,null,null,null,null,null,null,null,null,...  {\"Monday\":327.80,\"Tuesday\":58.56,\"Wednesday\":4...  {\"Wednesday\":4,\"Monday\":5,\"Saturday\":4,\"Thursd...                           168.0                          -51.0                    0           0.0    {\"No intermediary\":9}        {\"No intermediary\":821.90}    {\"1\":7,\"2\":1,\"3\":0,\"4\":0,\"5-10\":0,\">10\":0}  {\"1\":73.12,\"2\":310.07,\"3\":null,\"4\":null,\"5-10\"...                 {\"25-45k\":2,\"75-100k\":2,\">150k\":4}    {\"25-45k\":30.62,\"75-100k\":34.08,\">150k\":173.99}  {\"Seattle, WA\":3,\"Beulaville, NC\":2,\"Montpelie...  {\"Exxon Mobil\":75,\"Walmart\":63,\"McDonald's\":63...  {\"Amazon\":88,\"Spotify\":50,\"Amazon Digital Serv...  {\"Quality Inn\":25,\"Travelodge\":13,\"Hampton\":13...                      {\"Exxon Mobil\":38}    {\"Verizon Wireless\":38,\"AT&T\":13,\"T-Mobile\":13}  {\"Netflix\":38,\"Hulu\":25,\"Sling TV\":13,\"Youtube...                                    {\"DoorDash\":13}                            {}                                                 {}                                         {}\n"
     ]
    },
    {
     "name": "stderr",
     "output_type": "stream",
     "text": [
      "C:\\Users\\tjbla\\AppData\\Local\\Temp\\ipykernel_17748\\4196244775.py:12: UserWarning: Boolean Series key will be reindexed to match DataFrame index.\n",
      "  df_filtered_2022 = df[(df_safegraph_spend['SPEND_DATE_RANGE_START'] >= datetime_start) &\n"
     ]
    }
   ],
   "source": [
    "# Filter by Dates\n",
    "\n",
    "# print('(before filter) # of rows: ', len(df_filtered))\n",
    "df = df_filtered.copy()\n",
    "\n",
    "datetime_start = pd.to_datetime('2022-05-01')\n",
    "datetime_end = pd.to_datetime('2022-09-01')\n",
    "\n",
    "df_safegraph_spend['SPEND_DATE_RANGE_START'] = pd.to_datetime(df_safegraph_spend['SPEND_DATE_RANGE_START'])\n",
    "df_safegraph_spend['SPEND_DATE_RANGE_END'] = pd.to_datetime(df_safegraph_spend['SPEND_DATE_RANGE_END'])\n",
    "\n",
    "df_filtered_2022 = df[(df_safegraph_spend['SPEND_DATE_RANGE_START'] >= datetime_start) &\n",
    "                                 (df_safegraph_spend['SPEND_DATE_RANGE_END'] <= datetime_end)]\n",
    "\n",
    "#print('(after filter) # of rows: ', len(df_filtered))\n",
    "print(df_filtered_2022.head())\n"
   ]
  },
  {
   "cell_type": "code",
   "execution_count": 23,
   "metadata": {},
   "outputs": [],
   "source": [
    "# Make a Plot of the Data\n",
    "\n",
    "# Note: 'SPEND_DATE_RANGE_START' and 'SPEND_DATE_RANGE_END' is typically separated by 1 month (~30 days)\n",
    "#       'SPEND_BY_DAY' is each spend data for each day of the month\n",
    "# Goal; Plot spending for each single day using plotly\n",
    "\n",
    "import plotly.express as px\n",
    "import ast  # For safely evaluating strings containing Python literals\n",
    "import matplotlib.pyplot as plt\n",
    "\n",
    "df = df_filtered_2022.copy()\n",
    "\n",
    "# Convert string representations of lists in 'SPEND_BY_DAY' to actual lists\n",
    "df['SPEND_BY_DAY'] = df['SPEND_BY_DAY'].apply(ast.literal_eval)\n",
    "\n",
    "# Add a new column called 'DATE_OF_MONTH', as a list of integers from 1 to the end of the month (length of the 'SPEND_BY_DAY' list)\n",
    "df['DATE_OF_MONTH'] = df['SPEND_BY_DAY'].apply(lambda x: list(range(1, len(x) + 1)))\n",
    "\n",
    "#print(df.head())\n",
    "\n",
    "# Explode both 'SPEND_BY_DAY' and 'DATE_OF_MONTH' simultaneously to keep their mapping correct\n",
    "df_spend_by_day = df.explode(['SPEND_BY_DAY', 'DATE_OF_MONTH'])\n",
    "\n",
    "# Convert the spending amounts to float\n",
    "df_spend_by_day['SPEND_BY_DAY'] = df_spend_by_day['SPEND_BY_DAY'].astype(float)\n",
    "df_spend_by_day['DATE_OF_MONTH'] = df_spend_by_day['DATE_OF_MONTH'].astype(int)\n",
    "\n",
    "\n",
    "# Calculate 'DATE' correctly by subtracting 1 since 'DATE_OF_MONTH' starts from 1, not 0\n",
    "df_spend_by_day['DATE'] = pd.to_datetime(df_spend_by_day['SPEND_DATE_RANGE_START']) + pd.to_timedelta(df_spend_by_day['DATE_OF_MONTH'] - 1, unit='D')\n",
    "df_spend_by_day['DATE'] = df_spend_by_day['DATE'].dt.strftime('%m-%d')\n",
    "\n",
    "# Ensure the DataFrame is sorted by 'DATE' if not already\n",
    "# df_spend_by_day = df_spend_by_day.sort_values('DATE')\n",
    "\n",
    "grouped_22_ynp = df_spend_by_day.groupby('DATE')['SPEND_BY_DAY'].sum()\n",
    "#print(grouped_22.head(10))\n"
   ]
  },
  {
   "cell_type": "code",
   "execution_count": 25,
   "metadata": {},
   "outputs": [
    {
     "data": {
      "image/png": "[encoded data removed]",
      "text/plain": [
       "<Figure size 1400x800 with 1 Axes>"
      ]
     },
     "metadata": {},
     "output_type": "display_data"
    }
   ],
   "source": [
    "# Plot the overall spending\n",
    "\n",
    "plt.figure(figsize=(14, 8))\n",
    "plt.plot(grouped_19_ynp);\n",
    "plt.plot(grouped_21_ynp);\n",
    "plt.plot(grouped_22_ynp);\n",
    "plt.title('Spending per Day, Yellowstone National Park');\n",
    "plt.xlabel('day');\n",
    "plt.ylabel('$');\n",
    "plt.legend(['2019', '2021', '2022']);\n",
    "plt.savefig('General_Yellowstone_Spending_2019-2022.png');"
   ]
  },
  {
   "cell_type": "code",
   "execution_count": 14,
   "metadata": {},
   "outputs": [
    {
     "name": "stdout",
     "output_type": "stream",
     "text": [
      "                   PLACEKEY                        SAFEGRAPH_BRAND_IDS       BRANDS   SPEND_DATE_RANGE_START     SPEND_DATE_RANGE_END  RAW_TOTAL_SPEND  RAW_NUM_TRANSACTIONS  RAW_NUM_CUSTOMERS  MEDIAN_SPEND_PER_TRANSACTION  MEDIAN_SPEND_PER_CUSTOMER SPEND_PER_TRANSACTION_PERCENTILES                                       SPEND_BY_DAY                       SPEND_PER_TRANSACTION_BY_DAY                               SPEND_BY_DAY_OF_WEEK                                         DAY_COUNTS  SPEND_PCT_CHANGE_VS_PREV_MONTH  SPEND_PCT_CHANGE_VS_PREV_YEAR  ONLINE_TRANSACTIONS  ONLINE_SPEND TRANSACTION_INTERMEDIARY SPEND_BY_TRANSACTION_INTERMEDIARY                  BUCKETED_CUSTOMER_FREQUENCY               MEAN_SPEND_PER_CUSTOMER_BY_FREQUENCY                          BUCKETED_CUSTOMER_INCOMES                  MEAN_SPEND_PER_CUSTOMER_BY_INCOME                                 CUSTOMER_HOME_CITY         RELATED_CROSS_SHOPPING_PHYSICAL_BRANDS_PCT        RELATED_CROSS_SHOPPING_ONLINE_MERCHANTS_PCT    RELATED_CROSS_SHOPPING_SAME_CATEGORY_BRANDS_PCT RELATED_CROSS_SHOPPING_LOCAL_BRANDS_PCT                     RELATED_WIRELESS_CARRIER_PCT RELATED_STREAMING_CABLE_PCT    RELATED_DELIVERY_SERVICE_PCT RELATED_RIDESHARE_SERVICE_PCT RELATED_BUYNOWPAYLATER_SERVICE_PCT RELATED_PAYMENT_PLATFORM_PCT\n",
      "218779  223-222@5sy-d6f-nnq                                        NaN          NaN  2023-05-01 00:00:00.000  2023-06-01 00:00:00.000          1000.22                    16                 14                         41.68                      38.71           {\"25\":32.68,\"75\":59.00}  [0.00,38.58,38.84,0.00,0.00,0.00,0.00,0.00,0.0...  [null,38.58,38.84,null,null,null,null,null,nul...  {\"Monday\":32.25,\"Tuesday\":197.06,\"Wednesday\":2...  {\"Wednesday\":5,\"Monday\":5,\"Saturday\":4,\"Thursd...                           442.0                           22.0                    2        210.38   {\"No intermediary\":16}       {\"No intermediary\":1000.22}  {\"1\":12,\"2\":2,\"3\":0,\"4\":0,\"5-10\":0,\">10\":0}  {\"1\":50.82,\"2\":195.19,\"3\":null,\"4\":null,\"5-10\"...  {\"<25k\":2,\"25-45k\":2,\"45-60k\":3,\"60-75k\":2,\"75...  {\"<25k\":16.97,\"25-45k\":41.55,\"45-60k\":210.38,\"...  {\"Saint Paul, MN\":2,\"Amalga, UT\":2,\"Driggs, ID...  {\"7-Eleven\":15,\"Ace Hardware\":36,\"Albertsons\":...  {\"Amazon\":50,\"Apple\":43,\"Sirius XM\":22,\"Netfli...                                                 {}                                      {}  {\"AT&T\":29,\"T-Mobile\":22,\"Verizon Wireless\":22}            {\"Paramount+\":8}        {\"DoorDash\":8,\"Shipt\":8}                            {}                                 {}             {\"Apple Card\":8}\n",
      "219074  zzw-222@5sy-d6f-f2k                                        NaN          NaN  2023-05-01 00:00:00.000  2023-06-01 00:00:00.000           317.44                     8                  7                         39.34                      42.88           {\"25\":15.25,\"75\":55.38}  [0.00,0.00,0.00,0.00,0.00,0.00,0.00,0.00,0.00,...  [null,null,null,null,null,null,null,null,null,...  {\"Monday\":0.00,\"Tuesday\":132.50,\"Wednesday\":58...  {\"Wednesday\":5,\"Monday\":5,\"Saturday\":4,\"Thursd...                             NaN                          -53.0                    0          0.00    {\"No intermediary\":8}        {\"No intermediary\":317.44}   {\"1\":6,\"2\":1,\"3\":0,\"4\":0,\"5-10\":0,\">10\":0}  {\"1\":48.02,\"2\":29.30,\"3\":null,\"4\":null,\"5-10\":...  {\"25-45k\":2,\"60-75k\":2,\"75-100k\":2,\"100-150k\":...  {\"25-45k\":42.88,\"60-75k\":37.15,\"75-100k\":35.80...  {\"Longmont, CO\":2,\"Mesquite, NV\":2,\"Elwood, IN...  {\"ARCO\":29,\"Albertsons\":29,\"Apple Retail Store...  {\"Verizon Wireless\":43,\"Netflix\":29,\"Sling TV\"...            {\"Olive Garden\":15,\"Raising Cane's\":15}                                      {}                          {\"Verizon Wireless\":72}                          {}  {\"DoorDash\":15,\"Uber Eats\":15}                   {\"Uber\":15}                                 {}                           {}\n",
      "219091  223-222@5sy-d6g-ks5                                        NaN          NaN  2023-05-01 00:00:00.000  2023-06-01 00:00:00.000           213.50                     7                  5                         27.00                      45.00           {\"25\":20.00,\"75\":40.00}  [0.00,0.00,0.00,0.00,0.00,0.00,0.00,0.00,0.00,...  [null,null,null,null,null,null,null,null,null,...  {\"Monday\":40.00,\"Tuesday\":0.00,\"Wednesday\":0.0...  {\"Wednesday\":5,\"Monday\":5,\"Saturday\":4,\"Thursd...                             NaN                          -80.0                    0          0.00    {\"No intermediary\":7}        {\"No intermediary\":213.50}   {\"1\":3,\"2\":2,\"3\":0,\"4\":0,\"5-10\":0,\">10\":0}  {\"1\":39.83,\"2\":47.00,\"3\":null,\"4\":null,\"5-10\":...       {\"25-45k\":6,\"45-60k\":2,\"60-75k\":2,\">150k\":2}  {\"25-45k\":34.50,\"45-60k\":40.00,\"60-75k\":45.00,...  {\"Saint Petersburg, FL\":2,\"Nashville, TN\":2,\"L...  {\"7-Eleven\":40,\"ARCO\":60,\"Ace Hardware\":40,\"BP...  {\"Amazon\":40,\"Sirius XM\":40,\"Lowe's\":40,\"Kohl'...                {\"Cracker Barrel\":20,\"Culver's\":40}                                      {}                          {\"Verizon Wireless\":20}                          {}                              {}                            {}                                 {}                           {}\n",
      "222092  223-222@5sy-d6f-rzf  SG_BRAND_a144a8c10e1fe8006125571afd1a1e80  Exxon Mobil  2023-05-01 00:00:00.000  2023-06-01 00:00:00.000           155.43                     6                  5                         24.17                      27.93           {\"25\":16.75,\"75\":35.07}  [0.00,0.00,0.00,0.00,0.00,0.00,0.00,0.00,7.00,...  [null,null,null,null,null,null,null,null,7.00,...  {\"Monday\":0.00,\"Tuesday\":27.00,\"Wednesday\":27....  {\"Wednesday\":5,\"Monday\":5,\"Saturday\":4,\"Thursd...                             NaN                          -84.0                    0          0.00    {\"No intermediary\":6}        {\"No intermediary\":155.43}   {\"1\":4,\"2\":1,\"3\":0,\"4\":0,\"5-10\":0,\">10\":0}  {\"1\":26.34,\"2\":50.08,\"3\":null,\"4\":null,\"5-10\":...        {\"<25k\":3,\"45-60k\":2,\"75-100k\":2,\">150k\":2}  {\"<25k\":50.05,\"45-60k\":27.93,\"75-100k\":20.40,\"...                       {\"Lutz, FL\":2,\"Tempe, AZ\":2}  {\"7-Eleven\":20,\"AT&T\":20,\"Agway\":20,\"Applebee'...  {\"Amazon\":40,\"Apple\":40,\"Sirius XM\":20,\"Lowe's...  {\"BP\":20,\"ConocoPhillips\":60,\"Holiday Station\"...                          {\"Super 8\":40}                                      {\"AT&T\":40}                          {}  {\"Dashpass\":20,\"Uber Eats\":20}                            {}                  {\"Affirm.com\":20}                           {}\n",
      "223009  zzy-225@5sy-d6f-dy9                                        NaN          NaN  2023-05-01 00:00:00.000  2023-06-01 00:00:00.000           126.80                     2                  2                         63.40                      63.40           {\"25\":35.33,\"75\":91.47}  [0.00,0.00,0.00,0.00,0.00,0.00,0.00,0.00,0.00,...  [null,null,null,null,null,null,null,null,null,...  {\"Monday\":0.00,\"Tuesday\":0.00,\"Wednesday\":0.00...  {\"Wednesday\":5,\"Monday\":5,\"Saturday\":4,\"Thursd...                             NaN                            NaN                    0          0.00    {\"No intermediary\":2}        {\"No intermediary\":126.80}   {\"1\":2,\"2\":0,\"3\":0,\"4\":0,\"5-10\":0,\">10\":0}  {\"1\":63.40,\"2\":null,\"3\":null,\"4\":null,\"5-10\":n...                          {\"60-75k\":2,\"100-150k\":2}                  {\"60-75k\":35.33,\"100-150k\":91.47}              {\"Murfreesboro, TN\":2,\"Elburn, IL\":2}  {\"ALDI\":50,\"BP\":100,\"Bargain Hunt\":50,\"Baskin ...  {\"Etsy\":100,\"Verizon Wireless\":100,\"Planet Fit...                                                 {}                                      {}               {\"Verizon Wireless\":100,\"AT&T\":50}                          {}                {\"Uber Eats\":50}                            {}                                 {}            {\"Apple Card\":50}\n"
     ]
    },
    {
     "name": "stderr",
     "output_type": "stream",
     "text": [
      "C:\\Users\\tjbla\\AppData\\Local\\Temp\\ipykernel_21468\\2773158075.py:12: UserWarning:\n",
      "\n",
      "Boolean Series key will be reindexed to match DataFrame index.\n",
      "\n"
     ]
    }
   ],
   "source": [
    "# Filter by Dates\n",
    "\n",
    "# print('(before filter) # of rows: ', len(df_filtered))\n",
    "df = df_filtered.copy()\n",
    "\n",
    "datetime_start = pd.to_datetime('2023-05-01')\n",
    "datetime_end = pd.to_datetime('2023-09-01')\n",
    "\n",
    "df_safegraph_spend['SPEND_DATE_RANGE_START'] = pd.to_datetime(df_safegraph_spend['SPEND_DATE_RANGE_START'])\n",
    "df_safegraph_spend['SPEND_DATE_RANGE_END'] = pd.to_datetime(df_safegraph_spend['SPEND_DATE_RANGE_END'])\n",
    "\n",
    "df_filtered_2023 = df[(df_safegraph_spend['SPEND_DATE_RANGE_START'] >= datetime_start) &\n",
    "                                 (df_safegraph_spend['SPEND_DATE_RANGE_END'] <= datetime_end)]\n",
    "\n",
    "#print('(after filter) # of rows: ', len(df_filtered))\n",
    "print(df_filtered_2023.head())\n"
   ]
  },
  {
   "cell_type": "code",
   "execution_count": 18,
   "metadata": {},
   "outputs": [
    {
     "name": "stdout",
     "output_type": "stream",
     "text": [
      "                   PLACEKEY                        SAFEGRAPH_BRAND_IDS       BRANDS   SPEND_DATE_RANGE_START     SPEND_DATE_RANGE_END  RAW_TOTAL_SPEND  RAW_NUM_TRANSACTIONS  RAW_NUM_CUSTOMERS  MEDIAN_SPEND_PER_TRANSACTION  MEDIAN_SPEND_PER_CUSTOMER SPEND_PER_TRANSACTION_PERCENTILES                                       SPEND_BY_DAY                       SPEND_PER_TRANSACTION_BY_DAY                               SPEND_BY_DAY_OF_WEEK                                         DAY_COUNTS  SPEND_PCT_CHANGE_VS_PREV_MONTH  SPEND_PCT_CHANGE_VS_PREV_YEAR  ONLINE_TRANSACTIONS  ONLINE_SPEND TRANSACTION_INTERMEDIARY SPEND_BY_TRANSACTION_INTERMEDIARY                  BUCKETED_CUSTOMER_FREQUENCY               MEAN_SPEND_PER_CUSTOMER_BY_FREQUENCY                          BUCKETED_CUSTOMER_INCOMES                  MEAN_SPEND_PER_CUSTOMER_BY_INCOME                                 CUSTOMER_HOME_CITY         RELATED_CROSS_SHOPPING_PHYSICAL_BRANDS_PCT        RELATED_CROSS_SHOPPING_ONLINE_MERCHANTS_PCT    RELATED_CROSS_SHOPPING_SAME_CATEGORY_BRANDS_PCT RELATED_CROSS_SHOPPING_LOCAL_BRANDS_PCT                     RELATED_WIRELESS_CARRIER_PCT RELATED_STREAMING_CABLE_PCT    RELATED_DELIVERY_SERVICE_PCT RELATED_RIDESHARE_SERVICE_PCT RELATED_BUYNOWPAYLATER_SERVICE_PCT RELATED_PAYMENT_PLATFORM_PCT                                      DATE_OF_MONTH\n",
      "218779  223-222@5sy-d6f-nnq                                        NaN          NaN  2023-05-01 00:00:00.000  2023-06-01 00:00:00.000          1000.22                    16                 14                         41.68                      38.71           {\"25\":32.68,\"75\":59.00}  [0.0, 38.58, 38.84, 0.0, 0.0, 0.0, 0.0, 0.0, 0...  [null,38.58,38.84,null,null,null,null,null,nul...  {\"Monday\":32.25,\"Tuesday\":197.06,\"Wednesday\":2...  {\"Wednesday\":5,\"Monday\":5,\"Saturday\":4,\"Thursd...                           442.0                           22.0                    2        210.38   {\"No intermediary\":16}       {\"No intermediary\":1000.22}  {\"1\":12,\"2\":2,\"3\":0,\"4\":0,\"5-10\":0,\">10\":0}  {\"1\":50.82,\"2\":195.19,\"3\":null,\"4\":null,\"5-10\"...  {\"<25k\":2,\"25-45k\":2,\"45-60k\":3,\"60-75k\":2,\"75...  {\"<25k\":16.97,\"25-45k\":41.55,\"45-60k\":210.38,\"...  {\"Saint Paul, MN\":2,\"Amalga, UT\":2,\"Driggs, ID...  {\"7-Eleven\":15,\"Ace Hardware\":36,\"Albertsons\":...  {\"Amazon\":50,\"Apple\":43,\"Sirius XM\":22,\"Netfli...                                                 {}                                      {}  {\"AT&T\":29,\"T-Mobile\":22,\"Verizon Wireless\":22}            {\"Paramount+\":8}        {\"DoorDash\":8,\"Shipt\":8}                            {}                                 {}             {\"Apple Card\":8}  [1, 2, 3, 4, 5, 6, 7, 8, 9, 10, 11, 12, 13, 14...\n",
      "219074  zzw-222@5sy-d6f-f2k                                        NaN          NaN  2023-05-01 00:00:00.000  2023-06-01 00:00:00.000           317.44                     8                  7                         39.34                      42.88           {\"25\":15.25,\"75\":55.38}  [0.0, 0.0, 0.0, 0.0, 0.0, 0.0, 0.0, 0.0, 0.0, ...  [null,null,null,null,null,null,null,null,null,...  {\"Monday\":0.00,\"Tuesday\":132.50,\"Wednesday\":58...  {\"Wednesday\":5,\"Monday\":5,\"Saturday\":4,\"Thursd...                             NaN                          -53.0                    0          0.00    {\"No intermediary\":8}        {\"No intermediary\":317.44}   {\"1\":6,\"2\":1,\"3\":0,\"4\":0,\"5-10\":0,\">10\":0}  {\"1\":48.02,\"2\":29.30,\"3\":null,\"4\":null,\"5-10\":...  {\"25-45k\":2,\"60-75k\":2,\"75-100k\":2,\"100-150k\":...  {\"25-45k\":42.88,\"60-75k\":37.15,\"75-100k\":35.80...  {\"Longmont, CO\":2,\"Mesquite, NV\":2,\"Elwood, IN...  {\"ARCO\":29,\"Albertsons\":29,\"Apple Retail Store...  {\"Verizon Wireless\":43,\"Netflix\":29,\"Sling TV\"...            {\"Olive Garden\":15,\"Raising Cane's\":15}                                      {}                          {\"Verizon Wireless\":72}                          {}  {\"DoorDash\":15,\"Uber Eats\":15}                   {\"Uber\":15}                                 {}                           {}  [1, 2, 3, 4, 5, 6, 7, 8, 9, 10, 11, 12, 13, 14...\n",
      "219091  223-222@5sy-d6g-ks5                                        NaN          NaN  2023-05-01 00:00:00.000  2023-06-01 00:00:00.000           213.50                     7                  5                         27.00                      45.00           {\"25\":20.00,\"75\":40.00}  [0.0, 0.0, 0.0, 0.0, 0.0, 0.0, 0.0, 0.0, 0.0, ...  [null,null,null,null,null,null,null,null,null,...  {\"Monday\":40.00,\"Tuesday\":0.00,\"Wednesday\":0.0...  {\"Wednesday\":5,\"Monday\":5,\"Saturday\":4,\"Thursd...                             NaN                          -80.0                    0          0.00    {\"No intermediary\":7}        {\"No intermediary\":213.50}   {\"1\":3,\"2\":2,\"3\":0,\"4\":0,\"5-10\":0,\">10\":0}  {\"1\":39.83,\"2\":47.00,\"3\":null,\"4\":null,\"5-10\":...       {\"25-45k\":6,\"45-60k\":2,\"60-75k\":2,\">150k\":2}  {\"25-45k\":34.50,\"45-60k\":40.00,\"60-75k\":45.00,...  {\"Saint Petersburg, FL\":2,\"Nashville, TN\":2,\"L...  {\"7-Eleven\":40,\"ARCO\":60,\"Ace Hardware\":40,\"BP...  {\"Amazon\":40,\"Sirius XM\":40,\"Lowe's\":40,\"Kohl'...                {\"Cracker Barrel\":20,\"Culver's\":40}                                      {}                          {\"Verizon Wireless\":20}                          {}                              {}                            {}                                 {}                           {}  [1, 2, 3, 4, 5, 6, 7, 8, 9, 10, 11, 12, 13, 14...\n",
      "222092  223-222@5sy-d6f-rzf  SG_BRAND_a144a8c10e1fe8006125571afd1a1e80  Exxon Mobil  2023-05-01 00:00:00.000  2023-06-01 00:00:00.000           155.43                     6                  5                         24.17                      27.93           {\"25\":16.75,\"75\":35.07}  [0.0, 0.0, 0.0, 0.0, 0.0, 0.0, 0.0, 0.0, 7.0, ...  [null,null,null,null,null,null,null,null,7.00,...  {\"Monday\":0.00,\"Tuesday\":27.00,\"Wednesday\":27....  {\"Wednesday\":5,\"Monday\":5,\"Saturday\":4,\"Thursd...                             NaN                          -84.0                    0          0.00    {\"No intermediary\":6}        {\"No intermediary\":155.43}   {\"1\":4,\"2\":1,\"3\":0,\"4\":0,\"5-10\":0,\">10\":0}  {\"1\":26.34,\"2\":50.08,\"3\":null,\"4\":null,\"5-10\":...        {\"<25k\":3,\"45-60k\":2,\"75-100k\":2,\">150k\":2}  {\"<25k\":50.05,\"45-60k\":27.93,\"75-100k\":20.40,\"...                       {\"Lutz, FL\":2,\"Tempe, AZ\":2}  {\"7-Eleven\":20,\"AT&T\":20,\"Agway\":20,\"Applebee'...  {\"Amazon\":40,\"Apple\":40,\"Sirius XM\":20,\"Lowe's...  {\"BP\":20,\"ConocoPhillips\":60,\"Holiday Station\"...                          {\"Super 8\":40}                                      {\"AT&T\":40}                          {}  {\"Dashpass\":20,\"Uber Eats\":20}                            {}                  {\"Affirm.com\":20}                           {}  [1, 2, 3, 4, 5, 6, 7, 8, 9, 10, 11, 12, 13, 14...\n",
      "223009  zzy-225@5sy-d6f-dy9                                        NaN          NaN  2023-05-01 00:00:00.000  2023-06-01 00:00:00.000           126.80                     2                  2                         63.40                      63.40           {\"25\":35.33,\"75\":91.47}  [0.0, 0.0, 0.0, 0.0, 0.0, 0.0, 0.0, 0.0, 0.0, ...  [null,null,null,null,null,null,null,null,null,...  {\"Monday\":0.00,\"Tuesday\":0.00,\"Wednesday\":0.00...  {\"Wednesday\":5,\"Monday\":5,\"Saturday\":4,\"Thursd...                             NaN                            NaN                    0          0.00    {\"No intermediary\":2}        {\"No intermediary\":126.80}   {\"1\":2,\"2\":0,\"3\":0,\"4\":0,\"5-10\":0,\">10\":0}  {\"1\":63.40,\"2\":null,\"3\":null,\"4\":null,\"5-10\":n...                          {\"60-75k\":2,\"100-150k\":2}                  {\"60-75k\":35.33,\"100-150k\":91.47}              {\"Murfreesboro, TN\":2,\"Elburn, IL\":2}  {\"ALDI\":50,\"BP\":100,\"Bargain Hunt\":50,\"Baskin ...  {\"Etsy\":100,\"Verizon Wireless\":100,\"Planet Fit...                                                 {}                                      {}               {\"Verizon Wireless\":100,\"AT&T\":50}                          {}                {\"Uber Eats\":50}                            {}                                 {}            {\"Apple Card\":50}  [1, 2, 3, 4, 5, 6, 7, 8, 9, 10, 11, 12, 13, 14...\n",
      "DATE\n",
      "2023-05-01     0.00\n",
      "2023-05-02    38.58\n",
      "2023-05-03    38.84\n",
      "2023-05-04     0.00\n",
      "2023-05-05     0.00\n",
      "2023-05-06     0.00\n",
      "2023-05-07     0.00\n",
      "2023-05-08     0.00\n",
      "2023-05-09     7.00\n",
      "2023-05-10     0.00\n",
      "Name: SPEND_BY_DAY, dtype: float64\n"
     ]
    },
    {
     "name": "stderr",
     "output_type": "stream",
     "text": [
      "c:\\Users\\tjbla\\miniforge3\\envs\\worth\\Lib\\site-packages\\_plotly_utils\\basevalidators.py:106: FutureWarning:\n",
      "\n",
      "The behavior of DatetimeProperties.to_pydatetime is deprecated, in a future version this will return a Series containing python datetime objects instead of an ndarray. To retain the old behavior, call `np.array` on the result\n",
      "\n"
     ]
    },
    {
     "data": {
      "application/vnd.plotly.v1+json": {
       "config": {
        "plotlyServerURL": "https://plot.ly"
       },
       "data": [
        {
         "hovertemplate": "variable=SPEND_BY_DAY<br>DATE=%{x}<br>value=%{y}<extra></extra>",
         "legendgroup": "SPEND_BY_DAY",
         "line": {
          "color": "#636efa",
          "dash": "solid"
         },
         "marker": {
          "symbol": "circle"
         },
         "mode": "lines",
         "name": "SPEND_BY_DAY",
         "orientation": "v",
         "showlegend": true,
         "type": "scatter",
         "x": [
          "2023-05-01T00:00:00",
          "2023-05-02T00:00:00",
          "2023-05-03T00:00:00",
          "2023-05-04T00:00:00",
          "2023-05-05T00:00:00",
          "2023-05-06T00:00:00",
          "2023-05-07T00:00:00",
          "2023-05-08T00:00:00",
          "2023-05-09T00:00:00",
          "2023-05-10T00:00:00",
          "2023-05-11T00:00:00",
          "2023-05-12T00:00:00",
          "2023-05-13T00:00:00",
          "2023-05-14T00:00:00",
          "2023-05-15T00:00:00",
          "2023-05-16T00:00:00",
          "2023-05-17T00:00:00",
          "2023-05-18T00:00:00",
          "2023-05-19T00:00:00",
          "2023-05-20T00:00:00",
          "2023-05-21T00:00:00",
          "2023-05-22T00:00:00",
          "2023-05-23T00:00:00",
          "2023-05-24T00:00:00",
          "2023-05-25T00:00:00",
          "2023-05-26T00:00:00",
          "2023-05-27T00:00:00",
          "2023-05-28T00:00:00",
          "2023-05-29T00:00:00",
          "2023-05-30T00:00:00",
          "2023-05-31T00:00:00",
          "2023-06-01T00:00:00",
          "2023-06-02T00:00:00",
          "2023-06-03T00:00:00",
          "2023-06-04T00:00:00",
          "2023-06-05T00:00:00",
          "2023-06-06T00:00:00",
          "2023-06-07T00:00:00",
          "2023-06-08T00:00:00",
          "2023-06-09T00:00:00",
          "2023-06-10T00:00:00",
          "2023-06-11T00:00:00",
          "2023-06-12T00:00:00",
          "2023-06-13T00:00:00",
          "2023-06-14T00:00:00",
          "2023-06-15T00:00:00",
          "2023-06-16T00:00:00",
          "2023-06-17T00:00:00",
          "2023-06-18T00:00:00",
          "2023-06-19T00:00:00",
          "2023-06-20T00:00:00",
          "2023-06-21T00:00:00",
          "2023-06-22T00:00:00",
          "2023-06-23T00:00:00",
          "2023-06-24T00:00:00",
          "2023-06-25T00:00:00",
          "2023-06-26T00:00:00",
          "2023-06-27T00:00:00",
          "2023-06-28T00:00:00",
          "2023-06-29T00:00:00",
          "2023-06-30T00:00:00",
          "2023-07-01T00:00:00",
          "2023-07-02T00:00:00",
          "2023-07-03T00:00:00",
          "2023-07-04T00:00:00",
          "2023-07-05T00:00:00",
          "2023-07-06T00:00:00",
          "2023-07-07T00:00:00",
          "2023-07-08T00:00:00",
          "2023-07-09T00:00:00",
          "2023-07-10T00:00:00",
          "2023-07-11T00:00:00",
          "2023-07-12T00:00:00",
          "2023-07-13T00:00:00",
          "2023-07-14T00:00:00",
          "2023-07-15T00:00:00",
          "2023-07-16T00:00:00",
          "2023-07-17T00:00:00",
          "2023-07-18T00:00:00",
          "2023-07-19T00:00:00",
          "2023-07-20T00:00:00",
          "2023-07-21T00:00:00",
          "2023-07-22T00:00:00",
          "2023-07-23T00:00:00",
          "2023-07-24T00:00:00",
          "2023-07-25T00:00:00",
          "2023-07-26T00:00:00",
          "2023-07-27T00:00:00",
          "2023-07-28T00:00:00",
          "2023-07-29T00:00:00",
          "2023-07-30T00:00:00",
          "2023-07-31T00:00:00",
          "2023-08-01T00:00:00",
          "2023-08-02T00:00:00",
          "2023-08-03T00:00:00",
          "2023-08-04T00:00:00",
          "2023-08-05T00:00:00",
          "2023-08-06T00:00:00",
          "2023-08-07T00:00:00",
          "2023-08-08T00:00:00",
          "2023-08-09T00:00:00",
          "2023-08-10T00:00:00",
          "2023-08-11T00:00:00",
          "2023-08-12T00:00:00",
          "2023-08-13T00:00:00",
          "2023-08-14T00:00:00",
          "2023-08-15T00:00:00",
          "2023-08-16T00:00:00",
          "2023-08-17T00:00:00",
          "2023-08-18T00:00:00",
          "2023-08-19T00:00:00",
          "2023-08-20T00:00:00",
          "2023-08-21T00:00:00",
          "2023-08-22T00:00:00",
          "2023-08-23T00:00:00",
          "2023-08-24T00:00:00",
          "2023-08-25T00:00:00",
          "2023-08-26T00:00:00",
          "2023-08-27T00:00:00",
          "2023-08-28T00:00:00",
          "2023-08-29T00:00:00",
          "2023-08-30T00:00:00",
          "2023-08-31T00:00:00"
         ],
         "xaxis": "x",
         "y": [
          0,
          38.58,
          38.84,
          0,
          0,
          0,
          0,
          0,
          7,
          0,
          0,
          33.98,
          70,
          94,
          40,
          0,
          58.84,
          44.51,
          159.5,
          621.0699999999999,
          30.08,
          32.25,
          288.47,
          27.93,
          121.15,
          159.26999999999998,
          279.75,
          181.47,
          0,
          689.2,
          333.53999999999996,
          67.08,
          0,
          236.76,
          75.84,
          1055.6,
          483.01,
          244.51999999999998,
          386.13,
          324.68,
          165.28,
          99.94,
          675.76,
          386.35,
          105.07999999999998,
          392.2,
          1208.69,
          464.26,
          130.3,
          525.61,
          477.29,
          341.52,
          379.83,
          724.28,
          183.76999999999998,
          157.85,
          1646.3,
          185.91,
          69.24000000000001,
          133.05,
          421.13,
          864.5600000000001,
          175.2,
          776.29,
          1342.32,
          305.68,
          508.89,
          465.09,
          758.78,
          5.09,
          261.95,
          250.17000000000002,
          301.11,
          284.53,
          235.12,
          248.64,
          445.36,
          1270.51,
          591.12,
          351.78999999999996,
          663.12,
          631.05,
          399.97,
          175.1,
          494.71,
          433.70000000000005,
          194.69,
          522.7,
          148.26,
          422.65,
          235.45,
          643.1800000000001,
          248.68,
          150.13,
          778.66,
          38.28,
          220.56,
          132.34,
          1056.69,
          722.79,
          367.38,
          535.55,
          145.95,
          317.58000000000004,
          127.67,
          619.89,
          472.18,
          973.0899999999999,
          311.34,
          278.89,
          308.56,
          507.04,
          104.71,
          229.95,
          683.3299999999999,
          844.47,
          140.19,
          219.39,
          260.69,
          1123.91,
          58.940000000000005,
          99.52,
          194.64000000000001
         ],
         "yaxis": "y"
        }
       ],
       "layout": {
        "legend": {
         "title": {
          "text": "variable"
         },
         "tracegroupgap": 0
        },
        "template": {
         "data": {
          "bar": [
           {
            "error_x": {
             "color": "#2a3f5f"
            },
            "error_y": {
             "color": "#2a3f5f"
            },
            "marker": {
             "line": {
              "color": "#E5ECF6",
              "width": 0.5
             },
             "pattern": {
              "fillmode": "overlay",
              "size": 10,
              "solidity": 0.2
             }
            },
            "type": "bar"
           }
          ],
          "barpolar": [
           {
            "marker": {
             "line": {
              "color": "#E5ECF6",
              "width": 0.5
             },
             "pattern": {
              "fillmode": "overlay",
              "size": 10,
              "solidity": 0.2
             }
            },
            "type": "barpolar"
           }
          ],
          "carpet": [
           {
            "aaxis": {
             "endlinecolor": "#2a3f5f",
             "gridcolor": "white",
             "linecolor": "white",
             "minorgridcolor": "white",
             "startlinecolor": "#2a3f5f"
            },
            "baxis": {
             "endlinecolor": "#2a3f5f",
             "gridcolor": "white",
             "linecolor": "white",
             "minorgridcolor": "white",
             "startlinecolor": "#2a3f5f"
            },
            "type": "carpet"
           }
          ],
          "choropleth": [
           {
            "colorbar": {
             "outlinewidth": 0,
             "ticks": ""
            },
            "type": "choropleth"
           }
          ],
          "contour": [
           {
            "colorbar": {
             "outlinewidth": 0,
             "ticks": ""
            },
            "colorscale": [
             [
              0,
              "#0d0887"
             ],
             [
              0.1111111111111111,
              "#46039f"
             ],
             [
              0.2222222222222222,
              "#7201a8"
             ],
             [
              0.3333333333333333,
              "#9c179e"
             ],
             [
              0.4444444444444444,
              "#bd3786"
             ],
             [
              0.5555555555555556,
              "#d8576b"
             ],
             [
              0.6666666666666666,
              "#ed7953"
             ],
             [
              0.7777777777777778,
              "#fb9f3a"
             ],
             [
              0.8888888888888888,
              "#fdca26"
             ],
             [
              1,
              "#f0f921"
             ]
            ],
            "type": "contour"
           }
          ],
          "contourcarpet": [
           {
            "colorbar": {
             "outlinewidth": 0,
             "ticks": ""
            },
            "type": "contourcarpet"
           }
          ],
          "heatmap": [
           {
            "colorbar": {
             "outlinewidth": 0,
             "ticks": ""
            },
            "colorscale": [
             [
              0,
              "#0d0887"
             ],
             [
              0.1111111111111111,
              "#46039f"
             ],
             [
              0.2222222222222222,
              "#7201a8"
             ],
             [
              0.3333333333333333,
              "#9c179e"
             ],
             [
              0.4444444444444444,
              "#bd3786"
             ],
             [
              0.5555555555555556,
              "#d8576b"
             ],
             [
              0.6666666666666666,
              "#ed7953"
             ],
             [
              0.7777777777777778,
              "#fb9f3a"
             ],
             [
              0.8888888888888888,
              "#fdca26"
             ],
             [
              1,
              "#f0f921"
             ]
            ],
            "type": "heatmap"
           }
          ],
          "heatmapgl": [
           {
            "colorbar": {
             "outlinewidth": 0,
             "ticks": ""
            },
            "colorscale": [
             [
              0,
              "#0d0887"
             ],
             [
              0.1111111111111111,
              "#46039f"
             ],
             [
              0.2222222222222222,
              "#7201a8"
             ],
             [
              0.3333333333333333,
              "#9c179e"
             ],
             [
              0.4444444444444444,
              "#bd3786"
             ],
             [
              0.5555555555555556,
              "#d8576b"
             ],
             [
              0.6666666666666666,
              "#ed7953"
             ],
             [
              0.7777777777777778,
              "#fb9f3a"
             ],
             [
              0.8888888888888888,
              "#fdca26"
             ],
             [
              1,
              "#f0f921"
             ]
            ],
            "type": "heatmapgl"
           }
          ],
          "histogram": [
           {
            "marker": {
             "pattern": {
              "fillmode": "overlay",
              "size": 10,
              "solidity": 0.2
             }
            },
            "type": "histogram"
           }
          ],
          "histogram2d": [
           {
            "colorbar": {
             "outlinewidth": 0,
             "ticks": ""
            },
            "colorscale": [
             [
              0,
              "#0d0887"
             ],
             [
              0.1111111111111111,
              "#46039f"
             ],
             [
              0.2222222222222222,
              "#7201a8"
             ],
             [
              0.3333333333333333,
              "#9c179e"
             ],
             [
              0.4444444444444444,
              "#bd3786"
             ],
             [
              0.5555555555555556,
              "#d8576b"
             ],
             [
              0.6666666666666666,
              "#ed7953"
             ],
             [
              0.7777777777777778,
              "#fb9f3a"
             ],
             [
              0.8888888888888888,
              "#fdca26"
             ],
             [
              1,
              "#f0f921"
             ]
            ],
            "type": "histogram2d"
           }
          ],
          "histogram2dcontour": [
           {
            "colorbar": {
             "outlinewidth": 0,
             "ticks": ""
            },
            "colorscale": [
             [
              0,
              "#0d0887"
             ],
             [
              0.1111111111111111,
              "#46039f"
             ],
             [
              0.2222222222222222,
              "#7201a8"
             ],
             [
              0.3333333333333333,
              "#9c179e"
             ],
             [
              0.4444444444444444,
              "#bd3786"
             ],
             [
              0.5555555555555556,
              "#d8576b"
             ],
             [
              0.6666666666666666,
              "#ed7953"
             ],
             [
              0.7777777777777778,
              "#fb9f3a"
             ],
             [
              0.8888888888888888,
              "#fdca26"
             ],
             [
              1,
              "#f0f921"
             ]
            ],
            "type": "histogram2dcontour"
           }
          ],
          "mesh3d": [
           {
            "colorbar": {
             "outlinewidth": 0,
             "ticks": ""
            },
            "type": "mesh3d"
           }
          ],
          "parcoords": [
           {
            "line": {
             "colorbar": {
              "outlinewidth": 0,
              "ticks": ""
             }
            },
            "type": "parcoords"
           }
          ],
          "pie": [
           {
            "automargin": true,
            "type": "pie"
           }
          ],
          "scatter": [
           {
            "fillpattern": {
             "fillmode": "overlay",
             "size": 10,
             "solidity": 0.2
            },
            "type": "scatter"
           }
          ],
          "scatter3d": [
           {
            "line": {
             "colorbar": {
              "outlinewidth": 0,
              "ticks": ""
             }
            },
            "marker": {
             "colorbar": {
              "outlinewidth": 0,
              "ticks": ""
             }
            },
            "type": "scatter3d"
           }
          ],
          "scattercarpet": [
           {
            "marker": {
             "colorbar": {
              "outlinewidth": 0,
              "ticks": ""
             }
            },
            "type": "scattercarpet"
           }
          ],
          "scattergeo": [
           {
            "marker": {
             "colorbar": {
              "outlinewidth": 0,
              "ticks": ""
             }
            },
            "type": "scattergeo"
           }
          ],
          "scattergl": [
           {
            "marker": {
             "colorbar": {
              "outlinewidth": 0,
              "ticks": ""
             }
            },
            "type": "scattergl"
           }
          ],
          "scattermapbox": [
           {
            "marker": {
             "colorbar": {
              "outlinewidth": 0,
              "ticks": ""
             }
            },
            "type": "scattermapbox"
           }
          ],
          "scatterpolar": [
           {
            "marker": {
             "colorbar": {
              "outlinewidth": 0,
              "ticks": ""
             }
            },
            "type": "scatterpolar"
           }
          ],
          "scatterpolargl": [
           {
            "marker": {
             "colorbar": {
              "outlinewidth": 0,
              "ticks": ""
             }
            },
            "type": "scatterpolargl"
           }
          ],
          "scatterternary": [
           {
            "marker": {
             "colorbar": {
              "outlinewidth": 0,
              "ticks": ""
             }
            },
            "type": "scatterternary"
           }
          ],
          "surface": [
           {
            "colorbar": {
             "outlinewidth": 0,
             "ticks": ""
            },
            "colorscale": [
             [
              0,
              "#0d0887"
             ],
             [
              0.1111111111111111,
              "#46039f"
             ],
             [
              0.2222222222222222,
              "#7201a8"
             ],
             [
              0.3333333333333333,
              "#9c179e"
             ],
             [
              0.4444444444444444,
              "#bd3786"
             ],
             [
              0.5555555555555556,
              "#d8576b"
             ],
             [
              0.6666666666666666,
              "#ed7953"
             ],
             [
              0.7777777777777778,
              "#fb9f3a"
             ],
             [
              0.8888888888888888,
              "#fdca26"
             ],
             [
              1,
              "#f0f921"
             ]
            ],
            "type": "surface"
           }
          ],
          "table": [
           {
            "cells": {
             "fill": {
              "color": "#EBF0F8"
             },
             "line": {
              "color": "white"
             }
            },
            "header": {
             "fill": {
              "color": "#C8D4E3"
             },
             "line": {
              "color": "white"
             }
            },
            "type": "table"
           }
          ]
         },
         "layout": {
          "annotationdefaults": {
           "arrowcolor": "#2a3f5f",
           "arrowhead": 0,
           "arrowwidth": 1
          },
          "autotypenumbers": "strict",
          "coloraxis": {
           "colorbar": {
            "outlinewidth": 0,
            "ticks": ""
           }
          },
          "colorscale": {
           "diverging": [
            [
             0,
             "#8e0152"
            ],
            [
             0.1,
             "#c51b7d"
            ],
            [
             0.2,
             "#de77ae"
            ],
            [
             0.3,
             "#f1b6da"
            ],
            [
             0.4,
             "#fde0ef"
            ],
            [
             0.5,
             "#f7f7f7"
            ],
            [
             0.6,
             "#e6f5d0"
            ],
            [
             0.7,
             "#b8e186"
            ],
            [
             0.8,
             "#7fbc41"
            ],
            [
             0.9,
             "#4d9221"
            ],
            [
             1,
             "#276419"
            ]
           ],
           "sequential": [
            [
             0,
             "#0d0887"
            ],
            [
             0.1111111111111111,
             "#46039f"
            ],
            [
             0.2222222222222222,
             "#7201a8"
            ],
            [
             0.3333333333333333,
             "#9c179e"
            ],
            [
             0.4444444444444444,
             "#bd3786"
            ],
            [
             0.5555555555555556,
             "#d8576b"
            ],
            [
             0.6666666666666666,
             "#ed7953"
            ],
            [
             0.7777777777777778,
             "#fb9f3a"
            ],
            [
             0.8888888888888888,
             "#fdca26"
            ],
            [
             1,
             "#f0f921"
            ]
           ],
           "sequentialminus": [
            [
             0,
             "#0d0887"
            ],
            [
             0.1111111111111111,
             "#46039f"
            ],
            [
             0.2222222222222222,
             "#7201a8"
            ],
            [
             0.3333333333333333,
             "#9c179e"
            ],
            [
             0.4444444444444444,
             "#bd3786"
            ],
            [
             0.5555555555555556,
             "#d8576b"
            ],
            [
             0.6666666666666666,
             "#ed7953"
            ],
            [
             0.7777777777777778,
             "#fb9f3a"
            ],
            [
             0.8888888888888888,
             "#fdca26"
            ],
            [
             1,
             "#f0f921"
            ]
           ]
          },
          "colorway": [
           "#636efa",
           "#EF553B",
           "#00cc96",
           "#ab63fa",
           "#FFA15A",
           "#19d3f3",
           "#FF6692",
           "#B6E880",
           "#FF97FF",
           "#FECB52"
          ],
          "font": {
           "color": "#2a3f5f"
          },
          "geo": {
           "bgcolor": "white",
           "lakecolor": "white",
           "landcolor": "#E5ECF6",
           "showlakes": true,
           "showland": true,
           "subunitcolor": "white"
          },
          "hoverlabel": {
           "align": "left"
          },
          "hovermode": "closest",
          "mapbox": {
           "style": "light"
          },
          "paper_bgcolor": "white",
          "plot_bgcolor": "#E5ECF6",
          "polar": {
           "angularaxis": {
            "gridcolor": "white",
            "linecolor": "white",
            "ticks": ""
           },
           "bgcolor": "#E5ECF6",
           "radialaxis": {
            "gridcolor": "white",
            "linecolor": "white",
            "ticks": ""
           }
          },
          "scene": {
           "xaxis": {
            "backgroundcolor": "#E5ECF6",
            "gridcolor": "white",
            "gridwidth": 2,
            "linecolor": "white",
            "showbackground": true,
            "ticks": "",
            "zerolinecolor": "white"
           },
           "yaxis": {
            "backgroundcolor": "#E5ECF6",
            "gridcolor": "white",
            "gridwidth": 2,
            "linecolor": "white",
            "showbackground": true,
            "ticks": "",
            "zerolinecolor": "white"
           },
           "zaxis": {
            "backgroundcolor": "#E5ECF6",
            "gridcolor": "white",
            "gridwidth": 2,
            "linecolor": "white",
            "showbackground": true,
            "ticks": "",
            "zerolinecolor": "white"
           }
          },
          "shapedefaults": {
           "line": {
            "color": "#2a3f5f"
           }
          },
          "ternary": {
           "aaxis": {
            "gridcolor": "white",
            "linecolor": "white",
            "ticks": ""
           },
           "baxis": {
            "gridcolor": "white",
            "linecolor": "white",
            "ticks": ""
           },
           "bgcolor": "#E5ECF6",
           "caxis": {
            "gridcolor": "white",
            "linecolor": "white",
            "ticks": ""
           }
          },
          "title": {
           "x": 0.05
          },
          "xaxis": {
           "automargin": true,
           "gridcolor": "white",
           "linecolor": "white",
           "ticks": "",
           "title": {
            "standoff": 15
           },
           "zerolinecolor": "white",
           "zerolinewidth": 2
          },
          "yaxis": {
           "automargin": true,
           "gridcolor": "white",
           "linecolor": "white",
           "ticks": "",
           "title": {
            "standoff": 15
           },
           "zerolinecolor": "white",
           "zerolinewidth": 2
          }
         }
        },
        "title": {
         "text": "Daily Spending 2023"
        },
        "xaxis": {
         "anchor": "y",
         "domain": [
          0,
          1
         ],
         "title": {
          "text": "DATE"
         }
        },
        "yaxis": {
         "anchor": "x",
         "domain": [
          0,
          1
         ],
         "title": {
          "text": "value"
         }
        }
       }
      }
     },
     "metadata": {},
     "output_type": "display_data"
    }
   ],
   "source": [
    "# Make a Plot of the Data\n",
    "\n",
    "# Note: 'SPEND_DATE_RANGE_START' and 'SPEND_DATE_RANGE_END' is typically separated by 1 month (~30 days)\n",
    "#       'SPEND_BY_DAY' is each spend data for each day of the month\n",
    "# Goal; Plot spending for each single day using plotly\n",
    "\n",
    "import plotly.express as px\n",
    "import ast  # For safely evaluating strings containing Python literals\n",
    "\n",
    "df = df_filtered_2023.copy()\n",
    "\n",
    "# Convert string representations of lists in 'SPEND_BY_DAY' to actual lists\n",
    "df['SPEND_BY_DAY'] = df['SPEND_BY_DAY'].apply(ast.literal_eval)\n",
    "\n",
    "# Add a new column called 'DATE_OF_MONTH', as a list of integers from 1 to the end of the month (length of the 'SPEND_BY_DAY' list)\n",
    "df['DATE_OF_MONTH'] = df['SPEND_BY_DAY'].apply(lambda x: list(range(1, len(x) + 1)))\n",
    "\n",
    "print(df.head())\n",
    "\n",
    "# Explode both 'SPEND_BY_DAY' and 'DATE_OF_MONTH' simultaneously to keep their mapping correct\n",
    "df_spend_by_day = df.explode(['SPEND_BY_DAY', 'DATE_OF_MONTH'])\n",
    "\n",
    "# Convert the spending amounts to float\n",
    "df_spend_by_day['SPEND_BY_DAY'] = df_spend_by_day['SPEND_BY_DAY'].astype(float)\n",
    "df_spend_by_day['DATE_OF_MONTH'] = df_spend_by_day['DATE_OF_MONTH'].astype(int)\n",
    "\n",
    "\n",
    "# Calculate 'DATE' correctly by subtracting 1 since 'DATE_OF_MONTH' starts from 1, not 0\n",
    "df_spend_by_day['DATE'] = pd.to_datetime(df_spend_by_day['SPEND_DATE_RANGE_START']) + pd.to_timedelta(df_spend_by_day['DATE_OF_MONTH'] - 1, unit='D')\n",
    "\n",
    "# Ensure the DataFrame is sorted by 'DATE' if not already\n",
    "# df_spend_by_day = df_spend_by_day.sort_values('DATE')\n",
    "\n",
    "#print('# of rows: ', len(df_spend_by_day))\n",
    "#print(df_spend_by_day.head(10))\n",
    "\n",
    "# Plot df_spend_by_day using plotly\n",
    "#fig = px.scatter(df_spend_by_day, x='DATE', y='SPEND_BY_DAY', title='Daily Spend', labels={'SPEND_BY_DAY': 'Spend ($)'})\n",
    "\n",
    "#fig.show()\n",
    "\n",
    "grouped_23 = df_spend_by_day.groupby('DATE')['SPEND_BY_DAY'].sum()\n",
    "print(grouped_23.head(10))\n",
    "fig = px.line(grouped_23, title='Daily Spending 2023')\n",
    "fig.show()\n"
   ]
  },
  {
   "cell_type": "code",
   "execution_count": 22,
   "metadata": {},
   "outputs": [
    {
     "name": "stdout",
     "output_type": "stream",
     "text": [
      "         DATE\n",
      "163061  07-01\n",
      "163061  07-02\n",
      "163061  07-03\n",
      "163061  07-04\n",
      "163061  07-05\n",
      "163061  07-06\n",
      "163061  07-07\n",
      "163061  07-08\n",
      "163061  07-09\n",
      "163061  07-10\n"
     ]
    }
   ],
   "source": [
    "spending = pd.DataFrame()\n",
    "spending['DATE'] = df_spend_by_day['DATE']\n",
    "spending['2021'] = \n",
    "\n",
    "print(spending.head(10))"
   ]
  }
 ],
 "metadata": {
  "kernelspec": {
   "display_name": "Python 3",
   "language": "python",
   "name": "python3"
  },
  "language_info": {
   "codemirror_mode": {
    "name": "ipython",
    "version": 3
   },
   "file_extension": ".py",
   "mimetype": "text/x-python",
   "name": "python",
   "nbconvert_exporter": "python",
   "pygments_lexer": "ipython3",
   "version": "3.12.6"
  }
 },
 "nbformat": 4,
 "nbformat_minor": 2
}
