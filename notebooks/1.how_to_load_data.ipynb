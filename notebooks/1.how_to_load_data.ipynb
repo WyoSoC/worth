{
 "cells": [
  {
   "cell_type": "code",
   "execution_count": 4,
   "metadata": {},
   "outputs": [
    {
     "name": "stdout",
     "output_type": "stream",
     "text": [
      "              PLACEKEY                        SAFEGRAPH_BRAND_IDS              BRANDS   SPEND_DATE_RANGE_START     SPEND_DATE_RANGE_END  RAW_TOTAL_SPEND  RAW_NUM_TRANSACTIONS  RAW_NUM_CUSTOMERS  MEDIAN_SPEND_PER_TRANSACTION  MEDIAN_SPEND_PER_CUSTOMER SPEND_PER_TRANSACTION_PERCENTILES                                       SPEND_BY_DAY                       SPEND_PER_TRANSACTION_BY_DAY                               SPEND_BY_DAY_OF_WEEK                                         DAY_COUNTS  SPEND_PCT_CHANGE_VS_PREV_MONTH  SPEND_PCT_CHANGE_VS_PREV_YEAR  ONLINE_TRANSACTIONS  ONLINE_SPEND TRANSACTION_INTERMEDIARY SPEND_BY_TRANSACTION_INTERMEDIARY                  BUCKETED_CUSTOMER_FREQUENCY               MEAN_SPEND_PER_CUSTOMER_BY_FREQUENCY                          BUCKETED_CUSTOMER_INCOMES                  MEAN_SPEND_PER_CUSTOMER_BY_INCOME                                 CUSTOMER_HOME_CITY         RELATED_CROSS_SHOPPING_PHYSICAL_BRANDS_PCT        RELATED_CROSS_SHOPPING_ONLINE_MERCHANTS_PCT    RELATED_CROSS_SHOPPING_SAME_CATEGORY_BRANDS_PCT            RELATED_CROSS_SHOPPING_LOCAL_BRANDS_PCT                       RELATED_WIRELESS_CARRIER_PCT                        RELATED_STREAMING_CABLE_PCT                 RELATED_DELIVERY_SERVICE_PCT RELATED_RIDESHARE_SERVICE_PCT RELATED_BUYNOWPAYLATER_SERVICE_PCT RELATED_PAYMENT_PLATFORM_PCT\n",
      "0  222-222@5qp-r9f-p5f  SG_BRAND_651e8ed61dd14af7a20c84019dc47d2b         Quality Inn  2019-02-01 00:00:00.000  2019-03-01 00:00:00.000           272.36                     2                  2                        136.18                     136.18          {\"25\":90.20,\"75\":182.16}  [0.00,0.00,0.00,90.20,0.00,0.00,0.00,0.00,0.00...  [null,null,null,90.20,null,null,null,null,null...  {\"Monday\":90.20,\"Tuesday\":182.16,\"Wednesday\":0...  {\"Wednesday\":4,\"Monday\":4,\"Saturday\":4,\"Thursd...                           -28.0                            NaN                    0           0.0    {\"No intermediary\":2}        {\"No intermediary\":272.36}   {\"1\":2,\"2\":0,\"3\":0,\"4\":0,\"5-10\":0,\">10\":0}  {\"1\":136.18,\"2\":null,\"3\":null,\"4\":null,\"5-10\":...                             {\"25-45k\":2,\">150k\":2}                    {\"25-45k\":182.16,\">150k\":90.20}                {\"Chesterbrook, PA\":2,\"Bill, WY\":2}  {\"Safeway\":100,\"McDonald's\":100,\"IHOP\":50,\"Son...  {\"Amazon\":100,\"Netflix\":100,\"ProBiller\":50,\"Ai...                                 {\"Holiday Inn\":50}      {\"McDonald's\":50,\"Maverik\":50,\"Pizza Hut\":50}                            {\"Verizon Wireless\":50}  {\"Netflix\":100,\"Amazon Prime\":50,\"Youtube Prem...                                           {}                            {}                                 {}                           {}\n",
      "1  zzy-223@5sy-4cy-249                                        NaN                 NaN  2019-02-01 00:00:00.000  2019-03-01 00:00:00.000          1843.54                    75                 21                         18.81                      32.82           {\"25\":11.23,\"75\":33.41}  [108.40,42.98,62.28,99.22,146.04,0.00,33.84,11...  [27.09,42.98,62.28,14.48,36.51,null,16.92,23.5...  {\"Monday\":500.30,\"Tuesday\":477.01,\"Wednesday\":...  {\"Wednesday\":4,\"Monday\":4,\"Saturday\":4,\"Thursd...                            -8.0                            NaN                    0           0.0   {\"No intermediary\":75}       {\"No intermediary\":1843.54}  {\"1\":10,\"2\":4,\"3\":2,\"4\":0,\"5-10\":3,\">10\":2}  {\"1\":17.66,\"2\":56.80,\"3\":105.62,\"4\":null,\"5-10...  {\"<25k\":3,\"25-45k\":2,\"45-60k\":3,\"60-75k\":2,\"75...  {\"<25k\":23.60,\"25-45k\":10.26,\"45-60k\":49.45,\"6...  {\"Acme, WY\":7,\"Dayton, WY\":2,\"Fox, MN\":2,\"Minn...  {\"Walmart\":62,\"Albertsons\":58,\"Common Cents\":4...  {\"Amazon\":48,\"Amazon Digital Services\":43,\"Net...  {\"Albertsons\":58,\"Kwik Shop\":10,\"Rosauers\":5,\"...          {\"United States Postal Service (USPS)\":5}  {\"AT&T\":39,\"Verizon Wireless\":29,\"Google Fi\":5...  {\"Netflix\":39,\"DirecTV\":29,\"Hulu\":24,\"Dish Net...                                           {}                    {\"Uber\":5}                   {\"Affirm.com\":5}                 {\"PayPal\":5}\n",
      "2  zzy-228@5wf-k77-rtv                                        NaN                 NaN  2019-02-01 00:00:00.000  2019-03-01 00:00:00.000          3946.67                    27                 24                         56.65                     102.46          {\"25\":29.86,\"75\":231.71}  [0.00,854.77,0.00,567.47,200.83,0.00,103.00,55...  [null,231.71,null,283.74,29.86,null,51.50,10.3...  {\"Monday\":731.28,\"Tuesday\":200.83,\"Wednesday\":...  {\"Wednesday\":4,\"Monday\":4,\"Saturday\":4,\"Thursd...                           -25.0                            NaN                    0           0.0   {\"No intermediary\":27}       {\"No intermediary\":3946.67}  {\"1\":21,\"2\":3,\"3\":0,\"4\":0,\"5-10\":0,\">10\":0}  {\"1\":139.87,\"2\":336.44,\"3\":null,\"4\":null,\"5-10...  {\"<25k\":2,\"25-45k\":2,\"45-60k\":2,\"60-75k\":2,\"75...  {\"<25k\":534.51,\"25-45k\":20.73,\"45-60k\":30.90,\"...  {\"Smyrna, GA\":2,\"Minneapolis, MN\":2,\"Arlington...  {\"Target\":42,\"Walmart\":38,\"Starbucks\":38,\"Cono...  {\"iTunes\":55,\"Amazon\":42,\"Netflix\":42,\"Target\"...  {\"REI\":9,\"Dick's Sporting Goods\":9,\"Michaels S...            {\"ConocoPhillips\":17,\"Ace Hardware\":13}       {\"Verizon Wireless\":42,\"AT&T\":13,\"Sprint\":5}  {\"Netflix\":42,\"Amazon Prime\":13,\"Hulu\":13,\"Red...  {\"Uber Eats\":13,\"DoorDash\":9,\"Instacart\":5}         {\"Uber\":17,\"Lyft\":17}                                 {}                           {}\n",
      "3  222-222@5sv-zr9-gff  SG_BRAND_974825b578ac6df2330cf472fc2d9e57  Tractor Supply Co.  2019-02-01 00:00:00.000  2019-03-01 00:00:00.000           975.35                    18                 12                         46.89                      44.51           {\"25\":17.99,\"75\":76.94}  [0.00,0.00,52.98,73.12,0.00,0.00,75.93,98.94,0...  [null,null,52.98,36.56,null,null,75.93,49.47,n...  {\"Monday\":233.79,\"Tuesday\":110.93,\"Wednesday\":...  {\"Wednesday\":4,\"Monday\":4,\"Saturday\":4,\"Thursd...                            11.0                            NaN                    0           0.0   {\"No intermediary\":18}        {\"No intermediary\":975.35}   {\"1\":7,\"2\":4,\"3\":1,\"4\":0,\"5-10\":0,\">10\":0}  {\"1\":26.08,\"2\":123.81,\"3\":297.56,\"4\":null,\"5-1...  {\"<25k\":2,\"25-45k\":2,\"45-60k\":5,\"60-75k\":3,\"75...  {\"<25k\":33.73,\"25-45k\":94.97,\"45-60k\":164.01,\"...                                 {\"Danvers, MT\":11}  {\"Albertsons\":75,\"Exxon Mobil\":67,\"ConocoPhill...  {\"Amazon\":34,\"Netflix\":34,\"iTunes\":25,\"Verizon...       {\"Ace Hardware\":50,\"True Value Hardware\":17}  {\"Albertsons\":75,\"Exxon Mobil\":59,\"Ace Hardwar...                  {\"Verizon Wireless\":42,\"AT&T\":34}        {\"Netflix\":34,\"Amazon Prime\":17,\"Redbox\":9}                                           {}                            {}                                 {}                           {}\n",
      "4  222-222@5sx-ypx-66k                                        NaN                 NaN  2019-02-01 00:00:00.000  2019-03-01 00:00:00.000           673.00                    11                  2                         63.00                     336.50          {\"25\":23.00,\"75\":103.00}  [63.00,0.00,0.00,0.00,0.00,23.00,0.00,0.00,0.0...  [63.00,null,null,null,null,23.00,null,null,nul...  {\"Monday\":0.00,\"Tuesday\":255.00,\"Wednesday\":23...  {\"Wednesday\":4,\"Monday\":4,\"Saturday\":4,\"Thursd...                             NaN                            NaN                    0           0.0   {\"No intermediary\":11}        {\"No intermediary\":673.00}   {\"1\":0,\"2\":1,\"3\":0,\"4\":0,\"5-10\":1,\">10\":0}  {\"1\":null,\"2\":226.00,\"3\":null,\"4\":null,\"5-10\":...                            {\"25-45k\":2,\"60-75k\":2}                  {\"25-45k\":447.00,\"60-75k\":226.00}                  {\"Laurel, MT\":2,\"Billings, MT\":2}  {\"Applebee's\":100,\"McDonald's\":100,\"Exxon Mobi...  {\"Snack & Soda\":50,\"Lowe's\":50,\"Adobe Systems\"...                                                 {}            {\"CENEX\":50,\"Slumberland Furniture\":50}                                        {\"AT&T\":50}                                     {\"DirecTV\":50}                                           {}                            {}                                 {}                           {}\n"
     ]
    }
   ],
   "source": [
    "import pandas as pd\n",
    "\n",
    "pd.set_option('display.max_columns', None)\n",
    "pd.set_option('display.width', 40000)\n",
    "pd.set_option('display.max_rows', None)\n",
    "\n",
    "# Read the data from the CSV file\n",
    "df_safegraph_spend = pd.read_csv('../SafeGraph_SPEND_Yellowstone_200miRadius.csv.gz')\n",
    "\n",
    "# Print the first 5 rows of the DataFrame\n",
    "print(df_safegraph_spend.head())\n"
   ]
  }
 ],
 "metadata": {
  "kernelspec": {
   "display_name": "eco",
   "language": "python",
   "name": "python3"
  },
  "language_info": {
   "codemirror_mode": {
    "name": "ipython",
    "version": 3
   },
   "file_extension": ".py",
   "mimetype": "text/x-python",
   "name": "python",
   "nbconvert_exporter": "python",
   "pygments_lexer": "ipython3",
   "version": "3.12.1"
  }
 },
 "nbformat": 4,
 "nbformat_minor": 2
}
