{
 "cells": [
  {
   "cell_type": "code",
   "execution_count": 2,
   "metadata": {},
   "outputs": [
    {
     "name": "stdout",
     "output_type": "stream",
     "text": [
      "<class 'pandas.core.frame.DataFrame'>\n",
      "RangeIndex: 250070 entries, 0 to 250069\n",
      "Data columns (total 36 columns):\n",
      " #   Column                                           Non-Null Count   Dtype  \n",
      "---  ------                                           --------------   -----  \n",
      " 0   PLACEKEY                                         250070 non-null  object \n",
      " 1   SAFEGRAPH_BRAND_IDS                              125442 non-null  object \n",
      " 2   BRANDS                                           125442 non-null  object \n",
      " 3   SPEND_DATE_RANGE_START                           250070 non-null  object \n",
      " 4   SPEND_DATE_RANGE_END                             250070 non-null  object \n",
      " 5   RAW_TOTAL_SPEND                                  250070 non-null  float64\n",
      " 6   RAW_NUM_TRANSACTIONS                             250070 non-null  int64  \n",
      " 7   RAW_NUM_CUSTOMERS                                250070 non-null  int64  \n",
      " 8   MEDIAN_SPEND_PER_TRANSACTION                     250070 non-null  float64\n",
      " 9   MEDIAN_SPEND_PER_CUSTOMER                        250070 non-null  float64\n",
      " 10  SPEND_PER_TRANSACTION_PERCENTILES                250070 non-null  object \n",
      " 11  SPEND_BY_DAY                                     250070 non-null  object \n",
      " 12  SPEND_PER_TRANSACTION_BY_DAY                     250070 non-null  object \n",
      " 13  SPEND_BY_DAY_OF_WEEK                             250070 non-null  object \n",
      " 14  DAY_COUNTS                                       250070 non-null  object \n",
      " 15  SPEND_PCT_CHANGE_VS_PREV_MONTH                   220830 non-null  float64\n",
      " 16  SPEND_PCT_CHANGE_VS_PREV_YEAR                    162399 non-null  float64\n",
      " 17  ONLINE_TRANSACTIONS                              250070 non-null  int64  \n",
      " 18  ONLINE_SPEND                                     250070 non-null  float64\n",
      " 19  TRANSACTION_INTERMEDIARY                         250070 non-null  object \n",
      " 20  SPEND_BY_TRANSACTION_INTERMEDIARY                250070 non-null  object \n",
      " 21  BUCKETED_CUSTOMER_FREQUENCY                      250070 non-null  object \n",
      " 22  MEAN_SPEND_PER_CUSTOMER_BY_FREQUENCY             250070 non-null  object \n",
      " 23  BUCKETED_CUSTOMER_INCOMES                        250070 non-null  object \n",
      " 24  MEAN_SPEND_PER_CUSTOMER_BY_INCOME                250070 non-null  object \n",
      " 25  CUSTOMER_HOME_CITY                               250070 non-null  object \n",
      " 26  RELATED_CROSS_SHOPPING_PHYSICAL_BRANDS_PCT       250070 non-null  object \n",
      " 27  RELATED_CROSS_SHOPPING_ONLINE_MERCHANTS_PCT      250070 non-null  object \n",
      " 28  RELATED_CROSS_SHOPPING_SAME_CATEGORY_BRANDS_PCT  250070 non-null  object \n",
      " 29  RELATED_CROSS_SHOPPING_LOCAL_BRANDS_PCT          250070 non-null  object \n",
      " 30  RELATED_WIRELESS_CARRIER_PCT                     250070 non-null  object \n",
      " 31  RELATED_STREAMING_CABLE_PCT                      250070 non-null  object \n",
      " 32  RELATED_DELIVERY_SERVICE_PCT                     250070 non-null  object \n",
      " 33  RELATED_RIDESHARE_SERVICE_PCT                    250070 non-null  object \n",
      " 34  RELATED_BUYNOWPAYLATER_SERVICE_PCT               250070 non-null  object \n",
      " 35  RELATED_PAYMENT_PLATFORM_PCT                     250070 non-null  object \n",
      "dtypes: float64(6), int64(3), object(27)\n",
      "memory usage: 68.7+ MB\n",
      "None\n",
      "              PLACEKEY                        SAFEGRAPH_BRAND_IDS              BRANDS   SPEND_DATE_RANGE_START     SPEND_DATE_RANGE_END  RAW_TOTAL_SPEND  RAW_NUM_TRANSACTIONS  RAW_NUM_CUSTOMERS  MEDIAN_SPEND_PER_TRANSACTION  MEDIAN_SPEND_PER_CUSTOMER SPEND_PER_TRANSACTION_PERCENTILES                                       SPEND_BY_DAY                       SPEND_PER_TRANSACTION_BY_DAY                               SPEND_BY_DAY_OF_WEEK                                         DAY_COUNTS  SPEND_PCT_CHANGE_VS_PREV_MONTH  SPEND_PCT_CHANGE_VS_PREV_YEAR  ONLINE_TRANSACTIONS  ONLINE_SPEND TRANSACTION_INTERMEDIARY SPEND_BY_TRANSACTION_INTERMEDIARY                  BUCKETED_CUSTOMER_FREQUENCY               MEAN_SPEND_PER_CUSTOMER_BY_FREQUENCY                          BUCKETED_CUSTOMER_INCOMES                  MEAN_SPEND_PER_CUSTOMER_BY_INCOME                                 CUSTOMER_HOME_CITY         RELATED_CROSS_SHOPPING_PHYSICAL_BRANDS_PCT        RELATED_CROSS_SHOPPING_ONLINE_MERCHANTS_PCT    RELATED_CROSS_SHOPPING_SAME_CATEGORY_BRANDS_PCT            RELATED_CROSS_SHOPPING_LOCAL_BRANDS_PCT                       RELATED_WIRELESS_CARRIER_PCT                        RELATED_STREAMING_CABLE_PCT                 RELATED_DELIVERY_SERVICE_PCT RELATED_RIDESHARE_SERVICE_PCT RELATED_BUYNOWPAYLATER_SERVICE_PCT RELATED_PAYMENT_PLATFORM_PCT\n",
      "0  222-222@5qp-r9f-p5f  SG_BRAND_651e8ed61dd14af7a20c84019dc47d2b         Quality Inn  2019-02-01 00:00:00.000  2019-03-01 00:00:00.000           272.36                     2                  2                        136.18                     136.18          {\"25\":90.20,\"75\":182.16}  [0.00,0.00,0.00,90.20,0.00,0.00,0.00,0.00,0.00...  [null,null,null,90.20,null,null,null,null,null...  {\"Monday\":90.20,\"Tuesday\":182.16,\"Wednesday\":0...  {\"Wednesday\":4,\"Monday\":4,\"Saturday\":4,\"Thursd...                           -28.0                            NaN                    0           0.0    {\"No intermediary\":2}        {\"No intermediary\":272.36}   {\"1\":2,\"2\":0,\"3\":0,\"4\":0,\"5-10\":0,\">10\":0}  {\"1\":136.18,\"2\":null,\"3\":null,\"4\":null,\"5-10\":...                             {\"25-45k\":2,\">150k\":2}                    {\"25-45k\":182.16,\">150k\":90.20}                {\"Chesterbrook, PA\":2,\"Bill, WY\":2}  {\"Safeway\":100,\"McDonald's\":100,\"IHOP\":50,\"Son...  {\"Amazon\":100,\"Netflix\":100,\"ProBiller\":50,\"Ai...                                 {\"Holiday Inn\":50}      {\"McDonald's\":50,\"Maverik\":50,\"Pizza Hut\":50}                            {\"Verizon Wireless\":50}  {\"Netflix\":100,\"Amazon Prime\":50,\"Youtube Prem...                                           {}                            {}                                 {}                           {}\n",
      "1  zzy-223@5sy-4cy-249                                        NaN                 NaN  2019-02-01 00:00:00.000  2019-03-01 00:00:00.000          1843.54                    75                 21                         18.81                      32.82           {\"25\":11.23,\"75\":33.41}  [108.40,42.98,62.28,99.22,146.04,0.00,33.84,11...  [27.09,42.98,62.28,14.48,36.51,null,16.92,23.5...  {\"Monday\":500.30,\"Tuesday\":477.01,\"Wednesday\":...  {\"Wednesday\":4,\"Monday\":4,\"Saturday\":4,\"Thursd...                            -8.0                            NaN                    0           0.0   {\"No intermediary\":75}       {\"No intermediary\":1843.54}  {\"1\":10,\"2\":4,\"3\":2,\"4\":0,\"5-10\":3,\">10\":2}  {\"1\":17.66,\"2\":56.80,\"3\":105.62,\"4\":null,\"5-10...  {\"<25k\":3,\"25-45k\":2,\"45-60k\":3,\"60-75k\":2,\"75...  {\"<25k\":23.60,\"25-45k\":10.26,\"45-60k\":49.45,\"6...  {\"Acme, WY\":7,\"Dayton, WY\":2,\"Fox, MN\":2,\"Minn...  {\"Walmart\":62,\"Albertsons\":58,\"Common Cents\":4...  {\"Amazon\":48,\"Amazon Digital Services\":43,\"Net...  {\"Albertsons\":58,\"Kwik Shop\":10,\"Rosauers\":5,\"...          {\"United States Postal Service (USPS)\":5}  {\"AT&T\":39,\"Verizon Wireless\":29,\"Google Fi\":5...  {\"Netflix\":39,\"DirecTV\":29,\"Hulu\":24,\"Dish Net...                                           {}                    {\"Uber\":5}                   {\"Affirm.com\":5}                 {\"PayPal\":5}\n",
      "2  zzy-228@5wf-k77-rtv                                        NaN                 NaN  2019-02-01 00:00:00.000  2019-03-01 00:00:00.000          3946.67                    27                 24                         56.65                     102.46          {\"25\":29.86,\"75\":231.71}  [0.00,854.77,0.00,567.47,200.83,0.00,103.00,55...  [null,231.71,null,283.74,29.86,null,51.50,10.3...  {\"Monday\":731.28,\"Tuesday\":200.83,\"Wednesday\":...  {\"Wednesday\":4,\"Monday\":4,\"Saturday\":4,\"Thursd...                           -25.0                            NaN                    0           0.0   {\"No intermediary\":27}       {\"No intermediary\":3946.67}  {\"1\":21,\"2\":3,\"3\":0,\"4\":0,\"5-10\":0,\">10\":0}  {\"1\":139.87,\"2\":336.44,\"3\":null,\"4\":null,\"5-10...  {\"<25k\":2,\"25-45k\":2,\"45-60k\":2,\"60-75k\":2,\"75...  {\"<25k\":534.51,\"25-45k\":20.73,\"45-60k\":30.90,\"...  {\"Smyrna, GA\":2,\"Minneapolis, MN\":2,\"Arlington...  {\"Target\":42,\"Walmart\":38,\"Starbucks\":38,\"Cono...  {\"iTunes\":55,\"Amazon\":42,\"Netflix\":42,\"Target\"...  {\"REI\":9,\"Dick's Sporting Goods\":9,\"Michaels S...            {\"ConocoPhillips\":17,\"Ace Hardware\":13}       {\"Verizon Wireless\":42,\"AT&T\":13,\"Sprint\":5}  {\"Netflix\":42,\"Amazon Prime\":13,\"Hulu\":13,\"Red...  {\"Uber Eats\":13,\"DoorDash\":9,\"Instacart\":5}         {\"Uber\":17,\"Lyft\":17}                                 {}                           {}\n",
      "3  222-222@5sv-zr9-gff  SG_BRAND_974825b578ac6df2330cf472fc2d9e57  Tractor Supply Co.  2019-02-01 00:00:00.000  2019-03-01 00:00:00.000           975.35                    18                 12                         46.89                      44.51           {\"25\":17.99,\"75\":76.94}  [0.00,0.00,52.98,73.12,0.00,0.00,75.93,98.94,0...  [null,null,52.98,36.56,null,null,75.93,49.47,n...  {\"Monday\":233.79,\"Tuesday\":110.93,\"Wednesday\":...  {\"Wednesday\":4,\"Monday\":4,\"Saturday\":4,\"Thursd...                            11.0                            NaN                    0           0.0   {\"No intermediary\":18}        {\"No intermediary\":975.35}   {\"1\":7,\"2\":4,\"3\":1,\"4\":0,\"5-10\":0,\">10\":0}  {\"1\":26.08,\"2\":123.81,\"3\":297.56,\"4\":null,\"5-1...  {\"<25k\":2,\"25-45k\":2,\"45-60k\":5,\"60-75k\":3,\"75...  {\"<25k\":33.73,\"25-45k\":94.97,\"45-60k\":164.01,\"...                                 {\"Danvers, MT\":11}  {\"Albertsons\":75,\"Exxon Mobil\":67,\"ConocoPhill...  {\"Amazon\":34,\"Netflix\":34,\"iTunes\":25,\"Verizon...       {\"Ace Hardware\":50,\"True Value Hardware\":17}  {\"Albertsons\":75,\"Exxon Mobil\":59,\"Ace Hardwar...                  {\"Verizon Wireless\":42,\"AT&T\":34}        {\"Netflix\":34,\"Amazon Prime\":17,\"Redbox\":9}                                           {}                            {}                                 {}                           {}\n",
      "4  222-222@5sx-ypx-66k                                        NaN                 NaN  2019-02-01 00:00:00.000  2019-03-01 00:00:00.000           673.00                    11                  2                         63.00                     336.50          {\"25\":23.00,\"75\":103.00}  [63.00,0.00,0.00,0.00,0.00,23.00,0.00,0.00,0.0...  [63.00,null,null,null,null,23.00,null,null,nul...  {\"Monday\":0.00,\"Tuesday\":255.00,\"Wednesday\":23...  {\"Wednesday\":4,\"Monday\":4,\"Saturday\":4,\"Thursd...                             NaN                            NaN                    0           0.0   {\"No intermediary\":11}        {\"No intermediary\":673.00}   {\"1\":0,\"2\":1,\"3\":0,\"4\":0,\"5-10\":1,\">10\":0}  {\"1\":null,\"2\":226.00,\"3\":null,\"4\":null,\"5-10\":...                            {\"25-45k\":2,\"60-75k\":2}                  {\"25-45k\":447.00,\"60-75k\":226.00}                  {\"Laurel, MT\":2,\"Billings, MT\":2}  {\"Applebee's\":100,\"McDonald's\":100,\"Exxon Mobi...  {\"Snack & Soda\":50,\"Lowe's\":50,\"Adobe Systems\"...                                                 {}            {\"CENEX\":50,\"Slumberland Furniture\":50}                                        {\"AT&T\":50}                                     {\"DirecTV\":50}                                           {}                            {}                                 {}                           {}\n"
     ]
    }
   ],
   "source": [
    "# Load data\n",
    "\n",
    "import os\n",
    "import pandas as pd\n",
    "\n",
    "pd.set_option('display.max_columns', None)\n",
    "pd.set_option('display.width', 40000)\n",
    "pd.set_option('display.max_rows', None)\n",
    "\n",
    "# Read the data from the CSV file\n",
    "df_safegraph_spend = pd.read_csv(os.path.join('..', 'dewey_data_filtered','SafeGraph_SPEND_Yellowstone_200miRadius.csv.gz'))\n",
    "\n",
    "# Print the first 5 rows of the DataFrame\n",
    "print(df_safegraph_spend.info())\n",
    "print(df_safegraph_spend.head())\n"
   ]
  },
  {
   "cell_type": "code",
   "execution_count": 16,
   "metadata": {},
   "outputs": [
    {
     "name": "stdout",
     "output_type": "stream",
     "text": [
      "(before filter) # of rows:  75540\n",
      "(after filter)  # of rows:  26790\n",
      "              PLACEKEY      PARENT_PLACEKEY                                     LOCATION_NAME        SAFEGRAPH_BRAND_IDS   BRANDS  STORE_ID                                       TOP_CATEGORY                               SUB_CATEGORY  NAICS_CODE   LATITUDE   LONGITUDE          STREET_ADDRESS              CITY REGION  POSTAL_CODE ISO_COUNTRY_CODE  PHONE_NUMBER OPEN_HOURS CATEGORY_TAGS OPENED_ON CLOSED_ON TRACKING_CLOSED_SINCE GEOMETRY_TYPE               DOMAINS                      WEBSITE\n",
      "2  222-222@5wf-k54-nt9                  NaN                               Headwall Sports Llc                        NaN      NaN       NaN  Sporting Goods, Hobby, and Musical Instrument ...                      Sporting Goods Stores       45111  45.263333 -111.254519       47875 Gallatin Rd  Gallatin Gateway     MT      59730.0               US           NaN        NaN           NaN       NaN       NaN               2019-07       POLYGON                    []                          NaN\n",
      "3  228-225@5wf-dxp-ch5  223-225@5wf-dxp-ch5                                Private Studio Ink                        NaN      NaN       NaN                             Personal Care Services               Other Personal Care Services      812199  45.776559 -111.177573        23 W Main St Ste          Belgrade     MT      59714.0               US  1.406225e+10        NaN           NaN       NaN       NaN               2019-07       POLYGON                    []                          NaN\n",
      "4  223-225@5sy-bxt-psq                  NaN  Sherri Richardson Coldwell Banker Antlers Realty                        NaN      NaN       NaN          Offices of Real Estate Agents and Brokers  Offices of Real Estate Agents and Brokers      531210  44.521404 -109.071542          802 Canyon Ave              Cody     WY      82414.0               US  1.307588e+10        NaN           NaN       NaN       NaN               2019-07       POLYGON  [\"codyproperty.com\"]  http://www.codyproperty.com\n",
      "7  225-223@5wf-y57-4vz                  NaN                         Madison Memorial Hospital                        NaN      NaN       NaN             General Medical and Surgical Hospitals     General Medical and Surgical Hospitals      622110  43.831802 -111.776270             255 N 3rd E           Rexburg     ID      83440.0               US  1.208360e+10        NaN           NaN       NaN       NaN               2019-07       POLYGON                    []                          NaN\n",
      "9  222-223@5qp-t38-zzz  zzw-222@5qp-t39-54v                                           Compass  SG_BRAND_51a81b34a3a3f332  Compass       NaN          Offices of Real Estate Agents and Brokers  Offices of Real Estate Agents and Brokers      531210  43.266227 -110.777447  14885 Sporting Club Rd           Jackson     WY      83001.0               US  1.307734e+10        NaN           NaN   2021-11       NaN               2021-02       POLYGON       [\"compass.com\"]                          NaN\n",
      "(before filter) # of rows:  250070\n",
      "(after filter)  # of rows:  96013\n",
      "              PLACEKEY                        SAFEGRAPH_BRAND_IDS                 BRANDS SPEND_DATE_RANGE_START SPEND_DATE_RANGE_END  RAW_TOTAL_SPEND  RAW_NUM_TRANSACTIONS  RAW_NUM_CUSTOMERS  MEDIAN_SPEND_PER_TRANSACTION  MEDIAN_SPEND_PER_CUSTOMER SPEND_PER_TRANSACTION_PERCENTILES                                       SPEND_BY_DAY                       SPEND_PER_TRANSACTION_BY_DAY                               SPEND_BY_DAY_OF_WEEK                                         DAY_COUNTS  SPEND_PCT_CHANGE_VS_PREV_MONTH  SPEND_PCT_CHANGE_VS_PREV_YEAR  ONLINE_TRANSACTIONS  ONLINE_SPEND TRANSACTION_INTERMEDIARY SPEND_BY_TRANSACTION_INTERMEDIARY                      BUCKETED_CUSTOMER_FREQUENCY               MEAN_SPEND_PER_CUSTOMER_BY_FREQUENCY                          BUCKETED_CUSTOMER_INCOMES                  MEAN_SPEND_PER_CUSTOMER_BY_INCOME                                 CUSTOMER_HOME_CITY         RELATED_CROSS_SHOPPING_PHYSICAL_BRANDS_PCT        RELATED_CROSS_SHOPPING_ONLINE_MERCHANTS_PCT    RELATED_CROSS_SHOPPING_SAME_CATEGORY_BRANDS_PCT            RELATED_CROSS_SHOPPING_LOCAL_BRANDS_PCT                       RELATED_WIRELESS_CARRIER_PCT                        RELATED_STREAMING_CABLE_PCT                       RELATED_DELIVERY_SERVICE_PCT RELATED_RIDESHARE_SERVICE_PCT           RELATED_BUYNOWPAYLATER_SERVICE_PCT RELATED_PAYMENT_PLATFORM_PCT\n",
      "2  zzy-228@5wf-k77-rtv                                        NaN                    NaN             2019-02-01           2019-03-01          3946.67                    27                 24                         56.65                     102.46          {\"25\":29.86,\"75\":231.71}  [0.00,854.77,0.00,567.47,200.83,0.00,103.00,55...  [null,231.71,null,283.74,29.86,null,51.50,10.3...  {\"Monday\":731.28,\"Tuesday\":200.83,\"Wednesday\":...  {\"Wednesday\":4,\"Monday\":4,\"Saturday\":4,\"Thursd...                           -25.0                            NaN                    0          0.00   {\"No intermediary\":27}       {\"No intermediary\":3946.67}      {\"1\":21,\"2\":3,\"3\":0,\"4\":0,\"5-10\":0,\">10\":0}  {\"1\":139.87,\"2\":336.44,\"3\":null,\"4\":null,\"5-10...  {\"<25k\":2,\"25-45k\":2,\"45-60k\":2,\"60-75k\":2,\"75...  {\"<25k\":534.51,\"25-45k\":20.73,\"45-60k\":30.90,\"...  {\"Smyrna, GA\":2,\"Minneapolis, MN\":2,\"Arlington...  {\"Target\":42,\"Walmart\":38,\"Starbucks\":38,\"Cono...  {\"iTunes\":55,\"Amazon\":42,\"Netflix\":42,\"Target\"...  {\"REI\":9,\"Dick's Sporting Goods\":9,\"Michaels S...            {\"ConocoPhillips\":17,\"Ace Hardware\":13}       {\"Verizon Wireless\":42,\"AT&T\":13,\"Sprint\":5}  {\"Netflix\":42,\"Amazon Prime\":13,\"Hulu\":13,\"Red...        {\"Uber Eats\":13,\"DoorDash\":9,\"Instacart\":5}         {\"Uber\":17,\"Lyft\":17}                                           {}                           {}\n",
      "6  222-223@5wf-d6p-8gk  SG_BRAND_942c238b1dddf5d40a05dbad6851b58b             Albertsons             2019-02-01           2019-03-01         34758.26                   712                195                         32.16                      73.44           {\"25\":17.81,\"75\":61.96}  [2663.11,586.49,59.43,2807.04,772.41,800.86,92...  [29.44,36.84,15.08,29.24,32.15,37.89,35.03,24....  {\"Monday\":9398.52,\"Tuesday\":6170.23,\"Wednesday...  {\"Wednesday\":4,\"Monday\":4,\"Saturday\":4,\"Thursd...                            -7.0                            NaN                    4        341.41  {\"No intermediary\":712}      {\"No intermediary\":34758.26}  {\"1\":82,\"2\":34,\"3\":18,\"4\":9,\"5-10\":35,\">10\":17}  {\"1\":43.06,\"2\":103.60,\"3\":171.42,\"4\":195.01,\"5...  {\"<25k\":10,\"25-45k\":35,\"45-60k\":14,\"60-75k\":18...  {\"<25k\":62.21,\"25-45k\":142.43,\"45-60k\":115.42,...  {\"Emigrant, MT\":99,\"Bozeman, MT\":16,\"Billings,...  {\"ConocoPhillips\":58,\"Exxon Mobil\":56,\"McDonal...  {\"Amazon\":47,\"iTunes\":45,\"Netflix\":42,\"Amazon ...  {\"Safeway\":10,\"7-Eleven\":8,\"Smith's Food & Dru...  {\"McDonald's\":30,\"Murdoch's Ranch & Home Suppl...  {\"Verizon Wireless\":46,\"AT&T\":19,\"Straight Tal...  {\"Netflix\":42,\"Hulu\":17,\"Amazon Prime\":14,\"Red...  {\"HelloFresh\":3,\"DoorDash\":1,\"Grubhub\":1,\"Inst...           {\"Uber\":6,\"Lyft\":6}  {\"Zip Company\":1,\"Affirm.com\":1,\"Sezzle\":1}                 {\"PayPal\":3}\n",
      "7  222-222@5wf-f8d-9j9                                        NaN                    NaN             2019-02-01           2019-03-01          1967.26                    55                 51                         26.00                      28.00           {\"25\":15.00,\"75\":47.40}  [162.40,0.00,0.00,486.40,14.00,28.00,14.40,14....  [26.00,null,null,30.00,14.00,28.00,14.40,14.95...  {\"Monday\":934.51,\"Tuesday\":212.30,\"Wednesday\":...  {\"Wednesday\":4,\"Monday\":4,\"Saturday\":4,\"Thursd...                            39.0                            NaN                    0          0.00   {\"No intermediary\":55}       {\"No intermediary\":1967.26}      {\"1\":48,\"2\":2,\"3\":1,\"4\":0,\"5-10\":0,\">10\":0}  {\"1\":33.10,\"2\":33.13,\"3\":312.00,\"4\":null,\"5-10...  {\"<25k\":7,\"25-45k\":12,\"45-60k\":6,\"60-75k\":2,\"7...  {\"<25k\":23.00,\"25-45k\":31.78,\"45-60k\":53.72,\"6...  {\"Bozeman, MT\":30,\"San Antonio, TX\":3,\"Hauser,...  {\"Costco\":55,\"ConocoPhillips\":53,\"Walmart\":46,...  {\"iTunes\":50,\"Amazon Marketplace\":40,\"Amazon\":...  {\"McDonald's\":30,\"Domino's Pizza\":24,\"Jimmy Jo...  {\"Walmart\":34,\"Safeway\":26,\"McDonald's\":16,\"Do...  {\"Verizon Wireless\":28,\"AT&T\":14,\"T-Mobile\":4,...  {\"Netflix\":22,\"Hulu\":20,\"Amazon Prime\":10,\"Dir...         {\"Uber Eats\":6,\"Postmates\":4,\"DoorDash\":2}          {\"Uber\":16,\"Lyft\":2}                                           {}                           {}\n",
      "8  222-222@5wf-fdf-xt9                  SG_BRAND_259944bbd180417d  Sportsman's Warehouse             2019-02-01           2019-03-01          9002.47                   154                116                         29.99                      35.95           {\"25\":12.62,\"75\":59.00}  [208.93,0.00,0.00,478.79,679.95,111.56,17.36,1...  [31.98,null,null,12.44,149.99,17.99,17.36,11.9...  {\"Monday\":1347.73,\"Tuesday\":2216.93,\"Wednesday...  {\"Wednesday\":4,\"Monday\":4,\"Saturday\":4,\"Thursd...                            -9.0                            NaN                    0          0.00  {\"No intermediary\":154}       {\"No intermediary\":9002.47}     {\"1\":91,\"2\":18,\"3\":4,\"4\":0,\"5-10\":3,\">10\":0}  {\"1\":62.00,\"2\":101.91,\"3\":269.29,\"4\":null,\"5-1...  {\"<25k\":11,\"25-45k\":21,\"45-60k\":13,\"60-75k\":11...  {\"<25k\":51.28,\"25-45k\":37.42,\"45-60k\":76.46,\"6...  {\"Bozeman, MT\":50,\"Belgrade, MT\":11,\"Big Sky, ...  {\"Walmart\":61,\"ConocoPhillips\":60,\"Exxon Mobil...  {\"Amazon\":44,\"iTunes\":44,\"Netflix\":41,\"Amazon ...  {\"Michaels Stores\":11,\"REI\":10,\"Cabela's\":6,\"S...  {\"Costco\":39,\"Target\":32,\"Smith's Food & Drug ...  {\"Verizon Wireless\":43,\"AT&T\":13,\"Straight Tal...  {\"Netflix\":41,\"Amazon Prime\":21,\"Hulu\":20,\"Red...        {\"Uber Eats\":8,\"DoorDash\":3,\"HelloFresh\":1}           {\"Uber\":9,\"Lyft\":3}                                           {}       {\"PayPal\":3,\"Venmo\":1}\n",
      "9  222-222@5wf-fdm-k4v  SG_BRAND_43bdfa786f5809e475a7382797eae3fd                Super 8             2019-02-01           2019-03-01           773.24                     8                  7                         76.89                      76.89          {\"25\":57.36,\"75\":118.33}  [0.00,0.00,0.00,53.35,0.00,131.30,0.00,0.00,0....  [null,null,null,53.35,null,131.30,null,null,nu...  {\"Monday\":292.43,\"Tuesday\":0.00,\"Wednesday\":28...  {\"Wednesday\":4,\"Monday\":4,\"Saturday\":4,\"Thursd...                           -39.0                            NaN                    0          0.00    {\"No intermediary\":8}        {\"No intermediary\":773.24}       {\"1\":6,\"2\":1,\"3\":0,\"4\":0,\"5-10\":0,\">10\":0}  {\"1\":67.14,\"2\":370.38,\"3\":null,\"4\":null,\"5-10\"...       {\"<25k\":2,\"25-45k\":2,\"100-150k\":3,\">150k\":2}  {\"<25k\":213.47,\"25-45k\":79.40,\"100-150k\":69.04...  {\"Bier, MD\":2,\"Eustis, MT\":2,\"Kalispell, MT\":2...  {\"ConocoPhillips\":72,\"Walmart\":58,\"Albertsons\"...  {\"iTunes\":58,\"Netflix\":43,\"Amazon\":29,\"Chewy\":...                        {\"Baymont Inn & Suites\":15}  {\"Albertsons\":29,\"Taco Bell\":29,\"NAPA Auto Par...                     {\"Straight Talk\":29,\"AT&T\":15}  {\"Netflix\":43,\"Redbox\":29,\"DirecTV\":15,\"Amazon...                                                 {}                   {\"Lyft\":15}                                           {}                           {}\n"
     ]
    }
   ],
   "source": [
    "# Filter by Location\n",
    "\n",
    "# Create a geojson file using this online tool: https://geojson.io/#map=6.57/43.031/-108.404\n",
    "\n",
    "import geopandas as gpd\n",
    "\n",
    "filter_region = gpd.read_file(os.path.join('..', 'map','Yellowstone_100mi_Radius.geojson')) # Put your new location geojson file here\n",
    "\n",
    "# The following code does a 2-step filtering process: 1) filter the POI down, 2) filter the SPEND data\n",
    "\n",
    "# 1 - Filter POI within the filter_region\n",
    "df_safegraph_poi = pd.read_csv(os.path.join('..', 'dewey_data_filtered','SafeGraph_POI_Yellowstone_200miRadius.csv.gz'))\n",
    "\n",
    "print('(before filter) # of rows: ', len(df_safegraph_poi))\n",
    "\n",
    "if 'LONGITUDE' in df_safegraph_poi.columns and 'LATITUDE' in df_safegraph_poi.columns:\n",
    "    points = gpd.points_from_xy(df_safegraph_poi['LONGITUDE'], df_safegraph_poi['LATITUDE'])\n",
    "    mask = points.within(filter_region.geometry.iloc[0])  # Assuming filter_region has only one polygon\n",
    "    df_safegraph_poi_filtered = df_safegraph_poi[mask]\n",
    "else:\n",
    "    print(\"Error: DataFrame does not contain 'LONGITUDE' and/or 'LATITUDE' columns.\")\n",
    "\n",
    "print('(after filter)  # of rows: ', len(df_safegraph_poi_filtered))\n",
    "print(df_safegraph_poi_filtered.head())\n",
    "\n",
    "# 2 - Filter SPEND data by matching the PLACEKEY with the filtered POI\n",
    "print('(before filter) # of rows: ', len(df_safegraph_spend))\n",
    "\n",
    "if 'PLACEKEY' in df_safegraph_spend.columns:\n",
    "    df_filtered = df_safegraph_spend[df_safegraph_spend['PLACEKEY'].isin(df_safegraph_poi_filtered['PLACEKEY'])]\n",
    "else:\n",
    "    print(\"Error: DataFrame does not contain 'PLACEKEY' column.\")\n",
    "\n",
    "print('(after filter)  # of rows: ', len(df_filtered))\n",
    "print(df_filtered.head())\n"
   ]
  },
  {
   "cell_type": "code",
   "execution_count": 17,
   "metadata": {},
   "outputs": [
    {
     "name": "stdout",
     "output_type": "stream",
     "text": [
      "(before filter) # of rows:  96013\n",
      "(after filter) # of rows:  7485\n",
      "                  PLACEKEY       SAFEGRAPH_BRAND_IDS            BRANDS SPEND_DATE_RANGE_START SPEND_DATE_RANGE_END  RAW_TOTAL_SPEND  RAW_NUM_TRANSACTIONS  RAW_NUM_CUSTOMERS  MEDIAN_SPEND_PER_TRANSACTION  MEDIAN_SPEND_PER_CUSTOMER SPEND_PER_TRANSACTION_PERCENTILES                                       SPEND_BY_DAY                       SPEND_PER_TRANSACTION_BY_DAY                               SPEND_BY_DAY_OF_WEEK                                         DAY_COUNTS  SPEND_PCT_CHANGE_VS_PREV_MONTH  SPEND_PCT_CHANGE_VS_PREV_YEAR  ONLINE_TRANSACTIONS  ONLINE_SPEND TRANSACTION_INTERMEDIARY SPEND_BY_TRANSACTION_INTERMEDIARY                  BUCKETED_CUSTOMER_FREQUENCY               MEAN_SPEND_PER_CUSTOMER_BY_FREQUENCY                          BUCKETED_CUSTOMER_INCOMES                  MEAN_SPEND_PER_CUSTOMER_BY_INCOME                                 CUSTOMER_HOME_CITY         RELATED_CROSS_SHOPPING_PHYSICAL_BRANDS_PCT        RELATED_CROSS_SHOPPING_ONLINE_MERCHANTS_PCT    RELATED_CROSS_SHOPPING_SAME_CATEGORY_BRANDS_PCT            RELATED_CROSS_SHOPPING_LOCAL_BRANDS_PCT                       RELATED_WIRELESS_CARRIER_PCT                        RELATED_STREAMING_CABLE_PCT   RELATED_DELIVERY_SERVICE_PCT RELATED_RIDESHARE_SERVICE_PCT RELATED_BUYNOWPAYLATER_SERVICE_PCT RELATED_PAYMENT_PLATFORM_PCT\n",
      "44480  22f-222@5sx-yqp-d35                       NaN               NaN             2020-01-01           2020-02-01           812.00                    30                 27                         22.23                      31.93           {\"25\":14.94,\"75\":36.91}  [0.00,82.26,36.16,0.00,0.00,44.91,0.00,60.91,0...  [null,20.42,36.16,null,null,10.99,null,30.46,n...  {\"Monday\":219.39,\"Tuesday\":124.76,\"Wednesday\":...  {\"Wednesday\":5,\"Monday\":4,\"Saturday\":4,\"Thursd...                           -41.0                           18.0                    0           0.0   {\"No intermediary\":30}        {\"No intermediary\":812.00}  {\"1\":24,\"2\":3,\"3\":0,\"4\":0,\"5-10\":0,\">10\":0}  {\"1\":28.48,\"2\":42.82,\"3\":null,\"4\":null,\"5-10\":...  {\"<25k\":2,\"25-45k\":5,\"45-60k\":2,\"60-75k\":3,\"75...  {\"<25k\":24.89,\"25-45k\":22.98,\"45-60k\":39.04,\"6...  {\"Billings, MT\":18,\"Helena, MT\":3,\"Saint Paul,...  {\"Albertsons\":93,\"Walmart\":89,\"Target\":60,\"Hol...  {\"Amazon\":56,\"Apple\":56,\"Amazon Marketplace\":4...  {\"McDonald's\":45,\"Wendy's\":41,\"Taco John's\":34...  {\"CENEX\":34,\"McDonald's\":26,\"Jimmy John's\":19,...  {\"Verizon Wireless\":41,\"AT&T\":8,\"Google Fi\":4,...  {\"Hulu\":38,\"Netflix\":34,\"Redbox\":15,\"Disney Pl...   {\"Uber Eats\":8,\"DoorDash\":4}          {\"Uber\":12,\"Lyft\":8}     {\"Affirm.com\":12,\"Afterpay\":4}                           {}\n",
      "44481  zzw-222@5wg-h6c-6rk                       NaN               NaN             2020-01-01           2020-02-01          1797.54                    24                 13                         23.58                      72.08           {\"25\":15.37,\"75\":58.29}  [0.00,0.00,1058.71,0.00,0.00,0.00,211.94,20.09...  [null,null,21.19,null,null,null,52.98,20.09,nu...  {\"Monday\":186.77,\"Tuesday\":211.94,\"Wednesday\":...  {\"Wednesday\":5,\"Monday\":4,\"Saturday\":4,\"Thursd...                            28.0                            4.0                    0           0.0   {\"No intermediary\":24}       {\"No intermediary\":1797.54}   {\"1\":9,\"2\":1,\"3\":1,\"4\":1,\"5-10\":1,\">10\":0}  {\"1\":46.71,\"2\":1046.01,\"3\":147.27,\"4\":80.03,\"5...       {\"<25k\":2,\"25-45k\":2,\"100-150k\":2,\">150k\":3}  {\"<25k\":90.07,\"25-45k\":25.96,\"100-150k\":51.55,...  {\"Saint Paul, MN\":2,\"Raleigh, NC\":2,\"Yonkers, ...  {\"Starbucks\":47,\"Walmart\":39,\"Safeway\":39,\"Cos...  {\"Amazon\":39,\"Experian\":31,\"Apple\":31,\"Sirius ...                                                 {}                                                 {}  {\"Verizon Wireless\":24,\"AT&T\":24,\"Straight Tal...            {\"Hulu\":16,\"Netflix\":8,\"Disney Plus\":8}                             {}                    {\"Lyft\":8}                                 {}                           {}\n",
      "44482  zzw-223@5wg-425-4n5                       NaN               NaN             2020-01-01           2020-02-01           655.46                    22                 18                         32.16                      32.16           {\"25\":19.00,\"75\":35.09}  [0.00,0.00,29.48,0.00,0.00,48.75,34.16,0.00,0....  [null,null,29.48,null,null,48.75,34.16,null,nu...  {\"Monday\":184.28,\"Tuesday\":208.87,\"Wednesday\":...  {\"Wednesday\":5,\"Monday\":4,\"Saturday\":4,\"Thursd...                            52.0                           79.0                    0           0.0   {\"No intermediary\":22}        {\"No intermediary\":655.46}  {\"1\":16,\"2\":0,\"3\":2,\"4\":0,\"5-10\":0,\">10\":0}  {\"1\":28.70,\"2\":null,\"3\":98.16,\"4\":null,\"5-10\":...  {\"<25k\":2,\"25-45k\":2,\"45-60k\":5,\"60-75k\":7,\"75...  {\"<25k\":63.88,\"25-45k\":52.18,\"45-60k\":102.48,\"...  {\"Idaho Falls, ID\":6,\"Salt Lake City, UT\":2,\"C...  {\"Walmart\":95,\"Albertsons\":67,\"Fred Meyer\":56,...  {\"Netflix\":56,\"Amazon\":50,\"Amazon Marketplace\"...  {\"Taco Bell\":50,\"Carl's Jr.\":45,\"McDonald's\":4...  {\"Taco Bell\":45,\"Panera Bread\":34,\"Sam's Club\"...  {\"Verizon Wireless\":45,\"T-Mobile\":12,\"Sprint\":...  {\"Netflix\":56,\"Disney Plus\":45,\"Dish Network\":...                {\"DoorDash\":12}                            {}                     {\"Afterpay\":6}                {\"PayPal\":12}\n",
      "44483  zzw-227@5ws-mrj-st9                       NaN               NaN             2020-01-01           2020-02-01           325.56                    25                 18                         12.94                      15.48            {\"25\":6.47,\"75\":16.11}  [0.00,19.41,25.88,0.00,0.00,0.00,0.00,22.76,15...  [null,9.71,12.94,null,null,null,null,22.76,15....  {\"Monday\":34.00,\"Tuesday\":30.96,\"Wednesday\":11...  {\"Wednesday\":5,\"Monday\":4,\"Saturday\":4,\"Thursd...                             8.0                          125.0                    0           0.0   {\"No intermediary\":25}        {\"No intermediary\":325.56}  {\"1\":13,\"2\":3,\"3\":2,\"4\":0,\"5-10\":0,\">10\":0}  {\"1\":15.09,\"2\":22.99,\"3\":30.22,\"4\":null,\"5-10\"...  {\"25-45k\":2,\"45-60k\":2,\"60-75k\":2,\"75-100k\":4,...  {\"25-45k\":6.47,\"45-60k\":19.41,\"60-75k\":28.02,\"...  {\"Logan, UT\":3,\"Springfield, VA\":2,\"Salt Lake ...  {\"Walmart\":89,\"McDonald's\":89,\"Smith's Food & ...  {\"Amazon\":50,\"Comcast\":45,\"Apple\":39,\"Netflix\"...  {\"McDonald's\":89,\"Taco Bell\":50,\"Burger King\":...  {\"Walmart\":73,\"Taco Bell\":39,\"Smith's Food & D...  {\"Verizon Wireless\":28,\"T-Mobile\":12,\"Disney M...  {\"Netflix\":39,\"Hulu\":34,\"Youtube\":6,\"Funimatio...  {\"DoorDash\":23,\"Uber Eats\":6}                   {\"Uber\":23}      {\"Affirm.com\":6,\"Afterpay\":6}                           {}\n",
      "44484  zzw-229@5sx-yqj-cwk  SG_BRAND_170e453703d1388  Shoe Dept Encore             2020-01-01           2020-02-01           583.73                    14                 12                         34.98                      42.47           {\"25\":24.53,\"75\":58.74}  [0.00,0.00,0.00,0.00,44.97,142.88,0.00,69.98,5...  [null,null,null,null,44.97,24.97,null,69.98,54...  {\"Monday\":177.87,\"Tuesday\":29.98,\"Wednesday\":6...  {\"Wednesday\":5,\"Monday\":4,\"Saturday\":4,\"Thursd...                           -52.0                           10.0                    0           0.0   {\"No intermediary\":14}        {\"No intermediary\":583.73}  {\"1\":11,\"2\":0,\"3\":1,\"4\":0,\"5-10\":0,\">10\":0}  {\"1\":47.35,\"2\":null,\"3\":62.90,\"4\":null,\"5-10\":...  {\"<25k\":2,\"25-45k\":2,\"45-60k\":2,\"75-100k\":2,\"1...  {\"<25k\":29.98,\"25-45k\":57.48,\"45-60k\":94.97,\"7...  {\"Billings, MT\":4,\"Memphis, TN\":3,\"Greybull, W...  {\"McDonald's\":84,\"Albertsons\":75,\"Walmart\":67,...  {\"Amazon\":67,\"Netflix\":42,\"Hulu\":34,\"Amazon Ma...           {\"Shoe Carnival\":17,\"Tradehome Shoes\":9}  {\"McDonald's\":59,\"Albertsons\":50,\"Costco\":42,\"...  {\"Verizon Wireless\":42,\"AT&T\":25,\"T-Mobile\":9,...                           {\"Netflix\":42,\"Hulu\":34}                 {\"DoorDash\":9}                    {\"Uber\":9}                                 {}                           {}\n"
     ]
    }
   ],
   "source": [
    "# Filter by Dates\n",
    "\n",
    "print('(before filter) # of rows: ', len(df_filtered))\n",
    "\n",
    "datetime_start = pd.to_datetime('2020-01-01')\n",
    "datetime_end = pd.to_datetime('2020-03-01')\n",
    "\n",
    "df_safegraph_spend['SPEND_DATE_RANGE_START'] = pd.to_datetime(df_safegraph_spend['SPEND_DATE_RANGE_START'])\n",
    "df_safegraph_spend['SPEND_DATE_RANGE_END'] = pd.to_datetime(df_safegraph_spend['SPEND_DATE_RANGE_END'])\n",
    "\n",
    "df_filtered = df_safegraph_spend[(df_safegraph_spend['SPEND_DATE_RANGE_START'] >= datetime_start) &\n",
    "                                 (df_safegraph_spend['SPEND_DATE_RANGE_END'] <= datetime_end)]\n",
    "\n",
    "print('(after filter) # of rows: ', len(df_filtered))\n",
    "print(df_filtered.head())\n"
   ]
  }
 ],
 "metadata": {
  "kernelspec": {
   "display_name": "eco",
   "language": "python",
   "name": "python3"
  },
  "language_info": {
   "codemirror_mode": {
    "name": "ipython",
    "version": 3
   },
   "file_extension": ".py",
   "mimetype": "text/x-python",
   "name": "python",
   "nbconvert_exporter": "python",
   "pygments_lexer": "ipython3",
   "version": "3.12.1"
  }
 },
 "nbformat": 4,
 "nbformat_minor": 2
}
