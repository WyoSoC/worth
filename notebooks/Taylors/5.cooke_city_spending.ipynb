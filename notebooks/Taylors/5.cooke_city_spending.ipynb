{
 "cells": [
  {
   "cell_type": "code",
   "execution_count": 1,
   "metadata": {},
   "outputs": [],
   "source": [
    "# Load data\n",
    "\n",
    "import os\n",
    "import pandas as pd\n",
    "\n",
    "pd.set_option('display.max_columns', None)\n",
    "pd.set_option('display.width', 40000)\n",
    "pd.set_option('display.max_rows', None)\n",
    "\n",
    "# Read the data from the CSV file\n",
    "df_safegraph_spend = pd.read_csv(os.path.join('..', 'dewey_data_filtered','SafeGraph_SPEND_Yellowstone_200miRadius.csv.gz'))\n",
    "\n",
    "# Print the first 5 rows of the DataFrame\n",
    "# print(df_safegraph_spend.info())\n",
    "# print(df_safegraph_spend.head())\n"
   ]
  },
  {
   "cell_type": "code",
   "execution_count": 2,
   "metadata": {},
   "outputs": [],
   "source": [
    "# Filter by Geographic Region\n",
    "\n",
    "# Create a geojson file using this online tool: https://geojson.io/#map=6.57/43.031/-108.404\n",
    "\n",
    "import geopandas as gpd\n",
    "\n",
    "filter_region = gpd.read_file(os.path.join('..', 'map','Cooke_City.geojson')) # Put your new location geojson file here\n",
    "\n",
    "# The following code does a 2-step filtering process: 1) filter the POI down to be within the region, 2) use the POI set to filter the SPEND data\n",
    "\n",
    "# 1 - Filter POI within the filter_region\n",
    "df_safegraph_poi = pd.read_csv(os.path.join('..', 'dewey_data_filtered','SafeGraph_POI_Yellowstone_200miRadius.csv.gz'))\n",
    "\n",
    "# print('(before filter) # of rows: ', len(df_safegraph_poi))\n",
    "\n",
    "if 'LONGITUDE' in df_safegraph_poi.columns and 'LATITUDE' in df_safegraph_poi.columns:\n",
    "    points = gpd.points_from_xy(df_safegraph_poi['LONGITUDE'], df_safegraph_poi['LATITUDE'])\n",
    "    mask = points.within(filter_region.geometry.iloc[0])  # Assuming filter_region has only one polygon\n",
    "    df_safegraph_poi_filtered = df_safegraph_poi[mask]\n",
    "else:\n",
    "    print(\"Error: DataFrame does not contain 'LONGITUDE' and/or 'LATITUDE' columns.\")\n",
    "\n",
    "# print('(after filter)  # of rows: ', len(df_safegraph_poi_filtered))\n",
    "# print(df_safegraph_poi_filtered.head())\n",
    "\n",
    "# 2 - Filter SPEND data by matching the PLACEKEY with the filtered POI\n",
    "# print('(before filter) # of rows: ', len(df_safegraph_spend))\n",
    "\n",
    "if 'PLACEKEY' in df_safegraph_spend.columns:\n",
    "    df_filtered = df_safegraph_spend[df_safegraph_spend['PLACEKEY'].isin(df_safegraph_poi_filtered['PLACEKEY'])]\n",
    "else:\n",
    "    print(\"Error: DataFrame does not contain 'PLACEKEY' column.\")\n",
    "\n",
    "# print('(after filter)  # of rows: ', len(df_filtered))\n",
    "# print(df_filtered.head())\n"
   ]
  },
  {
   "cell_type": "code",
   "execution_count": 3,
   "metadata": {},
   "outputs": [
    {
     "name": "stdout",
     "output_type": "stream",
     "text": [
      "                  PLACEKEY                        SAFEGRAPH_BRAND_IDS       BRANDS   SPEND_DATE_RANGE_START     SPEND_DATE_RANGE_END  RAW_TOTAL_SPEND  RAW_NUM_TRANSACTIONS  RAW_NUM_CUSTOMERS  MEDIAN_SPEND_PER_TRANSACTION  MEDIAN_SPEND_PER_CUSTOMER SPEND_PER_TRANSACTION_PERCENTILES                                       SPEND_BY_DAY                       SPEND_PER_TRANSACTION_BY_DAY                               SPEND_BY_DAY_OF_WEEK                                         DAY_COUNTS  SPEND_PCT_CHANGE_VS_PREV_MONTH  SPEND_PCT_CHANGE_VS_PREV_YEAR  ONLINE_TRANSACTIONS  ONLINE_SPEND TRANSACTION_INTERMEDIARY SPEND_BY_TRANSACTION_INTERMEDIARY                  BUCKETED_CUSTOMER_FREQUENCY               MEAN_SPEND_PER_CUSTOMER_BY_FREQUENCY                          BUCKETED_CUSTOMER_INCOMES                  MEAN_SPEND_PER_CUSTOMER_BY_INCOME                                 CUSTOMER_HOME_CITY         RELATED_CROSS_SHOPPING_PHYSICAL_BRANDS_PCT        RELATED_CROSS_SHOPPING_ONLINE_MERCHANTS_PCT    RELATED_CROSS_SHOPPING_SAME_CATEGORY_BRANDS_PCT RELATED_CROSS_SHOPPING_LOCAL_BRANDS_PCT                       RELATED_WIRELESS_CARRIER_PCT                        RELATED_STREAMING_CABLE_PCT RELATED_DELIVERY_SERVICE_PCT RELATED_RIDESHARE_SERVICE_PCT RELATED_BUYNOWPAYLATER_SERVICE_PCT RELATED_PAYMENT_PLATFORM_PCT\n",
      "14742  223-222@5sy-d6f-rzf  SG_BRAND_a144a8c10e1fe8006125571afd1a1e80  Exxon Mobil  2019-05-01 00:00:00.000  2019-06-01 00:00:00.000           876.25                    27                 26                         31.64                      31.64           {\"25\":17.61,\"75\":41.34}  [0.00,0.00,0.00,0.00,0.00,62.38,0.00,28.42,29....  [null,null,null,null,null,6.80,null,28.42,29.0...  {\"Monday\":280.09,\"Tuesday\":206.60,\"Wednesday\":...  {\"Wednesday\":5,\"Monday\":4,\"Saturday\":4,\"Thursd...                            68.0                            NaN                    0           0.0   {\"No intermediary\":27}        {\"No intermediary\":876.25}  {\"1\":25,\"2\":1,\"3\":0,\"4\":0,\"5-10\":0,\">10\":0}  {\"1\":32.75,\"2\":57.38,\"3\":null,\"4\":null,\"5-10\":...  {\"<25k\":2,\"25-45k\":2,\"45-60k\":2,\"60-75k\":2,\"75...  {\"<25k\":30.70,\"25-45k\":32.87,\"45-60k\":40.81,\"6...  {\"Evanston, IL\":5,\"Centennial, CO\":3,\"Yuma, AZ...  {\"ConocoPhillips\":62,\"Walmart\":58,\"Shell Oil\":...  {\"Amazon\":62,\"iTunes\":47,\"Amazon Prime\":31,\"Am...  {\"ConocoPhillips\":62,\"Shell Oil\":58,\"Chevron\":...                           {\"Super 8\":4}  {\"AT&T\":27,\"Verizon Wireless\":20,\"Sprint\":4,\"T...  {\"Amazon Prime\":31,\"Netflix\":20,\"Dish Network\"...              {\"Uber Eats\":4}         {\"Uber\":20,\"Lyft\":16}                                 {}                           {}\n",
      "16012  zzw-222@5sy-d6f-f2k                                        NaN          NaN  2019-05-01 00:00:00.000  2019-06-01 00:00:00.000           302.00                     7                  7                         19.50                      19.50           {\"25\":12.00,\"75\":44.00}  [0.00,0.00,0.00,0.00,0.00,0.00,0.00,0.00,0.00,...  [null,null,null,null,null,null,null,null,null,...  {\"Monday\":49.40,\"Tuesday\":175.00,\"Wednesday\":3...  {\"Wednesday\":5,\"Monday\":4,\"Saturday\":4,\"Thursd...                           163.0                            NaN                    0           0.0    {\"No intermediary\":7}        {\"No intermediary\":302.00}   {\"1\":7,\"2\":0,\"3\":0,\"4\":0,\"5-10\":0,\">10\":0}  {\"1\":43.14,\"2\":null,\"3\":null,\"4\":null,\"5-10\":n...         {\"<25k\":3,\"25-45k\":2,\"45-60k\":2,\">150k\":3}  {\"<25k\":14.75,\"25-45k\":12.00,\"45-60k\":17.90,\">...  {\"Centennial, CO\":2,\"Gilbert, AZ\":2,\"Pall Mall...  {\"Walmart\":58,\"Starbucks\":58,\"ConocoPhillips\":...  {\"Amazon\":43,\"iTunes\":43,\"Netflix\":29,\"Audible...  {\"Starbucks\":58,\"McDonald's\":43,\"Pei Wei Asian...                      {\"Exxon Mobil\":15}                            {\"Verizon Wireless\":29}                   {\"Netflix\":29,\"Amazon Prime\":15}                           {}                   {\"Uber\":15}                                 {}                           {}\n",
      "16397  223-222@5sy-d6g-ks5                                        NaN          NaN  2019-05-01 00:00:00.000  2019-06-01 00:00:00.000           656.90                    14                 13                         46.10                      51.00           {\"25\":36.50,\"75\":57.78}  [0.00,41.00,0.00,0.00,0.00,0.00,0.00,0.00,0.00...  [null,41.00,null,null,null,null,null,null,null...  {\"Monday\":100.10,\"Tuesday\":97.80,\"Wednesday\":1...  {\"Wednesday\":5,\"Monday\":4,\"Saturday\":4,\"Thursd...                             NaN                            NaN                    0           0.0   {\"No intermediary\":14}        {\"No intermediary\":656.90}  {\"1\":12,\"2\":1,\"3\":0,\"4\":0,\"5-10\":0,\">10\":0}  {\"1\":47.34,\"2\":88.80,\"3\":null,\"4\":null,\"5-10\":...  {\"25-45k\":2,\"45-60k\":2,\"75-100k\":2,\"100-150k\":...  {\"25-45k\":46.05,\"45-60k\":45.67,\"75-100k\":26.00...  {\"Manchester, CT\":2,\"Pittsburgh, PA\":2,\"Gladst...  {\"McDonald's\":77,\"Walmart\":70,\"Taco Bell\":62,\"...  {\"Amazon\":70,\"Amazon Marketplace\":62,\"iTunes\":...  {\"McDonald's\":77,\"Taco Bell\":62,\"Starbucks\":47...                                      {}     {\"Verizon Wireless\":54,\"AT&T\":16,\"T-Mobile\":8}  {\"Netflix\":39,\"Redbox\":16,\"Time Warner Cable\":...                           {}          {\"Uber\":16,\"Lyft\":8}                                 {}                 {\"PayPal\":8}\n",
      "16446  223-222@5sy-d6f-nnq                                        NaN          NaN  2019-05-01 00:00:00.000  2019-06-01 00:00:00.000           544.04                    10                  9                         29.05                      27.10           {\"25\":26.08,\"75\":70.70}  [0.00,0.00,0.00,15.00,0.00,0.00,0.00,26.57,0.0...  [null,null,null,15.00,null,null,null,26.57,nul...  {\"Monday\":41.74,\"Tuesday\":0.00,\"Wednesday\":57....  {\"Wednesday\":5,\"Monday\":4,\"Saturday\":4,\"Thursd...                            50.0                            NaN                    0           0.0   {\"No intermediary\":10}        {\"No intermediary\":544.04}   {\"1\":8,\"2\":1,\"3\":0,\"4\":0,\"5-10\":0,\">10\":0}  {\"1\":29.51,\"2\":308.00,\"3\":null,\"4\":null,\"5-10\"...  {\"<25k\":2,\"25-45k\":3,\"45-60k\":2,\"60-75k\":2,\"10...  {\"<25k\":30.99,\"25-45k\":161.50,\"45-60k\":27.10,\"...  {\"Billings, MT\":3,\"Lebanon, NH\":2,\"Spring, TX\"...  {\"Walmart\":67,\"Exxon Mobil\":67,\"Shell Oil\":67,...  {\"Amazon\":34,\"Netflix\":34,\"E-ZPass\":34,\"iTunes...  {\"Holiday Inn\":23,\"Comfort Suites\":23,\"Best We...                      {\"Exxon Mobil\":23}  {\"Verizon Wireless\":56,\"Straight Talk\":12,\"AT&...  {\"Netflix\":34,\"YouTube TV\":12,\"Hulu\":12,\"Direc...             {\"Postmates\":12}         {\"Uber\":12,\"Lyft\":12}                                 {}                           {}\n",
      "17397  zzw-222@5sy-d6f-f2k                                        NaN          NaN  2019-06-01 00:00:00.000  2019-07-01 00:00:00.000          1235.98                    31                 31                         31.50                      31.50           {\"25\":17.90,\"75\":60.00}  [0.00,0.00,0.00,50.70,60.00,0.00,32.30,0.00,0....  [null,null,null,50.70,60.00,null,32.30,null,nu...  {\"Monday\":232.23,\"Tuesday\":143.80,\"Wednesday\":...  {\"Wednesday\":4,\"Monday\":4,\"Saturday\":5,\"Thursd...                           309.0                            NaN                    0           0.0   {\"No intermediary\":31}       {\"No intermediary\":1235.98}  {\"1\":31,\"2\":0,\"3\":0,\"4\":0,\"5-10\":0,\">10\":0}  {\"1\":39.87,\"2\":null,\"3\":null,\"4\":null,\"5-10\":n...     {\"<25k\":10,\"25-45k\":2,\"100-150k\":6,\">150k\":12}  {\"<25k\":26.18,\"25-45k\":17.58,\"100-150k\":49.97,...  {\"Santa Clara, CA\":3,\"Billings, MT\":3,\"Middlet...  {\"Walmart\":71,\"Exxon Mobil\":62,\"ConocoPhillips...  {\"Amazon\":42,\"iTunes\":39,\"Netflix\":30,\"AT&T\":3...  {\"McDonald's\":46,\"Taco Bell\":33,\"Subway\":26,\"D...                      {\"Exxon Mobil\":30}  {\"AT&T\":36,\"Verizon Wireless\":30,\"T-Mobile\":7,...  {\"Netflix\":30,\"Dish Network\":13,\"Redbox\":10,\"A...             {\"HelloFresh\":4}         {\"Uber\":20,\"Lyft\":10}                                 {}                           {}\n"
     ]
    },
    {
     "name": "stderr",
     "output_type": "stream",
     "text": [
      "C:\\Users\\tjbla\\AppData\\Local\\Temp\\ipykernel_5292\\1004588570.py:12: UserWarning: Boolean Series key will be reindexed to match DataFrame index.\n",
      "  df_filtered_2019 = df[(df_safegraph_spend['SPEND_DATE_RANGE_START'] >= datetime_start) &\n"
     ]
    }
   ],
   "source": [
    "# Filter by Dates\n",
    "\n",
    "# print('(before filter) # of rows: ', len(df_filtered))\n",
    "df = df_filtered.copy()\n",
    "\n",
    "datetime_start = pd.to_datetime('2019-05-01')\n",
    "datetime_end = pd.to_datetime('2019-09-01')\n",
    "\n",
    "df_safegraph_spend['SPEND_DATE_RANGE_START'] = pd.to_datetime(df_safegraph_spend['SPEND_DATE_RANGE_START'])\n",
    "df_safegraph_spend['SPEND_DATE_RANGE_END'] = pd.to_datetime(df_safegraph_spend['SPEND_DATE_RANGE_END'])\n",
    "\n",
    "df_filtered_2019 = df[(df_safegraph_spend['SPEND_DATE_RANGE_START'] >= datetime_start) &\n",
    "                                 (df_safegraph_spend['SPEND_DATE_RANGE_END'] <= datetime_end)]\n",
    "\n",
    "#print('(after filter) # of rows: ', len(df_filtered))\n",
    "print(df_filtered_2019.head())"
   ]
  },
  {
   "cell_type": "code",
   "execution_count": 4,
   "metadata": {},
   "outputs": [
    {
     "name": "stdout",
     "output_type": "stream",
     "text": [
      "                  PLACEKEY                        SAFEGRAPH_BRAND_IDS       BRANDS   SPEND_DATE_RANGE_START     SPEND_DATE_RANGE_END  RAW_TOTAL_SPEND  RAW_NUM_TRANSACTIONS  RAW_NUM_CUSTOMERS  MEDIAN_SPEND_PER_TRANSACTION  MEDIAN_SPEND_PER_CUSTOMER SPEND_PER_TRANSACTION_PERCENTILES                                       SPEND_BY_DAY                       SPEND_PER_TRANSACTION_BY_DAY                               SPEND_BY_DAY_OF_WEEK                                         DAY_COUNTS  SPEND_PCT_CHANGE_VS_PREV_MONTH  SPEND_PCT_CHANGE_VS_PREV_YEAR  ONLINE_TRANSACTIONS  ONLINE_SPEND TRANSACTION_INTERMEDIARY SPEND_BY_TRANSACTION_INTERMEDIARY                  BUCKETED_CUSTOMER_FREQUENCY               MEAN_SPEND_PER_CUSTOMER_BY_FREQUENCY                          BUCKETED_CUSTOMER_INCOMES                  MEAN_SPEND_PER_CUSTOMER_BY_INCOME                                 CUSTOMER_HOME_CITY         RELATED_CROSS_SHOPPING_PHYSICAL_BRANDS_PCT        RELATED_CROSS_SHOPPING_ONLINE_MERCHANTS_PCT    RELATED_CROSS_SHOPPING_SAME_CATEGORY_BRANDS_PCT RELATED_CROSS_SHOPPING_LOCAL_BRANDS_PCT                       RELATED_WIRELESS_CARRIER_PCT                        RELATED_STREAMING_CABLE_PCT RELATED_DELIVERY_SERVICE_PCT RELATED_RIDESHARE_SERVICE_PCT RELATED_BUYNOWPAYLATER_SERVICE_PCT RELATED_PAYMENT_PLATFORM_PCT                                      DATE_OF_MONTH\n",
      "14742  223-222@5sy-d6f-rzf  SG_BRAND_a144a8c10e1fe8006125571afd1a1e80  Exxon Mobil  2019-05-01 00:00:00.000  2019-06-01 00:00:00.000           876.25                    27                 26                         31.64                      31.64           {\"25\":17.61,\"75\":41.34}  [0.0, 0.0, 0.0, 0.0, 0.0, 62.38, 0.0, 28.42, 2...  [null,null,null,null,null,6.80,null,28.42,29.0...  {\"Monday\":280.09,\"Tuesday\":206.60,\"Wednesday\":...  {\"Wednesday\":5,\"Monday\":4,\"Saturday\":4,\"Thursd...                            68.0                            NaN                    0           0.0   {\"No intermediary\":27}        {\"No intermediary\":876.25}  {\"1\":25,\"2\":1,\"3\":0,\"4\":0,\"5-10\":0,\">10\":0}  {\"1\":32.75,\"2\":57.38,\"3\":null,\"4\":null,\"5-10\":...  {\"<25k\":2,\"25-45k\":2,\"45-60k\":2,\"60-75k\":2,\"75...  {\"<25k\":30.70,\"25-45k\":32.87,\"45-60k\":40.81,\"6...  {\"Evanston, IL\":5,\"Centennial, CO\":3,\"Yuma, AZ...  {\"ConocoPhillips\":62,\"Walmart\":58,\"Shell Oil\":...  {\"Amazon\":62,\"iTunes\":47,\"Amazon Prime\":31,\"Am...  {\"ConocoPhillips\":62,\"Shell Oil\":58,\"Chevron\":...                           {\"Super 8\":4}  {\"AT&T\":27,\"Verizon Wireless\":20,\"Sprint\":4,\"T...  {\"Amazon Prime\":31,\"Netflix\":20,\"Dish Network\"...              {\"Uber Eats\":4}         {\"Uber\":20,\"Lyft\":16}                                 {}                           {}  [1, 2, 3, 4, 5, 6, 7, 8, 9, 10, 11, 12, 13, 14...\n",
      "16012  zzw-222@5sy-d6f-f2k                                        NaN          NaN  2019-05-01 00:00:00.000  2019-06-01 00:00:00.000           302.00                     7                  7                         19.50                      19.50           {\"25\":12.00,\"75\":44.00}  [0.0, 0.0, 0.0, 0.0, 0.0, 0.0, 0.0, 0.0, 0.0, ...  [null,null,null,null,null,null,null,null,null,...  {\"Monday\":49.40,\"Tuesday\":175.00,\"Wednesday\":3...  {\"Wednesday\":5,\"Monday\":4,\"Saturday\":4,\"Thursd...                           163.0                            NaN                    0           0.0    {\"No intermediary\":7}        {\"No intermediary\":302.00}   {\"1\":7,\"2\":0,\"3\":0,\"4\":0,\"5-10\":0,\">10\":0}  {\"1\":43.14,\"2\":null,\"3\":null,\"4\":null,\"5-10\":n...         {\"<25k\":3,\"25-45k\":2,\"45-60k\":2,\">150k\":3}  {\"<25k\":14.75,\"25-45k\":12.00,\"45-60k\":17.90,\">...  {\"Centennial, CO\":2,\"Gilbert, AZ\":2,\"Pall Mall...  {\"Walmart\":58,\"Starbucks\":58,\"ConocoPhillips\":...  {\"Amazon\":43,\"iTunes\":43,\"Netflix\":29,\"Audible...  {\"Starbucks\":58,\"McDonald's\":43,\"Pei Wei Asian...                      {\"Exxon Mobil\":15}                            {\"Verizon Wireless\":29}                   {\"Netflix\":29,\"Amazon Prime\":15}                           {}                   {\"Uber\":15}                                 {}                           {}  [1, 2, 3, 4, 5, 6, 7, 8, 9, 10, 11, 12, 13, 14...\n",
      "16397  223-222@5sy-d6g-ks5                                        NaN          NaN  2019-05-01 00:00:00.000  2019-06-01 00:00:00.000           656.90                    14                 13                         46.10                      51.00           {\"25\":36.50,\"75\":57.78}  [0.0, 41.0, 0.0, 0.0, 0.0, 0.0, 0.0, 0.0, 0.0,...  [null,41.00,null,null,null,null,null,null,null...  {\"Monday\":100.10,\"Tuesday\":97.80,\"Wednesday\":1...  {\"Wednesday\":5,\"Monday\":4,\"Saturday\":4,\"Thursd...                             NaN                            NaN                    0           0.0   {\"No intermediary\":14}        {\"No intermediary\":656.90}  {\"1\":12,\"2\":1,\"3\":0,\"4\":0,\"5-10\":0,\">10\":0}  {\"1\":47.34,\"2\":88.80,\"3\":null,\"4\":null,\"5-10\":...  {\"25-45k\":2,\"45-60k\":2,\"75-100k\":2,\"100-150k\":...  {\"25-45k\":46.05,\"45-60k\":45.67,\"75-100k\":26.00...  {\"Manchester, CT\":2,\"Pittsburgh, PA\":2,\"Gladst...  {\"McDonald's\":77,\"Walmart\":70,\"Taco Bell\":62,\"...  {\"Amazon\":70,\"Amazon Marketplace\":62,\"iTunes\":...  {\"McDonald's\":77,\"Taco Bell\":62,\"Starbucks\":47...                                      {}     {\"Verizon Wireless\":54,\"AT&T\":16,\"T-Mobile\":8}  {\"Netflix\":39,\"Redbox\":16,\"Time Warner Cable\":...                           {}          {\"Uber\":16,\"Lyft\":8}                                 {}                 {\"PayPal\":8}  [1, 2, 3, 4, 5, 6, 7, 8, 9, 10, 11, 12, 13, 14...\n",
      "16446  223-222@5sy-d6f-nnq                                        NaN          NaN  2019-05-01 00:00:00.000  2019-06-01 00:00:00.000           544.04                    10                  9                         29.05                      27.10           {\"25\":26.08,\"75\":70.70}  [0.0, 0.0, 0.0, 15.0, 0.0, 0.0, 0.0, 26.57, 0....  [null,null,null,15.00,null,null,null,26.57,nul...  {\"Monday\":41.74,\"Tuesday\":0.00,\"Wednesday\":57....  {\"Wednesday\":5,\"Monday\":4,\"Saturday\":4,\"Thursd...                            50.0                            NaN                    0           0.0   {\"No intermediary\":10}        {\"No intermediary\":544.04}   {\"1\":8,\"2\":1,\"3\":0,\"4\":0,\"5-10\":0,\">10\":0}  {\"1\":29.51,\"2\":308.00,\"3\":null,\"4\":null,\"5-10\"...  {\"<25k\":2,\"25-45k\":3,\"45-60k\":2,\"60-75k\":2,\"10...  {\"<25k\":30.99,\"25-45k\":161.50,\"45-60k\":27.10,\"...  {\"Billings, MT\":3,\"Lebanon, NH\":2,\"Spring, TX\"...  {\"Walmart\":67,\"Exxon Mobil\":67,\"Shell Oil\":67,...  {\"Amazon\":34,\"Netflix\":34,\"E-ZPass\":34,\"iTunes...  {\"Holiday Inn\":23,\"Comfort Suites\":23,\"Best We...                      {\"Exxon Mobil\":23}  {\"Verizon Wireless\":56,\"Straight Talk\":12,\"AT&...  {\"Netflix\":34,\"YouTube TV\":12,\"Hulu\":12,\"Direc...             {\"Postmates\":12}         {\"Uber\":12,\"Lyft\":12}                                 {}                           {}  [1, 2, 3, 4, 5, 6, 7, 8, 9, 10, 11, 12, 13, 14...\n",
      "17397  zzw-222@5sy-d6f-f2k                                        NaN          NaN  2019-06-01 00:00:00.000  2019-07-01 00:00:00.000          1235.98                    31                 31                         31.50                      31.50           {\"25\":17.90,\"75\":60.00}  [0.0, 0.0, 0.0, 50.7, 60.0, 0.0, 32.3, 0.0, 0....  [null,null,null,50.70,60.00,null,32.30,null,nu...  {\"Monday\":232.23,\"Tuesday\":143.80,\"Wednesday\":...  {\"Wednesday\":4,\"Monday\":4,\"Saturday\":5,\"Thursd...                           309.0                            NaN                    0           0.0   {\"No intermediary\":31}       {\"No intermediary\":1235.98}  {\"1\":31,\"2\":0,\"3\":0,\"4\":0,\"5-10\":0,\">10\":0}  {\"1\":39.87,\"2\":null,\"3\":null,\"4\":null,\"5-10\":n...     {\"<25k\":10,\"25-45k\":2,\"100-150k\":6,\">150k\":12}  {\"<25k\":26.18,\"25-45k\":17.58,\"100-150k\":49.97,...  {\"Santa Clara, CA\":3,\"Billings, MT\":3,\"Middlet...  {\"Walmart\":71,\"Exxon Mobil\":62,\"ConocoPhillips...  {\"Amazon\":42,\"iTunes\":39,\"Netflix\":30,\"AT&T\":3...  {\"McDonald's\":46,\"Taco Bell\":33,\"Subway\":26,\"D...                      {\"Exxon Mobil\":30}  {\"AT&T\":36,\"Verizon Wireless\":30,\"T-Mobile\":7,...  {\"Netflix\":30,\"Dish Network\":13,\"Redbox\":10,\"A...             {\"HelloFresh\":4}         {\"Uber\":20,\"Lyft\":10}                                 {}                           {}  [1, 2, 3, 4, 5, 6, 7, 8, 9, 10, 11, 12, 13, 14...\n"
     ]
    }
   ],
   "source": [
    "import ast  # For safely evaluating strings containing Python literals\n",
    "\n",
    "df = df_filtered_2019.copy()\n",
    "\n",
    "# Convert string representations of lists in 'SPEND_BY_DAY' to actual lists\n",
    "df['SPEND_BY_DAY'] = df['SPEND_BY_DAY'].apply(ast.literal_eval)\n",
    "\n",
    "# Add a new column called 'DATE_OF_MONTH', as a list of integers from 1 to the end of the month (length of the 'SPEND_BY_DAY' list)\n",
    "df['DATE_OF_MONTH'] = df['SPEND_BY_DAY'].apply(lambda x: list(range(1, len(x) + 1)))\n",
    "\n",
    "print(df.head())\n",
    "\n",
    "# Explode both 'SPEND_BY_DAY' and 'DATE_OF_MONTH' simultaneously to keep their mapping correct\n",
    "df_spend_by_day = df.explode(['SPEND_BY_DAY', 'DATE_OF_MONTH'])\n",
    "\n",
    "# Convert the spending amounts to float\n",
    "df_spend_by_day['SPEND_BY_DAY'] = df_spend_by_day['SPEND_BY_DAY'].astype(float)\n",
    "df_spend_by_day['DATE_OF_MONTH'] = df_spend_by_day['DATE_OF_MONTH'].astype(int)\n",
    "\n",
    "\n",
    "# Calculate 'DATE' correctly by subtracting 1 since 'DATE_OF_MONTH' starts from 1, not 0\n",
    "df_spend_by_day['DATE'] = pd.to_datetime(df_spend_by_day['SPEND_DATE_RANGE_START']) + pd.to_timedelta(df_spend_by_day['DATE_OF_MONTH'] - 1, unit='D')\n",
    "df_spend_by_day['DATE'] = df_spend_by_day['DATE'].dt.strftime('%m-%d')\n",
    "\n",
    "# Ensure the DataFrame is sorted by 'DATE' if not already\n",
    "# df_spend_by_day = df_spend_by_day.sort_values('DATE')\n",
    "\n",
    "#print('# of rows: ', len(df_spend_by_day))\n",
    "#print(df_spend_by_day.head(10))\n",
    "\n",
    "# Plot df_spend_by_day using plotly\n",
    "#fig = px.scatter(df_spend_by_day, x='DATE', y='SPEND_BY_DAY', title='Daily Spend', labels={'SPEND_BY_DAY': 'Spend ($)'})\n",
    "\n",
    "#fig.show()\n",
    "\n",
    "grouped_19_ccmt = df_spend_by_day.groupby('DATE')['SPEND_BY_DAY'].sum()"
   ]
  },
  {
   "cell_type": "code",
   "execution_count": 5,
   "metadata": {},
   "outputs": [
    {
     "name": "stdout",
     "output_type": "stream",
     "text": [
      "                   PLACEKEY                        SAFEGRAPH_BRAND_IDS       BRANDS   SPEND_DATE_RANGE_START     SPEND_DATE_RANGE_END  RAW_TOTAL_SPEND  RAW_NUM_TRANSACTIONS  RAW_NUM_CUSTOMERS  MEDIAN_SPEND_PER_TRANSACTION  MEDIAN_SPEND_PER_CUSTOMER SPEND_PER_TRANSACTION_PERCENTILES                                       SPEND_BY_DAY                       SPEND_PER_TRANSACTION_BY_DAY                               SPEND_BY_DAY_OF_WEEK                                         DAY_COUNTS  SPEND_PCT_CHANGE_VS_PREV_MONTH  SPEND_PCT_CHANGE_VS_PREV_YEAR  ONLINE_TRANSACTIONS  ONLINE_SPEND TRANSACTION_INTERMEDIARY SPEND_BY_TRANSACTION_INTERMEDIARY                  BUCKETED_CUSTOMER_FREQUENCY               MEAN_SPEND_PER_CUSTOMER_BY_FREQUENCY                          BUCKETED_CUSTOMER_INCOMES                  MEAN_SPEND_PER_CUSTOMER_BY_INCOME                                 CUSTOMER_HOME_CITY         RELATED_CROSS_SHOPPING_PHYSICAL_BRANDS_PCT        RELATED_CROSS_SHOPPING_ONLINE_MERCHANTS_PCT    RELATED_CROSS_SHOPPING_SAME_CATEGORY_BRANDS_PCT RELATED_CROSS_SHOPPING_LOCAL_BRANDS_PCT                       RELATED_WIRELESS_CARRIER_PCT                        RELATED_STREAMING_CABLE_PCT                       RELATED_DELIVERY_SERVICE_PCT RELATED_RIDESHARE_SERVICE_PCT RELATED_BUYNOWPAYLATER_SERVICE_PCT RELATED_PAYMENT_PLATFORM_PCT\n",
      "109925  223-222@5sy-d6f-nnq                                        NaN          NaN  2021-05-01 00:00:00.000  2021-06-01 00:00:00.000          1683.52                    21                 20                         45.88                      50.43           {\"25\":30.52,\"75\":86.52}  [0.00,24.14,0.00,0.00,0.00,0.00,95.57,0.00,0.0...  [null,24.14,null,null,null,null,26.54,null,nul...  {\"Monday\":725.01,\"Tuesday\":221.40,\"Wednesday\":...  {\"Wednesday\":4,\"Monday\":5,\"Saturday\":5,\"Thursd...                           203.0                            NaN                    0          0.00   {\"No intermediary\":21}       {\"No intermediary\":1683.52}  {\"1\":19,\"2\":1,\"3\":0,\"4\":0,\"5-10\":0,\">10\":0}  {\"1\":84.43,\"2\":79.40,\"3\":null,\"4\":null,\"5-10\":...  {\"<25k\":2,\"25-45k\":6,\"45-60k\":2,\"60-75k\":2,\"75...  {\"<25k\":114.36,\"25-45k\":32.53,\"45-60k\":42.29,\"...  {\"Redding, CA\":4,\"South Jordan, UT\":2,\"Houston...  {\"Exxon Mobil\":70,\"Walmart\":65,\"Shell Oil\":40,...  {\"Amazon\":55,\"Netflix\":40,\"Amazon Digital Serv...  {\"Hampton\":10,\"Comfort Suites\":10,\"Econo Lodge...                      {\"Exxon Mobil\":15}    {\"Verizon Wireless\":25,\"AT&T\":20,\"T-Mobile\":10}  {\"Netflix\":40,\"Disney Plus\":10,\"Roku\":5,\"YouTu...           {\"Uber Eats\":5,\"DoorDash\":5,\"Grubhub\":5}                    {\"Uber\":5}                                 {}                           {}\n",
      "110804  223-222@5sy-d6f-rzf  SG_BRAND_a144a8c10e1fe8006125571afd1a1e80  Exxon Mobil  2021-05-01 00:00:00.000  2021-06-01 00:00:00.000          1291.57                    49                 43                         22.33                      26.48           {\"25\":15.06,\"75\":38.79}  [46.13,0.00,27.54,0.00,0.00,0.00,0.00,0.00,0.0...  [23.06,null,13.77,null,null,null,null,null,nul...  {\"Monday\":297.95,\"Tuesday\":151.69,\"Wednesday\":...  {\"Wednesday\":4,\"Monday\":5,\"Saturday\":5,\"Thursd...                           235.0                          776.0                    3        104.12   {\"No intermediary\":49}       {\"No intermediary\":1291.57}  {\"1\":37,\"2\":6,\"3\":0,\"4\":0,\"5-10\":0,\">10\":0}  {\"1\":25.95,\"2\":55.21,\"3\":null,\"4\":null,\"5-10\":...  {\"<25k\":3,\"25-45k\":2,\"45-60k\":7,\"60-75k\":2,\"75...  {\"<25k\":21.17,\"25-45k\":18.22,\"45-60k\":33.11,\"6...  {\"Missoula, MT\":7,\"Logan, UT\":5,\"Boston, MA\":3...  {\"Walmart\":63,\"McDonald's\":63,\"ConocoPhillips\"...  {\"Amazon\":63,\"Apple\":42,\"Netflix\":35,\"Spotify\"...  {\"ConocoPhillips\":49,\"Shell Oil\":42,\"Chevron\":...                           {\"Super 8\":3}  {\"Verizon Wireless\":38,\"T-Mobile\":19,\"AT&T\":14...  {\"Netflix\":35,\"Hulu\":14,\"YouTube TV\":7,\"Disney...  {\"DoorDash\":12,\"HelloFresh\":5,\"Instacart\":3,\"D...                   {\"Uber\":14}      {\"Afterpay\":3,\"Affirm.com\":3}                 {\"PayPal\":3}\n",
      "111116  227-222@5sy-d6f-dsq  SG_BRAND_43bdfa786f5809e475a7382797eae3fd      Super 8  2021-05-01 00:00:00.000  2021-06-01 00:00:00.000           927.13                     3                  3                        302.40                     302.40         {\"25\":101.13,\"75\":523.60}  [0.00,0.00,0.00,0.00,0.00,0.00,0.00,0.00,0.00,...  [null,null,null,null,null,null,null,null,null,...  {\"Monday\":302.40,\"Tuesday\":0.00,\"Wednesday\":10...  {\"Wednesday\":4,\"Monday\":5,\"Saturday\":5,\"Thursd...                             NaN                            NaN                    2        403.53    {\"No intermediary\":3}        {\"No intermediary\":927.13}   {\"1\":3,\"2\":0,\"3\":0,\"4\":0,\"5-10\":0,\">10\":0}  {\"1\":309.04,\"2\":null,\"3\":null,\"4\":null,\"5-10\":...                                       {\"45-60k\":2}                                  {\"45-60k\":523.60}   {\"Moab, UT\":2,\"Greenville, SC\":2,\"Draper, UT\":2}  {\"Walmart\":100,\"Maverik\":100,\"Chevron\":67,\"The...  {\"Amazon\":100,\"Phillips 66\":67,\"Petco\":34,\"Ver...                                     {\"Hampton\":34}                      {\"Exxon Mobil\":34}                {\"Sprint\":34,\"Verizon Wireless\":34}                                        {\"Hulu\":34}                                                 {}                            {}                  {\"Affirm.com\":34}                {\"PayPal\":34}\n",
      "111437  223-222@5sy-d6g-ks5                                        NaN          NaN  2021-05-01 00:00:00.000  2021-06-01 00:00:00.000           655.00                    16                 14                         30.50                      30.50           {\"25\":24.00,\"75\":63.75}  [0.00,0.00,0.00,0.00,0.00,0.00,0.00,0.00,0.00,...  [null,null,null,null,null,null,null,null,null,...  {\"Monday\":252.00,\"Tuesday\":32.00,\"Wednesday\":2...  {\"Wednesday\":4,\"Monday\":5,\"Saturday\":5,\"Thursd...                             NaN                            NaN                    0          0.00   {\"No intermediary\":16}        {\"No intermediary\":655.00}  {\"1\":13,\"2\":0,\"3\":1,\"4\":0,\"5-10\":0,\">10\":0}  {\"1\":39.23,\"2\":null,\"3\":145.00,\"4\":null,\"5-10\"...  {\"45-60k\":3,\"60-75k\":2,\"75-100k\":2,\"100-150k\":...  {\"45-60k\":60.00,\"60-75k\":30.00,\"75-100k\":88.00...  {\"Littleton, CO\":4,\"Havelock, NC\":3,\"Clarinda,...  {\"Target\":72,\"Walmart\":58,\"McDonald's\":58,\"Wal...  {\"Amazon\":65,\"Apple\":50,\"Netflix\":36,\"Spotify\"...  {\"McDonald's\":58,\"Dunkin'\":36,\"Starbucks\":29,\"...                                      {}       {\"Verizon Wireless\":43,\"AT&T\":22,\"Sprint\":8}  {\"Netflix\":36,\"Roku\":8,\"HBO Max\":8,\"Redbox\":8,...                                    {\"DoorDash\":15}         {\"Lyft\":15,\"Uber\":15}                  {\"Affirm.com\":15}            {\"Apple Card\":15}\n",
      "113596  zzw-222@5sy-d6f-f2k                                        NaN          NaN  2021-06-01 00:00:00.000  2021-07-01 00:00:00.000          1373.88                    25                 24                         53.20                      55.02           {\"25\":31.34,\"75\":65.92}  [35.38,0.00,16.00,0.00,0.00,24.70,166.52,0.00,...  [35.38,null,16.00,null,null,24.70,56.48,null,n...  {\"Monday\":386.05,\"Tuesday\":260.26,\"Wednesday\":...  {\"Wednesday\":5,\"Monday\":4,\"Saturday\":4,\"Thursd...                           424.0                          750.0                    0          0.00   {\"No intermediary\":25}       {\"No intermediary\":1373.88}  {\"1\":23,\"2\":1,\"3\":0,\"4\":0,\"5-10\":0,\">10\":0}  {\"1\":55.11,\"2\":106.40,\"3\":null,\"4\":null,\"5-10\"...  {\"<25k\":2,\"25-45k\":2,\"45-60k\":3,\"75-100k\":3,\"1...  {\"<25k\":26.62,\"25-45k\":35.38,\"45-60k\":52.65,\"7...  {\"Centerville, OH\":8,\"Lake Waccamaw, NC\":4,\"Ci...  {\"Walmart\":71,\"McDonald's\":63,\"Walgreens\":46,\"...  {\"Apple\":38,\"Netflix\":34,\"Amazon\":25,\"Spotify\"...  {\"McDonald's\":63,\"Wendy's\":38,\"Subway\":34,\"Tac...                      {\"Exxon Mobil\":25}  {\"Verizon Wireless\":25,\"AT&T\":25,\"Cricket Wire...  {\"Netflix\":34,\"Hulu\":21,\"Disney Plus\":9,\"Direc...  {\"DoorDash\":9,\"HelloFresh\":5,\"Instacart\":5,\"Ub...                    {\"Uber\":5}                                 {}                           {}\n"
     ]
    },
    {
     "name": "stderr",
     "output_type": "stream",
     "text": [
      "C:\\Users\\tjbla\\AppData\\Local\\Temp\\ipykernel_5292\\1595654646.py:12: UserWarning: Boolean Series key will be reindexed to match DataFrame index.\n",
      "  df_filtered_2021 = df[(df_safegraph_spend['SPEND_DATE_RANGE_START'] >= datetime_start) &\n"
     ]
    }
   ],
   "source": [
    "# Filter by Dates\n",
    "\n",
    "# print('(before filter) # of rows: ', len(df_filtered))\n",
    "df = df_filtered.copy()\n",
    "\n",
    "datetime_start = pd.to_datetime('2021-05-01')\n",
    "datetime_end = pd.to_datetime('2021-09-01')\n",
    "\n",
    "df_safegraph_spend['SPEND_DATE_RANGE_START'] = pd.to_datetime(df_safegraph_spend['SPEND_DATE_RANGE_START'])\n",
    "df_safegraph_spend['SPEND_DATE_RANGE_END'] = pd.to_datetime(df_safegraph_spend['SPEND_DATE_RANGE_END'])\n",
    "\n",
    "df_filtered_2021 = df[(df_safegraph_spend['SPEND_DATE_RANGE_START'] >= datetime_start) &\n",
    "                                 (df_safegraph_spend['SPEND_DATE_RANGE_END'] <= datetime_end)]\n",
    "\n",
    "#print('(after filter) # of rows: ', len(df_filtered))\n",
    "print(df_filtered_2021.head())\n"
   ]
  },
  {
   "cell_type": "code",
   "execution_count": 6,
   "metadata": {},
   "outputs": [
    {
     "name": "stdout",
     "output_type": "stream",
     "text": [
      "                   PLACEKEY                        SAFEGRAPH_BRAND_IDS       BRANDS   SPEND_DATE_RANGE_START     SPEND_DATE_RANGE_END  RAW_TOTAL_SPEND  RAW_NUM_TRANSACTIONS  RAW_NUM_CUSTOMERS  MEDIAN_SPEND_PER_TRANSACTION  MEDIAN_SPEND_PER_CUSTOMER SPEND_PER_TRANSACTION_PERCENTILES                                       SPEND_BY_DAY                       SPEND_PER_TRANSACTION_BY_DAY                               SPEND_BY_DAY_OF_WEEK                                         DAY_COUNTS  SPEND_PCT_CHANGE_VS_PREV_MONTH  SPEND_PCT_CHANGE_VS_PREV_YEAR  ONLINE_TRANSACTIONS  ONLINE_SPEND TRANSACTION_INTERMEDIARY SPEND_BY_TRANSACTION_INTERMEDIARY                  BUCKETED_CUSTOMER_FREQUENCY               MEAN_SPEND_PER_CUSTOMER_BY_FREQUENCY                          BUCKETED_CUSTOMER_INCOMES                  MEAN_SPEND_PER_CUSTOMER_BY_INCOME                                 CUSTOMER_HOME_CITY         RELATED_CROSS_SHOPPING_PHYSICAL_BRANDS_PCT        RELATED_CROSS_SHOPPING_ONLINE_MERCHANTS_PCT    RELATED_CROSS_SHOPPING_SAME_CATEGORY_BRANDS_PCT RELATED_CROSS_SHOPPING_LOCAL_BRANDS_PCT                       RELATED_WIRELESS_CARRIER_PCT                        RELATED_STREAMING_CABLE_PCT                       RELATED_DELIVERY_SERVICE_PCT RELATED_RIDESHARE_SERVICE_PCT RELATED_BUYNOWPAYLATER_SERVICE_PCT RELATED_PAYMENT_PLATFORM_PCT                                      DATE_OF_MONTH\n",
      "109925  223-222@5sy-d6f-nnq                                        NaN          NaN  2021-05-01 00:00:00.000  2021-06-01 00:00:00.000          1683.52                    21                 20                         45.88                      50.43           {\"25\":30.52,\"75\":86.52}  [0.0, 24.14, 0.0, 0.0, 0.0, 0.0, 95.57, 0.0, 0...  [null,24.14,null,null,null,null,26.54,null,nul...  {\"Monday\":725.01,\"Tuesday\":221.40,\"Wednesday\":...  {\"Wednesday\":4,\"Monday\":5,\"Saturday\":5,\"Thursd...                           203.0                            NaN                    0          0.00   {\"No intermediary\":21}       {\"No intermediary\":1683.52}  {\"1\":19,\"2\":1,\"3\":0,\"4\":0,\"5-10\":0,\">10\":0}  {\"1\":84.43,\"2\":79.40,\"3\":null,\"4\":null,\"5-10\":...  {\"<25k\":2,\"25-45k\":6,\"45-60k\":2,\"60-75k\":2,\"75...  {\"<25k\":114.36,\"25-45k\":32.53,\"45-60k\":42.29,\"...  {\"Redding, CA\":4,\"South Jordan, UT\":2,\"Houston...  {\"Exxon Mobil\":70,\"Walmart\":65,\"Shell Oil\":40,...  {\"Amazon\":55,\"Netflix\":40,\"Amazon Digital Serv...  {\"Hampton\":10,\"Comfort Suites\":10,\"Econo Lodge...                      {\"Exxon Mobil\":15}    {\"Verizon Wireless\":25,\"AT&T\":20,\"T-Mobile\":10}  {\"Netflix\":40,\"Disney Plus\":10,\"Roku\":5,\"YouTu...           {\"Uber Eats\":5,\"DoorDash\":5,\"Grubhub\":5}                    {\"Uber\":5}                                 {}                           {}  [1, 2, 3, 4, 5, 6, 7, 8, 9, 10, 11, 12, 13, 14...\n",
      "110804  223-222@5sy-d6f-rzf  SG_BRAND_a144a8c10e1fe8006125571afd1a1e80  Exxon Mobil  2021-05-01 00:00:00.000  2021-06-01 00:00:00.000          1291.57                    49                 43                         22.33                      26.48           {\"25\":15.06,\"75\":38.79}  [46.13, 0.0, 27.54, 0.0, 0.0, 0.0, 0.0, 0.0, 0...  [23.06,null,13.77,null,null,null,null,null,nul...  {\"Monday\":297.95,\"Tuesday\":151.69,\"Wednesday\":...  {\"Wednesday\":4,\"Monday\":5,\"Saturday\":5,\"Thursd...                           235.0                          776.0                    3        104.12   {\"No intermediary\":49}       {\"No intermediary\":1291.57}  {\"1\":37,\"2\":6,\"3\":0,\"4\":0,\"5-10\":0,\">10\":0}  {\"1\":25.95,\"2\":55.21,\"3\":null,\"4\":null,\"5-10\":...  {\"<25k\":3,\"25-45k\":2,\"45-60k\":7,\"60-75k\":2,\"75...  {\"<25k\":21.17,\"25-45k\":18.22,\"45-60k\":33.11,\"6...  {\"Missoula, MT\":7,\"Logan, UT\":5,\"Boston, MA\":3...  {\"Walmart\":63,\"McDonald's\":63,\"ConocoPhillips\"...  {\"Amazon\":63,\"Apple\":42,\"Netflix\":35,\"Spotify\"...  {\"ConocoPhillips\":49,\"Shell Oil\":42,\"Chevron\":...                           {\"Super 8\":3}  {\"Verizon Wireless\":38,\"T-Mobile\":19,\"AT&T\":14...  {\"Netflix\":35,\"Hulu\":14,\"YouTube TV\":7,\"Disney...  {\"DoorDash\":12,\"HelloFresh\":5,\"Instacart\":3,\"D...                   {\"Uber\":14}      {\"Afterpay\":3,\"Affirm.com\":3}                 {\"PayPal\":3}  [1, 2, 3, 4, 5, 6, 7, 8, 9, 10, 11, 12, 13, 14...\n",
      "111116  227-222@5sy-d6f-dsq  SG_BRAND_43bdfa786f5809e475a7382797eae3fd      Super 8  2021-05-01 00:00:00.000  2021-06-01 00:00:00.000           927.13                     3                  3                        302.40                     302.40         {\"25\":101.13,\"75\":523.60}  [0.0, 0.0, 0.0, 0.0, 0.0, 0.0, 0.0, 0.0, 0.0, ...  [null,null,null,null,null,null,null,null,null,...  {\"Monday\":302.40,\"Tuesday\":0.00,\"Wednesday\":10...  {\"Wednesday\":4,\"Monday\":5,\"Saturday\":5,\"Thursd...                             NaN                            NaN                    2        403.53    {\"No intermediary\":3}        {\"No intermediary\":927.13}   {\"1\":3,\"2\":0,\"3\":0,\"4\":0,\"5-10\":0,\">10\":0}  {\"1\":309.04,\"2\":null,\"3\":null,\"4\":null,\"5-10\":...                                       {\"45-60k\":2}                                  {\"45-60k\":523.60}   {\"Moab, UT\":2,\"Greenville, SC\":2,\"Draper, UT\":2}  {\"Walmart\":100,\"Maverik\":100,\"Chevron\":67,\"The...  {\"Amazon\":100,\"Phillips 66\":67,\"Petco\":34,\"Ver...                                     {\"Hampton\":34}                      {\"Exxon Mobil\":34}                {\"Sprint\":34,\"Verizon Wireless\":34}                                        {\"Hulu\":34}                                                 {}                            {}                  {\"Affirm.com\":34}                {\"PayPal\":34}  [1, 2, 3, 4, 5, 6, 7, 8, 9, 10, 11, 12, 13, 14...\n",
      "111437  223-222@5sy-d6g-ks5                                        NaN          NaN  2021-05-01 00:00:00.000  2021-06-01 00:00:00.000           655.00                    16                 14                         30.50                      30.50           {\"25\":24.00,\"75\":63.75}  [0.0, 0.0, 0.0, 0.0, 0.0, 0.0, 0.0, 0.0, 0.0, ...  [null,null,null,null,null,null,null,null,null,...  {\"Monday\":252.00,\"Tuesday\":32.00,\"Wednesday\":2...  {\"Wednesday\":4,\"Monday\":5,\"Saturday\":5,\"Thursd...                             NaN                            NaN                    0          0.00   {\"No intermediary\":16}        {\"No intermediary\":655.00}  {\"1\":13,\"2\":0,\"3\":1,\"4\":0,\"5-10\":0,\">10\":0}  {\"1\":39.23,\"2\":null,\"3\":145.00,\"4\":null,\"5-10\"...  {\"45-60k\":3,\"60-75k\":2,\"75-100k\":2,\"100-150k\":...  {\"45-60k\":60.00,\"60-75k\":30.00,\"75-100k\":88.00...  {\"Littleton, CO\":4,\"Havelock, NC\":3,\"Clarinda,...  {\"Target\":72,\"Walmart\":58,\"McDonald's\":58,\"Wal...  {\"Amazon\":65,\"Apple\":50,\"Netflix\":36,\"Spotify\"...  {\"McDonald's\":58,\"Dunkin'\":36,\"Starbucks\":29,\"...                                      {}       {\"Verizon Wireless\":43,\"AT&T\":22,\"Sprint\":8}  {\"Netflix\":36,\"Roku\":8,\"HBO Max\":8,\"Redbox\":8,...                                    {\"DoorDash\":15}         {\"Lyft\":15,\"Uber\":15}                  {\"Affirm.com\":15}            {\"Apple Card\":15}  [1, 2, 3, 4, 5, 6, 7, 8, 9, 10, 11, 12, 13, 14...\n",
      "113596  zzw-222@5sy-d6f-f2k                                        NaN          NaN  2021-06-01 00:00:00.000  2021-07-01 00:00:00.000          1373.88                    25                 24                         53.20                      55.02           {\"25\":31.34,\"75\":65.92}  [35.38, 0.0, 16.0, 0.0, 0.0, 24.7, 166.52, 0.0...  [35.38,null,16.00,null,null,24.70,56.48,null,n...  {\"Monday\":386.05,\"Tuesday\":260.26,\"Wednesday\":...  {\"Wednesday\":5,\"Monday\":4,\"Saturday\":4,\"Thursd...                           424.0                          750.0                    0          0.00   {\"No intermediary\":25}       {\"No intermediary\":1373.88}  {\"1\":23,\"2\":1,\"3\":0,\"4\":0,\"5-10\":0,\">10\":0}  {\"1\":55.11,\"2\":106.40,\"3\":null,\"4\":null,\"5-10\"...  {\"<25k\":2,\"25-45k\":2,\"45-60k\":3,\"75-100k\":3,\"1...  {\"<25k\":26.62,\"25-45k\":35.38,\"45-60k\":52.65,\"7...  {\"Centerville, OH\":8,\"Lake Waccamaw, NC\":4,\"Ci...  {\"Walmart\":71,\"McDonald's\":63,\"Walgreens\":46,\"...  {\"Apple\":38,\"Netflix\":34,\"Amazon\":25,\"Spotify\"...  {\"McDonald's\":63,\"Wendy's\":38,\"Subway\":34,\"Tac...                      {\"Exxon Mobil\":25}  {\"Verizon Wireless\":25,\"AT&T\":25,\"Cricket Wire...  {\"Netflix\":34,\"Hulu\":21,\"Disney Plus\":9,\"Direc...  {\"DoorDash\":9,\"HelloFresh\":5,\"Instacart\":5,\"Ub...                    {\"Uber\":5}                                 {}                           {}  [1, 2, 3, 4, 5, 6, 7, 8, 9, 10, 11, 12, 13, 14...\n"
     ]
    }
   ],
   "source": [
    "# Make a Plot of the Data\n",
    "\n",
    "# Note: 'SPEND_DATE_RANGE_START' and 'SPEND_DATE_RANGE_END' is typically separated by 1 month (~30 days)\n",
    "#       'SPEND_BY_DAY' is each spend data for each day of the month\n",
    "# Goal; Plot spending for each single day using plotly\n",
    "\n",
    "#import plotly.express as px\n",
    "import ast  # For safely evaluating strings containing Python literals\n",
    "\n",
    "df = df_filtered_2021.copy()\n",
    "\n",
    "# Convert string representations of lists in 'SPEND_BY_DAY' to actual lists\n",
    "df['SPEND_BY_DAY'] = df['SPEND_BY_DAY'].apply(ast.literal_eval)\n",
    "\n",
    "# Add a new column called 'DATE_OF_MONTH', as a list of integers from 1 to the end of the month (length of the 'SPEND_BY_DAY' list)\n",
    "df['DATE_OF_MONTH'] = df['SPEND_BY_DAY'].apply(lambda x: list(range(1, len(x) + 1)))\n",
    "\n",
    "print(df.head())\n",
    "\n",
    "# Explode both 'SPEND_BY_DAY' and 'DATE_OF_MONTH' simultaneously to keep their mapping correct\n",
    "df_spend_by_day = df.explode(['SPEND_BY_DAY', 'DATE_OF_MONTH'])\n",
    "\n",
    "# Convert the spending amounts to float\n",
    "df_spend_by_day['SPEND_BY_DAY'] = df_spend_by_day['SPEND_BY_DAY'].astype(float)\n",
    "df_spend_by_day['DATE_OF_MONTH'] = df_spend_by_day['DATE_OF_MONTH'].astype(int)\n",
    "\n",
    "\n",
    "# Calculate 'DATE' correctly by subtracting 1 since 'DATE_OF_MONTH' starts from 1, not 0\n",
    "df_spend_by_day['DATE'] = pd.to_datetime(df_spend_by_day['SPEND_DATE_RANGE_START']) + pd.to_timedelta(df_spend_by_day['DATE_OF_MONTH'] - 1, unit='D')\n",
    "df_spend_by_day['DATE'] = df_spend_by_day['DATE'].dt.strftime('%m-%d')\n",
    "\n",
    "# Ensure the DataFrame is sorted by 'DATE' if not already\n",
    "# df_spend_by_day = df_spend_by_day.sort_values('DATE')\n",
    "\n",
    "#print('# of rows: ', len(df_spend_by_day))\n",
    "#print(df_spend_by_day.head(10))\n",
    "\n",
    "# Plot df_spend_by_day using plotly\n",
    "#fig = px.scatter(df_spend_by_day, x='DATE', y='SPEND_BY_DAY', title='Daily Spend', labels={'SPEND_BY_DAY': 'Spend ($)'})\n",
    "\n",
    "#fig.show()\n",
    "\n",
    "grouped_21_ccmt = df_spend_by_day.groupby('DATE')['SPEND_BY_DAY'].sum()\n"
   ]
  },
  {
   "cell_type": "code",
   "execution_count": 7,
   "metadata": {},
   "outputs": [
    {
     "name": "stdout",
     "output_type": "stream",
     "text": [
      "                   PLACEKEY                        SAFEGRAPH_BRAND_IDS       BRANDS   SPEND_DATE_RANGE_START     SPEND_DATE_RANGE_END  RAW_TOTAL_SPEND  RAW_NUM_TRANSACTIONS  RAW_NUM_CUSTOMERS  MEDIAN_SPEND_PER_TRANSACTION  MEDIAN_SPEND_PER_CUSTOMER SPEND_PER_TRANSACTION_PERCENTILES                                       SPEND_BY_DAY                       SPEND_PER_TRANSACTION_BY_DAY                               SPEND_BY_DAY_OF_WEEK                                         DAY_COUNTS  SPEND_PCT_CHANGE_VS_PREV_MONTH  SPEND_PCT_CHANGE_VS_PREV_YEAR  ONLINE_TRANSACTIONS  ONLINE_SPEND TRANSACTION_INTERMEDIARY SPEND_BY_TRANSACTION_INTERMEDIARY                  BUCKETED_CUSTOMER_FREQUENCY               MEAN_SPEND_PER_CUSTOMER_BY_FREQUENCY                          BUCKETED_CUSTOMER_INCOMES                  MEAN_SPEND_PER_CUSTOMER_BY_INCOME                                 CUSTOMER_HOME_CITY         RELATED_CROSS_SHOPPING_PHYSICAL_BRANDS_PCT        RELATED_CROSS_SHOPPING_ONLINE_MERCHANTS_PCT    RELATED_CROSS_SHOPPING_SAME_CATEGORY_BRANDS_PCT RELATED_CROSS_SHOPPING_LOCAL_BRANDS_PCT                       RELATED_WIRELESS_CARRIER_PCT                        RELATED_STREAMING_CABLE_PCT                RELATED_DELIVERY_SERVICE_PCT RELATED_RIDESHARE_SERVICE_PCT                 RELATED_BUYNOWPAYLATER_SERVICE_PCT     RELATED_PAYMENT_PLATFORM_PCT\n",
      "164847  223-222@5sy-d6f-dy9                                        NaN          NaN  2022-05-01 00:00:00.000  2022-06-01 00:00:00.000           779.62                    11                 11                         80.17                      80.17           {\"25\":52.78,\"75\":91.98}  [0.00,0.00,0.00,0.00,0.00,0.00,0.00,0.00,0.00,...  [null,null,null,null,null,null,null,null,null,...  {\"Monday\":97.03,\"Tuesday\":52.78,\"Wednesday\":0....  {\"Wednesday\":4,\"Monday\":5,\"Saturday\":4,\"Thursd...                             NaN                          147.0                    0           0.0   {\"No intermediary\":11}        {\"No intermediary\":779.62}  {\"1\":11,\"2\":0,\"3\":0,\"4\":0,\"5-10\":0,\">10\":0}  {\"1\":70.87,\"2\":null,\"3\":null,\"4\":null,\"5-10\":n...     {\"25-45k\":2,\"60-75k\":2,\"100-150k\":2,\">150k\":5}  {\"25-45k\":83.65,\"60-75k\":16.59,\"100-150k\":86.0...  {\"South Jordan, UT\":4,\"Salt Lake City, UT\":2,\"...  {\"Walmart\":55,\"Chevron\":37,\"Costco\":37,\"Shell ...  {\"Amazon\":46,\"Apple\":46,\"Netflix\":46,\"Amazon D...  {\"Olive Garden\":28,\"Wendy's\":28,\"McDonald's\":2...                      {\"Exxon Mobil\":10}  {\"Verizon Wireless\":37,\"T-Mobile\":10,\"Straight...  {\"Netflix\":46,\"Redbox\":19,\"HBO Max\":10,\"YouTub...                                          {}                   {\"Uber\":10}           {\"Afterpay\":10,\"Progressive Leasing\":10}                               {}\n",
      "165374  223-222@5sy-d6f-nnq                                        NaN          NaN  2022-05-01 00:00:00.000  2022-06-01 00:00:00.000           821.90                     9                  8                         34.08                      33.69          {\"25\":29.28,\"75\":155.04}  [0.00,0.00,0.00,0.00,0.00,0.00,0.00,0.00,0.00,...  [null,null,null,null,null,null,null,null,null,...  {\"Monday\":327.80,\"Tuesday\":58.56,\"Wednesday\":4...  {\"Wednesday\":4,\"Monday\":5,\"Saturday\":4,\"Thursd...                           168.0                          -51.0                    0           0.0    {\"No intermediary\":9}        {\"No intermediary\":821.90}   {\"1\":7,\"2\":1,\"3\":0,\"4\":0,\"5-10\":0,\">10\":0}  {\"1\":73.12,\"2\":310.07,\"3\":null,\"4\":null,\"5-10\"...                 {\"25-45k\":2,\"75-100k\":2,\">150k\":4}    {\"25-45k\":30.62,\"75-100k\":34.08,\">150k\":173.99}  {\"Seattle, WA\":3,\"Beulaville, NC\":2,\"Montpelie...  {\"Exxon Mobil\":75,\"Walmart\":63,\"McDonald's\":63...  {\"Amazon\":88,\"Spotify\":50,\"Amazon Digital Serv...  {\"Quality Inn\":25,\"Travelodge\":13,\"Hampton\":13...                      {\"Exxon Mobil\":38}    {\"Verizon Wireless\":38,\"AT&T\":13,\"T-Mobile\":13}  {\"Netflix\":38,\"Hulu\":25,\"Sling TV\":13,\"Youtube...                             {\"DoorDash\":13}                            {}                                                 {}                               {}\n",
      "166250  223-222@5sy-d6g-ks5                                        NaN          NaN  2022-05-01 00:00:00.000  2022-06-01 00:00:00.000          1057.00                    23                 14                         29.00                      63.50           {\"25\":26.00,\"75\":65.00}  [0.00,0.00,0.00,0.00,0.00,0.00,0.00,0.00,0.00,...  [null,null,null,null,null,null,null,null,null,...  {\"Monday\":86.00,\"Tuesday\":203.00,\"Wednesday\":2...  {\"Wednesday\":4,\"Monday\":5,\"Saturday\":4,\"Thursd...                             NaN                           61.0                    0           0.0   {\"No intermediary\":23}       {\"No intermediary\":1057.00}  {\"1\":12,\"2\":0,\"3\":0,\"4\":0,\"5-10\":2,\">10\":0}  {\"1\":60.17,\"2\":null,\"3\":null,\"4\":null,\"5-10\":1...  {\"<25k\":2,\"25-45k\":2,\"45-60k\":2,\"100-150k\":2,\"...  {\"<25k\":37.50,\"25-45k\":16.00,\"45-60k\":80.00,\"1...  {\"Georgetown, MA\":2,\"Victor, ID\":2,\"Birmingham...  {\"Walmart\":50,\"Exxon Mobil\":50,\"Albertsons\":43...  {\"Amazon\":43,\"Apple\":29,\"Netflix\":22,\"AT&T\":22...  {\"McDonald's\":29,\"Wendy's\":22,\"Chick-fil-A\":22...                                      {}    {\"AT&T\":29,\"Verizon Wireless\":22,\"T-Mobile\":15}  {\"Netflix\":22,\"YouTube TV\":8,\"Dish Network\":8,...                                          {}                            {}                                                 {}                               {}\n",
      "166811  223-222@5sy-d6f-dy9                                        NaN          NaN  2022-06-01 00:00:00.000  2022-07-01 00:00:00.000          2787.05                    55                 28                         39.35                      64.68           {\"25\":22.09,\"75\":50.89}  [16.12,140.65,187.99,60.70,173.95,160.03,0.00,...  [16.12,32.75,93.99,60.70,25.84,21.63,null,null...  {\"Monday\":702.81,\"Tuesday\":900.54,\"Wednesday\":...  {\"Wednesday\":5,\"Monday\":4,\"Saturday\":4,\"Thursd...                           257.0                          -27.0                    0           0.0   {\"No intermediary\":55}       {\"No intermediary\":2787.05}  {\"1\":18,\"2\":6,\"3\":2,\"4\":1,\"5-10\":0,\">10\":1}  {\"1\":63.98,\"2\":136.49,\"3\":85.35,\"4\":105.39,\"5-...  {\"<25k\":2,\"25-45k\":5,\"45-60k\":4,\"60-75k\":4,\"75...  {\"<25k\":44.64,\"25-45k\":102.04,\"45-60k\":67.78,\"...  {\"Cypress, TX\":4,\"Tempe, AZ\":3,\"Beavercreek, O...  {\"Walmart\":83,\"McDonald's\":68,\"Target\":50,\"Mav...  {\"Amazon\":72,\"Apple\":50,\"Netflix\":43,\"Verizon ...  {\"McDonald's\":68,\"Wendy's\":33,\"Taco Bell\":29,\"...                      {\"Exxon Mobil\":15}  {\"Verizon Wireless\":43,\"AT&T\":11,\"Straight Tal...  {\"Netflix\":43,\"Disney Plus\":15,\"Hulu\":11,\"Roku...              {\"Dashpass\":11,\"HelloFresh\":4}                    {\"Uber\":4}  {\"Affirm.com\":4,\"Klarna\":4,\"Progressive Leasin...  {\"Apple Card\":4,\"Apple Cash\":4}\n",
      "167904  223-222@5sy-d6f-rzf  SG_BRAND_a144a8c10e1fe8006125571afd1a1e80  Exxon Mobil  2022-05-01 00:00:00.000  2022-06-01 00:00:00.000           951.44                    29                 24                         17.70                      12.25            {\"25\":5.20,\"75\":59.55}  [0.00,0.00,0.00,0.00,0.00,0.00,0.00,4.60,0.00,...  [null,null,null,null,null,null,null,4.60,null,...  {\"Monday\":127.17,\"Tuesday\":262.14,\"Wednesday\":...  {\"Wednesday\":4,\"Monday\":5,\"Saturday\":4,\"Thursd...                           221.0                          -26.0                    0           0.0   {\"No intermediary\":29}        {\"No intermediary\":951.44}  {\"1\":19,\"2\":5,\"3\":0,\"4\":0,\"5-10\":0,\">10\":0}  {\"1\":27.09,\"2\":87.34,\"3\":null,\"4\":null,\"5-10\":...  {\"<25k\":2,\"25-45k\":6,\"45-60k\":2,\"60-75k\":2,\"10...  {\"<25k\":2.15,\"25-45k\":7.40,\"45-60k\":9.00,\"60-7...  {\"Folsom, CA\":5,\"South Jordan, UT\":4,\"Beulavil...  {\"Walmart\":67,\"McDonald's\":55,\"Chevron\":46,\"Co...  {\"Amazon\":55,\"Apple\":46,\"Spotify\":34,\"Walmart\"...  {\"Chevron\":46,\"ConocoPhillips\":34,\"Shell Oil\":...                                      {}  {\"Verizon Wireless\":25,\"AT&T\":21,\"T-Mobile\":9,...  {\"Netflix\":21,\"Hulu\":21,\"Roku\":13,\"Disney Plus...  {\"Instacart\":5,\"Uber Eats\":5,\"DoorDash\":5}          {\"Uber\":17,\"Lyft\":5}                          {\"Afterpay\":5,\"Klarna\":5}                 {\"Apple Card\":5}\n"
     ]
    },
    {
     "name": "stderr",
     "output_type": "stream",
     "text": [
      "C:\\Users\\tjbla\\AppData\\Local\\Temp\\ipykernel_5292\\4196244775.py:12: UserWarning: Boolean Series key will be reindexed to match DataFrame index.\n",
      "  df_filtered_2022 = df[(df_safegraph_spend['SPEND_DATE_RANGE_START'] >= datetime_start) &\n"
     ]
    }
   ],
   "source": [
    "# Filter by Dates\n",
    "\n",
    "# print('(before filter) # of rows: ', len(df_filtered))\n",
    "df = df_filtered.copy()\n",
    "\n",
    "datetime_start = pd.to_datetime('2022-05-01')\n",
    "datetime_end = pd.to_datetime('2022-09-01')\n",
    "\n",
    "df_safegraph_spend['SPEND_DATE_RANGE_START'] = pd.to_datetime(df_safegraph_spend['SPEND_DATE_RANGE_START'])\n",
    "df_safegraph_spend['SPEND_DATE_RANGE_END'] = pd.to_datetime(df_safegraph_spend['SPEND_DATE_RANGE_END'])\n",
    "\n",
    "df_filtered_2022 = df[(df_safegraph_spend['SPEND_DATE_RANGE_START'] >= datetime_start) &\n",
    "                                 (df_safegraph_spend['SPEND_DATE_RANGE_END'] <= datetime_end)]\n",
    "\n",
    "#print('(after filter) # of rows: ', len(df_filtered))\n",
    "print(df_filtered_2022.head())\n"
   ]
  },
  {
   "cell_type": "code",
   "execution_count": 8,
   "metadata": {},
   "outputs": [],
   "source": [
    "# Make a Plot of the Data\n",
    "\n",
    "# Note: 'SPEND_DATE_RANGE_START' and 'SPEND_DATE_RANGE_END' is typically separated by 1 month (~30 days)\n",
    "#       'SPEND_BY_DAY' is each spend data for each day of the month\n",
    "# Goal; Plot spending for each single day using plotly\n",
    "\n",
    "import plotly.express as px\n",
    "import ast  # For safely evaluating strings containing Python literals\n",
    "import matplotlib.pyplot as plt\n",
    "\n",
    "df = df_filtered_2022.copy()\n",
    "\n",
    "# Convert string representations of lists in 'SPEND_BY_DAY' to actual lists\n",
    "df['SPEND_BY_DAY'] = df['SPEND_BY_DAY'].apply(ast.literal_eval)\n",
    "\n",
    "# Add a new column called 'DATE_OF_MONTH', as a list of integers from 1 to the end of the month (length of the 'SPEND_BY_DAY' list)\n",
    "df['DATE_OF_MONTH'] = df['SPEND_BY_DAY'].apply(lambda x: list(range(1, len(x) + 1)))\n",
    "\n",
    "#print(df.head())\n",
    "\n",
    "# Explode both 'SPEND_BY_DAY' and 'DATE_OF_MONTH' simultaneously to keep their mapping correct\n",
    "df_spend_by_day = df.explode(['SPEND_BY_DAY', 'DATE_OF_MONTH'])\n",
    "\n",
    "# Convert the spending amounts to float\n",
    "df_spend_by_day['SPEND_BY_DAY'] = df_spend_by_day['SPEND_BY_DAY'].astype(float)\n",
    "df_spend_by_day['DATE_OF_MONTH'] = df_spend_by_day['DATE_OF_MONTH'].astype(int)\n",
    "\n",
    "\n",
    "# Calculate 'DATE' correctly by subtracting 1 since 'DATE_OF_MONTH' starts from 1, not 0\n",
    "df_spend_by_day['DATE'] = pd.to_datetime(df_spend_by_day['SPEND_DATE_RANGE_START']) + pd.to_timedelta(df_spend_by_day['DATE_OF_MONTH'] - 1, unit='D')\n",
    "df_spend_by_day['DATE'] = df_spend_by_day['DATE'].dt.strftime('%m-%d')\n",
    "\n",
    "# Ensure the DataFrame is sorted by 'DATE' if not already\n",
    "# df_spend_by_day = df_spend_by_day.sort_values('DATE')\n",
    "\n",
    "grouped_22_ccmt = df_spend_by_day.groupby('DATE')['SPEND_BY_DAY'].sum()\n",
    "#print(grouped_22.head(10))\n"
   ]
  },
  {
   "cell_type": "code",
   "execution_count": 9,
   "metadata": {},
   "outputs": [
    {
     "data": {
      "image/png": "[encoded data removed]",
      "text/plain": [
       "<Figure size 1400x800 with 1 Axes>"
      ]
     },
     "metadata": {},
     "output_type": "display_data"
    }
   ],
   "source": [
    "# Plot the overall spending\n",
    "\n",
    "plt.figure(figsize=(14, 8))\n",
    "\n",
    "plt.plot(grouped_19_ccmt);\n",
    "plt.plot(grouped_21_ccmt);\n",
    "plt.plot(grouped_22_ccmt);\n",
    "plt.title('Spending per Day, Cooke City/Silver Gate, MT');\n",
    "plt.xlabel('day');\n",
    "plt.ylabel('$');\n",
    "plt.legend(['2019', '2021', '2022']);\n",
    "\n",
    "plt.savefig('General_Cooke_City_Spending_2019-2022.png');"
   ]
  },
  {
   "cell_type": "code",
   "execution_count": 14,
   "metadata": {},
   "outputs": [
    {
     "name": "stdout",
     "output_type": "stream",
     "text": [
      "                   PLACEKEY                        SAFEGRAPH_BRAND_IDS       BRANDS   SPEND_DATE_RANGE_START     SPEND_DATE_RANGE_END  RAW_TOTAL_SPEND  RAW_NUM_TRANSACTIONS  RAW_NUM_CUSTOMERS  MEDIAN_SPEND_PER_TRANSACTION  MEDIAN_SPEND_PER_CUSTOMER SPEND_PER_TRANSACTION_PERCENTILES                                       SPEND_BY_DAY                       SPEND_PER_TRANSACTION_BY_DAY                               SPEND_BY_DAY_OF_WEEK                                         DAY_COUNTS  SPEND_PCT_CHANGE_VS_PREV_MONTH  SPEND_PCT_CHANGE_VS_PREV_YEAR  ONLINE_TRANSACTIONS  ONLINE_SPEND TRANSACTION_INTERMEDIARY SPEND_BY_TRANSACTION_INTERMEDIARY                  BUCKETED_CUSTOMER_FREQUENCY               MEAN_SPEND_PER_CUSTOMER_BY_FREQUENCY                          BUCKETED_CUSTOMER_INCOMES                  MEAN_SPEND_PER_CUSTOMER_BY_INCOME                                 CUSTOMER_HOME_CITY         RELATED_CROSS_SHOPPING_PHYSICAL_BRANDS_PCT        RELATED_CROSS_SHOPPING_ONLINE_MERCHANTS_PCT    RELATED_CROSS_SHOPPING_SAME_CATEGORY_BRANDS_PCT RELATED_CROSS_SHOPPING_LOCAL_BRANDS_PCT                     RELATED_WIRELESS_CARRIER_PCT RELATED_STREAMING_CABLE_PCT    RELATED_DELIVERY_SERVICE_PCT RELATED_RIDESHARE_SERVICE_PCT RELATED_BUYNOWPAYLATER_SERVICE_PCT RELATED_PAYMENT_PLATFORM_PCT\n",
      "218779  223-222@5sy-d6f-nnq                                        NaN          NaN  2023-05-01 00:00:00.000  2023-06-01 00:00:00.000          1000.22                    16                 14                         41.68                      38.71           {\"25\":32.68,\"75\":59.00}  [0.00,38.58,38.84,0.00,0.00,0.00,0.00,0.00,0.0...  [null,38.58,38.84,null,null,null,null,null,nul...  {\"Monday\":32.25,\"Tuesday\":197.06,\"Wednesday\":2...  {\"Wednesday\":5,\"Monday\":5,\"Saturday\":4,\"Thursd...                           442.0                           22.0                    2        210.38   {\"No intermediary\":16}       {\"No intermediary\":1000.22}  {\"1\":12,\"2\":2,\"3\":0,\"4\":0,\"5-10\":0,\">10\":0}  {\"1\":50.82,\"2\":195.19,\"3\":null,\"4\":null,\"5-10\"...  {\"<25k\":2,\"25-45k\":2,\"45-60k\":3,\"60-75k\":2,\"75...  {\"<25k\":16.97,\"25-45k\":41.55,\"45-60k\":210.38,\"...  {\"Saint Paul, MN\":2,\"Amalga, UT\":2,\"Driggs, ID...  {\"7-Eleven\":15,\"Ace Hardware\":36,\"Albertsons\":...  {\"Amazon\":50,\"Apple\":43,\"Sirius XM\":22,\"Netfli...                                                 {}                                      {}  {\"AT&T\":29,\"T-Mobile\":22,\"Verizon Wireless\":22}            {\"Paramount+\":8}        {\"DoorDash\":8,\"Shipt\":8}                            {}                                 {}             {\"Apple Card\":8}\n",
      "219074  zzw-222@5sy-d6f-f2k                                        NaN          NaN  2023-05-01 00:00:00.000  2023-06-01 00:00:00.000           317.44                     8                  7                         39.34                      42.88           {\"25\":15.25,\"75\":55.38}  [0.00,0.00,0.00,0.00,0.00,0.00,0.00,0.00,0.00,...  [null,null,null,null,null,null,null,null,null,...  {\"Monday\":0.00,\"Tuesday\":132.50,\"Wednesday\":58...  {\"Wednesday\":5,\"Monday\":5,\"Saturday\":4,\"Thursd...                             NaN                          -53.0                    0          0.00    {\"No intermediary\":8}        {\"No intermediary\":317.44}   {\"1\":6,\"2\":1,\"3\":0,\"4\":0,\"5-10\":0,\">10\":0}  {\"1\":48.02,\"2\":29.30,\"3\":null,\"4\":null,\"5-10\":...  {\"25-45k\":2,\"60-75k\":2,\"75-100k\":2,\"100-150k\":...  {\"25-45k\":42.88,\"60-75k\":37.15,\"75-100k\":35.80...  {\"Longmont, CO\":2,\"Mesquite, NV\":2,\"Elwood, IN...  {\"ARCO\":29,\"Albertsons\":29,\"Apple Retail Store...  {\"Verizon Wireless\":43,\"Netflix\":29,\"Sling TV\"...            {\"Olive Garden\":15,\"Raising Cane's\":15}                                      {}                          {\"Verizon Wireless\":72}                          {}  {\"DoorDash\":15,\"Uber Eats\":15}                   {\"Uber\":15}                                 {}                           {}\n",
      "219091  223-222@5sy-d6g-ks5                                        NaN          NaN  2023-05-01 00:00:00.000  2023-06-01 00:00:00.000           213.50                     7                  5                         27.00                      45.00           {\"25\":20.00,\"75\":40.00}  [0.00,0.00,0.00,0.00,0.00,0.00,0.00,0.00,0.00,...  [null,null,null,null,null,null,null,null,null,...  {\"Monday\":40.00,\"Tuesday\":0.00,\"Wednesday\":0.0...  {\"Wednesday\":5,\"Monday\":5,\"Saturday\":4,\"Thursd...                             NaN                          -80.0                    0          0.00    {\"No intermediary\":7}        {\"No intermediary\":213.50}   {\"1\":3,\"2\":2,\"3\":0,\"4\":0,\"5-10\":0,\">10\":0}  {\"1\":39.83,\"2\":47.00,\"3\":null,\"4\":null,\"5-10\":...       {\"25-45k\":6,\"45-60k\":2,\"60-75k\":2,\">150k\":2}  {\"25-45k\":34.50,\"45-60k\":40.00,\"60-75k\":45.00,...  {\"Saint Petersburg, FL\":2,\"Nashville, TN\":2,\"L...  {\"7-Eleven\":40,\"ARCO\":60,\"Ace Hardware\":40,\"BP...  {\"Amazon\":40,\"Sirius XM\":40,\"Lowe's\":40,\"Kohl'...                {\"Cracker Barrel\":20,\"Culver's\":40}                                      {}                          {\"Verizon Wireless\":20}                          {}                              {}                            {}                                 {}                           {}\n",
      "222092  223-222@5sy-d6f-rzf  SG_BRAND_a144a8c10e1fe8006125571afd1a1e80  Exxon Mobil  2023-05-01 00:00:00.000  2023-06-01 00:00:00.000           155.43                     6                  5                         24.17                      27.93           {\"25\":16.75,\"75\":35.07}  [0.00,0.00,0.00,0.00,0.00,0.00,0.00,0.00,7.00,...  [null,null,null,null,null,null,null,null,7.00,...  {\"Monday\":0.00,\"Tuesday\":27.00,\"Wednesday\":27....  {\"Wednesday\":5,\"Monday\":5,\"Saturday\":4,\"Thursd...                             NaN                          -84.0                    0          0.00    {\"No intermediary\":6}        {\"No intermediary\":155.43}   {\"1\":4,\"2\":1,\"3\":0,\"4\":0,\"5-10\":0,\">10\":0}  {\"1\":26.34,\"2\":50.08,\"3\":null,\"4\":null,\"5-10\":...        {\"<25k\":3,\"45-60k\":2,\"75-100k\":2,\">150k\":2}  {\"<25k\":50.05,\"45-60k\":27.93,\"75-100k\":20.40,\"...                       {\"Lutz, FL\":2,\"Tempe, AZ\":2}  {\"7-Eleven\":20,\"AT&T\":20,\"Agway\":20,\"Applebee'...  {\"Amazon\":40,\"Apple\":40,\"Sirius XM\":20,\"Lowe's...  {\"BP\":20,\"ConocoPhillips\":60,\"Holiday Station\"...                          {\"Super 8\":40}                                      {\"AT&T\":40}                          {}  {\"Dashpass\":20,\"Uber Eats\":20}                            {}                  {\"Affirm.com\":20}                           {}\n",
      "223009  zzy-225@5sy-d6f-dy9                                        NaN          NaN  2023-05-01 00:00:00.000  2023-06-01 00:00:00.000           126.80                     2                  2                         63.40                      63.40           {\"25\":35.33,\"75\":91.47}  [0.00,0.00,0.00,0.00,0.00,0.00,0.00,0.00,0.00,...  [null,null,null,null,null,null,null,null,null,...  {\"Monday\":0.00,\"Tuesday\":0.00,\"Wednesday\":0.00...  {\"Wednesday\":5,\"Monday\":5,\"Saturday\":4,\"Thursd...                             NaN                            NaN                    0          0.00    {\"No intermediary\":2}        {\"No intermediary\":126.80}   {\"1\":2,\"2\":0,\"3\":0,\"4\":0,\"5-10\":0,\">10\":0}  {\"1\":63.40,\"2\":null,\"3\":null,\"4\":null,\"5-10\":n...                          {\"60-75k\":2,\"100-150k\":2}                  {\"60-75k\":35.33,\"100-150k\":91.47}              {\"Murfreesboro, TN\":2,\"Elburn, IL\":2}  {\"ALDI\":50,\"BP\":100,\"Bargain Hunt\":50,\"Baskin ...  {\"Etsy\":100,\"Verizon Wireless\":100,\"Planet Fit...                                                 {}                                      {}               {\"Verizon Wireless\":100,\"AT&T\":50}                          {}                {\"Uber Eats\":50}                            {}                                 {}            {\"Apple Card\":50}\n"
     ]
    },
    {
     "name": "stderr",
     "output_type": "stream",
     "text": [
      "C:\\Users\\tjbla\\AppData\\Local\\Temp\\ipykernel_21468\\2773158075.py:12: UserWarning:\n",
      "\n",
      "Boolean Series key will be reindexed to match DataFrame index.\n",
      "\n"
     ]
    }
   ],
   "source": [
    "# Filter by Dates\n",
    "\n",
    "# print('(before filter) # of rows: ', len(df_filtered))\n",
    "df = df_filtered.copy()\n",
    "\n",
    "datetime_start = pd.to_datetime('2023-05-01')\n",
    "datetime_end = pd.to_datetime('2023-09-01')\n",
    "\n",
    "df_safegraph_spend['SPEND_DATE_RANGE_START'] = pd.to_datetime(df_safegraph_spend['SPEND_DATE_RANGE_START'])\n",
    "df_safegraph_spend['SPEND_DATE_RANGE_END'] = pd.to_datetime(df_safegraph_spend['SPEND_DATE_RANGE_END'])\n",
    "\n",
    "df_filtered_2023 = df[(df_safegraph_spend['SPEND_DATE_RANGE_START'] >= datetime_start) &\n",
    "                                 (df_safegraph_spend['SPEND_DATE_RANGE_END'] <= datetime_end)]\n",
    "\n",
    "#print('(after filter) # of rows: ', len(df_filtered))\n",
    "print(df_filtered_2023.head())\n"
   ]
  },
  {
   "cell_type": "code",
   "execution_count": 18,
   "metadata": {},
   "outputs": [
    {
     "name": "stdout",
     "output_type": "stream",
     "text": [
      "                   PLACEKEY                        SAFEGRAPH_BRAND_IDS       BRANDS   SPEND_DATE_RANGE_START     SPEND_DATE_RANGE_END  RAW_TOTAL_SPEND  RAW_NUM_TRANSACTIONS  RAW_NUM_CUSTOMERS  MEDIAN_SPEND_PER_TRANSACTION  MEDIAN_SPEND_PER_CUSTOMER SPEND_PER_TRANSACTION_PERCENTILES                                       SPEND_BY_DAY                       SPEND_PER_TRANSACTION_BY_DAY                               SPEND_BY_DAY_OF_WEEK                                         DAY_COUNTS  SPEND_PCT_CHANGE_VS_PREV_MONTH  SPEND_PCT_CHANGE_VS_PREV_YEAR  ONLINE_TRANSACTIONS  ONLINE_SPEND TRANSACTION_INTERMEDIARY SPEND_BY_TRANSACTION_INTERMEDIARY                  BUCKETED_CUSTOMER_FREQUENCY               MEAN_SPEND_PER_CUSTOMER_BY_FREQUENCY                          BUCKETED_CUSTOMER_INCOMES                  MEAN_SPEND_PER_CUSTOMER_BY_INCOME                                 CUSTOMER_HOME_CITY         RELATED_CROSS_SHOPPING_PHYSICAL_BRANDS_PCT        RELATED_CROSS_SHOPPING_ONLINE_MERCHANTS_PCT    RELATED_CROSS_SHOPPING_SAME_CATEGORY_BRANDS_PCT RELATED_CROSS_SHOPPING_LOCAL_BRANDS_PCT                     RELATED_WIRELESS_CARRIER_PCT RELATED_STREAMING_CABLE_PCT    RELATED_DELIVERY_SERVICE_PCT RELATED_RIDESHARE_SERVICE_PCT RELATED_BUYNOWPAYLATER_SERVICE_PCT RELATED_PAYMENT_PLATFORM_PCT                                      DATE_OF_MONTH\n",
      "218779  223-222@5sy-d6f-nnq                                        NaN          NaN  2023-05-01 00:00:00.000  2023-06-01 00:00:00.000          1000.22                    16                 14                         41.68                      38.71           {\"25\":32.68,\"75\":59.00}  [0.0, 38.58, 38.84, 0.0, 0.0, 0.0, 0.0, 0.0, 0...  [null,38.58,38.84,null,null,null,null,null,nul...  {\"Monday\":32.25,\"Tuesday\":197.06,\"Wednesday\":2...  {\"Wednesday\":5,\"Monday\":5,\"Saturday\":4,\"Thursd...                           442.0                           22.0                    2        210.38   {\"No intermediary\":16}       {\"No intermediary\":1000.22}  {\"1\":12,\"2\":2,\"3\":0,\"4\":0,\"5-10\":0,\">10\":0}  {\"1\":50.82,\"2\":195.19,\"3\":null,\"4\":null,\"5-10\"...  {\"<25k\":2,\"25-45k\":2,\"45-60k\":3,\"60-75k\":2,\"75...  {\"<25k\":16.97,\"25-45k\":41.55,\"45-60k\":210.38,\"...  {\"Saint Paul, MN\":2,\"Amalga, UT\":2,\"Driggs, ID...  {\"7-Eleven\":15,\"Ace Hardware\":36,\"Albertsons\":...  {\"Amazon\":50,\"Apple\":43,\"Sirius XM\":22,\"Netfli...                                                 {}                                      {}  {\"AT&T\":29,\"T-Mobile\":22,\"Verizon Wireless\":22}            {\"Paramount+\":8}        {\"DoorDash\":8,\"Shipt\":8}                            {}                                 {}             {\"Apple Card\":8}  [1, 2, 3, 4, 5, 6, 7, 8, 9, 10, 11, 12, 13, 14...\n",
      "219074  zzw-222@5sy-d6f-f2k                                        NaN          NaN  2023-05-01 00:00:00.000  2023-06-01 00:00:00.000           317.44                     8                  7                         39.34                      42.88           {\"25\":15.25,\"75\":55.38}  [0.0, 0.0, 0.0, 0.0, 0.0, 0.0, 0.0, 0.0, 0.0, ...  [null,null,null,null,null,null,null,null,null,...  {\"Monday\":0.00,\"Tuesday\":132.50,\"Wednesday\":58...  {\"Wednesday\":5,\"Monday\":5,\"Saturday\":4,\"Thursd...                             NaN                          -53.0                    0          0.00    {\"No intermediary\":8}        {\"No intermediary\":317.44}   {\"1\":6,\"2\":1,\"3\":0,\"4\":0,\"5-10\":0,\">10\":0}  {\"1\":48.02,\"2\":29.30,\"3\":null,\"4\":null,\"5-10\":...  {\"25-45k\":2,\"60-75k\":2,\"75-100k\":2,\"100-150k\":...  {\"25-45k\":42.88,\"60-75k\":37.15,\"75-100k\":35.80...  {\"Longmont, CO\":2,\"Mesquite, NV\":2,\"Elwood, IN...  {\"ARCO\":29,\"Albertsons\":29,\"Apple Retail Store...  {\"Verizon Wireless\":43,\"Netflix\":29,\"Sling TV\"...            {\"Olive Garden\":15,\"Raising Cane's\":15}                                      {}                          {\"Verizon Wireless\":72}                          {}  {\"DoorDash\":15,\"Uber Eats\":15}                   {\"Uber\":15}                                 {}                           {}  [1, 2, 3, 4, 5, 6, 7, 8, 9, 10, 11, 12, 13, 14...\n",
      "219091  223-222@5sy-d6g-ks5                                        NaN          NaN  2023-05-01 00:00:00.000  2023-06-01 00:00:00.000           213.50                     7                  5                         27.00                      45.00           {\"25\":20.00,\"75\":40.00}  [0.0, 0.0, 0.0, 0.0, 0.0, 0.0, 0.0, 0.0, 0.0, ...  [null,null,null,null,null,null,null,null,null,...  {\"Monday\":40.00,\"Tuesday\":0.00,\"Wednesday\":0.0...  {\"Wednesday\":5,\"Monday\":5,\"Saturday\":4,\"Thursd...                             NaN                          -80.0                    0          0.00    {\"No intermediary\":7}        {\"No intermediary\":213.50}   {\"1\":3,\"2\":2,\"3\":0,\"4\":0,\"5-10\":0,\">10\":0}  {\"1\":39.83,\"2\":47.00,\"3\":null,\"4\":null,\"5-10\":...       {\"25-45k\":6,\"45-60k\":2,\"60-75k\":2,\">150k\":2}  {\"25-45k\":34.50,\"45-60k\":40.00,\"60-75k\":45.00,...  {\"Saint Petersburg, FL\":2,\"Nashville, TN\":2,\"L...  {\"7-Eleven\":40,\"ARCO\":60,\"Ace Hardware\":40,\"BP...  {\"Amazon\":40,\"Sirius XM\":40,\"Lowe's\":40,\"Kohl'...                {\"Cracker Barrel\":20,\"Culver's\":40}                                      {}                          {\"Verizon Wireless\":20}                          {}                              {}                            {}                                 {}                           {}  [1, 2, 3, 4, 5, 6, 7, 8, 9, 10, 11, 12, 13, 14...\n",
      "222092  223-222@5sy-d6f-rzf  SG_BRAND_a144a8c10e1fe8006125571afd1a1e80  Exxon Mobil  2023-05-01 00:00:00.000  2023-06-01 00:00:00.000           155.43                     6                  5                         24.17                      27.93           {\"25\":16.75,\"75\":35.07}  [0.0, 0.0, 0.0, 0.0, 0.0, 0.0, 0.0, 0.0, 7.0, ...  [null,null,null,null,null,null,null,null,7.00,...  {\"Monday\":0.00,\"Tuesday\":27.00,\"Wednesday\":27....  {\"Wednesday\":5,\"Monday\":5,\"Saturday\":4,\"Thursd...                             NaN                          -84.0                    0          0.00    {\"No intermediary\":6}        {\"No intermediary\":155.43}   {\"1\":4,\"2\":1,\"3\":0,\"4\":0,\"5-10\":0,\">10\":0}  {\"1\":26.34,\"2\":50.08,\"3\":null,\"4\":null,\"5-10\":...        {\"<25k\":3,\"45-60k\":2,\"75-100k\":2,\">150k\":2}  {\"<25k\":50.05,\"45-60k\":27.93,\"75-100k\":20.40,\"...                       {\"Lutz, FL\":2,\"Tempe, AZ\":2}  {\"7-Eleven\":20,\"AT&T\":20,\"Agway\":20,\"Applebee'...  {\"Amazon\":40,\"Apple\":40,\"Sirius XM\":20,\"Lowe's...  {\"BP\":20,\"ConocoPhillips\":60,\"Holiday Station\"...                          {\"Super 8\":40}                                      {\"AT&T\":40}                          {}  {\"Dashpass\":20,\"Uber Eats\":20}                            {}                  {\"Affirm.com\":20}                           {}  [1, 2, 3, 4, 5, 6, 7, 8, 9, 10, 11, 12, 13, 14...\n",
      "223009  zzy-225@5sy-d6f-dy9                                        NaN          NaN  2023-05-01 00:00:00.000  2023-06-01 00:00:00.000           126.80                     2                  2                         63.40                      63.40           {\"25\":35.33,\"75\":91.47}  [0.0, 0.0, 0.0, 0.0, 0.0, 0.0, 0.0, 0.0, 0.0, ...  [null,null,null,null,null,null,null,null,null,...  {\"Monday\":0.00,\"Tuesday\":0.00,\"Wednesday\":0.00...  {\"Wednesday\":5,\"Monday\":5,\"Saturday\":4,\"Thursd...                             NaN                            NaN                    0          0.00    {\"No intermediary\":2}        {\"No intermediary\":126.80}   {\"1\":2,\"2\":0,\"3\":0,\"4\":0,\"5-10\":0,\">10\":0}  {\"1\":63.40,\"2\":null,\"3\":null,\"4\":null,\"5-10\":n...                          {\"60-75k\":2,\"100-150k\":2}                  {\"60-75k\":35.33,\"100-150k\":91.47}              {\"Murfreesboro, TN\":2,\"Elburn, IL\":2}  {\"ALDI\":50,\"BP\":100,\"Bargain Hunt\":50,\"Baskin ...  {\"Etsy\":100,\"Verizon Wireless\":100,\"Planet Fit...                                                 {}                                      {}               {\"Verizon Wireless\":100,\"AT&T\":50}                          {}                {\"Uber Eats\":50}                            {}                                 {}            {\"Apple Card\":50}  [1, 2, 3, 4, 5, 6, 7, 8, 9, 10, 11, 12, 13, 14...\n",
      "DATE\n",
      "2023-05-01     0.00\n",
      "2023-05-02    38.58\n",
      "2023-05-03    38.84\n",
      "2023-05-04     0.00\n",
      "2023-05-05     0.00\n",
      "2023-05-06     0.00\n",
      "2023-05-07     0.00\n",
      "2023-05-08     0.00\n",
      "2023-05-09     7.00\n",
      "2023-05-10     0.00\n",
      "Name: SPEND_BY_DAY, dtype: float64\n"
     ]
    },
    {
     "name": "stderr",
     "output_type": "stream",
     "text": [
      "c:\\Users\\tjbla\\miniforge3\\envs\\worth\\Lib\\site-packages\\_plotly_utils\\basevalidators.py:106: FutureWarning:\n",
      "\n",
      "The behavior of DatetimeProperties.to_pydatetime is deprecated, in a future version this will return a Series containing python datetime objects instead of an ndarray. To retain the old behavior, call `np.array` on the result\n",
      "\n"
     ]
    },
    {
     "data": {
      "application/vnd.plotly.v1+json": {
       "config": {
        "plotlyServerURL": "https://plot.ly"
       },
       "data": [
        {
         "hovertemplate": "variable=SPEND_BY_DAY<br>DATE=%{x}<br>value=%{y}<extra></extra>",
         "legendgroup": "SPEND_BY_DAY",
         "line": {
          "color": "#636efa",
          "dash": "solid"
         },
         "marker": {
          "symbol": "circle"
         },
         "mode": "lines",
         "name": "SPEND_BY_DAY",
         "orientation": "v",
         "showlegend": true,
         "type": "scatter",
         "x": [
          "2023-05-01T00:00:00",
          "2023-05-02T00:00:00",
          "2023-05-03T00:00:00",
          "2023-05-04T00:00:00",
          "2023-05-05T00:00:00",
          "2023-05-06T00:00:00",
          "2023-05-07T00:00:00",
          "2023-05-08T00:00:00",
          "2023-05-09T00:00:00",
          "2023-05-10T00:00:00",
          "2023-05-11T00:00:00",
          "2023-05-12T00:00:00",
          "2023-05-13T00:00:00",
          "2023-05-14T00:00:00",
          "2023-05-15T00:00:00",
          "2023-05-16T00:00:00",
          "2023-05-17T00:00:00",
          "2023-05-18T00:00:00",
          "2023-05-19T00:00:00",
          "2023-05-20T00:00:00",
          "2023-05-21T00:00:00",
          "2023-05-22T00:00:00",
          "2023-05-23T00:00:00",
          "2023-05-24T00:00:00",
          "2023-05-25T00:00:00",
          "2023-05-26T00:00:00",
          "2023-05-27T00:00:00",
          "2023-05-28T00:00:00",
          "2023-05-29T00:00:00",
          "2023-05-30T00:00:00",
          "2023-05-31T00:00:00",
          "2023-06-01T00:00:00",
          "2023-06-02T00:00:00",
          "2023-06-03T00:00:00",
          "2023-06-04T00:00:00",
          "2023-06-05T00:00:00",
          "2023-06-06T00:00:00",
          "2023-06-07T00:00:00",
          "2023-06-08T00:00:00",
          "2023-06-09T00:00:00",
          "2023-06-10T00:00:00",
          "2023-06-11T00:00:00",
          "2023-06-12T00:00:00",
          "2023-06-13T00:00:00",
          "2023-06-14T00:00:00",
          "2023-06-15T00:00:00",
          "2023-06-16T00:00:00",
          "2023-06-17T00:00:00",
          "2023-06-18T00:00:00",
          "2023-06-19T00:00:00",
          "2023-06-20T00:00:00",
          "2023-06-21T00:00:00",
          "2023-06-22T00:00:00",
          "2023-06-23T00:00:00",
          "2023-06-24T00:00:00",
          "2023-06-25T00:00:00",
          "2023-06-26T00:00:00",
          "2023-06-27T00:00:00",
          "2023-06-28T00:00:00",
          "2023-06-29T00:00:00",
          "2023-06-30T00:00:00",
          "2023-07-01T00:00:00",
          "2023-07-02T00:00:00",
          "2023-07-03T00:00:00",
          "2023-07-04T00:00:00",
          "2023-07-05T00:00:00",
          "2023-07-06T00:00:00",
          "2023-07-07T00:00:00",
          "2023-07-08T00:00:00",
          "2023-07-09T00:00:00",
          "2023-07-10T00:00:00",
          "2023-07-11T00:00:00",
          "2023-07-12T00:00:00",
          "2023-07-13T00:00:00",
          "2023-07-14T00:00:00",
          "2023-07-15T00:00:00",
          "2023-07-16T00:00:00",
          "2023-07-17T00:00:00",
          "2023-07-18T00:00:00",
          "2023-07-19T00:00:00",
          "2023-07-20T00:00:00",
          "2023-07-21T00:00:00",
          "2023-07-22T00:00:00",
          "2023-07-23T00:00:00",
          "2023-07-24T00:00:00",
          "2023-07-25T00:00:00",
          "2023-07-26T00:00:00",
          "2023-07-27T00:00:00",
          "2023-07-28T00:00:00",
          "2023-07-29T00:00:00",
          "2023-07-30T00:00:00",
          "2023-07-31T00:00:00",
          "2023-08-01T00:00:00",
          "2023-08-02T00:00:00",
          "2023-08-03T00:00:00",
          "2023-08-04T00:00:00",
          "2023-08-05T00:00:00",
          "2023-08-06T00:00:00",
          "2023-08-07T00:00:00",
          "2023-08-08T00:00:00",
          "2023-08-09T00:00:00",
          "2023-08-10T00:00:00",
          "2023-08-11T00:00:00",
          "2023-08-12T00:00:00",
          "2023-08-13T00:00:00",
          "2023-08-14T00:00:00",
          "2023-08-15T00:00:00",
          "2023-08-16T00:00:00",
          "2023-08-17T00:00:00",
          "2023-08-18T00:00:00",
          "2023-08-19T00:00:00",
          "2023-08-20T00:00:00",
          "2023-08-21T00:00:00",
          "2023-08-22T00:00:00",
          "2023-08-23T00:00:00",
          "2023-08-24T00:00:00",
          "2023-08-25T00:00:00",
          "2023-08-26T00:00:00",
          "2023-08-27T00:00:00",
          "2023-08-28T00:00:00",
          "2023-08-29T00:00:00",
          "2023-08-30T00:00:00",
          "2023-08-31T00:00:00"
         ],
         "xaxis": "x",
         "y": [
          0,
          38.58,
          38.84,
          0,
          0,
          0,
          0,
          0,
          7,
          0,
          0,
          33.98,
          70,
          94,
          40,
          0,
          58.84,
          44.51,
          159.5,
          621.0699999999999,
          30.08,
          32.25,
          288.47,
          27.93,
          121.15,
          159.26999999999998,
          279.75,
          181.47,
          0,
          689.2,
          333.53999999999996,
          67.08,
          0,
          236.76,
          75.84,
          1055.6,
          483.01,
          244.51999999999998,
          386.13,
          324.68,
          165.28,
          99.94,
          675.76,
          386.35,
          105.07999999999998,
          392.2,
          1208.69,
          464.26,
          130.3,
          525.61,
          477.29,
          341.52,
          379.83,
          724.28,
          183.76999999999998,
          157.85,
          1646.3,
          185.91,
          69.24000000000001,
          133.05,
          421.13,
          864.5600000000001,
          175.2,
          776.29,
          1342.32,
          305.68,
          508.89,
          465.09,
          758.78,
          5.09,
          261.95,
          250.17000000000002,
          301.11,
          284.53,
          235.12,
          248.64,
          445.36,
          1270.51,
          591.12,
          351.78999999999996,
          663.12,
          631.05,
          399.97,
          175.1,
          494.71,
          433.70000000000005,
          194.69,
          522.7,
          148.26,
          422.65,
          235.45,
          643.1800000000001,
          248.68,
          150.13,
          778.66,
          38.28,
          220.56,
          132.34,
          1056.69,
          722.79,
          367.38,
          535.55,
          145.95,
          317.58000000000004,
          127.67,
          619.89,
          472.18,
          973.0899999999999,
          311.34,
          278.89,
          308.56,
          507.04,
          104.71,
          229.95,
          683.3299999999999,
          844.47,
          140.19,
          219.39,
          260.69,
          1123.91,
          58.940000000000005,
          99.52,
          194.64000000000001
         ],
         "yaxis": "y"
        }
       ],
       "layout": {
        "legend": {
         "title": {
          "text": "variable"
         },
         "tracegroupgap": 0
        },
        "template": {
         "data": {
          "bar": [
           {
            "error_x": {
             "color": "#2a3f5f"
            },
            "error_y": {
             "color": "#2a3f5f"
            },
            "marker": {
             "line": {
              "color": "#E5ECF6",
              "width": 0.5
             },
             "pattern": {
              "fillmode": "overlay",
              "size": 10,
              "solidity": 0.2
             }
            },
            "type": "bar"
           }
          ],
          "barpolar": [
           {
            "marker": {
             "line": {
              "color": "#E5ECF6",
              "width": 0.5
             },
             "pattern": {
              "fillmode": "overlay",
              "size": 10,
              "solidity": 0.2
             }
            },
            "type": "barpolar"
           }
          ],
          "carpet": [
           {
            "aaxis": {
             "endlinecolor": "#2a3f5f",
             "gridcolor": "white",
             "linecolor": "white",
             "minorgridcolor": "white",
             "startlinecolor": "#2a3f5f"
            },
            "baxis": {
             "endlinecolor": "#2a3f5f",
             "gridcolor": "white",
             "linecolor": "white",
             "minorgridcolor": "white",
             "startlinecolor": "#2a3f5f"
            },
            "type": "carpet"
           }
          ],
          "choropleth": [
           {
            "colorbar": {
             "outlinewidth": 0,
             "ticks": ""
            },
            "type": "choropleth"
           }
          ],
          "contour": [
           {
            "colorbar": {
             "outlinewidth": 0,
             "ticks": ""
            },
            "colorscale": [
             [
              0,
              "#0d0887"
             ],
             [
              0.1111111111111111,
              "#46039f"
             ],
             [
              0.2222222222222222,
              "#7201a8"
             ],
             [
              0.3333333333333333,
              "#9c179e"
             ],
             [
              0.4444444444444444,
              "#bd3786"
             ],
             [
              0.5555555555555556,
              "#d8576b"
             ],
             [
              0.6666666666666666,
              "#ed7953"
             ],
             [
              0.7777777777777778,
              "#fb9f3a"
             ],
             [
              0.8888888888888888,
              "#fdca26"
             ],
             [
              1,
              "#f0f921"
             ]
            ],
            "type": "contour"
           }
          ],
          "contourcarpet": [
           {
            "colorbar": {
             "outlinewidth": 0,
             "ticks": ""
            },
            "type": "contourcarpet"
           }
          ],
          "heatmap": [
           {
            "colorbar": {
             "outlinewidth": 0,
             "ticks": ""
            },
            "colorscale": [
             [
              0,
              "#0d0887"
             ],
             [
              0.1111111111111111,
              "#46039f"
             ],
             [
              0.2222222222222222,
              "#7201a8"
             ],
             [
              0.3333333333333333,
              "#9c179e"
             ],
             [
              0.4444444444444444,
              "#bd3786"
             ],
             [
              0.5555555555555556,
              "#d8576b"
             ],
             [
              0.6666666666666666,
              "#ed7953"
             ],
             [
              0.7777777777777778,
              "#fb9f3a"
             ],
             [
              0.8888888888888888,
              "#fdca26"
             ],
             [
              1,
              "#f0f921"
             ]
            ],
            "type": "heatmap"
           }
          ],
          "heatmapgl": [
           {
            "colorbar": {
             "outlinewidth": 0,
             "ticks": ""
            },
            "colorscale": [
             [
              0,
              "#0d0887"
             ],
             [
              0.1111111111111111,
              "#46039f"
             ],
             [
              0.2222222222222222,
              "#7201a8"
             ],
             [
              0.3333333333333333,
              "#9c179e"
             ],
             [
              0.4444444444444444,
              "#bd3786"
             ],
             [
              0.5555555555555556,
              "#d8576b"
             ],
             [
              0.6666666666666666,
              "#ed7953"
             ],
             [
              0.7777777777777778,
              "#fb9f3a"
             ],
             [
              0.8888888888888888,
              "#fdca26"
             ],
             [
              1,
              "#f0f921"
             ]
            ],
            "type": "heatmapgl"
           }
          ],
          "histogram": [
           {
            "marker": {
             "pattern": {
              "fillmode": "overlay",
              "size": 10,
              "solidity": 0.2
             }
            },
            "type": "histogram"
           }
          ],
          "histogram2d": [
           {
            "colorbar": {
             "outlinewidth": 0,
             "ticks": ""
            },
            "colorscale": [
             [
              0,
              "#0d0887"
             ],
             [
              0.1111111111111111,
              "#46039f"
             ],
             [
              0.2222222222222222,
              "#7201a8"
             ],
             [
              0.3333333333333333,
              "#9c179e"
             ],
             [
              0.4444444444444444,
              "#bd3786"
             ],
             [
              0.5555555555555556,
              "#d8576b"
             ],
             [
              0.6666666666666666,
              "#ed7953"
             ],
             [
              0.7777777777777778,
              "#fb9f3a"
             ],
             [
              0.8888888888888888,
              "#fdca26"
             ],
             [
              1,
              "#f0f921"
             ]
            ],
            "type": "histogram2d"
           }
          ],
          "histogram2dcontour": [
           {
            "colorbar": {
             "outlinewidth": 0,
             "ticks": ""
            },
            "colorscale": [
             [
              0,
              "#0d0887"
             ],
             [
              0.1111111111111111,
              "#46039f"
             ],
             [
              0.2222222222222222,
              "#7201a8"
             ],
             [
              0.3333333333333333,
              "#9c179e"
             ],
             [
              0.4444444444444444,
              "#bd3786"
             ],
             [
              0.5555555555555556,
              "#d8576b"
             ],
             [
              0.6666666666666666,
              "#ed7953"
             ],
             [
              0.7777777777777778,
              "#fb9f3a"
             ],
             [
              0.8888888888888888,
              "#fdca26"
             ],
             [
              1,
              "#f0f921"
             ]
            ],
            "type": "histogram2dcontour"
           }
          ],
          "mesh3d": [
           {
            "colorbar": {
             "outlinewidth": 0,
             "ticks": ""
            },
            "type": "mesh3d"
           }
          ],
          "parcoords": [
           {
            "line": {
             "colorbar": {
              "outlinewidth": 0,
              "ticks": ""
             }
            },
            "type": "parcoords"
           }
          ],
          "pie": [
           {
            "automargin": true,
            "type": "pie"
           }
          ],
          "scatter": [
           {
            "fillpattern": {
             "fillmode": "overlay",
             "size": 10,
             "solidity": 0.2
            },
            "type": "scatter"
           }
          ],
          "scatter3d": [
           {
            "line": {
             "colorbar": {
              "outlinewidth": 0,
              "ticks": ""
             }
            },
            "marker": {
             "colorbar": {
              "outlinewidth": 0,
              "ticks": ""
             }
            },
            "type": "scatter3d"
           }
          ],
          "scattercarpet": [
           {
            "marker": {
             "colorbar": {
              "outlinewidth": 0,
              "ticks": ""
             }
            },
            "type": "scattercarpet"
           }
          ],
          "scattergeo": [
           {
            "marker": {
             "colorbar": {
              "outlinewidth": 0,
              "ticks": ""
             }
            },
            "type": "scattergeo"
           }
          ],
          "scattergl": [
           {
            "marker": {
             "colorbar": {
              "outlinewidth": 0,
              "ticks": ""
             }
            },
            "type": "scattergl"
           }
          ],
          "scattermapbox": [
           {
            "marker": {
             "colorbar": {
              "outlinewidth": 0,
              "ticks": ""
             }
            },
            "type": "scattermapbox"
           }
          ],
          "scatterpolar": [
           {
            "marker": {
             "colorbar": {
              "outlinewidth": 0,
              "ticks": ""
             }
            },
            "type": "scatterpolar"
           }
          ],
          "scatterpolargl": [
           {
            "marker": {
             "colorbar": {
              "outlinewidth": 0,
              "ticks": ""
             }
            },
            "type": "scatterpolargl"
           }
          ],
          "scatterternary": [
           {
            "marker": {
             "colorbar": {
              "outlinewidth": 0,
              "ticks": ""
             }
            },
            "type": "scatterternary"
           }
          ],
          "surface": [
           {
            "colorbar": {
             "outlinewidth": 0,
             "ticks": ""
            },
            "colorscale": [
             [
              0,
              "#0d0887"
             ],
             [
              0.1111111111111111,
              "#46039f"
             ],
             [
              0.2222222222222222,
              "#7201a8"
             ],
             [
              0.3333333333333333,
              "#9c179e"
             ],
             [
              0.4444444444444444,
              "#bd3786"
             ],
             [
              0.5555555555555556,
              "#d8576b"
             ],
             [
              0.6666666666666666,
              "#ed7953"
             ],
             [
              0.7777777777777778,
              "#fb9f3a"
             ],
             [
              0.8888888888888888,
              "#fdca26"
             ],
             [
              1,
              "#f0f921"
             ]
            ],
            "type": "surface"
           }
          ],
          "table": [
           {
            "cells": {
             "fill": {
              "color": "#EBF0F8"
             },
             "line": {
              "color": "white"
             }
            },
            "header": {
             "fill": {
              "color": "#C8D4E3"
             },
             "line": {
              "color": "white"
             }
            },
            "type": "table"
           }
          ]
         },
         "layout": {
          "annotationdefaults": {
           "arrowcolor": "#2a3f5f",
           "arrowhead": 0,
           "arrowwidth": 1
          },
          "autotypenumbers": "strict",
          "coloraxis": {
           "colorbar": {
            "outlinewidth": 0,
            "ticks": ""
           }
          },
          "colorscale": {
           "diverging": [
            [
             0,
             "#8e0152"
            ],
            [
             0.1,
             "#c51b7d"
            ],
            [
             0.2,
             "#de77ae"
            ],
            [
             0.3,
             "#f1b6da"
            ],
            [
             0.4,
             "#fde0ef"
            ],
            [
             0.5,
             "#f7f7f7"
            ],
            [
             0.6,
             "#e6f5d0"
            ],
            [
             0.7,
             "#b8e186"
            ],
            [
             0.8,
             "#7fbc41"
            ],
            [
             0.9,
             "#4d9221"
            ],
            [
             1,
             "#276419"
            ]
           ],
           "sequential": [
            [
             0,
             "#0d0887"
            ],
            [
             0.1111111111111111,
             "#46039f"
            ],
            [
             0.2222222222222222,
             "#7201a8"
            ],
            [
             0.3333333333333333,
             "#9c179e"
            ],
            [
             0.4444444444444444,
             "#bd3786"
            ],
            [
             0.5555555555555556,
             "#d8576b"
            ],
            [
             0.6666666666666666,
             "#ed7953"
            ],
            [
             0.7777777777777778,
             "#fb9f3a"
            ],
            [
             0.8888888888888888,
             "#fdca26"
            ],
            [
             1,
             "#f0f921"
            ]
           ],
           "sequentialminus": [
            [
             0,
             "#0d0887"
            ],
            [
             0.1111111111111111,
             "#46039f"
            ],
            [
             0.2222222222222222,
             "#7201a8"
            ],
            [
             0.3333333333333333,
             "#9c179e"
            ],
            [
             0.4444444444444444,
             "#bd3786"
            ],
            [
             0.5555555555555556,
             "#d8576b"
            ],
            [
             0.6666666666666666,
             "#ed7953"
            ],
            [
             0.7777777777777778,
             "#fb9f3a"
            ],
            [
             0.8888888888888888,
             "#fdca26"
            ],
            [
             1,
             "#f0f921"
            ]
           ]
          },
          "colorway": [
           "#636efa",
           "#EF553B",
           "#00cc96",
           "#ab63fa",
           "#FFA15A",
           "#19d3f3",
           "#FF6692",
           "#B6E880",
           "#FF97FF",
           "#FECB52"
          ],
          "font": {
           "color": "#2a3f5f"
          },
          "geo": {
           "bgcolor": "white",
           "lakecolor": "white",
           "landcolor": "#E5ECF6",
           "showlakes": true,
           "showland": true,
           "subunitcolor": "white"
          },
          "hoverlabel": {
           "align": "left"
          },
          "hovermode": "closest",
          "mapbox": {
           "style": "light"
          },
          "paper_bgcolor": "white",
          "plot_bgcolor": "#E5ECF6",
          "polar": {
           "angularaxis": {
            "gridcolor": "white",
            "linecolor": "white",
            "ticks": ""
           },
           "bgcolor": "#E5ECF6",
           "radialaxis": {
            "gridcolor": "white",
            "linecolor": "white",
            "ticks": ""
           }
          },
          "scene": {
           "xaxis": {
            "backgroundcolor": "#E5ECF6",
            "gridcolor": "white",
            "gridwidth": 2,
            "linecolor": "white",
            "showbackground": true,
            "ticks": "",
            "zerolinecolor": "white"
           },
           "yaxis": {
            "backgroundcolor": "#E5ECF6",
            "gridcolor": "white",
            "gridwidth": 2,
            "linecolor": "white",
            "showbackground": true,
            "ticks": "",
            "zerolinecolor": "white"
           },
           "zaxis": {
            "backgroundcolor": "#E5ECF6",
            "gridcolor": "white",
            "gridwidth": 2,
            "linecolor": "white",
            "showbackground": true,
            "ticks": "",
            "zerolinecolor": "white"
           }
          },
          "shapedefaults": {
           "line": {
            "color": "#2a3f5f"
           }
          },
          "ternary": {
           "aaxis": {
            "gridcolor": "white",
            "linecolor": "white",
            "ticks": ""
           },
           "baxis": {
            "gridcolor": "white",
            "linecolor": "white",
            "ticks": ""
           },
           "bgcolor": "#E5ECF6",
           "caxis": {
            "gridcolor": "white",
            "linecolor": "white",
            "ticks": ""
           }
          },
          "title": {
           "x": 0.05
          },
          "xaxis": {
           "automargin": true,
           "gridcolor": "white",
           "linecolor": "white",
           "ticks": "",
           "title": {
            "standoff": 15
           },
           "zerolinecolor": "white",
           "zerolinewidth": 2
          },
          "yaxis": {
           "automargin": true,
           "gridcolor": "white",
           "linecolor": "white",
           "ticks": "",
           "title": {
            "standoff": 15
           },
           "zerolinecolor": "white",
           "zerolinewidth": 2
          }
         }
        },
        "title": {
         "text": "Daily Spending 2023"
        },
        "xaxis": {
         "anchor": "y",
         "domain": [
          0,
          1
         ],
         "title": {
          "text": "DATE"
         }
        },
        "yaxis": {
         "anchor": "x",
         "domain": [
          0,
          1
         ],
         "title": {
          "text": "value"
         }
        }
       }
      }
     },
     "metadata": {},
     "output_type": "display_data"
    }
   ],
   "source": [
    "# Make a Plot of the Data\n",
    "\n",
    "# Note: 'SPEND_DATE_RANGE_START' and 'SPEND_DATE_RANGE_END' is typically separated by 1 month (~30 days)\n",
    "#       'SPEND_BY_DAY' is each spend data for each day of the month\n",
    "# Goal; Plot spending for each single day using plotly\n",
    "\n",
    "import plotly.express as px\n",
    "import ast  # For safely evaluating strings containing Python literals\n",
    "\n",
    "df = df_filtered_2023.copy()\n",
    "\n",
    "# Convert string representations of lists in 'SPEND_BY_DAY' to actual lists\n",
    "df['SPEND_BY_DAY'] = df['SPEND_BY_DAY'].apply(ast.literal_eval)\n",
    "\n",
    "# Add a new column called 'DATE_OF_MONTH', as a list of integers from 1 to the end of the month (length of the 'SPEND_BY_DAY' list)\n",
    "df['DATE_OF_MONTH'] = df['SPEND_BY_DAY'].apply(lambda x: list(range(1, len(x) + 1)))\n",
    "\n",
    "print(df.head())\n",
    "\n",
    "# Explode both 'SPEND_BY_DAY' and 'DATE_OF_MONTH' simultaneously to keep their mapping correct\n",
    "df_spend_by_day = df.explode(['SPEND_BY_DAY', 'DATE_OF_MONTH'])\n",
    "\n",
    "# Convert the spending amounts to float\n",
    "df_spend_by_day['SPEND_BY_DAY'] = df_spend_by_day['SPEND_BY_DAY'].astype(float)\n",
    "df_spend_by_day['DATE_OF_MONTH'] = df_spend_by_day['DATE_OF_MONTH'].astype(int)\n",
    "\n",
    "\n",
    "# Calculate 'DATE' correctly by subtracting 1 since 'DATE_OF_MONTH' starts from 1, not 0\n",
    "df_spend_by_day['DATE'] = pd.to_datetime(df_spend_by_day['SPEND_DATE_RANGE_START']) + pd.to_timedelta(df_spend_by_day['DATE_OF_MONTH'] - 1, unit='D')\n",
    "\n",
    "# Ensure the DataFrame is sorted by 'DATE' if not already\n",
    "# df_spend_by_day = df_spend_by_day.sort_values('DATE')\n",
    "\n",
    "#print('# of rows: ', len(df_spend_by_day))\n",
    "#print(df_spend_by_day.head(10))\n",
    "\n",
    "# Plot df_spend_by_day using plotly\n",
    "#fig = px.scatter(df_spend_by_day, x='DATE', y='SPEND_BY_DAY', title='Daily Spend', labels={'SPEND_BY_DAY': 'Spend ($)'})\n",
    "\n",
    "#fig.show()\n",
    "\n",
    "grouped_23 = df_spend_by_day.groupby('DATE')['SPEND_BY_DAY'].sum()\n",
    "print(grouped_23.head(10))\n",
    "fig = px.line(grouped_23, title='Daily Spending 2023')\n",
    "fig.show()\n"
   ]
  },
  {
   "cell_type": "code",
   "execution_count": 22,
   "metadata": {},
   "outputs": [
    {
     "name": "stdout",
     "output_type": "stream",
     "text": [
      "         DATE\n",
      "163061  07-01\n",
      "163061  07-02\n",
      "163061  07-03\n",
      "163061  07-04\n",
      "163061  07-05\n",
      "163061  07-06\n",
      "163061  07-07\n",
      "163061  07-08\n",
      "163061  07-09\n",
      "163061  07-10\n"
     ]
    }
   ],
   "source": [
    "spending = pd.DataFrame()\n",
    "spending['DATE'] = df_spend_by_day['DATE']\n",
    "spending['2021'] = \n",
    "\n",
    "print(spending.head(10))"
   ]
  }
 ],
 "metadata": {
  "kernelspec": {
   "display_name": "Python 3",
   "language": "python",
   "name": "python3"
  },
  "language_info": {
   "codemirror_mode": {
    "name": "ipython",
    "version": 3
   },
   "file_extension": ".py",
   "mimetype": "text/x-python",
   "name": "python",
   "nbconvert_exporter": "python",
   "pygments_lexer": "ipython3",
   "version": "3.12.2"
  }
 },
 "nbformat": 4,
 "nbformat_minor": 2
}
