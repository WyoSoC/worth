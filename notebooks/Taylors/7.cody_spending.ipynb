{
 "cells": [
  {
   "cell_type": "code",
   "execution_count": 1,
   "metadata": {},
   "outputs": [],
   "source": [
    "# Load data\n",
    "\n",
    "import os\n",
    "import pandas as pd\n",
    "\n",
    "pd.set_option('display.max_columns', None)\n",
    "pd.set_option('display.width', 40000)\n",
    "pd.set_option('display.max_rows', None)\n",
    "\n",
    "# Read the data from the CSV file\n",
    "df_safegraph_spend = pd.read_csv(os.path.join('..', 'dewey_data_filtered','SafeGraph_SPEND_Yellowstone_200miRadius.csv.gz'))\n",
    "\n",
    "# Print the first 5 rows of the DataFrame\n",
    "# print(df_safegraph_spend.info())\n",
    "# print(df_safegraph_spend.head())\n"
   ]
  },
  {
   "cell_type": "code",
   "execution_count": 2,
   "metadata": {},
   "outputs": [],
   "source": [
    "# Filter by Geographic Region\n",
    "\n",
    "# Create a geojson file using this online tool: https://geojson.io/#map=6.57/43.031/-108.404\n",
    "\n",
    "import geopandas as gpd\n",
    "\n",
    "filter_region = gpd.read_file(os.path.join('..', 'map','Cody.geojson')) # Put your new location geojson file here\n",
    "\n",
    "# The following code does a 2-step filtering process: 1) filter the POI down to be within the region, 2) use the POI set to filter the SPEND data\n",
    "\n",
    "# 1 - Filter POI within the filter_region\n",
    "df_safegraph_poi = pd.read_csv(os.path.join('..', 'dewey_data_filtered','SafeGraph_POI_Yellowstone_200miRadius.csv.gz'))\n",
    "\n",
    "# print('(before filter) # of rows: ', len(df_safegraph_poi))\n",
    "\n",
    "if 'LONGITUDE' in df_safegraph_poi.columns and 'LATITUDE' in df_safegraph_poi.columns:\n",
    "    points = gpd.points_from_xy(df_safegraph_poi['LONGITUDE'], df_safegraph_poi['LATITUDE'])\n",
    "    mask = points.within(filter_region.geometry.iloc[0])  # Assuming filter_region has only one polygon\n",
    "    df_safegraph_poi_filtered = df_safegraph_poi[mask]\n",
    "else:\n",
    "    print(\"Error: DataFrame does not contain 'LONGITUDE' and/or 'LATITUDE' columns.\")\n",
    "\n",
    "# print('(after filter)  # of rows: ', len(df_safegraph_poi_filtered))\n",
    "# print(df_safegraph_poi_filtered.head())\n",
    "\n",
    "# 2 - Filter SPEND data by matching the PLACEKEY with the filtered POI\n",
    "# print('(before filter) # of rows: ', len(df_safegraph_spend))\n",
    "\n",
    "if 'PLACEKEY' in df_safegraph_spend.columns:\n",
    "    df_filtered = df_safegraph_spend[df_safegraph_spend['PLACEKEY'].isin(df_safegraph_poi_filtered['PLACEKEY'])]\n",
    "else:\n",
    "    print(\"Error: DataFrame does not contain 'PLACEKEY' column.\")\n",
    "\n",
    "# print('(after filter)  # of rows: ', len(df_filtered))\n",
    "# print(df_filtered.head())\n"
   ]
  },
  {
   "cell_type": "code",
   "execution_count": 3,
   "metadata": {},
   "outputs": [
    {
     "name": "stdout",
     "output_type": "stream",
     "text": [
      "                  PLACEKEY                        SAFEGRAPH_BRAND_IDS                         BRANDS   SPEND_DATE_RANGE_START     SPEND_DATE_RANGE_END  RAW_TOTAL_SPEND  RAW_NUM_TRANSACTIONS  RAW_NUM_CUSTOMERS  MEDIAN_SPEND_PER_TRANSACTION  MEDIAN_SPEND_PER_CUSTOMER SPEND_PER_TRANSACTION_PERCENTILES                                       SPEND_BY_DAY                       SPEND_PER_TRANSACTION_BY_DAY                               SPEND_BY_DAY_OF_WEEK                                         DAY_COUNTS  SPEND_PCT_CHANGE_VS_PREV_MONTH  SPEND_PCT_CHANGE_VS_PREV_YEAR  ONLINE_TRANSACTIONS  ONLINE_SPEND TRANSACTION_INTERMEDIARY SPEND_BY_TRANSACTION_INTERMEDIARY                   BUCKETED_CUSTOMER_FREQUENCY               MEAN_SPEND_PER_CUSTOMER_BY_FREQUENCY                          BUCKETED_CUSTOMER_INCOMES                  MEAN_SPEND_PER_CUSTOMER_BY_INCOME                                 CUSTOMER_HOME_CITY         RELATED_CROSS_SHOPPING_PHYSICAL_BRANDS_PCT        RELATED_CROSS_SHOPPING_ONLINE_MERCHANTS_PCT    RELATED_CROSS_SHOPPING_SAME_CATEGORY_BRANDS_PCT            RELATED_CROSS_SHOPPING_LOCAL_BRANDS_PCT                       RELATED_WIRELESS_CARRIER_PCT                        RELATED_STREAMING_CABLE_PCT                  RELATED_DELIVERY_SERVICE_PCT RELATED_RIDESHARE_SERVICE_PCT RELATED_BUYNOWPAYLATER_SERVICE_PCT RELATED_PAYMENT_PLATFORM_PCT\n",
      "14097  zzw-223@5sy-bxt-2c5  SG_BRAND_43bdfa786f5809e475a7382797eae3fd                        Super 8  2019-05-01 00:00:00.000  2019-06-01 00:00:00.000          1059.17                     9                  9                        119.33                     119.33         {\"25\":105.56,\"75\":123.00}  [0.00,100.97,0.00,0.00,0.00,0.00,220.30,0.00,0...  [null,100.97,null,null,null,null,110.15,null,n...  {\"Monday\":228.94,\"Tuesday\":589.30,\"Wednesday\":...  {\"Wednesday\":5,\"Monday\":4,\"Saturday\":4,\"Thursd...                           -46.0                            NaN                    0           0.0    {\"No intermediary\":9}       {\"No intermediary\":1059.17}    {\"1\":9,\"2\":0,\"3\":0,\"4\":0,\"5-10\":0,\">10\":0}  {\"1\":117.69,\"2\":null,\"3\":null,\"4\":null,\"5-10\":...  {\"<25k\":2,\"25-45k\":2,\"45-60k\":2,\"75-100k\":2,\"1...  {\"<25k\":123.00,\"25-45k\":100.97,\"45-60k\":111.99...  {\"Ahtanum, WA\":5,\"Rohnert Park, CA\":2,\"Thermop...  {\"Walmart\":78,\"ConocoPhillips\":78,\"Maverik\":78...  {\"Netflix\":56,\"Hulu\":45,\"Verizon Wireless\":34,...  {\"Hyatt Hotels & Resorts\":23,\"Hampton\":23,\"Com...  {\"Albertsons\":23,\"Maverik\":23,\"Pizza Hut\":23,\"...                  {\"Verizon Wireless\":56,\"AT&T\":23}  {\"Netflix\":56,\"Hulu\":45,\"Redbox\":12,\"Time Warn...                                            {}                   {\"Lyft\":12}                                 {}                           {}\n",
      "14117  zzw-223@5sy-bxw-54v                                        NaN                            NaN  2019-05-01 00:00:00.000  2019-06-01 00:00:00.000           932.50                     3                  3                        300.00                     300.00         {\"25\":132.50,\"75\":500.00}  [300.00,0.00,0.00,0.00,0.00,0.00,0.00,132.50,0...  [300.00,null,null,null,null,null,null,132.50,n...  {\"Monday\":0.00,\"Tuesday\":0.00,\"Wednesday\":432....  {\"Wednesday\":5,\"Monday\":4,\"Saturday\":4,\"Thursd...                             0.0                            NaN                    0           0.0    {\"No intermediary\":3}        {\"No intermediary\":932.50}    {\"1\":3,\"2\":0,\"3\":0,\"4\":0,\"5-10\":0,\">10\":0}  {\"1\":310.83,\"2\":null,\"3\":null,\"4\":null,\"5-10\":...                 {\"60-75k\":2,\"75-100k\":2,\">150k\":2}  {\"60-75k\":500.00,\"75-100k\":132.50,\">150k\":300.00}   {\"Yuma, AZ\":4,\"Clearfield, UT\":3,\"Lander, WY\":2}  {\"Walmart\":100,\"Chevron\":67,\"Wendy's\":67,\"Mave...  {\"Netflix\":100,\"iTunes\":67,\"Etsy\":34,\"Anytime ...                                                 {}  {\"Albertsons\":34,\"Anytime Fitness\":34,\"Walmart...                  {\"Verizon Wireless\":34,\"AT&T\":34}  {\"Netflix\":100,\"Redbox\":34,\"Dish Network\":34,\"...                                            {}                            {}                                 {}                           {}\n",
      "14204  zzy-222@5sy-bxt-pjv  SG_BRAND_db6ee5f0ca1c23534e205fe45779f1d9                         Sierra  2019-05-01 00:00:00.000  2019-06-01 00:00:00.000          6152.55                   102                 81                         36.96                      44.69           {\"25\":20.79,\"75\":76.41}  [56.09,19.24,45.76,24.32,118.82,425.08,209.00,...  [56.09,19.24,22.88,12.16,118.82,42.72,104.50,3...  {\"Monday\":1881.68,\"Tuesday\":1083.25,\"Wednesday...  {\"Wednesday\":5,\"Monday\":4,\"Saturday\":4,\"Thursd...                            83.0                            NaN                    0           0.0  {\"No intermediary\":102}       {\"No intermediary\":6152.55}  {\"1\":63,\"2\":15,\"3\":3,\"4\":0,\"5-10\":0,\">10\":0}  {\"1\":54.26,\"2\":132.23,\"3\":250.15,\"4\":null,\"5-1...  {\"<25k\":8,\"25-45k\":12,\"45-60k\":7,\"60-75k\":7,\"7...  {\"<25k\":35.09,\"25-45k\":42.46,\"45-60k\":81.09,\"6...  {\"Cody, WY\":16,\"Watertown, NY\":4,\"Marion, OH\":...  {\"Walmart\":83,\"McDonald's\":60,\"Exxon Mobil\":52...  {\"Amazon\":59,\"Amazon Marketplace\":42,\"Netflix\"...  {\"Hobby Lobby Stores\":13,\"Scheels\":9,\"REI\":8,\"...  {\"Walmart\":63,\"Albertsons\":36,\"Dairy Queen\":21...  {\"Verizon Wireless\":39,\"AT&T\":21,\"T-Mobile\":5,...  {\"Netflix\":41,\"Hulu\":25,\"Amazon Prime\":17,\"Dis...  {\"Uber Eats\":4,\"HelloFresh\":2,\"Instacart\":2}           {\"Uber\":9,\"Lyft\":3}                                 {}             {\"Apple Cash\":2}\n",
      "14274  222-223@5sy-bxt-f75  SG_BRAND_920b907c29fe21f628faec927628d5f3  SmartStyle Family Hair Salons  2019-05-01 00:00:00.000  2019-06-01 00:00:00.000            86.94                     4                  4                         20.99                      20.99           {\"25\":19.47,\"75\":24.75}  [0.00,0.00,0.00,0.00,0.00,0.00,0.00,0.00,0.00,...  [null,null,null,null,null,null,null,null,null,...  {\"Monday\":44.97,\"Tuesday\":0.00,\"Wednesday\":21....  {\"Wednesday\":5,\"Monday\":4,\"Saturday\":4,\"Thursd...                           -79.0                            NaN                    0           0.0    {\"No intermediary\":4}         {\"No intermediary\":86.94}    {\"1\":4,\"2\":0,\"3\":0,\"4\":0,\"5-10\":0,\">10\":0}  {\"1\":21.74,\"2\":null,\"3\":null,\"4\":null,\"5-10\":n...                 {\"<25k\":2,\"45-60k\":2,\"100-150k\":2}     {\"<25k\":21.00,\"45-60k\":20.97,\"100-150k\":22.49}                                     {\"Cody, WY\":2}  {\"Walmart\":100,\"Albertsons\":75,\"Maverik\":75,\"E...  {\"Verizon Wireless\":25,\"Amazon\":25,\"Goodwill\":...                                                 {}  {\"Walmart\":100,\"Albertsons\":75,\"Ace Hardware\":...                  {\"Verizon Wireless\":25,\"AT&T\":25}  {\"Netflix\":25,\"Amazon Prime\":25,\"Dish Network\"...                                            {}                            {}                                 {}                           {}\n",
      "14407  223-222@5sy-bzh-4jv  SG_BRAND_857fcc0687933d1589554945329fe236                        Maverik  2019-05-01 00:00:00.000  2019-06-01 00:00:00.000          3311.06                   104                 55                         27.66                      43.01           {\"25\":10.13,\"75\":47.32}  [222.62,80.48,64.32,46.64,0.00,84.32,115.45,17...  [46.54,31.79,27.10,20.26,null,20.00,30.53,25.3...  {\"Monday\":423.83,\"Tuesday\":584.87,\"Wednesday\":...  {\"Wednesday\":5,\"Monday\":4,\"Saturday\":4,\"Thursd...                            85.0                            NaN                    0           0.0  {\"No intermediary\":104}       {\"No intermediary\":3311.06}   {\"1\":36,\"2\":8,\"3\":3,\"4\":4,\"5-10\":4,\">10\":0}  {\"1\":33.90,\"2\":54.65,\"3\":125.95,\"4\":158.01,\"5-...  {\"<25k\":2,\"25-45k\":9,\"45-60k\":5,\"60-75k\":7,\"75...  {\"<25k\":39.44,\"25-45k\":43.88,\"45-60k\":45.31,\"6...  {\"Cody, WY\":22,\"Lovell, WY\":2,\"Nashville, TN\":...  {\"Walmart\":84,\"Exxon Mobil\":59,\"Albertsons\":55...  {\"Amazon\":55,\"Netflix\":37,\"Amazon Marketplace\"...                                        {\"Big D\":4}  {\"Walmart\":57,\"Albertsons\":46,\"Dairy Queen\":28...  {\"Verizon Wireless\":42,\"AT&T\":24,\"T-Mobile\":6,...  {\"Netflix\":37,\"Hulu\":20,\"Amazon Prime\":17,\"Red...                                            {}                    {\"Uber\":4}                   {\"Affirm.com\":2}                 {\"PayPal\":4}\n"
     ]
    },
    {
     "name": "stderr",
     "output_type": "stream",
     "text": [
      "C:\\Users\\tjbla\\AppData\\Local\\Temp\\ipykernel_3460\\1004588570.py:12: UserWarning: Boolean Series key will be reindexed to match DataFrame index.\n",
      "  df_filtered_2019 = df[(df_safegraph_spend['SPEND_DATE_RANGE_START'] >= datetime_start) &\n"
     ]
    }
   ],
   "source": [
    "# Filter by Dates\n",
    "\n",
    "# print('(before filter) # of rows: ', len(df_filtered))\n",
    "df = df_filtered.copy()\n",
    "\n",
    "datetime_start = pd.to_datetime('2019-05-01')\n",
    "datetime_end = pd.to_datetime('2019-09-01')\n",
    "\n",
    "df_safegraph_spend['SPEND_DATE_RANGE_START'] = pd.to_datetime(df_safegraph_spend['SPEND_DATE_RANGE_START'])\n",
    "df_safegraph_spend['SPEND_DATE_RANGE_END'] = pd.to_datetime(df_safegraph_spend['SPEND_DATE_RANGE_END'])\n",
    "\n",
    "df_filtered_2019 = df[(df_safegraph_spend['SPEND_DATE_RANGE_START'] >= datetime_start) &\n",
    "                                 (df_safegraph_spend['SPEND_DATE_RANGE_END'] <= datetime_end)]\n",
    "\n",
    "#print('(after filter) # of rows: ', len(df_filtered))\n",
    "print(df_filtered_2019.head())"
   ]
  },
  {
   "cell_type": "code",
   "execution_count": 4,
   "metadata": {},
   "outputs": [
    {
     "name": "stdout",
     "output_type": "stream",
     "text": [
      "                  PLACEKEY                        SAFEGRAPH_BRAND_IDS                         BRANDS   SPEND_DATE_RANGE_START     SPEND_DATE_RANGE_END  RAW_TOTAL_SPEND  RAW_NUM_TRANSACTIONS  RAW_NUM_CUSTOMERS  MEDIAN_SPEND_PER_TRANSACTION  MEDIAN_SPEND_PER_CUSTOMER SPEND_PER_TRANSACTION_PERCENTILES                                       SPEND_BY_DAY                       SPEND_PER_TRANSACTION_BY_DAY                               SPEND_BY_DAY_OF_WEEK                                         DAY_COUNTS  SPEND_PCT_CHANGE_VS_PREV_MONTH  SPEND_PCT_CHANGE_VS_PREV_YEAR  ONLINE_TRANSACTIONS  ONLINE_SPEND TRANSACTION_INTERMEDIARY SPEND_BY_TRANSACTION_INTERMEDIARY                   BUCKETED_CUSTOMER_FREQUENCY               MEAN_SPEND_PER_CUSTOMER_BY_FREQUENCY                          BUCKETED_CUSTOMER_INCOMES                  MEAN_SPEND_PER_CUSTOMER_BY_INCOME                                 CUSTOMER_HOME_CITY         RELATED_CROSS_SHOPPING_PHYSICAL_BRANDS_PCT        RELATED_CROSS_SHOPPING_ONLINE_MERCHANTS_PCT    RELATED_CROSS_SHOPPING_SAME_CATEGORY_BRANDS_PCT            RELATED_CROSS_SHOPPING_LOCAL_BRANDS_PCT                       RELATED_WIRELESS_CARRIER_PCT                        RELATED_STREAMING_CABLE_PCT                  RELATED_DELIVERY_SERVICE_PCT RELATED_RIDESHARE_SERVICE_PCT RELATED_BUYNOWPAYLATER_SERVICE_PCT RELATED_PAYMENT_PLATFORM_PCT                                      DATE_OF_MONTH\n",
      "14097  zzw-223@5sy-bxt-2c5  SG_BRAND_43bdfa786f5809e475a7382797eae3fd                        Super 8  2019-05-01 00:00:00.000  2019-06-01 00:00:00.000          1059.17                     9                  9                        119.33                     119.33         {\"25\":105.56,\"75\":123.00}  [0.0, 100.97, 0.0, 0.0, 0.0, 0.0, 220.3, 0.0, ...  [null,100.97,null,null,null,null,110.15,null,n...  {\"Monday\":228.94,\"Tuesday\":589.30,\"Wednesday\":...  {\"Wednesday\":5,\"Monday\":4,\"Saturday\":4,\"Thursd...                           -46.0                            NaN                    0           0.0    {\"No intermediary\":9}       {\"No intermediary\":1059.17}    {\"1\":9,\"2\":0,\"3\":0,\"4\":0,\"5-10\":0,\">10\":0}  {\"1\":117.69,\"2\":null,\"3\":null,\"4\":null,\"5-10\":...  {\"<25k\":2,\"25-45k\":2,\"45-60k\":2,\"75-100k\":2,\"1...  {\"<25k\":123.00,\"25-45k\":100.97,\"45-60k\":111.99...  {\"Ahtanum, WA\":5,\"Rohnert Park, CA\":2,\"Thermop...  {\"Walmart\":78,\"ConocoPhillips\":78,\"Maverik\":78...  {\"Netflix\":56,\"Hulu\":45,\"Verizon Wireless\":34,...  {\"Hyatt Hotels & Resorts\":23,\"Hampton\":23,\"Com...  {\"Albertsons\":23,\"Maverik\":23,\"Pizza Hut\":23,\"...                  {\"Verizon Wireless\":56,\"AT&T\":23}  {\"Netflix\":56,\"Hulu\":45,\"Redbox\":12,\"Time Warn...                                            {}                   {\"Lyft\":12}                                 {}                           {}  [1, 2, 3, 4, 5, 6, 7, 8, 9, 10, 11, 12, 13, 14...\n",
      "14117  zzw-223@5sy-bxw-54v                                        NaN                            NaN  2019-05-01 00:00:00.000  2019-06-01 00:00:00.000           932.50                     3                  3                        300.00                     300.00         {\"25\":132.50,\"75\":500.00}  [300.0, 0.0, 0.0, 0.0, 0.0, 0.0, 0.0, 132.5, 0...  [300.00,null,null,null,null,null,null,132.50,n...  {\"Monday\":0.00,\"Tuesday\":0.00,\"Wednesday\":432....  {\"Wednesday\":5,\"Monday\":4,\"Saturday\":4,\"Thursd...                             0.0                            NaN                    0           0.0    {\"No intermediary\":3}        {\"No intermediary\":932.50}    {\"1\":3,\"2\":0,\"3\":0,\"4\":0,\"5-10\":0,\">10\":0}  {\"1\":310.83,\"2\":null,\"3\":null,\"4\":null,\"5-10\":...                 {\"60-75k\":2,\"75-100k\":2,\">150k\":2}  {\"60-75k\":500.00,\"75-100k\":132.50,\">150k\":300.00}   {\"Yuma, AZ\":4,\"Clearfield, UT\":3,\"Lander, WY\":2}  {\"Walmart\":100,\"Chevron\":67,\"Wendy's\":67,\"Mave...  {\"Netflix\":100,\"iTunes\":67,\"Etsy\":34,\"Anytime ...                                                 {}  {\"Albertsons\":34,\"Anytime Fitness\":34,\"Walmart...                  {\"Verizon Wireless\":34,\"AT&T\":34}  {\"Netflix\":100,\"Redbox\":34,\"Dish Network\":34,\"...                                            {}                            {}                                 {}                           {}  [1, 2, 3, 4, 5, 6, 7, 8, 9, 10, 11, 12, 13, 14...\n",
      "14204  zzy-222@5sy-bxt-pjv  SG_BRAND_db6ee5f0ca1c23534e205fe45779f1d9                         Sierra  2019-05-01 00:00:00.000  2019-06-01 00:00:00.000          6152.55                   102                 81                         36.96                      44.69           {\"25\":20.79,\"75\":76.41}  [56.09, 19.24, 45.76, 24.32, 118.82, 425.08, 2...  [56.09,19.24,22.88,12.16,118.82,42.72,104.50,3...  {\"Monday\":1881.68,\"Tuesday\":1083.25,\"Wednesday...  {\"Wednesday\":5,\"Monday\":4,\"Saturday\":4,\"Thursd...                            83.0                            NaN                    0           0.0  {\"No intermediary\":102}       {\"No intermediary\":6152.55}  {\"1\":63,\"2\":15,\"3\":3,\"4\":0,\"5-10\":0,\">10\":0}  {\"1\":54.26,\"2\":132.23,\"3\":250.15,\"4\":null,\"5-1...  {\"<25k\":8,\"25-45k\":12,\"45-60k\":7,\"60-75k\":7,\"7...  {\"<25k\":35.09,\"25-45k\":42.46,\"45-60k\":81.09,\"6...  {\"Cody, WY\":16,\"Watertown, NY\":4,\"Marion, OH\":...  {\"Walmart\":83,\"McDonald's\":60,\"Exxon Mobil\":52...  {\"Amazon\":59,\"Amazon Marketplace\":42,\"Netflix\"...  {\"Hobby Lobby Stores\":13,\"Scheels\":9,\"REI\":8,\"...  {\"Walmart\":63,\"Albertsons\":36,\"Dairy Queen\":21...  {\"Verizon Wireless\":39,\"AT&T\":21,\"T-Mobile\":5,...  {\"Netflix\":41,\"Hulu\":25,\"Amazon Prime\":17,\"Dis...  {\"Uber Eats\":4,\"HelloFresh\":2,\"Instacart\":2}           {\"Uber\":9,\"Lyft\":3}                                 {}             {\"Apple Cash\":2}  [1, 2, 3, 4, 5, 6, 7, 8, 9, 10, 11, 12, 13, 14...\n",
      "14274  222-223@5sy-bxt-f75  SG_BRAND_920b907c29fe21f628faec927628d5f3  SmartStyle Family Hair Salons  2019-05-01 00:00:00.000  2019-06-01 00:00:00.000            86.94                     4                  4                         20.99                      20.99           {\"25\":19.47,\"75\":24.75}  [0.0, 0.0, 0.0, 0.0, 0.0, 0.0, 0.0, 0.0, 0.0, ...  [null,null,null,null,null,null,null,null,null,...  {\"Monday\":44.97,\"Tuesday\":0.00,\"Wednesday\":21....  {\"Wednesday\":5,\"Monday\":4,\"Saturday\":4,\"Thursd...                           -79.0                            NaN                    0           0.0    {\"No intermediary\":4}         {\"No intermediary\":86.94}    {\"1\":4,\"2\":0,\"3\":0,\"4\":0,\"5-10\":0,\">10\":0}  {\"1\":21.74,\"2\":null,\"3\":null,\"4\":null,\"5-10\":n...                 {\"<25k\":2,\"45-60k\":2,\"100-150k\":2}     {\"<25k\":21.00,\"45-60k\":20.97,\"100-150k\":22.49}                                     {\"Cody, WY\":2}  {\"Walmart\":100,\"Albertsons\":75,\"Maverik\":75,\"E...  {\"Verizon Wireless\":25,\"Amazon\":25,\"Goodwill\":...                                                 {}  {\"Walmart\":100,\"Albertsons\":75,\"Ace Hardware\":...                  {\"Verizon Wireless\":25,\"AT&T\":25}  {\"Netflix\":25,\"Amazon Prime\":25,\"Dish Network\"...                                            {}                            {}                                 {}                           {}  [1, 2, 3, 4, 5, 6, 7, 8, 9, 10, 11, 12, 13, 14...\n",
      "14407  223-222@5sy-bzh-4jv  SG_BRAND_857fcc0687933d1589554945329fe236                        Maverik  2019-05-01 00:00:00.000  2019-06-01 00:00:00.000          3311.06                   104                 55                         27.66                      43.01           {\"25\":10.13,\"75\":47.32}  [222.62, 80.48, 64.32, 46.64, 0.0, 84.32, 115....  [46.54,31.79,27.10,20.26,null,20.00,30.53,25.3...  {\"Monday\":423.83,\"Tuesday\":584.87,\"Wednesday\":...  {\"Wednesday\":5,\"Monday\":4,\"Saturday\":4,\"Thursd...                            85.0                            NaN                    0           0.0  {\"No intermediary\":104}       {\"No intermediary\":3311.06}   {\"1\":36,\"2\":8,\"3\":3,\"4\":4,\"5-10\":4,\">10\":0}  {\"1\":33.90,\"2\":54.65,\"3\":125.95,\"4\":158.01,\"5-...  {\"<25k\":2,\"25-45k\":9,\"45-60k\":5,\"60-75k\":7,\"75...  {\"<25k\":39.44,\"25-45k\":43.88,\"45-60k\":45.31,\"6...  {\"Cody, WY\":22,\"Lovell, WY\":2,\"Nashville, TN\":...  {\"Walmart\":84,\"Exxon Mobil\":59,\"Albertsons\":55...  {\"Amazon\":55,\"Netflix\":37,\"Amazon Marketplace\"...                                        {\"Big D\":4}  {\"Walmart\":57,\"Albertsons\":46,\"Dairy Queen\":28...  {\"Verizon Wireless\":42,\"AT&T\":24,\"T-Mobile\":6,...  {\"Netflix\":37,\"Hulu\":20,\"Amazon Prime\":17,\"Red...                                            {}                    {\"Uber\":4}                   {\"Affirm.com\":2}                 {\"PayPal\":4}  [1, 2, 3, 4, 5, 6, 7, 8, 9, 10, 11, 12, 13, 14...\n"
     ]
    }
   ],
   "source": [
    "import ast  # For safely evaluating strings containing Python literals\n",
    "\n",
    "df = df_filtered_2019.copy()\n",
    "\n",
    "# Convert string representations of lists in 'SPEND_BY_DAY' to actual lists\n",
    "df['SPEND_BY_DAY'] = df['SPEND_BY_DAY'].apply(ast.literal_eval)\n",
    "\n",
    "# Add a new column called 'DATE_OF_MONTH', as a list of integers from 1 to the end of the month (length of the 'SPEND_BY_DAY' list)\n",
    "df['DATE_OF_MONTH'] = df['SPEND_BY_DAY'].apply(lambda x: list(range(1, len(x) + 1)))\n",
    "\n",
    "print(df.head())\n",
    "\n",
    "# Explode both 'SPEND_BY_DAY' and 'DATE_OF_MONTH' simultaneously to keep their mapping correct\n",
    "df_spend_by_day = df.explode(['SPEND_BY_DAY', 'DATE_OF_MONTH'])\n",
    "\n",
    "# Convert the spending amounts to float\n",
    "df_spend_by_day['SPEND_BY_DAY'] = df_spend_by_day['SPEND_BY_DAY'].astype(float)\n",
    "df_spend_by_day['DATE_OF_MONTH'] = df_spend_by_day['DATE_OF_MONTH'].astype(int)\n",
    "\n",
    "\n",
    "# Calculate 'DATE' correctly by subtracting 1 since 'DATE_OF_MONTH' starts from 1, not 0\n",
    "df_spend_by_day['DATE'] = pd.to_datetime(df_spend_by_day['SPEND_DATE_RANGE_START']) + pd.to_timedelta(df_spend_by_day['DATE_OF_MONTH'] - 1, unit='D')\n",
    "df_spend_by_day['DATE'] = df_spend_by_day['DATE'].dt.strftime('%m-%d')\n",
    "\n",
    "# Ensure the DataFrame is sorted by 'DATE' if not already\n",
    "# df_spend_by_day = df_spend_by_day.sort_values('DATE')\n",
    "\n",
    "#print('# of rows: ', len(df_spend_by_day))\n",
    "#print(df_spend_by_day.head(10))\n",
    "\n",
    "# Plot df_spend_by_day using plotly\n",
    "#fig = px.scatter(df_spend_by_day, x='DATE', y='SPEND_BY_DAY', title='Daily Spend', labels={'SPEND_BY_DAY': 'Spend ($)'})\n",
    "\n",
    "#fig.show()\n",
    "\n",
    "grouped_19_cwy = df_spend_by_day.groupby('DATE')['SPEND_BY_DAY'].sum()"
   ]
  },
  {
   "cell_type": "code",
   "execution_count": 5,
   "metadata": {},
   "outputs": [
    {
     "name": "stdout",
     "output_type": "stream",
     "text": [
      "                   PLACEKEY                        SAFEGRAPH_BRAND_IDS           BRANDS   SPEND_DATE_RANGE_START     SPEND_DATE_RANGE_END  RAW_TOTAL_SPEND  RAW_NUM_TRANSACTIONS  RAW_NUM_CUSTOMERS  MEDIAN_SPEND_PER_TRANSACTION  MEDIAN_SPEND_PER_CUSTOMER SPEND_PER_TRANSACTION_PERCENTILES                                       SPEND_BY_DAY                       SPEND_PER_TRANSACTION_BY_DAY                               SPEND_BY_DAY_OF_WEEK                                         DAY_COUNTS  SPEND_PCT_CHANGE_VS_PREV_MONTH  SPEND_PCT_CHANGE_VS_PREV_YEAR  ONLINE_TRANSACTIONS  ONLINE_SPEND TRANSACTION_INTERMEDIARY SPEND_BY_TRANSACTION_INTERMEDIARY                  BUCKETED_CUSTOMER_FREQUENCY               MEAN_SPEND_PER_CUSTOMER_BY_FREQUENCY                          BUCKETED_CUSTOMER_INCOMES                  MEAN_SPEND_PER_CUSTOMER_BY_INCOME                                 CUSTOMER_HOME_CITY         RELATED_CROSS_SHOPPING_PHYSICAL_BRANDS_PCT        RELATED_CROSS_SHOPPING_ONLINE_MERCHANTS_PCT    RELATED_CROSS_SHOPPING_SAME_CATEGORY_BRANDS_PCT            RELATED_CROSS_SHOPPING_LOCAL_BRANDS_PCT                    RELATED_WIRELESS_CARRIER_PCT                        RELATED_STREAMING_CABLE_PCT    RELATED_DELIVERY_SERVICE_PCT RELATED_RIDESHARE_SERVICE_PCT RELATED_BUYNOWPAYLATER_SERVICE_PCT RELATED_PAYMENT_PLATFORM_PCT\n",
      "109517  225-222@5sy-bxv-zcq                                        NaN              NaN  2021-05-01 00:00:00.000  2021-06-01 00:00:00.000          1306.47                     8                  6                        122.66                     137.64          {\"25\":98.24,\"75\":274.73}  [0.00,0.00,76.59,0.00,0.00,0.00,0.00,0.00,0.00...  [null,null,76.59,null,null,null,null,null,null...  {\"Monday\":76.59,\"Tuesday\":0.00,\"Wednesday\":132...  {\"Wednesday\":4,\"Monday\":5,\"Saturday\":5,\"Thursd...                             NaN                           98.0                    0           0.0    {\"No intermediary\":8}       {\"No intermediary\":1306.47}   {\"1\":4,\"2\":2,\"3\":0,\"4\":0,\"5-10\":0,\">10\":0}  {\"1\":115.44,\"2\":422.36,\"3\":null,\"4\":null,\"5-10...                  {\"25-45k\":2,\"60-75k\":5,\">150k\":2}   {\"25-45k\":158.73,\"60-75k\":143.19,\">150k\":132.09}  {\"Greeley, CO\":3,\"Dukes, FL\":2,\"Reno, NV\":2,\"G...  {\"McDonald's\":84,\"Walmart\":67,\"Wendy's\":50,\"Pi...  {\"Amazon\":67,\"Apple\":67,\"Netflix\":50,\"Planet F...  {\"Home2 Suites\":17,\"Quality Inn\":17,\"Baymont I...  {\"Wendy's\":17,\"Walmart\":17,\"McDonald's\":17,\"Co...                         {\"Verizon Wireless\":17}  {\"Netflix\":50,\"Disney Plus\":17,\"Dish Network\":17}                 {\"DoorDash\":17}                            {}                                 {}                           {}\n",
      "109533  22g-222@5sy-bzg-pn5  SG_BRAND_d100d4d8528c773aac249aa76b9eed07    The UPS Store  2021-05-01 00:00:00.000  2021-06-01 00:00:00.000           420.35                    21                 19                         12.96                      12.96            {\"25\":3.13,\"75\":36.26}  [0.00,0.00,0.00,0.00,0.00,0.00,57.89,0.00,0.00...  [null,null,null,null,null,null,57.89,null,null...  {\"Monday\":180.04,\"Tuesday\":50.73,\"Wednesday\":2...  {\"Wednesday\":4,\"Monday\":5,\"Saturday\":5,\"Thursd...                           -48.0                          -24.0                    0           0.0   {\"No intermediary\":21}        {\"No intermediary\":420.35}  {\"1\":17,\"2\":2,\"3\":0,\"4\":0,\"5-10\":0,\">10\":0}  {\"1\":18.96,\"2\":49.05,\"3\":null,\"4\":null,\"5-10\":...  {\"<25k\":2,\"25-45k\":2,\"45-60k\":3,\"60-75k\":2,\"75...  {\"<25k\":38.25,\"25-45k\":1.00,\"45-60k\":12.13,\"60...  {\"Cody, WY\":9,\"Bountiful, UT\":2,\"Meeteetse, WY...  {\"Walmart\":85,\"Maverik\":58,\"Albertsons\":48,\"Bo...  {\"Amazon\":53,\"Apple\":53,\"Amazon Marketplace\":4...                                                 {}  {\"Walmart\":74,\"Albertsons\":48,\"Ace Hardware\":3...  {\"Verizon Wireless\":32,\"AT&T\":22,\"T-Mobile\":6}  {\"Netflix\":37,\"Hulu\":22,\"Sling TV\":6,\"YouTube ...   {\"HelloFresh\":6,\"DoorDash\":6}                    {\"Uber\":6}      {\"Afterpay\":6,\"Affirm.com\":6}                 {\"PayPal\":6}\n",
      "109664  224-222@5sy-bzg-gx5                                        NaN              NaN  2021-05-01 00:00:00.000  2021-06-01 00:00:00.000           148.05                     2                  2                         74.03                      74.03           {\"25\":61.05,\"75\":87.00}  [0.00,0.00,0.00,0.00,0.00,0.00,0.00,0.00,0.00,...  [null,null,null,null,null,null,null,null,null,...  {\"Monday\":0.00,\"Tuesday\":0.00,\"Wednesday\":87.0...  {\"Wednesday\":4,\"Monday\":5,\"Saturday\":5,\"Thursd...                            13.0                            NaN                    0           0.0    {\"No intermediary\":2}        {\"No intermediary\":148.05}   {\"1\":2,\"2\":0,\"3\":0,\"4\":0,\"5-10\":0,\">10\":0}  {\"1\":74.03,\"2\":null,\"3\":null,\"4\":null,\"5-10\":n...                         {\"75-100k\":2,\"100-150k\":2}                 {\"75-100k\":61.05,\"100-150k\":87.00}                       {\"Clark, WY\":2,\"Cody, WY\":2}  {\"Walmart\":100,\"Albertsons\":100,\"Bomgaars\":100...  {\"Amazon\":100,\"Amazon Digital Services\":100,\"A...                                                 {}  {\"Walmart\":100,\"Albertsons\":100,\"Ace Hardware\"...                         {\"Verizon Wireless\":50}  {\"Disney Plus\":50,\"Netflix\":50,\"Dish Network\":50}                              {}                            {}                                 {}                           {}\n",
      "109831  zzw-222@5sy-bxt-3qz  SG_BRAND_6daa255524fe5ac244c3bed9cfbde479  Anytime Fitness  2021-05-01 00:00:00.000  2021-06-01 00:00:00.000            80.00                     3                  3                         10.00                      10.00           {\"25\":10.00,\"75\":60.00}  [0.00,0.00,0.00,0.00,0.00,0.00,0.00,0.00,0.00,...  [null,null,null,null,null,null,null,null,null,...  {\"Monday\":20.00,\"Tuesday\":60.00,\"Wednesday\":0....  {\"Wednesday\":4,\"Monday\":5,\"Saturday\":5,\"Thursd...                           -90.0                            NaN                    0           0.0    {\"No intermediary\":3}         {\"No intermediary\":80.00}   {\"1\":3,\"2\":0,\"3\":0,\"4\":0,\"5-10\":0,\">10\":0}  {\"1\":26.67,\"2\":null,\"3\":null,\"4\":null,\"5-10\":n...                                         {\"<25k\":2}                                     {\"<25k\":10.00}         {\"Altamont, UT\":2,\"Western Springs, IL\":2}  {\"Walmart\":100,\"Pilot Flying J\":100,\"Shell Oil...  {\"Etsy\":34,\"Verizon Wireless\":34,\"Amazon\":34,\"...                                                 {}                     {\"Walmart\":100,\"Boot Barn\":34}      {\"Straight Talk\":34,\"Verizon Wireless\":34}                                        {\"Hulu\":34}                              {}                            {}                                 {}                           {}\n",
      "109947  224-222@5sy-bzg-47q                                        NaN              NaN  2021-05-01 00:00:00.000  2021-06-01 00:00:00.000           175.61                     7                  6                         25.58                      25.58           {\"25\":22.13,\"75\":29.62}  [0.00,0.00,76.74,0.00,0.00,0.00,0.00,0.00,0.00...  [null,null,25.58,null,null,null,null,null,null...  {\"Monday\":160.01,\"Tuesday\":0.00,\"Wednesday\":0....  {\"Wednesday\":4,\"Monday\":5,\"Saturday\":5,\"Thursd...                             NaN                         1109.0                    0           0.0             {\"Square\":7}                 {\"Square\":175.61}   {\"1\":5,\"2\":1,\"3\":0,\"4\":0,\"5-10\":0,\">10\":0}  {\"1\":24.39,\"2\":53.65,\"3\":null,\"4\":null,\"5-10\":...               {\"75-100k\":2,\"100-150k\":2,\">150k\":2}   {\"75-100k\":15.60,\"100-150k\":53.65,\">150k\":27.60}  {\"Redondo Beach, CA\":2,\"Salt Lake City, UT\":2,...  {\"Maverik\":100,\"Albertsons\":84,\"Rocky Mountain...  {\"Verizon Wireless\":67,\"Apple\":67,\"Netflix\":67...  {\"Wendy's\":50,\"Domino's Pizza\":34,\"Panda Expre...  {\"Albertsons\":84,\"Maverik\":67,\"Walmart\":50,\"We...               {\"Verizon Wireless\":84,\"AT&T\":17}                       {\"Netflix\":67,\"Sling TV\":17}  {\"Uber Eats\":17,\"DoorDash\":17}         {\"Lyft\":17,\"Uber\":17}                      {\"Klarna\":17}                           {}\n"
     ]
    },
    {
     "name": "stderr",
     "output_type": "stream",
     "text": [
      "C:\\Users\\tjbla\\AppData\\Local\\Temp\\ipykernel_3460\\1595654646.py:12: UserWarning: Boolean Series key will be reindexed to match DataFrame index.\n",
      "  df_filtered_2021 = df[(df_safegraph_spend['SPEND_DATE_RANGE_START'] >= datetime_start) &\n"
     ]
    }
   ],
   "source": [
    "# Filter by Dates\n",
    "\n",
    "# print('(before filter) # of rows: ', len(df_filtered))\n",
    "df = df_filtered.copy()\n",
    "\n",
    "datetime_start = pd.to_datetime('2021-05-01')\n",
    "datetime_end = pd.to_datetime('2021-09-01')\n",
    "\n",
    "df_safegraph_spend['SPEND_DATE_RANGE_START'] = pd.to_datetime(df_safegraph_spend['SPEND_DATE_RANGE_START'])\n",
    "df_safegraph_spend['SPEND_DATE_RANGE_END'] = pd.to_datetime(df_safegraph_spend['SPEND_DATE_RANGE_END'])\n",
    "\n",
    "df_filtered_2021 = df[(df_safegraph_spend['SPEND_DATE_RANGE_START'] >= datetime_start) &\n",
    "                                 (df_safegraph_spend['SPEND_DATE_RANGE_END'] <= datetime_end)]\n",
    "\n",
    "#print('(after filter) # of rows: ', len(df_filtered))\n",
    "print(df_filtered_2021.head())\n"
   ]
  },
  {
   "cell_type": "code",
   "execution_count": 6,
   "metadata": {},
   "outputs": [
    {
     "name": "stdout",
     "output_type": "stream",
     "text": [
      "                   PLACEKEY                        SAFEGRAPH_BRAND_IDS           BRANDS   SPEND_DATE_RANGE_START     SPEND_DATE_RANGE_END  RAW_TOTAL_SPEND  RAW_NUM_TRANSACTIONS  RAW_NUM_CUSTOMERS  MEDIAN_SPEND_PER_TRANSACTION  MEDIAN_SPEND_PER_CUSTOMER SPEND_PER_TRANSACTION_PERCENTILES                                       SPEND_BY_DAY                       SPEND_PER_TRANSACTION_BY_DAY                               SPEND_BY_DAY_OF_WEEK                                         DAY_COUNTS  SPEND_PCT_CHANGE_VS_PREV_MONTH  SPEND_PCT_CHANGE_VS_PREV_YEAR  ONLINE_TRANSACTIONS  ONLINE_SPEND TRANSACTION_INTERMEDIARY SPEND_BY_TRANSACTION_INTERMEDIARY                  BUCKETED_CUSTOMER_FREQUENCY               MEAN_SPEND_PER_CUSTOMER_BY_FREQUENCY                          BUCKETED_CUSTOMER_INCOMES                  MEAN_SPEND_PER_CUSTOMER_BY_INCOME                                 CUSTOMER_HOME_CITY         RELATED_CROSS_SHOPPING_PHYSICAL_BRANDS_PCT        RELATED_CROSS_SHOPPING_ONLINE_MERCHANTS_PCT    RELATED_CROSS_SHOPPING_SAME_CATEGORY_BRANDS_PCT            RELATED_CROSS_SHOPPING_LOCAL_BRANDS_PCT                    RELATED_WIRELESS_CARRIER_PCT                        RELATED_STREAMING_CABLE_PCT    RELATED_DELIVERY_SERVICE_PCT RELATED_RIDESHARE_SERVICE_PCT RELATED_BUYNOWPAYLATER_SERVICE_PCT RELATED_PAYMENT_PLATFORM_PCT                                      DATE_OF_MONTH\n",
      "109517  225-222@5sy-bxv-zcq                                        NaN              NaN  2021-05-01 00:00:00.000  2021-06-01 00:00:00.000          1306.47                     8                  6                        122.66                     137.64          {\"25\":98.24,\"75\":274.73}  [0.0, 0.0, 76.59, 0.0, 0.0, 0.0, 0.0, 0.0, 0.0...  [null,null,76.59,null,null,null,null,null,null...  {\"Monday\":76.59,\"Tuesday\":0.00,\"Wednesday\":132...  {\"Wednesday\":4,\"Monday\":5,\"Saturday\":5,\"Thursd...                             NaN                           98.0                    0           0.0    {\"No intermediary\":8}       {\"No intermediary\":1306.47}   {\"1\":4,\"2\":2,\"3\":0,\"4\":0,\"5-10\":0,\">10\":0}  {\"1\":115.44,\"2\":422.36,\"3\":null,\"4\":null,\"5-10...                  {\"25-45k\":2,\"60-75k\":5,\">150k\":2}   {\"25-45k\":158.73,\"60-75k\":143.19,\">150k\":132.09}  {\"Greeley, CO\":3,\"Dukes, FL\":2,\"Reno, NV\":2,\"G...  {\"McDonald's\":84,\"Walmart\":67,\"Wendy's\":50,\"Pi...  {\"Amazon\":67,\"Apple\":67,\"Netflix\":50,\"Planet F...  {\"Home2 Suites\":17,\"Quality Inn\":17,\"Baymont I...  {\"Wendy's\":17,\"Walmart\":17,\"McDonald's\":17,\"Co...                         {\"Verizon Wireless\":17}  {\"Netflix\":50,\"Disney Plus\":17,\"Dish Network\":17}                 {\"DoorDash\":17}                            {}                                 {}                           {}  [1, 2, 3, 4, 5, 6, 7, 8, 9, 10, 11, 12, 13, 14...\n",
      "109533  22g-222@5sy-bzg-pn5  SG_BRAND_d100d4d8528c773aac249aa76b9eed07    The UPS Store  2021-05-01 00:00:00.000  2021-06-01 00:00:00.000           420.35                    21                 19                         12.96                      12.96            {\"25\":3.13,\"75\":36.26}  [0.0, 0.0, 0.0, 0.0, 0.0, 0.0, 57.89, 0.0, 0.0...  [null,null,null,null,null,null,57.89,null,null...  {\"Monday\":180.04,\"Tuesday\":50.73,\"Wednesday\":2...  {\"Wednesday\":4,\"Monday\":5,\"Saturday\":5,\"Thursd...                           -48.0                          -24.0                    0           0.0   {\"No intermediary\":21}        {\"No intermediary\":420.35}  {\"1\":17,\"2\":2,\"3\":0,\"4\":0,\"5-10\":0,\">10\":0}  {\"1\":18.96,\"2\":49.05,\"3\":null,\"4\":null,\"5-10\":...  {\"<25k\":2,\"25-45k\":2,\"45-60k\":3,\"60-75k\":2,\"75...  {\"<25k\":38.25,\"25-45k\":1.00,\"45-60k\":12.13,\"60...  {\"Cody, WY\":9,\"Bountiful, UT\":2,\"Meeteetse, WY...  {\"Walmart\":85,\"Maverik\":58,\"Albertsons\":48,\"Bo...  {\"Amazon\":53,\"Apple\":53,\"Amazon Marketplace\":4...                                                 {}  {\"Walmart\":74,\"Albertsons\":48,\"Ace Hardware\":3...  {\"Verizon Wireless\":32,\"AT&T\":22,\"T-Mobile\":6}  {\"Netflix\":37,\"Hulu\":22,\"Sling TV\":6,\"YouTube ...   {\"HelloFresh\":6,\"DoorDash\":6}                    {\"Uber\":6}      {\"Afterpay\":6,\"Affirm.com\":6}                 {\"PayPal\":6}  [1, 2, 3, 4, 5, 6, 7, 8, 9, 10, 11, 12, 13, 14...\n",
      "109664  224-222@5sy-bzg-gx5                                        NaN              NaN  2021-05-01 00:00:00.000  2021-06-01 00:00:00.000           148.05                     2                  2                         74.03                      74.03           {\"25\":61.05,\"75\":87.00}  [0.0, 0.0, 0.0, 0.0, 0.0, 0.0, 0.0, 0.0, 0.0, ...  [null,null,null,null,null,null,null,null,null,...  {\"Monday\":0.00,\"Tuesday\":0.00,\"Wednesday\":87.0...  {\"Wednesday\":4,\"Monday\":5,\"Saturday\":5,\"Thursd...                            13.0                            NaN                    0           0.0    {\"No intermediary\":2}        {\"No intermediary\":148.05}   {\"1\":2,\"2\":0,\"3\":0,\"4\":0,\"5-10\":0,\">10\":0}  {\"1\":74.03,\"2\":null,\"3\":null,\"4\":null,\"5-10\":n...                         {\"75-100k\":2,\"100-150k\":2}                 {\"75-100k\":61.05,\"100-150k\":87.00}                       {\"Clark, WY\":2,\"Cody, WY\":2}  {\"Walmart\":100,\"Albertsons\":100,\"Bomgaars\":100...  {\"Amazon\":100,\"Amazon Digital Services\":100,\"A...                                                 {}  {\"Walmart\":100,\"Albertsons\":100,\"Ace Hardware\"...                         {\"Verizon Wireless\":50}  {\"Disney Plus\":50,\"Netflix\":50,\"Dish Network\":50}                              {}                            {}                                 {}                           {}  [1, 2, 3, 4, 5, 6, 7, 8, 9, 10, 11, 12, 13, 14...\n",
      "109831  zzw-222@5sy-bxt-3qz  SG_BRAND_6daa255524fe5ac244c3bed9cfbde479  Anytime Fitness  2021-05-01 00:00:00.000  2021-06-01 00:00:00.000            80.00                     3                  3                         10.00                      10.00           {\"25\":10.00,\"75\":60.00}  [0.0, 0.0, 0.0, 0.0, 0.0, 0.0, 0.0, 0.0, 0.0, ...  [null,null,null,null,null,null,null,null,null,...  {\"Monday\":20.00,\"Tuesday\":60.00,\"Wednesday\":0....  {\"Wednesday\":4,\"Monday\":5,\"Saturday\":5,\"Thursd...                           -90.0                            NaN                    0           0.0    {\"No intermediary\":3}         {\"No intermediary\":80.00}   {\"1\":3,\"2\":0,\"3\":0,\"4\":0,\"5-10\":0,\">10\":0}  {\"1\":26.67,\"2\":null,\"3\":null,\"4\":null,\"5-10\":n...                                         {\"<25k\":2}                                     {\"<25k\":10.00}         {\"Altamont, UT\":2,\"Western Springs, IL\":2}  {\"Walmart\":100,\"Pilot Flying J\":100,\"Shell Oil...  {\"Etsy\":34,\"Verizon Wireless\":34,\"Amazon\":34,\"...                                                 {}                     {\"Walmart\":100,\"Boot Barn\":34}      {\"Straight Talk\":34,\"Verizon Wireless\":34}                                        {\"Hulu\":34}                              {}                            {}                                 {}                           {}  [1, 2, 3, 4, 5, 6, 7, 8, 9, 10, 11, 12, 13, 14...\n",
      "109947  224-222@5sy-bzg-47q                                        NaN              NaN  2021-05-01 00:00:00.000  2021-06-01 00:00:00.000           175.61                     7                  6                         25.58                      25.58           {\"25\":22.13,\"75\":29.62}  [0.0, 0.0, 76.74, 0.0, 0.0, 0.0, 0.0, 0.0, 0.0...  [null,null,25.58,null,null,null,null,null,null...  {\"Monday\":160.01,\"Tuesday\":0.00,\"Wednesday\":0....  {\"Wednesday\":4,\"Monday\":5,\"Saturday\":5,\"Thursd...                             NaN                         1109.0                    0           0.0             {\"Square\":7}                 {\"Square\":175.61}   {\"1\":5,\"2\":1,\"3\":0,\"4\":0,\"5-10\":0,\">10\":0}  {\"1\":24.39,\"2\":53.65,\"3\":null,\"4\":null,\"5-10\":...               {\"75-100k\":2,\"100-150k\":2,\">150k\":2}   {\"75-100k\":15.60,\"100-150k\":53.65,\">150k\":27.60}  {\"Redondo Beach, CA\":2,\"Salt Lake City, UT\":2,...  {\"Maverik\":100,\"Albertsons\":84,\"Rocky Mountain...  {\"Verizon Wireless\":67,\"Apple\":67,\"Netflix\":67...  {\"Wendy's\":50,\"Domino's Pizza\":34,\"Panda Expre...  {\"Albertsons\":84,\"Maverik\":67,\"Walmart\":50,\"We...               {\"Verizon Wireless\":84,\"AT&T\":17}                       {\"Netflix\":67,\"Sling TV\":17}  {\"Uber Eats\":17,\"DoorDash\":17}         {\"Lyft\":17,\"Uber\":17}                      {\"Klarna\":17}                           {}  [1, 2, 3, 4, 5, 6, 7, 8, 9, 10, 11, 12, 13, 14...\n"
     ]
    }
   ],
   "source": [
    "# Make a Plot of the Data\n",
    "\n",
    "# Note: 'SPEND_DATE_RANGE_START' and 'SPEND_DATE_RANGE_END' is typically separated by 1 month (~30 days)\n",
    "#       'SPEND_BY_DAY' is each spend data for each day of the month\n",
    "# Goal; Plot spending for each single day using plotly\n",
    "\n",
    "#import plotly.express as px\n",
    "import ast  # For safely evaluating strings containing Python literals\n",
    "\n",
    "df = df_filtered_2021.copy()\n",
    "\n",
    "# Convert string representations of lists in 'SPEND_BY_DAY' to actual lists\n",
    "df['SPEND_BY_DAY'] = df['SPEND_BY_DAY'].apply(ast.literal_eval)\n",
    "\n",
    "# Add a new column called 'DATE_OF_MONTH', as a list of integers from 1 to the end of the month (length of the 'SPEND_BY_DAY' list)\n",
    "df['DATE_OF_MONTH'] = df['SPEND_BY_DAY'].apply(lambda x: list(range(1, len(x) + 1)))\n",
    "\n",
    "print(df.head())\n",
    "\n",
    "# Explode both 'SPEND_BY_DAY' and 'DATE_OF_MONTH' simultaneously to keep their mapping correct\n",
    "df_spend_by_day = df.explode(['SPEND_BY_DAY', 'DATE_OF_MONTH'])\n",
    "\n",
    "# Convert the spending amounts to float\n",
    "df_spend_by_day['SPEND_BY_DAY'] = df_spend_by_day['SPEND_BY_DAY'].astype(float)\n",
    "df_spend_by_day['DATE_OF_MONTH'] = df_spend_by_day['DATE_OF_MONTH'].astype(int)\n",
    "\n",
    "\n",
    "# Calculate 'DATE' correctly by subtracting 1 since 'DATE_OF_MONTH' starts from 1, not 0\n",
    "df_spend_by_day['DATE'] = pd.to_datetime(df_spend_by_day['SPEND_DATE_RANGE_START']) + pd.to_timedelta(df_spend_by_day['DATE_OF_MONTH'] - 1, unit='D')\n",
    "df_spend_by_day['DATE'] = df_spend_by_day['DATE'].dt.strftime('%m-%d')\n",
    "\n",
    "# Ensure the DataFrame is sorted by 'DATE' if not already\n",
    "# df_spend_by_day = df_spend_by_day.sort_values('DATE')\n",
    "\n",
    "#print('# of rows: ', len(df_spend_by_day))\n",
    "#print(df_spend_by_day.head(10))\n",
    "\n",
    "# Plot df_spend_by_day using plotly\n",
    "#fig = px.scatter(df_spend_by_day, x='DATE', y='SPEND_BY_DAY', title='Daily Spend', labels={'SPEND_BY_DAY': 'Spend ($)'})\n",
    "\n",
    "#fig.show()\n",
    "\n",
    "grouped_21_cwy = df_spend_by_day.groupby('DATE')['SPEND_BY_DAY'].sum()\n"
   ]
  },
  {
   "cell_type": "code",
   "execution_count": 8,
   "metadata": {},
   "outputs": [
    {
     "name": "stdout",
     "output_type": "stream",
     "text": [
      "                   PLACEKEY                        SAFEGRAPH_BRAND_IDS   BRANDS   SPEND_DATE_RANGE_START     SPEND_DATE_RANGE_END  RAW_TOTAL_SPEND  RAW_NUM_TRANSACTIONS  RAW_NUM_CUSTOMERS  MEDIAN_SPEND_PER_TRANSACTION  MEDIAN_SPEND_PER_CUSTOMER SPEND_PER_TRANSACTION_PERCENTILES                                       SPEND_BY_DAY                       SPEND_PER_TRANSACTION_BY_DAY                               SPEND_BY_DAY_OF_WEEK                                         DAY_COUNTS  SPEND_PCT_CHANGE_VS_PREV_MONTH  SPEND_PCT_CHANGE_VS_PREV_YEAR  ONLINE_TRANSACTIONS  ONLINE_SPEND TRANSACTION_INTERMEDIARY SPEND_BY_TRANSACTION_INTERMEDIARY                   BUCKETED_CUSTOMER_FREQUENCY               MEAN_SPEND_PER_CUSTOMER_BY_FREQUENCY                          BUCKETED_CUSTOMER_INCOMES                  MEAN_SPEND_PER_CUSTOMER_BY_INCOME                                 CUSTOMER_HOME_CITY         RELATED_CROSS_SHOPPING_PHYSICAL_BRANDS_PCT        RELATED_CROSS_SHOPPING_ONLINE_MERCHANTS_PCT    RELATED_CROSS_SHOPPING_SAME_CATEGORY_BRANDS_PCT            RELATED_CROSS_SHOPPING_LOCAL_BRANDS_PCT                       RELATED_WIRELESS_CARRIER_PCT                        RELATED_STREAMING_CABLE_PCT RELATED_DELIVERY_SERVICE_PCT RELATED_RIDESHARE_SERVICE_PCT                 RELATED_BUYNOWPAYLATER_SERVICE_PCT RELATED_PAYMENT_PLATFORM_PCT\n",
      "163031  224-222@5sy-bxx-rzf                                        NaN      NaN  2022-07-01 00:00:00.000  2022-08-01 00:00:00.000          1835.98                    42                 27                         30.92                      50.44           {\"25\":25.69,\"75\":45.33}  [579.44,34.60,28.70,0.00,0.00,0.00,264.76,158....  [64.08,34.60,28.70,null,null,null,30.92,25.22,...  {\"Monday\":0.00,\"Tuesday\":0.00,\"Wednesday\":108....  {\"Wednesday\":4,\"Monday\":4,\"Saturday\":5,\"Thursd...                            92.0                          121.0                    0          0.00   {\"No intermediary\":42}       {\"No intermediary\":1835.98}  {\"1\":12,\"2\":15,\"3\":0,\"4\":0,\"5-10\":0,\">10\":0}  {\"1\":47.55,\"2\":84.36,\"3\":null,\"4\":null,\"5-10\":...  {\"<25k\":2,\"25-45k\":2,\"45-60k\":2,\"60-75k\":2,\"75...  {\"<25k\":30.89,\"25-45k\":36.02,\"45-60k\":28.70,\"6...  {\"Baltimore, MD\":6,\"Parker, ID\":3,\"Eglon, WA\":...  {\"Walmart\":71,\"Albertsons\":49,\"Maverik\":49,\"Mc...  {\"Amazon\":41,\"Apple\":38,\"Spotify\":26,\"Netflix\"...  {\"McDonald's\":49,\"Starbucks\":26,\"Wendy's\":23,\"...  {\"Walmart\":34,\"Albertsons\":15,\"McDonald's\":15,...  {\"Verizon Wireless\":34,\"T-Mobile\":15,\"AT&T\":12...  {\"Netflix\":23,\"Fubo\":8,\"Dish Network\":8,\"Redbo...              {\"Uber Eats\":4}           {\"Lyft\":8,\"Uber\":8}  {\"Afterpay\":8,\"Affirm.com\":4,\"Klarna\":4,\"Zip C...  {\"PayPal\":8,\"Apple Cash\":4}\n",
      "163033  zzw-223@5sy-bxt-2c5  SG_BRAND_43bdfa786f5809e475a7382797eae3fd  Super 8  2022-07-01 00:00:00.000  2022-08-01 00:00:00.000          2722.87                     9                  9                        233.75                     233.75         {\"25\":203.78,\"75\":416.89}  [0.00,0.00,0.00,0.00,594.38,198.78,0.00,0.00,0...  [null,null,null,null,594.38,198.78,null,null,n...  {\"Monday\":233.75,\"Tuesday\":815.26,\"Wednesday\":...  {\"Wednesday\":4,\"Monday\":4,\"Saturday\":5,\"Thursd...                           482.0                          -69.0                    1        243.08    {\"No intermediary\":9}       {\"No intermediary\":2722.87}    {\"1\":9,\"2\":0,\"3\":0,\"4\":0,\"5-10\":0,\">10\":0}  {\"1\":302.54,\"2\":null,\"3\":null,\"4\":null,\"5-10\":...     {\"25-45k\":3,\"60-75k\":4,\"100-150k\":2,\">150k\":4}  {\"25-45k\":468.65,\"60-75k\":225.20,\"100-150k\":23...  {\"Carson City, NV\":2,\"Clarksville, TN\":2,\"Grov...  {\"McDonald's\":78,\"ConocoPhillips\":56,\"Love's T...  {\"Amazon\":56,\"Spotify\":45,\"Apple\":34,\"Netflix\"...  {\"Econo Lodge\":23,\"Hampton\":12,\"Motel 6\":12,\"D...  {\"ConocoPhillips\":23,\"McDonald's\":23,\"Walmart\"...  {\"Verizon Wireless\":34,\"Sprint\":23,\"AT&T\":12,\"...  {\"Netflix\":34,\"Peacock\":23,\"Roku\":12,\"Youtube\"...                           {}         {\"Lyft\":12,\"Uber\":12}                                                 {}                           {}\n",
      "163052  223-222@5sy-bxx-rrk                                        NaN      NaN  2022-07-01 00:00:00.000  2022-08-01 00:00:00.000          6336.99                    29                 19                        198.69                     264.18         {\"25\":132.09,\"75\":243.09}  [617.16,126.54,816.96,562.77,728.16,375.18,165...  [308.58,126.54,198.69,562.77,182.04,375.18,165...  {\"Monday\":1532.91,\"Tuesday\":947.94,\"Wednesday\"...  {\"Wednesday\":4,\"Monday\":4,\"Saturday\":5,\"Thursd...                            42.0                          -33.0                    1        562.77   {\"No intermediary\":29}       {\"No intermediary\":6336.99}   {\"1\":11,\"2\":7,\"3\":0,\"4\":1,\"5-10\":0,\">10\":0}  {\"1\":267.31,\"2\":352.98,\"3\":null,\"4\":925.74,\"5-...  {\"<25k\":2,\"25-45k\":5,\"60-75k\":3,\"75-100k\":2,\"1...  {\"<25k\":298.59,\"25-45k\":277.50,\"60-75k\":330.78...  {\"Dover, DE\":3,\"Limestone, OK\":3,\"Bozeman, MT\"...  {\"Walmart\":79,\"McDonald's\":69,\"ConocoPhillips\"...  {\"Amazon\":74,\"Apple\":43,\"Netflix\":37,\"Hulu\":27...  {\"Holiday Inn\":22,\"Rodeway Inn\":11,\"Hampton\":1...  {\"Walmart\":53,\"McDonald's\":16,\"Taco John's\":11...  {\"Verizon Wireless\":32,\"Sprint\":11,\"AT&T\":11,\"...  {\"Netflix\":37,\"Hulu\":27,\"Roku\":11,\"HBO Max\":6,...  {\"Dashpass\":6,\"DoorDash\":6}                            {}                                                 {}  {\"PayPal\":6,\"Apple Cash\":6}\n",
      "163071  222-224@5sy-bxt-f75  SG_BRAND_de80593878cb1673c62a7f338dc7e4e1   Subway  2022-07-01 00:00:00.000  2022-08-01 00:00:00.000           609.21                    31                 27                         11.84                      14.64            {\"25\":8.10,\"75\":20.26}  [10.63,19.51,51.90,0.00,210.10,0.00,0.00,0.00,...  [10.63,19.51,51.90,null,100.75,null,null,null,...  {\"Monday\":88.79,\"Tuesday\":253.23,\"Wednesday\":1...  {\"Wednesday\":4,\"Monday\":4,\"Saturday\":5,\"Thursd...                           -63.0                          -29.0                    0          0.00   {\"No intermediary\":31}        {\"No intermediary\":609.21}   {\"1\":24,\"2\":2,\"3\":1,\"4\":0,\"5-10\":0,\">10\":0}  {\"1\":22.25,\"2\":14.64,\"3\":45.97,\"4\":null,\"5-10\"...  {\"<25k\":5,\"25-45k\":8,\"45-60k\":2,\"75-100k\":3,\"1...  {\"<25k\":12.49,\"25-45k\":21.69,\"45-60k\":14.25,\"7...  {\"Colorado Springs, CO\":3,\"Bozeman, MT\":3,\"Ric...  {\"Walmart\":100,\"McDonald's\":63,\"Arby's\":49,\"Da...  {\"Amazon\":52,\"Apple\":45,\"Amazon Marketplace\":3...  {\"McDonald's\":63,\"Arby's\":49,\"Dairy Queen\":45,...  {\"Walmart\":89,\"Wendy's\":26,\"Albertsons\":23,\"Da...  {\"Verizon Wireless\":34,\"T-Mobile\":12,\"AT&T\":8,...  {\"Hulu\":23,\"Netflix\":19,\"Amazon Prime Video\":8...                           {}                            {}                                     {\"Afterpay\":4}             {\"Apple Card\":4}\n",
      "163123  227-222@5sy-bzg-qzz                                        NaN      NaN  2022-07-01 00:00:00.000  2022-08-01 00:00:00.000          3750.22                    49                 33                         67.60                      85.18           {\"25\":35.31,\"75\":88.40}  [484.44,48.83,72.75,446.68,733.74,141.29,337.6...  [242.22,48.83,36.38,65.31,67.60,70.65,168.83,n...  {\"Monday\":972.82,\"Tuesday\":733.74,\"Wednesday\":...  {\"Wednesday\":4,\"Monday\":4,\"Saturday\":5,\"Thursd...                             NaN                            NaN                    0          0.00   {\"No intermediary\":49}       {\"No intermediary\":3750.22}  {\"1\":19,\"2\":13,\"3\":0,\"4\":1,\"5-10\":0,\">10\":0}  {\"1\":75.92,\"2\":161.53,\"3\":null,\"4\":207.90,\"5-1...  {\"<25k\":5,\"25-45k\":3,\"45-60k\":2,\"75-100k\":5,\"1...  {\"<25k\":133.94,\"25-45k\":154.86,\"45-60k\":22.78,...  {\"Cody, WY\":4,\"Wilmington, NC\":3,\"Custer, SD\":...  {\"Walmart\":79,\"McDonald's\":58,\"Exxon Mobil\":52...  {\"Amazon\":79,\"Apple\":58,\"Netflix\":43,\"Amazon D...  {\"Academy Sports + Outdoors\":13,\"Sierra\":10,\"L...  {\"Walmart\":58,\"Albertsons\":28,\"Wendy's\":16,\"Wa...  {\"Verizon Wireless\":40,\"AT&T\":13,\"Sprint\":4,\"T...  {\"Netflix\":43,\"Hulu\":25,\"Amazon Prime Video\":1...             {\"HelloFresh\":7}                    {\"Uber\":7}                          {\"Afterpay\":4,\"Klarna\":4}  {\"PayPal\":7,\"Apple Cash\":7}\n"
     ]
    },
    {
     "name": "stderr",
     "output_type": "stream",
     "text": [
      "C:\\Users\\tjbla\\AppData\\Local\\Temp\\ipykernel_3460\\4196244775.py:12: UserWarning: Boolean Series key will be reindexed to match DataFrame index.\n",
      "  df_filtered_2022 = df[(df_safegraph_spend['SPEND_DATE_RANGE_START'] >= datetime_start) &\n"
     ]
    }
   ],
   "source": [
    "# Filter by Dates\n",
    "\n",
    "# print('(before filter) # of rows: ', len(df_filtered))\n",
    "df = df_filtered.copy()\n",
    "\n",
    "datetime_start = pd.to_datetime('2022-05-01')\n",
    "datetime_end = pd.to_datetime('2022-09-01')\n",
    "\n",
    "df_safegraph_spend['SPEND_DATE_RANGE_START'] = pd.to_datetime(df_safegraph_spend['SPEND_DATE_RANGE_START'])\n",
    "df_safegraph_spend['SPEND_DATE_RANGE_END'] = pd.to_datetime(df_safegraph_spend['SPEND_DATE_RANGE_END'])\n",
    "\n",
    "df_filtered_2022 = df[(df_safegraph_spend['SPEND_DATE_RANGE_START'] >= datetime_start) &\n",
    "                                 (df_safegraph_spend['SPEND_DATE_RANGE_END'] <= datetime_end)]\n",
    "\n",
    "#print('(after filter) # of rows: ', len(df_filtered))\n",
    "print(df_filtered_2022.head())\n"
   ]
  },
  {
   "cell_type": "code",
   "execution_count": 9,
   "metadata": {},
   "outputs": [],
   "source": [
    "# Make a Plot of the Data\n",
    "\n",
    "# Note: 'SPEND_DATE_RANGE_START' and 'SPEND_DATE_RANGE_END' is typically separated by 1 month (~30 days)\n",
    "#       'SPEND_BY_DAY' is each spend data for each day of the month\n",
    "# Goal; Plot spending for each single day using plotly\n",
    "\n",
    "import plotly.express as px\n",
    "import ast  # For safely evaluating strings containing Python literals\n",
    "import matplotlib.pyplot as plt\n",
    "\n",
    "df = df_filtered_2022.copy()\n",
    "\n",
    "# Convert string representations of lists in 'SPEND_BY_DAY' to actual lists\n",
    "df['SPEND_BY_DAY'] = df['SPEND_BY_DAY'].apply(ast.literal_eval)\n",
    "\n",
    "# Add a new column called 'DATE_OF_MONTH', as a list of integers from 1 to the end of the month (length of the 'SPEND_BY_DAY' list)\n",
    "df['DATE_OF_MONTH'] = df['SPEND_BY_DAY'].apply(lambda x: list(range(1, len(x) + 1)))\n",
    "\n",
    "#print(df.head())\n",
    "\n",
    "# Explode both 'SPEND_BY_DAY' and 'DATE_OF_MONTH' simultaneously to keep their mapping correct\n",
    "df_spend_by_day = df.explode(['SPEND_BY_DAY', 'DATE_OF_MONTH'])\n",
    "\n",
    "# Convert the spending amounts to float\n",
    "df_spend_by_day['SPEND_BY_DAY'] = df_spend_by_day['SPEND_BY_DAY'].astype(float)\n",
    "df_spend_by_day['DATE_OF_MONTH'] = df_spend_by_day['DATE_OF_MONTH'].astype(int)\n",
    "\n",
    "\n",
    "# Calculate 'DATE' correctly by subtracting 1 since 'DATE_OF_MONTH' starts from 1, not 0\n",
    "df_spend_by_day['DATE'] = pd.to_datetime(df_spend_by_day['SPEND_DATE_RANGE_START']) + pd.to_timedelta(df_spend_by_day['DATE_OF_MONTH'] - 1, unit='D')\n",
    "df_spend_by_day['DATE'] = df_spend_by_day['DATE'].dt.strftime('%m-%d')\n",
    "\n",
    "# Ensure the DataFrame is sorted by 'DATE' if not already\n",
    "# df_spend_by_day = df_spend_by_day.sort_values('DATE')\n",
    "\n",
    "grouped_22_cwy = df_spend_by_day.groupby('DATE')['SPEND_BY_DAY'].sum()\n",
    "#print(grouped_22.head(10))\n"
   ]
  },
  {
   "cell_type": "code",
   "execution_count": 13,
   "metadata": {},
   "outputs": [
    {
     "data": {
      "image/png": "[encoded data removed]",
      "text/plain": [
       "<Figure size 1400x800 with 1 Axes>"
      ]
     },
     "metadata": {},
     "output_type": "display_data"
    }
   ],
   "source": [
    "# Plot the overall spending\n",
    "\n",
    "plt.figure(figsize=(14, 8))\n",
    "plt.plot(grouped_19_cwy);\n",
    "plt.plot(grouped_21_cwy);\n",
    "plt.plot(grouped_22_cwy);\n",
    "plt.title('Spending per Day, Cody, WY');\n",
    "plt.xlabel('day');\n",
    "plt.ylabel('$');\n",
    "plt.legend(['2019', '2021', '2022']);\n",
    "\n",
    "plt.savefig('General_Cody_Spending_2019-2022.png');"
   ]
  },
  {
   "cell_type": "code",
   "execution_count": 14,
   "metadata": {},
   "outputs": [
    {
     "name": "stdout",
     "output_type": "stream",
     "text": [
      "                   PLACEKEY                        SAFEGRAPH_BRAND_IDS       BRANDS   SPEND_DATE_RANGE_START     SPEND_DATE_RANGE_END  RAW_TOTAL_SPEND  RAW_NUM_TRANSACTIONS  RAW_NUM_CUSTOMERS  MEDIAN_SPEND_PER_TRANSACTION  MEDIAN_SPEND_PER_CUSTOMER SPEND_PER_TRANSACTION_PERCENTILES                                       SPEND_BY_DAY                       SPEND_PER_TRANSACTION_BY_DAY                               SPEND_BY_DAY_OF_WEEK                                         DAY_COUNTS  SPEND_PCT_CHANGE_VS_PREV_MONTH  SPEND_PCT_CHANGE_VS_PREV_YEAR  ONLINE_TRANSACTIONS  ONLINE_SPEND TRANSACTION_INTERMEDIARY SPEND_BY_TRANSACTION_INTERMEDIARY                  BUCKETED_CUSTOMER_FREQUENCY               MEAN_SPEND_PER_CUSTOMER_BY_FREQUENCY                          BUCKETED_CUSTOMER_INCOMES                  MEAN_SPEND_PER_CUSTOMER_BY_INCOME                                 CUSTOMER_HOME_CITY         RELATED_CROSS_SHOPPING_PHYSICAL_BRANDS_PCT        RELATED_CROSS_SHOPPING_ONLINE_MERCHANTS_PCT    RELATED_CROSS_SHOPPING_SAME_CATEGORY_BRANDS_PCT RELATED_CROSS_SHOPPING_LOCAL_BRANDS_PCT                     RELATED_WIRELESS_CARRIER_PCT RELATED_STREAMING_CABLE_PCT    RELATED_DELIVERY_SERVICE_PCT RELATED_RIDESHARE_SERVICE_PCT RELATED_BUYNOWPAYLATER_SERVICE_PCT RELATED_PAYMENT_PLATFORM_PCT\n",
      "218779  223-222@5sy-d6f-nnq                                        NaN          NaN  2023-05-01 00:00:00.000  2023-06-01 00:00:00.000          1000.22                    16                 14                         41.68                      38.71           {\"25\":32.68,\"75\":59.00}  [0.00,38.58,38.84,0.00,0.00,0.00,0.00,0.00,0.0...  [null,38.58,38.84,null,null,null,null,null,nul...  {\"Monday\":32.25,\"Tuesday\":197.06,\"Wednesday\":2...  {\"Wednesday\":5,\"Monday\":5,\"Saturday\":4,\"Thursd...                           442.0                           22.0                    2        210.38   {\"No intermediary\":16}       {\"No intermediary\":1000.22}  {\"1\":12,\"2\":2,\"3\":0,\"4\":0,\"5-10\":0,\">10\":0}  {\"1\":50.82,\"2\":195.19,\"3\":null,\"4\":null,\"5-10\"...  {\"<25k\":2,\"25-45k\":2,\"45-60k\":3,\"60-75k\":2,\"75...  {\"<25k\":16.97,\"25-45k\":41.55,\"45-60k\":210.38,\"...  {\"Saint Paul, MN\":2,\"Amalga, UT\":2,\"Driggs, ID...  {\"7-Eleven\":15,\"Ace Hardware\":36,\"Albertsons\":...  {\"Amazon\":50,\"Apple\":43,\"Sirius XM\":22,\"Netfli...                                                 {}                                      {}  {\"AT&T\":29,\"T-Mobile\":22,\"Verizon Wireless\":22}            {\"Paramount+\":8}        {\"DoorDash\":8,\"Shipt\":8}                            {}                                 {}             {\"Apple Card\":8}\n",
      "219074  zzw-222@5sy-d6f-f2k                                        NaN          NaN  2023-05-01 00:00:00.000  2023-06-01 00:00:00.000           317.44                     8                  7                         39.34                      42.88           {\"25\":15.25,\"75\":55.38}  [0.00,0.00,0.00,0.00,0.00,0.00,0.00,0.00,0.00,...  [null,null,null,null,null,null,null,null,null,...  {\"Monday\":0.00,\"Tuesday\":132.50,\"Wednesday\":58...  {\"Wednesday\":5,\"Monday\":5,\"Saturday\":4,\"Thursd...                             NaN                          -53.0                    0          0.00    {\"No intermediary\":8}        {\"No intermediary\":317.44}   {\"1\":6,\"2\":1,\"3\":0,\"4\":0,\"5-10\":0,\">10\":0}  {\"1\":48.02,\"2\":29.30,\"3\":null,\"4\":null,\"5-10\":...  {\"25-45k\":2,\"60-75k\":2,\"75-100k\":2,\"100-150k\":...  {\"25-45k\":42.88,\"60-75k\":37.15,\"75-100k\":35.80...  {\"Longmont, CO\":2,\"Mesquite, NV\":2,\"Elwood, IN...  {\"ARCO\":29,\"Albertsons\":29,\"Apple Retail Store...  {\"Verizon Wireless\":43,\"Netflix\":29,\"Sling TV\"...            {\"Olive Garden\":15,\"Raising Cane's\":15}                                      {}                          {\"Verizon Wireless\":72}                          {}  {\"DoorDash\":15,\"Uber Eats\":15}                   {\"Uber\":15}                                 {}                           {}\n",
      "219091  223-222@5sy-d6g-ks5                                        NaN          NaN  2023-05-01 00:00:00.000  2023-06-01 00:00:00.000           213.50                     7                  5                         27.00                      45.00           {\"25\":20.00,\"75\":40.00}  [0.00,0.00,0.00,0.00,0.00,0.00,0.00,0.00,0.00,...  [null,null,null,null,null,null,null,null,null,...  {\"Monday\":40.00,\"Tuesday\":0.00,\"Wednesday\":0.0...  {\"Wednesday\":5,\"Monday\":5,\"Saturday\":4,\"Thursd...                             NaN                          -80.0                    0          0.00    {\"No intermediary\":7}        {\"No intermediary\":213.50}   {\"1\":3,\"2\":2,\"3\":0,\"4\":0,\"5-10\":0,\">10\":0}  {\"1\":39.83,\"2\":47.00,\"3\":null,\"4\":null,\"5-10\":...       {\"25-45k\":6,\"45-60k\":2,\"60-75k\":2,\">150k\":2}  {\"25-45k\":34.50,\"45-60k\":40.00,\"60-75k\":45.00,...  {\"Saint Petersburg, FL\":2,\"Nashville, TN\":2,\"L...  {\"7-Eleven\":40,\"ARCO\":60,\"Ace Hardware\":40,\"BP...  {\"Amazon\":40,\"Sirius XM\":40,\"Lowe's\":40,\"Kohl'...                {\"Cracker Barrel\":20,\"Culver's\":40}                                      {}                          {\"Verizon Wireless\":20}                          {}                              {}                            {}                                 {}                           {}\n",
      "222092  223-222@5sy-d6f-rzf  SG_BRAND_a144a8c10e1fe8006125571afd1a1e80  Exxon Mobil  2023-05-01 00:00:00.000  2023-06-01 00:00:00.000           155.43                     6                  5                         24.17                      27.93           {\"25\":16.75,\"75\":35.07}  [0.00,0.00,0.00,0.00,0.00,0.00,0.00,0.00,7.00,...  [null,null,null,null,null,null,null,null,7.00,...  {\"Monday\":0.00,\"Tuesday\":27.00,\"Wednesday\":27....  {\"Wednesday\":5,\"Monday\":5,\"Saturday\":4,\"Thursd...                             NaN                          -84.0                    0          0.00    {\"No intermediary\":6}        {\"No intermediary\":155.43}   {\"1\":4,\"2\":1,\"3\":0,\"4\":0,\"5-10\":0,\">10\":0}  {\"1\":26.34,\"2\":50.08,\"3\":null,\"4\":null,\"5-10\":...        {\"<25k\":3,\"45-60k\":2,\"75-100k\":2,\">150k\":2}  {\"<25k\":50.05,\"45-60k\":27.93,\"75-100k\":20.40,\"...                       {\"Lutz, FL\":2,\"Tempe, AZ\":2}  {\"7-Eleven\":20,\"AT&T\":20,\"Agway\":20,\"Applebee'...  {\"Amazon\":40,\"Apple\":40,\"Sirius XM\":20,\"Lowe's...  {\"BP\":20,\"ConocoPhillips\":60,\"Holiday Station\"...                          {\"Super 8\":40}                                      {\"AT&T\":40}                          {}  {\"Dashpass\":20,\"Uber Eats\":20}                            {}                  {\"Affirm.com\":20}                           {}\n",
      "223009  zzy-225@5sy-d6f-dy9                                        NaN          NaN  2023-05-01 00:00:00.000  2023-06-01 00:00:00.000           126.80                     2                  2                         63.40                      63.40           {\"25\":35.33,\"75\":91.47}  [0.00,0.00,0.00,0.00,0.00,0.00,0.00,0.00,0.00,...  [null,null,null,null,null,null,null,null,null,...  {\"Monday\":0.00,\"Tuesday\":0.00,\"Wednesday\":0.00...  {\"Wednesday\":5,\"Monday\":5,\"Saturday\":4,\"Thursd...                             NaN                            NaN                    0          0.00    {\"No intermediary\":2}        {\"No intermediary\":126.80}   {\"1\":2,\"2\":0,\"3\":0,\"4\":0,\"5-10\":0,\">10\":0}  {\"1\":63.40,\"2\":null,\"3\":null,\"4\":null,\"5-10\":n...                          {\"60-75k\":2,\"100-150k\":2}                  {\"60-75k\":35.33,\"100-150k\":91.47}              {\"Murfreesboro, TN\":2,\"Elburn, IL\":2}  {\"ALDI\":50,\"BP\":100,\"Bargain Hunt\":50,\"Baskin ...  {\"Etsy\":100,\"Verizon Wireless\":100,\"Planet Fit...                                                 {}                                      {}               {\"Verizon Wireless\":100,\"AT&T\":50}                          {}                {\"Uber Eats\":50}                            {}                                 {}            {\"Apple Card\":50}\n"
     ]
    },
    {
     "name": "stderr",
     "output_type": "stream",
     "text": [
      "C:\\Users\\tjbla\\AppData\\Local\\Temp\\ipykernel_21468\\2773158075.py:12: UserWarning:\n",
      "\n",
      "Boolean Series key will be reindexed to match DataFrame index.\n",
      "\n"
     ]
    }
   ],
   "source": [
    "# Filter by Dates\n",
    "\n",
    "# print('(before filter) # of rows: ', len(df_filtered))\n",
    "df = df_filtered.copy()\n",
    "\n",
    "datetime_start = pd.to_datetime('2023-05-01')\n",
    "datetime_end = pd.to_datetime('2023-09-01')\n",
    "\n",
    "df_safegraph_spend['SPEND_DATE_RANGE_START'] = pd.to_datetime(df_safegraph_spend['SPEND_DATE_RANGE_START'])\n",
    "df_safegraph_spend['SPEND_DATE_RANGE_END'] = pd.to_datetime(df_safegraph_spend['SPEND_DATE_RANGE_END'])\n",
    "\n",
    "df_filtered_2023 = df[(df_safegraph_spend['SPEND_DATE_RANGE_START'] >= datetime_start) &\n",
    "                                 (df_safegraph_spend['SPEND_DATE_RANGE_END'] <= datetime_end)]\n",
    "\n",
    "#print('(after filter) # of rows: ', len(df_filtered))\n",
    "print(df_filtered_2023.head())\n"
   ]
  },
  {
   "cell_type": "code",
   "execution_count": 18,
   "metadata": {},
   "outputs": [
    {
     "name": "stdout",
     "output_type": "stream",
     "text": [
      "                   PLACEKEY                        SAFEGRAPH_BRAND_IDS       BRANDS   SPEND_DATE_RANGE_START     SPEND_DATE_RANGE_END  RAW_TOTAL_SPEND  RAW_NUM_TRANSACTIONS  RAW_NUM_CUSTOMERS  MEDIAN_SPEND_PER_TRANSACTION  MEDIAN_SPEND_PER_CUSTOMER SPEND_PER_TRANSACTION_PERCENTILES                                       SPEND_BY_DAY                       SPEND_PER_TRANSACTION_BY_DAY                               SPEND_BY_DAY_OF_WEEK                                         DAY_COUNTS  SPEND_PCT_CHANGE_VS_PREV_MONTH  SPEND_PCT_CHANGE_VS_PREV_YEAR  ONLINE_TRANSACTIONS  ONLINE_SPEND TRANSACTION_INTERMEDIARY SPEND_BY_TRANSACTION_INTERMEDIARY                  BUCKETED_CUSTOMER_FREQUENCY               MEAN_SPEND_PER_CUSTOMER_BY_FREQUENCY                          BUCKETED_CUSTOMER_INCOMES                  MEAN_SPEND_PER_CUSTOMER_BY_INCOME                                 CUSTOMER_HOME_CITY         RELATED_CROSS_SHOPPING_PHYSICAL_BRANDS_PCT        RELATED_CROSS_SHOPPING_ONLINE_MERCHANTS_PCT    RELATED_CROSS_SHOPPING_SAME_CATEGORY_BRANDS_PCT RELATED_CROSS_SHOPPING_LOCAL_BRANDS_PCT                     RELATED_WIRELESS_CARRIER_PCT RELATED_STREAMING_CABLE_PCT    RELATED_DELIVERY_SERVICE_PCT RELATED_RIDESHARE_SERVICE_PCT RELATED_BUYNOWPAYLATER_SERVICE_PCT RELATED_PAYMENT_PLATFORM_PCT                                      DATE_OF_MONTH\n",
      "218779  223-222@5sy-d6f-nnq                                        NaN          NaN  2023-05-01 00:00:00.000  2023-06-01 00:00:00.000          1000.22                    16                 14                         41.68                      38.71           {\"25\":32.68,\"75\":59.00}  [0.0, 38.58, 38.84, 0.0, 0.0, 0.0, 0.0, 0.0, 0...  [null,38.58,38.84,null,null,null,null,null,nul...  {\"Monday\":32.25,\"Tuesday\":197.06,\"Wednesday\":2...  {\"Wednesday\":5,\"Monday\":5,\"Saturday\":4,\"Thursd...                           442.0                           22.0                    2        210.38   {\"No intermediary\":16}       {\"No intermediary\":1000.22}  {\"1\":12,\"2\":2,\"3\":0,\"4\":0,\"5-10\":0,\">10\":0}  {\"1\":50.82,\"2\":195.19,\"3\":null,\"4\":null,\"5-10\"...  {\"<25k\":2,\"25-45k\":2,\"45-60k\":3,\"60-75k\":2,\"75...  {\"<25k\":16.97,\"25-45k\":41.55,\"45-60k\":210.38,\"...  {\"Saint Paul, MN\":2,\"Amalga, UT\":2,\"Driggs, ID...  {\"7-Eleven\":15,\"Ace Hardware\":36,\"Albertsons\":...  {\"Amazon\":50,\"Apple\":43,\"Sirius XM\":22,\"Netfli...                                                 {}                                      {}  {\"AT&T\":29,\"T-Mobile\":22,\"Verizon Wireless\":22}            {\"Paramount+\":8}        {\"DoorDash\":8,\"Shipt\":8}                            {}                                 {}             {\"Apple Card\":8}  [1, 2, 3, 4, 5, 6, 7, 8, 9, 10, 11, 12, 13, 14...\n",
      "219074  zzw-222@5sy-d6f-f2k                                        NaN          NaN  2023-05-01 00:00:00.000  2023-06-01 00:00:00.000           317.44                     8                  7                         39.34                      42.88           {\"25\":15.25,\"75\":55.38}  [0.0, 0.0, 0.0, 0.0, 0.0, 0.0, 0.0, 0.0, 0.0, ...  [null,null,null,null,null,null,null,null,null,...  {\"Monday\":0.00,\"Tuesday\":132.50,\"Wednesday\":58...  {\"Wednesday\":5,\"Monday\":5,\"Saturday\":4,\"Thursd...                             NaN                          -53.0                    0          0.00    {\"No intermediary\":8}        {\"No intermediary\":317.44}   {\"1\":6,\"2\":1,\"3\":0,\"4\":0,\"5-10\":0,\">10\":0}  {\"1\":48.02,\"2\":29.30,\"3\":null,\"4\":null,\"5-10\":...  {\"25-45k\":2,\"60-75k\":2,\"75-100k\":2,\"100-150k\":...  {\"25-45k\":42.88,\"60-75k\":37.15,\"75-100k\":35.80...  {\"Longmont, CO\":2,\"Mesquite, NV\":2,\"Elwood, IN...  {\"ARCO\":29,\"Albertsons\":29,\"Apple Retail Store...  {\"Verizon Wireless\":43,\"Netflix\":29,\"Sling TV\"...            {\"Olive Garden\":15,\"Raising Cane's\":15}                                      {}                          {\"Verizon Wireless\":72}                          {}  {\"DoorDash\":15,\"Uber Eats\":15}                   {\"Uber\":15}                                 {}                           {}  [1, 2, 3, 4, 5, 6, 7, 8, 9, 10, 11, 12, 13, 14...\n",
      "219091  223-222@5sy-d6g-ks5                                        NaN          NaN  2023-05-01 00:00:00.000  2023-06-01 00:00:00.000           213.50                     7                  5                         27.00                      45.00           {\"25\":20.00,\"75\":40.00}  [0.0, 0.0, 0.0, 0.0, 0.0, 0.0, 0.0, 0.0, 0.0, ...  [null,null,null,null,null,null,null,null,null,...  {\"Monday\":40.00,\"Tuesday\":0.00,\"Wednesday\":0.0...  {\"Wednesday\":5,\"Monday\":5,\"Saturday\":4,\"Thursd...                             NaN                          -80.0                    0          0.00    {\"No intermediary\":7}        {\"No intermediary\":213.50}   {\"1\":3,\"2\":2,\"3\":0,\"4\":0,\"5-10\":0,\">10\":0}  {\"1\":39.83,\"2\":47.00,\"3\":null,\"4\":null,\"5-10\":...       {\"25-45k\":6,\"45-60k\":2,\"60-75k\":2,\">150k\":2}  {\"25-45k\":34.50,\"45-60k\":40.00,\"60-75k\":45.00,...  {\"Saint Petersburg, FL\":2,\"Nashville, TN\":2,\"L...  {\"7-Eleven\":40,\"ARCO\":60,\"Ace Hardware\":40,\"BP...  {\"Amazon\":40,\"Sirius XM\":40,\"Lowe's\":40,\"Kohl'...                {\"Cracker Barrel\":20,\"Culver's\":40}                                      {}                          {\"Verizon Wireless\":20}                          {}                              {}                            {}                                 {}                           {}  [1, 2, 3, 4, 5, 6, 7, 8, 9, 10, 11, 12, 13, 14...\n",
      "222092  223-222@5sy-d6f-rzf  SG_BRAND_a144a8c10e1fe8006125571afd1a1e80  Exxon Mobil  2023-05-01 00:00:00.000  2023-06-01 00:00:00.000           155.43                     6                  5                         24.17                      27.93           {\"25\":16.75,\"75\":35.07}  [0.0, 0.0, 0.0, 0.0, 0.0, 0.0, 0.0, 0.0, 7.0, ...  [null,null,null,null,null,null,null,null,7.00,...  {\"Monday\":0.00,\"Tuesday\":27.00,\"Wednesday\":27....  {\"Wednesday\":5,\"Monday\":5,\"Saturday\":4,\"Thursd...                             NaN                          -84.0                    0          0.00    {\"No intermediary\":6}        {\"No intermediary\":155.43}   {\"1\":4,\"2\":1,\"3\":0,\"4\":0,\"5-10\":0,\">10\":0}  {\"1\":26.34,\"2\":50.08,\"3\":null,\"4\":null,\"5-10\":...        {\"<25k\":3,\"45-60k\":2,\"75-100k\":2,\">150k\":2}  {\"<25k\":50.05,\"45-60k\":27.93,\"75-100k\":20.40,\"...                       {\"Lutz, FL\":2,\"Tempe, AZ\":2}  {\"7-Eleven\":20,\"AT&T\":20,\"Agway\":20,\"Applebee'...  {\"Amazon\":40,\"Apple\":40,\"Sirius XM\":20,\"Lowe's...  {\"BP\":20,\"ConocoPhillips\":60,\"Holiday Station\"...                          {\"Super 8\":40}                                      {\"AT&T\":40}                          {}  {\"Dashpass\":20,\"Uber Eats\":20}                            {}                  {\"Affirm.com\":20}                           {}  [1, 2, 3, 4, 5, 6, 7, 8, 9, 10, 11, 12, 13, 14...\n",
      "223009  zzy-225@5sy-d6f-dy9                                        NaN          NaN  2023-05-01 00:00:00.000  2023-06-01 00:00:00.000           126.80                     2                  2                         63.40                      63.40           {\"25\":35.33,\"75\":91.47}  [0.0, 0.0, 0.0, 0.0, 0.0, 0.0, 0.0, 0.0, 0.0, ...  [null,null,null,null,null,null,null,null,null,...  {\"Monday\":0.00,\"Tuesday\":0.00,\"Wednesday\":0.00...  {\"Wednesday\":5,\"Monday\":5,\"Saturday\":4,\"Thursd...                             NaN                            NaN                    0          0.00    {\"No intermediary\":2}        {\"No intermediary\":126.80}   {\"1\":2,\"2\":0,\"3\":0,\"4\":0,\"5-10\":0,\">10\":0}  {\"1\":63.40,\"2\":null,\"3\":null,\"4\":null,\"5-10\":n...                          {\"60-75k\":2,\"100-150k\":2}                  {\"60-75k\":35.33,\"100-150k\":91.47}              {\"Murfreesboro, TN\":2,\"Elburn, IL\":2}  {\"ALDI\":50,\"BP\":100,\"Bargain Hunt\":50,\"Baskin ...  {\"Etsy\":100,\"Verizon Wireless\":100,\"Planet Fit...                                                 {}                                      {}               {\"Verizon Wireless\":100,\"AT&T\":50}                          {}                {\"Uber Eats\":50}                            {}                                 {}            {\"Apple Card\":50}  [1, 2, 3, 4, 5, 6, 7, 8, 9, 10, 11, 12, 13, 14...\n",
      "DATE\n",
      "2023-05-01     0.00\n",
      "2023-05-02    38.58\n",
      "2023-05-03    38.84\n",
      "2023-05-04     0.00\n",
      "2023-05-05     0.00\n",
      "2023-05-06     0.00\n",
      "2023-05-07     0.00\n",
      "2023-05-08     0.00\n",
      "2023-05-09     7.00\n",
      "2023-05-10     0.00\n",
      "Name: SPEND_BY_DAY, dtype: float64\n"
     ]
    },
    {
     "name": "stderr",
     "output_type": "stream",
     "text": [
      "c:\\Users\\tjbla\\miniforge3\\envs\\worth\\Lib\\site-packages\\_plotly_utils\\basevalidators.py:106: FutureWarning:\n",
      "\n",
      "The behavior of DatetimeProperties.to_pydatetime is deprecated, in a future version this will return a Series containing python datetime objects instead of an ndarray. To retain the old behavior, call `np.array` on the result\n",
      "\n"
     ]
    },
    {
     "data": {
      "application/vnd.plotly.v1+json": {
       "config": {
        "plotlyServerURL": "https://plot.ly"
       },
       "data": [
        {
         "hovertemplate": "variable=SPEND_BY_DAY<br>DATE=%{x}<br>value=%{y}<extra></extra>",
         "legendgroup": "SPEND_BY_DAY",
         "line": {
          "color": "#636efa",
          "dash": "solid"
         },
         "marker": {
          "symbol": "circle"
         },
         "mode": "lines",
         "name": "SPEND_BY_DAY",
         "orientation": "v",
         "showlegend": true,
         "type": "scatter",
         "x": [
          "2023-05-01T00:00:00",
          "2023-05-02T00:00:00",
          "2023-05-03T00:00:00",
          "2023-05-04T00:00:00",
          "2023-05-05T00:00:00",
          "2023-05-06T00:00:00",
          "2023-05-07T00:00:00",
          "2023-05-08T00:00:00",
          "2023-05-09T00:00:00",
          "2023-05-10T00:00:00",
          "2023-05-11T00:00:00",
          "2023-05-12T00:00:00",
          "2023-05-13T00:00:00",
          "2023-05-14T00:00:00",
          "2023-05-15T00:00:00",
          "2023-05-16T00:00:00",
          "2023-05-17T00:00:00",
          "2023-05-18T00:00:00",
          "2023-05-19T00:00:00",
          "2023-05-20T00:00:00",
          "2023-05-21T00:00:00",
          "2023-05-22T00:00:00",
          "2023-05-23T00:00:00",
          "2023-05-24T00:00:00",
          "2023-05-25T00:00:00",
          "2023-05-26T00:00:00",
          "2023-05-27T00:00:00",
          "2023-05-28T00:00:00",
          "2023-05-29T00:00:00",
          "2023-05-30T00:00:00",
          "2023-05-31T00:00:00",
          "2023-06-01T00:00:00",
          "2023-06-02T00:00:00",
          "2023-06-03T00:00:00",
          "2023-06-04T00:00:00",
          "2023-06-05T00:00:00",
          "2023-06-06T00:00:00",
          "2023-06-07T00:00:00",
          "2023-06-08T00:00:00",
          "2023-06-09T00:00:00",
          "2023-06-10T00:00:00",
          "2023-06-11T00:00:00",
          "2023-06-12T00:00:00",
          "2023-06-13T00:00:00",
          "2023-06-14T00:00:00",
          "2023-06-15T00:00:00",
          "2023-06-16T00:00:00",
          "2023-06-17T00:00:00",
          "2023-06-18T00:00:00",
          "2023-06-19T00:00:00",
          "2023-06-20T00:00:00",
          "2023-06-21T00:00:00",
          "2023-06-22T00:00:00",
          "2023-06-23T00:00:00",
          "2023-06-24T00:00:00",
          "2023-06-25T00:00:00",
          "2023-06-26T00:00:00",
          "2023-06-27T00:00:00",
          "2023-06-28T00:00:00",
          "2023-06-29T00:00:00",
          "2023-06-30T00:00:00",
          "2023-07-01T00:00:00",
          "2023-07-02T00:00:00",
          "2023-07-03T00:00:00",
          "2023-07-04T00:00:00",
          "2023-07-05T00:00:00",
          "2023-07-06T00:00:00",
          "2023-07-07T00:00:00",
          "2023-07-08T00:00:00",
          "2023-07-09T00:00:00",
          "2023-07-10T00:00:00",
          "2023-07-11T00:00:00",
          "2023-07-12T00:00:00",
          "2023-07-13T00:00:00",
          "2023-07-14T00:00:00",
          "2023-07-15T00:00:00",
          "2023-07-16T00:00:00",
          "2023-07-17T00:00:00",
          "2023-07-18T00:00:00",
          "2023-07-19T00:00:00",
          "2023-07-20T00:00:00",
          "2023-07-21T00:00:00",
          "2023-07-22T00:00:00",
          "2023-07-23T00:00:00",
          "2023-07-24T00:00:00",
          "2023-07-25T00:00:00",
          "2023-07-26T00:00:00",
          "2023-07-27T00:00:00",
          "2023-07-28T00:00:00",
          "2023-07-29T00:00:00",
          "2023-07-30T00:00:00",
          "2023-07-31T00:00:00",
          "2023-08-01T00:00:00",
          "2023-08-02T00:00:00",
          "2023-08-03T00:00:00",
          "2023-08-04T00:00:00",
          "2023-08-05T00:00:00",
          "2023-08-06T00:00:00",
          "2023-08-07T00:00:00",
          "2023-08-08T00:00:00",
          "2023-08-09T00:00:00",
          "2023-08-10T00:00:00",
          "2023-08-11T00:00:00",
          "2023-08-12T00:00:00",
          "2023-08-13T00:00:00",
          "2023-08-14T00:00:00",
          "2023-08-15T00:00:00",
          "2023-08-16T00:00:00",
          "2023-08-17T00:00:00",
          "2023-08-18T00:00:00",
          "2023-08-19T00:00:00",
          "2023-08-20T00:00:00",
          "2023-08-21T00:00:00",
          "2023-08-22T00:00:00",
          "2023-08-23T00:00:00",
          "2023-08-24T00:00:00",
          "2023-08-25T00:00:00",
          "2023-08-26T00:00:00",
          "2023-08-27T00:00:00",
          "2023-08-28T00:00:00",
          "2023-08-29T00:00:00",
          "2023-08-30T00:00:00",
          "2023-08-31T00:00:00"
         ],
         "xaxis": "x",
         "y": [
          0,
          38.58,
          38.84,
          0,
          0,
          0,
          0,
          0,
          7,
          0,
          0,
          33.98,
          70,
          94,
          40,
          0,
          58.84,
          44.51,
          159.5,
          621.0699999999999,
          30.08,
          32.25,
          288.47,
          27.93,
          121.15,
          159.26999999999998,
          279.75,
          181.47,
          0,
          689.2,
          333.53999999999996,
          67.08,
          0,
          236.76,
          75.84,
          1055.6,
          483.01,
          244.51999999999998,
          386.13,
          324.68,
          165.28,
          99.94,
          675.76,
          386.35,
          105.07999999999998,
          392.2,
          1208.69,
          464.26,
          130.3,
          525.61,
          477.29,
          341.52,
          379.83,
          724.28,
          183.76999999999998,
          157.85,
          1646.3,
          185.91,
          69.24000000000001,
          133.05,
          421.13,
          864.5600000000001,
          175.2,
          776.29,
          1342.32,
          305.68,
          508.89,
          465.09,
          758.78,
          5.09,
          261.95,
          250.17000000000002,
          301.11,
          284.53,
          235.12,
          248.64,
          445.36,
          1270.51,
          591.12,
          351.78999999999996,
          663.12,
          631.05,
          399.97,
          175.1,
          494.71,
          433.70000000000005,
          194.69,
          522.7,
          148.26,
          422.65,
          235.45,
          643.1800000000001,
          248.68,
          150.13,
          778.66,
          38.28,
          220.56,
          132.34,
          1056.69,
          722.79,
          367.38,
          535.55,
          145.95,
          317.58000000000004,
          127.67,
          619.89,
          472.18,
          973.0899999999999,
          311.34,
          278.89,
          308.56,
          507.04,
          104.71,
          229.95,
          683.3299999999999,
          844.47,
          140.19,
          219.39,
          260.69,
          1123.91,
          58.940000000000005,
          99.52,
          194.64000000000001
         ],
         "yaxis": "y"
        }
       ],
       "layout": {
        "legend": {
         "title": {
          "text": "variable"
         },
         "tracegroupgap": 0
        },
        "template": {
         "data": {
          "bar": [
           {
            "error_x": {
             "color": "#2a3f5f"
            },
            "error_y": {
             "color": "#2a3f5f"
            },
            "marker": {
             "line": {
              "color": "#E5ECF6",
              "width": 0.5
             },
             "pattern": {
              "fillmode": "overlay",
              "size": 10,
              "solidity": 0.2
             }
            },
            "type": "bar"
           }
          ],
          "barpolar": [
           {
            "marker": {
             "line": {
              "color": "#E5ECF6",
              "width": 0.5
             },
             "pattern": {
              "fillmode": "overlay",
              "size": 10,
              "solidity": 0.2
             }
            },
            "type": "barpolar"
           }
          ],
          "carpet": [
           {
            "aaxis": {
             "endlinecolor": "#2a3f5f",
             "gridcolor": "white",
             "linecolor": "white",
             "minorgridcolor": "white",
             "startlinecolor": "#2a3f5f"
            },
            "baxis": {
             "endlinecolor": "#2a3f5f",
             "gridcolor": "white",
             "linecolor": "white",
             "minorgridcolor": "white",
             "startlinecolor": "#2a3f5f"
            },
            "type": "carpet"
           }
          ],
          "choropleth": [
           {
            "colorbar": {
             "outlinewidth": 0,
             "ticks": ""
            },
            "type": "choropleth"
           }
          ],
          "contour": [
           {
            "colorbar": {
             "outlinewidth": 0,
             "ticks": ""
            },
            "colorscale": [
             [
              0,
              "#0d0887"
             ],
             [
              0.1111111111111111,
              "#46039f"
             ],
             [
              0.2222222222222222,
              "#7201a8"
             ],
             [
              0.3333333333333333,
              "#9c179e"
             ],
             [
              0.4444444444444444,
              "#bd3786"
             ],
             [
              0.5555555555555556,
              "#d8576b"
             ],
             [
              0.6666666666666666,
              "#ed7953"
             ],
             [
              0.7777777777777778,
              "#fb9f3a"
             ],
             [
              0.8888888888888888,
              "#fdca26"
             ],
             [
              1,
              "#f0f921"
             ]
            ],
            "type": "contour"
           }
          ],
          "contourcarpet": [
           {
            "colorbar": {
             "outlinewidth": 0,
             "ticks": ""
            },
            "type": "contourcarpet"
           }
          ],
          "heatmap": [
           {
            "colorbar": {
             "outlinewidth": 0,
             "ticks": ""
            },
            "colorscale": [
             [
              0,
              "#0d0887"
             ],
             [
              0.1111111111111111,
              "#46039f"
             ],
             [
              0.2222222222222222,
              "#7201a8"
             ],
             [
              0.3333333333333333,
              "#9c179e"
             ],
             [
              0.4444444444444444,
              "#bd3786"
             ],
             [
              0.5555555555555556,
              "#d8576b"
             ],
             [
              0.6666666666666666,
              "#ed7953"
             ],
             [
              0.7777777777777778,
              "#fb9f3a"
             ],
             [
              0.8888888888888888,
              "#fdca26"
             ],
             [
              1,
              "#f0f921"
             ]
            ],
            "type": "heatmap"
           }
          ],
          "heatmapgl": [
           {
            "colorbar": {
             "outlinewidth": 0,
             "ticks": ""
            },
            "colorscale": [
             [
              0,
              "#0d0887"
             ],
             [
              0.1111111111111111,
              "#46039f"
             ],
             [
              0.2222222222222222,
              "#7201a8"
             ],
             [
              0.3333333333333333,
              "#9c179e"
             ],
             [
              0.4444444444444444,
              "#bd3786"
             ],
             [
              0.5555555555555556,
              "#d8576b"
             ],
             [
              0.6666666666666666,
              "#ed7953"
             ],
             [
              0.7777777777777778,
              "#fb9f3a"
             ],
             [
              0.8888888888888888,
              "#fdca26"
             ],
             [
              1,
              "#f0f921"
             ]
            ],
            "type": "heatmapgl"
           }
          ],
          "histogram": [
           {
            "marker": {
             "pattern": {
              "fillmode": "overlay",
              "size": 10,
              "solidity": 0.2
             }
            },
            "type": "histogram"
           }
          ],
          "histogram2d": [
           {
            "colorbar": {
             "outlinewidth": 0,
             "ticks": ""
            },
            "colorscale": [
             [
              0,
              "#0d0887"
             ],
             [
              0.1111111111111111,
              "#46039f"
             ],
             [
              0.2222222222222222,
              "#7201a8"
             ],
             [
              0.3333333333333333,
              "#9c179e"
             ],
             [
              0.4444444444444444,
              "#bd3786"
             ],
             [
              0.5555555555555556,
              "#d8576b"
             ],
             [
              0.6666666666666666,
              "#ed7953"
             ],
             [
              0.7777777777777778,
              "#fb9f3a"
             ],
             [
              0.8888888888888888,
              "#fdca26"
             ],
             [
              1,
              "#f0f921"
             ]
            ],
            "type": "histogram2d"
           }
          ],
          "histogram2dcontour": [
           {
            "colorbar": {
             "outlinewidth": 0,
             "ticks": ""
            },
            "colorscale": [
             [
              0,
              "#0d0887"
             ],
             [
              0.1111111111111111,
              "#46039f"
             ],
             [
              0.2222222222222222,
              "#7201a8"
             ],
             [
              0.3333333333333333,
              "#9c179e"
             ],
             [
              0.4444444444444444,
              "#bd3786"
             ],
             [
              0.5555555555555556,
              "#d8576b"
             ],
             [
              0.6666666666666666,
              "#ed7953"
             ],
             [
              0.7777777777777778,
              "#fb9f3a"
             ],
             [
              0.8888888888888888,
              "#fdca26"
             ],
             [
              1,
              "#f0f921"
             ]
            ],
            "type": "histogram2dcontour"
           }
          ],
          "mesh3d": [
           {
            "colorbar": {
             "outlinewidth": 0,
             "ticks": ""
            },
            "type": "mesh3d"
           }
          ],
          "parcoords": [
           {
            "line": {
             "colorbar": {
              "outlinewidth": 0,
              "ticks": ""
             }
            },
            "type": "parcoords"
           }
          ],
          "pie": [
           {
            "automargin": true,
            "type": "pie"
           }
          ],
          "scatter": [
           {
            "fillpattern": {
             "fillmode": "overlay",
             "size": 10,
             "solidity": 0.2
            },
            "type": "scatter"
           }
          ],
          "scatter3d": [
           {
            "line": {
             "colorbar": {
              "outlinewidth": 0,
              "ticks": ""
             }
            },
            "marker": {
             "colorbar": {
              "outlinewidth": 0,
              "ticks": ""
             }
            },
            "type": "scatter3d"
           }
          ],
          "scattercarpet": [
           {
            "marker": {
             "colorbar": {
              "outlinewidth": 0,
              "ticks": ""
             }
            },
            "type": "scattercarpet"
           }
          ],
          "scattergeo": [
           {
            "marker": {
             "colorbar": {
              "outlinewidth": 0,
              "ticks": ""
             }
            },
            "type": "scattergeo"
           }
          ],
          "scattergl": [
           {
            "marker": {
             "colorbar": {
              "outlinewidth": 0,
              "ticks": ""
             }
            },
            "type": "scattergl"
           }
          ],
          "scattermapbox": [
           {
            "marker": {
             "colorbar": {
              "outlinewidth": 0,
              "ticks": ""
             }
            },
            "type": "scattermapbox"
           }
          ],
          "scatterpolar": [
           {
            "marker": {
             "colorbar": {
              "outlinewidth": 0,
              "ticks": ""
             }
            },
            "type": "scatterpolar"
           }
          ],
          "scatterpolargl": [
           {
            "marker": {
             "colorbar": {
              "outlinewidth": 0,
              "ticks": ""
             }
            },
            "type": "scatterpolargl"
           }
          ],
          "scatterternary": [
           {
            "marker": {
             "colorbar": {
              "outlinewidth": 0,
              "ticks": ""
             }
            },
            "type": "scatterternary"
           }
          ],
          "surface": [
           {
            "colorbar": {
             "outlinewidth": 0,
             "ticks": ""
            },
            "colorscale": [
             [
              0,
              "#0d0887"
             ],
             [
              0.1111111111111111,
              "#46039f"
             ],
             [
              0.2222222222222222,
              "#7201a8"
             ],
             [
              0.3333333333333333,
              "#9c179e"
             ],
             [
              0.4444444444444444,
              "#bd3786"
             ],
             [
              0.5555555555555556,
              "#d8576b"
             ],
             [
              0.6666666666666666,
              "#ed7953"
             ],
             [
              0.7777777777777778,
              "#fb9f3a"
             ],
             [
              0.8888888888888888,
              "#fdca26"
             ],
             [
              1,
              "#f0f921"
             ]
            ],
            "type": "surface"
           }
          ],
          "table": [
           {
            "cells": {
             "fill": {
              "color": "#EBF0F8"
             },
             "line": {
              "color": "white"
             }
            },
            "header": {
             "fill": {
              "color": "#C8D4E3"
             },
             "line": {
              "color": "white"
             }
            },
            "type": "table"
           }
          ]
         },
         "layout": {
          "annotationdefaults": {
           "arrowcolor": "#2a3f5f",
           "arrowhead": 0,
           "arrowwidth": 1
          },
          "autotypenumbers": "strict",
          "coloraxis": {
           "colorbar": {
            "outlinewidth": 0,
            "ticks": ""
           }
          },
          "colorscale": {
           "diverging": [
            [
             0,
             "#8e0152"
            ],
            [
             0.1,
             "#c51b7d"
            ],
            [
             0.2,
             "#de77ae"
            ],
            [
             0.3,
             "#f1b6da"
            ],
            [
             0.4,
             "#fde0ef"
            ],
            [
             0.5,
             "#f7f7f7"
            ],
            [
             0.6,
             "#e6f5d0"
            ],
            [
             0.7,
             "#b8e186"
            ],
            [
             0.8,
             "#7fbc41"
            ],
            [
             0.9,
             "#4d9221"
            ],
            [
             1,
             "#276419"
            ]
           ],
           "sequential": [
            [
             0,
             "#0d0887"
            ],
            [
             0.1111111111111111,
             "#46039f"
            ],
            [
             0.2222222222222222,
             "#7201a8"
            ],
            [
             0.3333333333333333,
             "#9c179e"
            ],
            [
             0.4444444444444444,
             "#bd3786"
            ],
            [
             0.5555555555555556,
             "#d8576b"
            ],
            [
             0.6666666666666666,
             "#ed7953"
            ],
            [
             0.7777777777777778,
             "#fb9f3a"
            ],
            [
             0.8888888888888888,
             "#fdca26"
            ],
            [
             1,
             "#f0f921"
            ]
           ],
           "sequentialminus": [
            [
             0,
             "#0d0887"
            ],
            [
             0.1111111111111111,
             "#46039f"
            ],
            [
             0.2222222222222222,
             "#7201a8"
            ],
            [
             0.3333333333333333,
             "#9c179e"
            ],
            [
             0.4444444444444444,
             "#bd3786"
            ],
            [
             0.5555555555555556,
             "#d8576b"
            ],
            [
             0.6666666666666666,
             "#ed7953"
            ],
            [
             0.7777777777777778,
             "#fb9f3a"
            ],
            [
             0.8888888888888888,
             "#fdca26"
            ],
            [
             1,
             "#f0f921"
            ]
           ]
          },
          "colorway": [
           "#636efa",
           "#EF553B",
           "#00cc96",
           "#ab63fa",
           "#FFA15A",
           "#19d3f3",
           "#FF6692",
           "#B6E880",
           "#FF97FF",
           "#FECB52"
          ],
          "font": {
           "color": "#2a3f5f"
          },
          "geo": {
           "bgcolor": "white",
           "lakecolor": "white",
           "landcolor": "#E5ECF6",
           "showlakes": true,
           "showland": true,
           "subunitcolor": "white"
          },
          "hoverlabel": {
           "align": "left"
          },
          "hovermode": "closest",
          "mapbox": {
           "style": "light"
          },
          "paper_bgcolor": "white",
          "plot_bgcolor": "#E5ECF6",
          "polar": {
           "angularaxis": {
            "gridcolor": "white",
            "linecolor": "white",
            "ticks": ""
           },
           "bgcolor": "#E5ECF6",
           "radialaxis": {
            "gridcolor": "white",
            "linecolor": "white",
            "ticks": ""
           }
          },
          "scene": {
           "xaxis": {
            "backgroundcolor": "#E5ECF6",
            "gridcolor": "white",
            "gridwidth": 2,
            "linecolor": "white",
            "showbackground": true,
            "ticks": "",
            "zerolinecolor": "white"
           },
           "yaxis": {
            "backgroundcolor": "#E5ECF6",
            "gridcolor": "white",
            "gridwidth": 2,
            "linecolor": "white",
            "showbackground": true,
            "ticks": "",
            "zerolinecolor": "white"
           },
           "zaxis": {
            "backgroundcolor": "#E5ECF6",
            "gridcolor": "white",
            "gridwidth": 2,
            "linecolor": "white",
            "showbackground": true,
            "ticks": "",
            "zerolinecolor": "white"
           }
          },
          "shapedefaults": {
           "line": {
            "color": "#2a3f5f"
           }
          },
          "ternary": {
           "aaxis": {
            "gridcolor": "white",
            "linecolor": "white",
            "ticks": ""
           },
           "baxis": {
            "gridcolor": "white",
            "linecolor": "white",
            "ticks": ""
           },
           "bgcolor": "#E5ECF6",
           "caxis": {
            "gridcolor": "white",
            "linecolor": "white",
            "ticks": ""
           }
          },
          "title": {
           "x": 0.05
          },
          "xaxis": {
           "automargin": true,
           "gridcolor": "white",
           "linecolor": "white",
           "ticks": "",
           "title": {
            "standoff": 15
           },
           "zerolinecolor": "white",
           "zerolinewidth": 2
          },
          "yaxis": {
           "automargin": true,
           "gridcolor": "white",
           "linecolor": "white",
           "ticks": "",
           "title": {
            "standoff": 15
           },
           "zerolinecolor": "white",
           "zerolinewidth": 2
          }
         }
        },
        "title": {
         "text": "Daily Spending 2023"
        },
        "xaxis": {
         "anchor": "y",
         "domain": [
          0,
          1
         ],
         "title": {
          "text": "DATE"
         }
        },
        "yaxis": {
         "anchor": "x",
         "domain": [
          0,
          1
         ],
         "title": {
          "text": "value"
         }
        }
       }
      }
     },
     "metadata": {},
     "output_type": "display_data"
    }
   ],
   "source": [
    "# Make a Plot of the Data\n",
    "\n",
    "# Note: 'SPEND_DATE_RANGE_START' and 'SPEND_DATE_RANGE_END' is typically separated by 1 month (~30 days)\n",
    "#       'SPEND_BY_DAY' is each spend data for each day of the month\n",
    "# Goal; Plot spending for each single day using plotly\n",
    "\n",
    "import plotly.express as px\n",
    "import ast  # For safely evaluating strings containing Python literals\n",
    "\n",
    "df = df_filtered_2023.copy()\n",
    "\n",
    "# Convert string representations of lists in 'SPEND_BY_DAY' to actual lists\n",
    "df['SPEND_BY_DAY'] = df['SPEND_BY_DAY'].apply(ast.literal_eval)\n",
    "\n",
    "# Add a new column called 'DATE_OF_MONTH', as a list of integers from 1 to the end of the month (length of the 'SPEND_BY_DAY' list)\n",
    "df['DATE_OF_MONTH'] = df['SPEND_BY_DAY'].apply(lambda x: list(range(1, len(x) + 1)))\n",
    "\n",
    "print(df.head())\n",
    "\n",
    "# Explode both 'SPEND_BY_DAY' and 'DATE_OF_MONTH' simultaneously to keep their mapping correct\n",
    "df_spend_by_day = df.explode(['SPEND_BY_DAY', 'DATE_OF_MONTH'])\n",
    "\n",
    "# Convert the spending amounts to float\n",
    "df_spend_by_day['SPEND_BY_DAY'] = df_spend_by_day['SPEND_BY_DAY'].astype(float)\n",
    "df_spend_by_day['DATE_OF_MONTH'] = df_spend_by_day['DATE_OF_MONTH'].astype(int)\n",
    "\n",
    "\n",
    "# Calculate 'DATE' correctly by subtracting 1 since 'DATE_OF_MONTH' starts from 1, not 0\n",
    "df_spend_by_day['DATE'] = pd.to_datetime(df_spend_by_day['SPEND_DATE_RANGE_START']) + pd.to_timedelta(df_spend_by_day['DATE_OF_MONTH'] - 1, unit='D')\n",
    "\n",
    "# Ensure the DataFrame is sorted by 'DATE' if not already\n",
    "# df_spend_by_day = df_spend_by_day.sort_values('DATE')\n",
    "\n",
    "#print('# of rows: ', len(df_spend_by_day))\n",
    "#print(df_spend_by_day.head(10))\n",
    "\n",
    "# Plot df_spend_by_day using plotly\n",
    "#fig = px.scatter(df_spend_by_day, x='DATE', y='SPEND_BY_DAY', title='Daily Spend', labels={'SPEND_BY_DAY': 'Spend ($)'})\n",
    "\n",
    "#fig.show()\n",
    "\n",
    "grouped_23 = df_spend_by_day.groupby('DATE')['SPEND_BY_DAY'].sum()\n",
    "print(grouped_23.head(10))\n",
    "fig = px.line(grouped_23, title='Daily Spending 2023')\n",
    "fig.show()\n"
   ]
  },
  {
   "cell_type": "code",
   "execution_count": 22,
   "metadata": {},
   "outputs": [
    {
     "name": "stdout",
     "output_type": "stream",
     "text": [
      "         DATE\n",
      "163061  07-01\n",
      "163061  07-02\n",
      "163061  07-03\n",
      "163061  07-04\n",
      "163061  07-05\n",
      "163061  07-06\n",
      "163061  07-07\n",
      "163061  07-08\n",
      "163061  07-09\n",
      "163061  07-10\n"
     ]
    }
   ],
   "source": [
    "spending = pd.DataFrame()\n",
    "spending['DATE'] = df_spend_by_day['DATE']\n",
    "spending['2021'] = \n",
    "\n",
    "print(spending.head(10))"
   ]
  }
 ],
 "metadata": {
  "kernelspec": {
   "display_name": "Python 3",
   "language": "python",
   "name": "python3"
  },
  "language_info": {
   "codemirror_mode": {
    "name": "ipython",
    "version": 3
   },
   "file_extension": ".py",
   "mimetype": "text/x-python",
   "name": "python",
   "nbconvert_exporter": "python",
   "pygments_lexer": "ipython3",
   "version": "3.12.2"
  }
 },
 "nbformat": 4,
 "nbformat_minor": 2
}
