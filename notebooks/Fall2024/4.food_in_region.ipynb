{
 "cells": [
  {
   "cell_type": "code",
   "execution_count": 9,
   "metadata": {},
   "outputs": [
    {
     "name": "stdout",
     "output_type": "stream",
     "text": [
      "%pylab is deprecated, use %matplotlib inline and import the required libraries.\n",
      "Populating the interactive namespace from numpy and matplotlib\n"
     ]
    }
   ],
   "source": [
    "import os\n",
    "import pandas as pd\n",
    "import geopandas as gpd\n",
    "import plotly.express as px\n",
    "%pylab inline\n",
    "\n",
    "pd.set_option('display.max_columns', None)\n",
    "pd.set_option('display.width', 40000)\n",
    "pd.set_option('display.max_rows', None)\n",
    "\n",
    "df_safegraph_poi = pd.read_csv(os.path.join('..', 'dewey_data_filtered','SafeGraph_POI_Yellowstone_200miRadius.csv.gz'))\n",
    "df_safegraph_spend = pd.read_csv(os.path.join('..', 'dewey_data_filtered','SafeGraph_SPEND_Yellowstone_200miRadius.csv.gz'))"
   ]
  },
  {
   "cell_type": "code",
   "execution_count": 10,
   "metadata": {},
   "outputs": [],
   "source": [
    "def map_points(fig,df):\n",
    "\n",
    "    gdf_safegraph_poi = gpd.GeoDataFrame(df,\n",
    "                                         geometry=gpd.points_from_xy(df.LONGITUDE, df.LATITUDE))\n",
    "    fig = px.scatter_mapbox(\n",
    "        gdf_safegraph_poi,\n",
    "        lat='LATITUDE',\n",
    "        lon='LONGITUDE',\n",
    "        hover_name=\"LOCATION_NAME\",\n",
    "        hover_data=[\"CITY\"],\n",
    "        zoom=6,\n",
    "        opacity=0.5)\n",
    "  \n",
    "    return fig"
   ]
  },
  {
   "cell_type": "code",
   "execution_count": 11,
   "metadata": {},
   "outputs": [
    {
     "name": "stdout",
     "output_type": "stream",
     "text": [
      "(after filter)  # of rows:  11910\n",
      "               PLACEKEY                        SAFEGRAPH_BRAND_IDS        BRANDS   SPEND_DATE_RANGE_START     SPEND_DATE_RANGE_END  RAW_TOTAL_SPEND  RAW_NUM_TRANSACTIONS  RAW_NUM_CUSTOMERS  MEDIAN_SPEND_PER_TRANSACTION  MEDIAN_SPEND_PER_CUSTOMER SPEND_PER_TRANSACTION_PERCENTILES                                       SPEND_BY_DAY                       SPEND_PER_TRANSACTION_BY_DAY                               SPEND_BY_DAY_OF_WEEK                                         DAY_COUNTS  SPEND_PCT_CHANGE_VS_PREV_MONTH  SPEND_PCT_CHANGE_VS_PREV_YEAR  ONLINE_TRANSACTIONS  ONLINE_SPEND          TRANSACTION_INTERMEDIARY          SPEND_BY_TRANSACTION_INTERMEDIARY                 BUCKETED_CUSTOMER_FREQUENCY               MEAN_SPEND_PER_CUSTOMER_BY_FREQUENCY                     BUCKETED_CUSTOMER_INCOMES                  MEAN_SPEND_PER_CUSTOMER_BY_INCOME                                 CUSTOMER_HOME_CITY         RELATED_CROSS_SHOPPING_PHYSICAL_BRANDS_PCT        RELATED_CROSS_SHOPPING_ONLINE_MERCHANTS_PCT RELATED_CROSS_SHOPPING_SAME_CATEGORY_BRANDS_PCT            RELATED_CROSS_SHOPPING_LOCAL_BRANDS_PCT                     RELATED_WIRELESS_CARRIER_PCT                        RELATED_STREAMING_CABLE_PCT RELATED_DELIVERY_SERVICE_PCT RELATED_RIDESHARE_SERVICE_PCT RELATED_BUYNOWPAYLATER_SERVICE_PCT RELATED_PAYMENT_PLATFORM_PCT\n",
      "0   222-222@5qp-r9f-p5f  SG_BRAND_651e8ed61dd14af7a20c84019dc47d2b   Quality Inn  2019-02-01 00:00:00.000  2019-03-01 00:00:00.000           272.36                     2                  2                        136.18                     136.18          {\"25\":90.20,\"75\":182.16}  [0.00,0.00,0.00,90.20,0.00,0.00,0.00,0.00,0.00...  [null,null,null,90.20,null,null,null,null,null...  {\"Monday\":90.20,\"Tuesday\":182.16,\"Wednesday\":0...  {\"Wednesday\":4,\"Monday\":4,\"Saturday\":4,\"Thursd...                           -28.0                            NaN                    0           0.0             {\"No intermediary\":2}                 {\"No intermediary\":272.36}  {\"1\":2,\"2\":0,\"3\":0,\"4\":0,\"5-10\":0,\">10\":0}  {\"1\":136.18,\"2\":null,\"3\":null,\"4\":null,\"5-10\":...                        {\"25-45k\":2,\">150k\":2}                    {\"25-45k\":182.16,\">150k\":90.20}                {\"Chesterbrook, PA\":2,\"Bill, WY\":2}  {\"Safeway\":100,\"McDonald's\":100,\"IHOP\":50,\"Son...  {\"Amazon\":100,\"Netflix\":100,\"ProBiller\":50,\"Ai...                              {\"Holiday Inn\":50}      {\"McDonald's\":50,\"Maverik\":50,\"Pizza Hut\":50}                          {\"Verizon Wireless\":50}  {\"Netflix\":100,\"Amazon Prime\":50,\"Youtube Prem...                           {}                            {}                                 {}                           {}\n",
      "9   222-222@5wf-fdm-k4v  SG_BRAND_43bdfa786f5809e475a7382797eae3fd       Super 8  2019-02-01 00:00:00.000  2019-03-01 00:00:00.000           773.24                     8                  7                         76.89                      76.89          {\"25\":57.36,\"75\":118.33}  [0.00,0.00,0.00,53.35,0.00,131.30,0.00,0.00,0....  [null,null,null,53.35,null,131.30,null,null,nu...  {\"Monday\":292.43,\"Tuesday\":0.00,\"Wednesday\":28...  {\"Wednesday\":4,\"Monday\":4,\"Saturday\":4,\"Thursd...                           -39.0                            NaN                    0           0.0             {\"No intermediary\":8}                 {\"No intermediary\":773.24}  {\"1\":6,\"2\":1,\"3\":0,\"4\":0,\"5-10\":0,\">10\":0}  {\"1\":67.14,\"2\":370.38,\"3\":null,\"4\":null,\"5-10\"...  {\"<25k\":2,\"25-45k\":2,\"100-150k\":3,\">150k\":2}  {\"<25k\":213.47,\"25-45k\":79.40,\"100-150k\":69.04...  {\"Bier, MD\":2,\"Eustis, MT\":2,\"Kalispell, MT\":2...  {\"ConocoPhillips\":72,\"Walmart\":58,\"Albertsons\"...  {\"iTunes\":58,\"Netflix\":43,\"Amazon\":29,\"Chewy\":...                     {\"Baymont Inn & Suites\":15}  {\"Albertsons\":29,\"Taco Bell\":29,\"NAPA Auto Par...                   {\"Straight Talk\":29,\"AT&T\":15}  {\"Netflix\":43,\"Redbox\":29,\"DirecTV\":15,\"Amazon...                           {}                   {\"Lyft\":15}                                 {}                           {}\n",
      "22  223-222@5sy-4gy-7yv  SG_BRAND_f0f5c15118ea292fadac17e2fc7d4ead      Days Inn  2019-02-01 00:00:00.000  2019-03-01 00:00:00.000           420.82                     6                  5                         64.55                     101.44          {\"25\":54.13,\"75\":101.44}  [25.00,0.00,0.00,0.00,0.00,0.00,0.00,0.00,0.00...  [25.00,null,null,null,null,null,null,null,null...  {\"Monday\":202.88,\"Tuesday\":63.84,\"Wednesday\":6...  {\"Wednesday\":4,\"Monday\":4,\"Saturday\":4,\"Thursd...                             NaN                            NaN                    0           0.0             {\"No intermediary\":6}                 {\"No intermediary\":420.82}  {\"1\":4,\"2\":1,\"3\":0,\"4\":0,\"5-10\":0,\">10\":0}  {\"1\":72.93,\"2\":129.10,\"3\":null,\"4\":null,\"5-10\"...         {\"45-60k\":2,\"75-100k\":2,\"100-150k\":2}  {\"45-60k\":129.10,\"75-100k\":63.43,\"100-150k\":10...  {\"San Antonio, TX\":2,\"Lake Jackson, TX\":2,\"Wic...  {\"Walmart\":80,\"ConocoPhillips\":80,\"CENEX\":80,\"...  {\"Amazon\":80,\"AT&T\":80,\"Amazon Marketplace\":80...  {\"Suburban Extended Stay\":20,\"Holiday Inn\":20}   {\"Common Cents\":40,\"McDonald's\":20,\"Walmart\":20}  {\"AT&T\":80,\"Verizon Wireless\":20,\"MetroPCS\":20}  {\"Time Warner Cable\":20,\"Amazon Prime\":20,\"Hul...                           {}                   {\"Uber\":20}                                 {}                           {}\n",
      "78  23p-222@5qp-t5h-85f                                        NaN           NaN  2019-02-01 00:00:00.000  2019-03-01 00:00:00.000           477.95                     9                  8                         56.46                      56.46           {\"25\":18.73,\"75\":93.84}  [0.00,0.00,0.00,0.00,0.00,0.00,0.00,0.00,0.00,...  [null,null,null,null,null,null,null,null,null,...  {\"Monday\":0.00,\"Tuesday\":0.00,\"Wednesday\":0.00...  {\"Wednesday\":4,\"Monday\":4,\"Saturday\":4,\"Thursd...                            61.0                            NaN                    0           0.0  {\"No intermediary\":8,\"Square\":1}  {\"No intermediary\":393.75,\"Square\":84.20}  {\"1\":7,\"2\":1,\"3\":0,\"4\":0,\"5-10\":0,\">10\":0}  {\"1\":52.03,\"2\":113.71,\"3\":null,\"4\":null,\"5-10\"...            {\"45-60k\":3,\"75-100k\":3,\">150k\":2}     {\"45-60k\":23.03,\"75-100k\":51.89,\">150k\":92.08}  {\"Jackson, WY\":7,\"Los Angeles, CA\":2,\"Navarre,...  {\"Albertsons\":63,\"Starbucks\":63,\"Kmart\":38,\"CV...  {\"Spotify\":50,\"Verizon Wireless\":38,\"Uber\":38,...                                              {}  {\"Albertsons\":50,\"Kmart\":38,\"Ace Hardware\":25,...                {\"Verizon Wireless\":50,\"AT&T\":13}  {\"Youtube\":13,\"Hulu\":13,\"Amazon Prime Video\":1...                           {}         {\"Uber\":38,\"Lyft\":13}                                 {}                           {}\n",
      "96  222-223@5wf-f8g-4vz                  SG_BRAND_afc74daf1bb2ac39  Best Western  2019-02-01 00:00:00.000  2019-03-01 00:00:00.000           771.90                     5                  5                        150.00                     150.00         {\"25\":105.79,\"75\":205.16}  [0.00,0.00,0.00,0.00,0.00,0.00,0.00,0.00,0.00,...  [null,null,null,null,null,null,null,null,null,...  {\"Monday\":560.32,\"Tuesday\":211.58,\"Wednesday\":...  {\"Wednesday\":4,\"Monday\":4,\"Saturday\":4,\"Thursd...                           -52.0                            NaN                    0           0.0             {\"No intermediary\":5}                 {\"No intermediary\":771.90}  {\"1\":5,\"2\":0,\"3\":0,\"4\":0,\"5-10\":0,\">10\":0}  {\"1\":154.38,\"2\":null,\"3\":null,\"4\":null,\"5-10\":...                      {\"100-150k\":2,\">150k\":2}                 {\"100-150k\":154.41,\">150k\":205.16}                 {\"Burien, WA\":2,\"Kalispell, MT\":2}  {\"Walmart\":80,\"Target\":80,\"Starbucks\":80,\"Cost...  {\"iTunes\":100,\"Amazon\":60,\"Planet Fitness\":40,...                  {\"La Quinta Inns & Suites\":20}                         {\"Ted's Montana Grill\":20}                {\"AT&T\":40,\"Verizon Wireless\":40}                      {\"Amazon Prime\":40,\"Hulu\":40}                           {}                   {\"Uber\":40}                                 {}                           {}\n"
     ]
    }
   ],
   "source": [
    "restaurant_naics = '7225'\n",
    "mask = [ str(ncode)[:4]==restaurant_naics_naics for ncode in list(df_safegraph_poi['NAICS_CODE']) ]\n",
    "df_food = df_safegraph_poi[mask]\n",
    "\n",
    "if 'PLACEKEY' in df_safegraph_spend.columns:\n",
    "    df_filtered = df_safegraph_spend[df_safegraph_spend['PLACEKEY'].isin(df_food['PLACEKEY'])]\n",
    "else:\n",
    "    print(\"Error: DataFrame does not contain 'PLACEKEY' column.\")\n",
    "\n",
    "print('(after filter)  # of rows: ', len(df_filtered))\n",
    "print(df_filtered.head())"
   ]
  },
  {
   "cell_type": "code",
   "execution_count": 13,
   "metadata": {},
   "outputs": [
    {
     "data": {
      "application/vnd.plotly.v1+json": {
       "config": {
        "plotlyServerURL": "https://plot.ly"
       },
       "data": [
        {
         "customdata": [
          [
           "West Yellowstone"
          ],
          [
           "Greybull"
          ],
          [
           "Bozeman"
          ],
          [
           "Ketchum"
          ],
          [
           "Gallatin Gateway"
          ],
          [
           "Cody"
          ],
          [
           "Yellowstone National Park"
          ],
          [
           "Cokeville"
          ],
          [
           "Idaho Falls"
          ],
          [
           "Cody"
          ],
          [
           "Billings"
          ],
          [
           "Dubois"
          ],
          [
           "Roundup"
          ],
          [
           "Ashton"
          ],
          [
           "Diamondville"
          ],
          [
           "Red Lodge"
          ],
          [
           "Emigrant"
          ],
          [
           "Deer Lodge"
          ],
          [
           "Gardiner"
          ],
          [
           "Greybull"
          ],
          [
           "Cody"
          ],
          [
           "Rexburg"
          ],
          [
           "Downey"
          ],
          [
           "Virginia City"
          ],
          [
           "Hailey"
          ],
          [
           "Salmon"
          ],
          [
           "Challis"
          ],
          [
           "Afton"
          ],
          [
           "Deer Lodge"
          ],
          [
           "Idaho Falls"
          ],
          [
           "Cody"
          ],
          [
           "Cody"
          ],
          [
           "Rigby"
          ],
          [
           "Ashton"
          ],
          [
           "Swan Valley"
          ],
          [
           "Sheridan"
          ],
          [
           "Idaho Falls"
          ],
          [
           "Jackson"
          ],
          [
           "Cody"
          ],
          [
           "Ketchum"
          ],
          [
           "Molt"
          ],
          [
           "Wolf Creek"
          ],
          [
           "Driggs"
          ],
          [
           "Butte"
          ],
          [
           "Big Timber"
          ],
          [
           "Dubois"
          ],
          [
           "Jackson"
          ],
          [
           "Riverton"
          ],
          [
           "Cody"
          ],
          [
           "Gallatin Gateway"
          ],
          [
           "Bozeman"
          ],
          [
           "Idaho Falls"
          ],
          [
           "Jackson Hole"
          ],
          [
           "Island Park"
          ],
          [
           "St Xavier"
          ],
          [
           "Gardiner"
          ],
          [
           "Dubois"
          ],
          [
           "Lima"
          ],
          [
           "Lander"
          ],
          [
           "Anaconda"
          ],
          [
           "Lovell"
          ],
          [
           "Ketchum"
          ],
          [
           "West Yellowstone"
          ],
          [
           "Bozeman"
          ],
          [
           "Livingston"
          ],
          [
           "Cody"
          ],
          [
           "Idaho Falls"
          ],
          [
           "Idaho Falls"
          ],
          [
           "Salmon"
          ],
          [
           "Ennis"
          ],
          [
           "Bridger"
          ],
          [
           "Logan"
          ],
          [
           "Irwin"
          ],
          [
           "Alpine"
          ],
          [
           "Lava Hot Springs"
          ],
          [
           "Bozeman"
          ],
          [
           "Helena"
          ],
          [
           "Yellowstone National Park"
          ],
          [
           "Etna"
          ],
          [
           "Lava Hot Springs"
          ],
          [
           "Bozeman"
          ],
          [
           "Story"
          ],
          [
           "Ennis"
          ],
          [
           "Big Piney"
          ],
          [
           "Dillon"
          ],
          [
           "Lewistown"
          ],
          [
           "Buffalo"
          ],
          [
           "States"
          ],
          [
           "Leadore"
          ],
          [
           "McCammon"
          ],
          [
           "Livingston"
          ],
          [
           "Billings"
          ],
          [
           "Butte"
          ],
          [
           "Sheridan"
          ],
          [
           "Idaho Falls"
          ],
          [
           "Helena"
          ],
          [
           "Ketchum"
          ],
          [
           "Wisdom"
          ],
          [
           "Emigrant"
          ],
          [
           "Cody"
          ],
          [
           "Livingston"
          ],
          [
           "Thermopolis"
          ],
          [
           "Greybull"
          ],
          [
           "Swan Valley"
          ],
          [
           "Blackfoot"
          ],
          [
           "Jackson"
          ],
          [
           "Ten Sleep"
          ],
          [
           "Livingston"
          ],
          [
           "Red Lodge"
          ],
          [
           "Buffalo"
          ],
          [
           "Sheridan"
          ],
          [
           "Red Lodge"
          ],
          [
           "Cody"
          ],
          [
           "Dubois"
          ],
          [
           "Birney"
          ],
          [
           "Big Sky"
          ],
          [
           "Helena"
          ],
          [
           "Billings"
          ],
          [
           "Island Park"
          ],
          [
           "Pocatello"
          ],
          [
           "Clearmont"
          ],
          [
           "Cody"
          ],
          [
           "Helena"
          ],
          [
           "Melrose"
          ],
          [
           "Billings"
          ],
          [
           "Cody"
          ],
          [
           "Riverton"
          ],
          [
           "Lewistown"
          ],
          [
           "Whitehall"
          ],
          [
           "Ashton"
          ],
          [
           "Jeffrey City"
          ],
          [
           "Billings"
          ],
          [
           "West Yellowstone"
          ],
          [
           "Sheridan"
          ],
          [
           "Cody"
          ],
          [
           "Pinedale"
          ],
          [
           "Pocatello"
          ],
          [
           "Meeteetse"
          ],
          [
           "Billings"
          ],
          [
           "Billings"
          ],
          [
           "Helena"
          ],
          [
           "Billings"
          ],
          [
           "Cody"
          ],
          [
           "Logan"
          ],
          [
           "Sheridan"
          ],
          [
           "Logan"
          ],
          [
           "Philipsburg"
          ],
          [
           "Lander"
          ],
          [
           "Dillon"
          ],
          [
           "Helena"
          ],
          [
           "Greybull"
          ],
          [
           "Idaho Falls"
          ],
          [
           "Sheridan"
          ],
          [
           "Bellevue"
          ],
          [
           "West Yellowstone"
          ],
          [
           "Pocatello"
          ],
          [
           "Emigrant"
          ],
          [
           "Anaconda"
          ],
          [
           "Billings"
          ],
          [
           "Jackson"
          ],
          [
           "Yellowtail"
          ],
          [
           "Powell"
          ],
          [
           "Pinedale"
          ],
          [
           "Billings"
          ],
          [
           "American Falls"
          ],
          [
           "Dubois"
          ],
          [
           "Idaho Falls"
          ],
          [
           "Garden City"
          ],
          [
           "Jackson"
          ],
          [
           "West Yellowstone"
          ],
          [
           "Helena"
          ],
          [
           "Big Timber"
          ],
          [
           "West Yellowstone"
          ],
          [
           "West Yellowstone"
          ],
          [
           "Dayton"
          ],
          [
           "Gardiner"
          ],
          [
           "Challis"
          ],
          [
           "Helena"
          ],
          [
           "Gardiner"
          ],
          [
           "Billings"
          ],
          [
           "Anaconda"
          ],
          [
           "Billings"
          ],
          [
           "Worland"
          ],
          [
           "Cody"
          ],
          [
           "Bozeman"
          ],
          [
           "Moose"
          ],
          [
           "Cascade"
          ],
          [
           "Gardiner"
          ],
          [
           "Preston"
          ],
          [
           "Greybull"
          ],
          [
           "Buffalo"
          ],
          [
           "Cooke City"
          ],
          [
           "Billings"
          ],
          [
           "Cody"
          ],
          [
           "Idaho Falls"
          ],
          [
           "Dubois"
          ],
          [
           "Three Forks"
          ],
          [
           "Fort Smith"
          ],
          [
           "Thermopolis"
          ],
          [
           "Ennis"
          ],
          [
           "Billings"
          ],
          [
           "Jackson"
          ],
          [
           "Pocatello"
          ],
          [
           "States"
          ],
          [
           "Helena"
          ],
          [
           "White Sulphur Springs"
          ],
          [
           "Pocatello"
          ],
          [
           "West Yellowstone"
          ],
          [
           "Gardiner"
          ],
          [
           "Lava Hot Springs"
          ],
          [
           "Laurel"
          ],
          [
           "Irwin"
          ],
          [
           "Cody"
          ],
          [
           "West Yellowstone"
          ],
          [
           "West Yellowstone"
          ],
          [
           "Bozeman"
          ],
          [
           "Mackay"
          ],
          [
           "States"
          ],
          [
           "Powell"
          ],
          [
           "Challis"
          ],
          [
           "Jackson"
          ],
          [
           "Salmon"
          ],
          [
           "Helena"
          ],
          [
           "Boulder"
          ],
          [
           "Jackson"
          ],
          [
           "Alder"
          ],
          [
           "Island Park"
          ],
          [
           "Billings"
          ],
          [
           "Hardin"
          ],
          [
           "Soda Springs"
          ],
          [
           "Sula"
          ],
          [
           "Victor"
          ],
          [
           "Jackson Hole"
          ],
          [
           "Gardiner"
          ],
          [
           "Logan"
          ],
          [
           "Livingston"
          ],
          [
           "Hailey"
          ],
          [
           "Rexburg"
          ],
          [
           "Billings"
          ],
          [
           "Whitehall"
          ],
          [
           "Billings"
          ],
          [
           "Greybull"
          ],
          [
           "West Yellowstone"
          ],
          [
           "Logan"
          ],
          [
           "Idaho Falls"
          ],
          [
           "Ashton"
          ],
          [
           "Sheridan"
          ],
          [
           "Billings"
          ],
          [
           "Rexburg"
          ],
          [
           "Pocatello"
          ],
          [
           "American Falls"
          ],
          [
           "Harlowton"
          ],
          [
           "West Yellowstone"
          ],
          [
           "Laketown"
          ],
          [
           "Bozeman"
          ],
          [
           "Dubois"
          ],
          [
           "West Yellowstone"
          ],
          [
           "Pinedale"
          ],
          [
           "Driggs"
          ],
          [
           "Yellowstone National Park"
          ],
          [
           "States"
          ],
          [
           "Boulder"
          ],
          [
           "Deer Lodge"
          ],
          [
           "Moose"
          ],
          [
           "Preston"
          ],
          [
           "Idaho Falls"
          ],
          [
           "Garden City"
          ],
          [
           "Island Park"
          ],
          [
           "Riverton"
          ],
          [
           "Ashton"
          ],
          [
           "Bozeman"
          ],
          [
           "Cody"
          ],
          [
           "Island Park"
          ],
          [
           "Silver Gate"
          ],
          [
           "Sheridan"
          ],
          [
           "Pocatello"
          ],
          [
           "Billings"
          ],
          [
           "Montpelier"
          ],
          [
           "Rexburg"
          ],
          [
           "Big Timber"
          ],
          [
           "Ketchum"
          ],
          [
           "Powell"
          ],
          [
           "Wisdom"
          ],
          [
           "Billings"
          ],
          [
           "Ketchum"
          ],
          [
           "Ten Sleep"
          ],
          [
           "Helena"
          ],
          [
           "Big Sky"
          ],
          [
           "States"
          ],
          [
           "Idaho Falls"
          ],
          [
           "Pinedale"
          ],
          [
           "Sheridan"
          ],
          [
           "Rexburg"
          ],
          [
           "Jackson"
          ],
          [
           "Helena"
          ],
          [
           "Idaho Falls"
          ],
          [
           "Alpine"
          ],
          [
           "White Sulphur Springs"
          ],
          [
           "Joliet"
          ],
          [
           "Cody"
          ],
          [
           "Dillon"
          ],
          [
           "Bozeman"
          ],
          [
           "Lava Hot Springs"
          ],
          [
           "Helena"
          ],
          [
           "Harlowton"
          ],
          [
           "Billings"
          ],
          [
           "Philipsburg"
          ],
          [
           "Pinedale"
          ],
          [
           "Sheridan"
          ],
          [
           "Lava Hot Springs"
          ],
          [
           "Rexburg"
          ],
          [
           "Cooke City"
          ],
          [
           "Hardin"
          ],
          [
           "Big Sky"
          ],
          [
           "Cody"
          ],
          [
           "Logan"
          ],
          [
           "Jackson"
          ],
          [
           "Cameron"
          ],
          [
           "Three Forks"
          ],
          [
           "Absarokee"
          ],
          [
           "Gardiner"
          ],
          [
           "Dillon"
          ],
          [
           "Livingston"
          ],
          [
           "Lava Hot Springs"
          ],
          [
           "Gardiner"
          ],
          [
           "Island Park"
          ],
          [
           "Cooke City"
          ],
          [
           "Cody"
          ],
          [
           "Lewistown"
          ],
          [
           "Jackson"
          ],
          [
           "Idaho Falls"
          ],
          [
           "Thatcher"
          ],
          [
           "Big Sky"
          ],
          [
           "Buffalo"
          ],
          [
           "Jackson"
          ],
          [
           "Thermopolis"
          ],
          [
           "Helena"
          ],
          [
           "Thermopolis"
          ],
          [
           "Hardin"
          ],
          [
           "West Yellowstone"
          ],
          [
           "West Yellowstone"
          ],
          [
           "West Yellowstone"
          ],
          [
           "West Yellowstone"
          ],
          [
           "Butte"
          ],
          [
           "States"
          ],
          [
           "Park City"
          ],
          [
           "Lander"
          ],
          [
           "Sheridan"
          ],
          [
           "West Yellowstone"
          ],
          [
           "States"
          ],
          [
           "Alpine"
          ],
          [
           "Ketchum"
          ],
          [
           "Riverton"
          ],
          [
           "Big Piney"
          ],
          [
           "Thayne"
          ],
          [
           "Emigrant"
          ],
          [
           "Cody"
          ],
          [
           "Bozeman"
          ],
          [
           "Philipsburg"
          ],
          [
           "Park City"
          ],
          [
           "Sheridan"
          ],
          [
           "Cody"
          ],
          [
           "Buffalo"
          ],
          [
           "West Yellowstone"
          ],
          [
           "Powell"
          ],
          [
           "Cody"
          ],
          [
           "Gardiner"
          ],
          [
           "Jackson"
          ],
          [
           "Logan"
          ],
          [
           "Jackson"
          ],
          [
           "Logan"
          ],
          [
           "Fishtail"
          ],
          [
           "Helena"
          ],
          [
           "Garden City"
          ],
          [
           "Livingston"
          ],
          [
           "Gallatin Gateway"
          ],
          [
           "Moose"
          ],
          [
           "Pocatello"
          ],
          [
           "Alta"
          ],
          [
           "Yellowstone National Park"
          ],
          [
           "Anaconda"
          ],
          [
           "Billings"
          ],
          [
           "Big Timber"
          ],
          [
           "Helena"
          ],
          [
           "Ririe"
          ],
          [
           "Bozeman"
          ],
          [
           "Pray"
          ],
          [
           "Salmon"
          ],
          [
           "Cody"
          ],
          [
           "Idaho Falls"
          ],
          [
           "Polaris"
          ],
          [
           "Dillon"
          ],
          [
           "Logan"
          ],
          [
           "Jackson"
          ],
          [
           "Livingston"
          ],
          [
           "Kaycee"
          ],
          [
           "Soda Springs"
          ],
          [
           "Malad City"
          ],
          [
           "Pinedale"
          ],
          [
           "Pinedale"
          ],
          [
           "Fishtail"
          ],
          [
           "Island Park"
          ],
          [
           "Billings"
          ],
          [
           "Livingston"
          ],
          [
           "Belgrade"
          ],
          [
           "Afton"
          ],
          [
           "Kemmerer"
          ],
          [
           "Cody"
          ],
          [
           "Powell"
          ],
          [
           "Bozeman"
          ],
          [
           "Wilsall"
          ],
          [
           "Afton"
          ],
          [
           "Billings"
          ],
          [
           "Anaconda"
          ],
          [
           "Gallatin Gateway"
          ],
          [
           "West Yellowstone"
          ],
          [
           "Gardiner"
          ],
          [
           "Cameron"
          ],
          [
           "Gardiner"
          ],
          [
           "Deer Lodge"
          ],
          [
           "Idaho Falls"
          ],
          [
           "Jackson"
          ],
          [
           "Billings"
          ],
          [
           "Lewistown"
          ],
          [
           "Cody"
          ],
          [
           "Dubois"
          ],
          [
           "Riverton"
          ],
          [
           "Pocatello"
          ],
          [
           "Cooke City"
          ],
          [
           "Idaho Falls"
          ],
          [
           "Philipsburg"
          ],
          [
           "Helena"
          ],
          [
           "Idaho Falls"
          ],
          [
           "Cody"
          ],
          [
           "Billings"
          ],
          [
           "Thermopolis"
          ],
          [
           "States"
          ],
          [
           "Jackson"
          ],
          [
           "Buffalo"
          ],
          [
           "Belgrade"
          ],
          [
           "Carey"
          ],
          [
           "Buffalo"
          ],
          [
           "Challis"
          ],
          [
           "Thermopolis"
          ],
          [
           "Lander"
          ],
          [
           "Bozeman"
          ],
          [
           "Polaris"
          ],
          [
           "Island Park"
          ],
          [
           "Jackson"
          ],
          [
           "Yellowstone National Park"
          ],
          [
           "Thayne"
          ],
          [
           "Billings"
          ],
          [
           "Thermopolis"
          ],
          [
           "Idaho Falls"
          ],
          [
           "West Yellowstone"
          ],
          [
           "Pocatello"
          ],
          [
           "Swan Valley"
          ],
          [
           "Whitehall"
          ],
          [
           "Billings"
          ],
          [
           "Gardiner"
          ],
          [
           "Jackson"
          ],
          [
           "Malad City"
          ],
          [
           "Jackson"
          ],
          [
           "Belgrade"
          ],
          [
           "Red Lodge"
          ],
          [
           "West Yellowstone"
          ],
          [
           "Worland"
          ],
          [
           "West Yellowstone"
          ],
          [
           "Yellowstone National Park"
          ],
          [
           "Billings"
          ],
          [
           "Salmon"
          ],
          [
           "Lava Hot Springs"
          ],
          [
           "Jackson"
          ],
          [
           "Clark"
          ],
          [
           "Island Park"
          ],
          [
           "Yellowstone National Park"
          ],
          [
           "Dayton"
          ],
          [
           "Challis"
          ],
          [
           "Columbus"
          ],
          [
           "Bozeman"
          ],
          [
           "Red Lodge"
          ],
          [
           "West Yellowstone"
          ],
          [
           "Butte"
          ],
          [
           "Silver Gate"
          ],
          [
           "Thermopolis"
          ],
          [
           "Garden City"
          ],
          [
           "Island Park"
          ],
          [
           "Lewistown"
          ],
          [
           "Belgrade"
          ],
          [
           "Cody"
          ],
          [
           "Logan"
          ],
          [
           "Bozeman"
          ],
          [
           "Yellowstone National Park"
          ],
          [
           "Shell"
          ],
          [
           "Billings"
          ],
          [
           "Anaconda"
          ],
          [
           "Atlantic City"
          ],
          [
           "Bozeman"
          ],
          [
           "Cody"
          ],
          [
           "Helena"
          ],
          [
           "Rexburg"
          ],
          [
           "Bozeman"
          ],
          [
           "West Yellowstone"
          ],
          [
           "Gardiner"
          ],
          [
           "Thermopolis"
          ],
          [
           "Ketchum"
          ],
          [
           "Livingston"
          ],
          [
           "Livingston"
          ],
          [
           "Lander"
          ],
          [
           "Shoshoni"
          ],
          [
           "West Yellowstone"
          ],
          [
           "Cooke City"
          ],
          [
           "Greybull"
          ],
          [
           "Fort Smith"
          ],
          [
           "Sheridan"
          ],
          [
           "Jackson Hole"
          ],
          [
           "Leadore"
          ],
          [
           "Jackson"
          ],
          [
           "Kaycee"
          ],
          [
           "Billings"
          ],
          [
           "Jackson"
          ],
          [
           "Jackson Hole"
          ],
          [
           "Bozeman"
          ],
          [
           "Riverton"
          ],
          [
           "Billings"
          ],
          [
           "West Yellowstone"
          ],
          [
           "Cody"
          ],
          [
           "Bozeman"
          ],
          [
           "Idaho Falls"
          ],
          [
           "Sheridan"
          ],
          [
           "West Yellowstone"
          ],
          [
           "Swan Valley"
          ],
          [
           "Huntley"
          ],
          [
           "Garden City"
          ],
          [
           "Buffalo"
          ],
          [
           "Island Park"
          ],
          [
           "Sheridan"
          ],
          [
           "American Falls"
          ],
          [
           "Fort Hall"
          ],
          [
           "Gallatin Gateway"
          ],
          [
           "Cody"
          ],
          [
           "Soda Springs"
          ],
          [
           "Belfry"
          ],
          [
           "Billings"
          ],
          [
           "Jackson"
          ],
          [
           "Cokeville"
          ],
          [
           "Sheridan"
          ],
          [
           "Jackson"
          ],
          [
           "Bozeman"
          ],
          [
           "Red Lodge"
          ],
          [
           "Wilson"
          ],
          [
           "Sheridan"
          ],
          [
           "Moran"
          ],
          [
           "Sheridan"
          ],
          [
           "Mc Leod"
          ],
          [
           "Idaho Falls"
          ],
          [
           "Cody"
          ],
          [
           "Teton Village"
          ],
          [
           "Jackson"
          ],
          [
           "Billings"
          ],
          [
           "West Yellowstone"
          ],
          [
           "Saint Anthony"
          ],
          [
           "Victor"
          ],
          [
           "Big Sky"
          ],
          [
           "North Fork"
          ],
          [
           "Big Sky"
          ],
          [
           "Teton Village"
          ],
          [
           "Billings"
          ],
          [
           "Salmon"
          ],
          [
           "Fishtail"
          ],
          [
           "Gardiner"
          ],
          [
           "Lava Hot Springs"
          ],
          [
           "Rigby"
          ],
          [
           "Island Park"
          ],
          [
           "Teton Village"
          ],
          [
           "Bozeman"
          ],
          [
           "Red Lodge"
          ],
          [
           "Lander"
          ],
          [
           "Bozeman"
          ],
          [
           "West Yellowstone"
          ],
          [
           "Cameron"
          ],
          [
           "Thayne"
          ],
          [
           "Teton Village"
          ],
          [
           "Boulder"
          ],
          [
           "Dubois"
          ],
          [
           "Driggs"
          ],
          [
           "Butte"
          ],
          [
           "Dubois"
          ],
          [
           "Bozeman"
          ],
          [
           "Butte"
          ],
          [
           "Bedford"
          ],
          [
           "Teton Village"
          ],
          [
           "Fish Haven"
          ],
          [
           "Cody"
          ],
          [
           "White Sulphur Springs"
          ],
          [
           "Big Sky"
          ],
          [
           "Gardiner"
          ],
          [
           "Kemmerer"
          ],
          [
           "Idaho Falls"
          ],
          [
           "Big Timber"
          ],
          [
           "Teton Village"
          ],
          [
           "Livingston"
          ],
          [
           "Afton"
          ],
          [
           "Gardiner"
          ],
          [
           "West Yellowstone"
          ],
          [
           "Jackson"
          ],
          [
           "Bozeman"
          ],
          [
           "Philipsburg"
          ],
          [
           "Sheridan"
          ],
          [
           "Yellowstone Ntnl Prk"
          ],
          [
           "Deer Lodge"
          ],
          [
           "Logan"
          ],
          [
           "Martinsdale"
          ],
          [
           "Jackson"
          ],
          [
           "Drummond"
          ],
          [
           "Blackfoot"
          ],
          [
           "Dillon"
          ],
          [
           "West Yellowstone"
          ],
          [
           "Challis"
          ],
          [
           "Bozeman"
          ],
          [
           "Pocatello"
          ],
          [
           "Riverton"
          ],
          [
           "Helena"
          ],
          [
           "West Yellowstone"
          ],
          [
           "West Yellowstone"
          ],
          [
           "Cody"
          ],
          [
           "Billings"
          ],
          [
           "Pray"
          ],
          [
           "Riverton"
          ],
          [
           "West Yellowstone"
          ],
          [
           "Billings"
          ],
          [
           "Jackson"
          ],
          [
           "Livingston"
          ],
          [
           "White Sulphur Springs"
          ],
          [
           "Garden City"
          ],
          [
           "Rexburg"
          ],
          [
           "Roundup"
          ],
          [
           "North Fork"
          ],
          [
           "Big Sky"
          ],
          [
           "Cody"
          ],
          [
           "Blackfoot"
          ],
          [
           "Saint Charles"
          ],
          [
           "Afton"
          ],
          [
           "States"
          ],
          [
           "Cody"
          ],
          [
           "Jackson"
          ],
          [
           "Philipsburg"
          ],
          [
           "Cody"
          ],
          [
           "Butte"
          ],
          [
           "Victor"
          ],
          [
           "Livingston"
          ],
          [
           "Livingston"
          ],
          [
           "Twin Bridges"
          ],
          [
           "Townsend"
          ],
          [
           "Pinedale"
          ],
          [
           "Anaconda"
          ],
          [
           "Challis"
          ],
          [
           "Idaho Falls"
          ],
          [
           "Virginia City"
          ],
          [
           "Philipsburg"
          ],
          [
           "West Yellowstone"
          ],
          [
           "Gardiner"
          ],
          [
           "Yellowstone National Park"
          ],
          [
           "Gallatin Gateway"
          ],
          [
           "West Yellowstone"
          ],
          [
           "Victor"
          ],
          [
           "Pinedale"
          ],
          [
           "West Yellowstone"
          ],
          [
           "Cooke City"
          ],
          [
           "Idaho Falls"
          ],
          [
           "Yellowtail"
          ],
          [
           "Cody"
          ],
          [
           "Garden City"
          ],
          [
           "Bozeman"
          ],
          [
           "Providence"
          ],
          [
           "Gardiner"
          ],
          [
           "Worland"
          ],
          [
           "Ennis"
          ],
          [
           "Buffalo"
          ],
          [
           "Jackson"
          ],
          [
           "Teton Village"
          ],
          [
           "Rexburg"
          ],
          [
           "Garden City"
          ],
          [
           "Billings"
          ],
          [
           "Anaconda"
          ],
          [
           "West Yellowstone"
          ],
          [
           "Idaho Falls"
          ],
          [
           "Arco"
          ],
          [
           "Idaho Falls"
          ],
          [
           "Cody"
          ],
          [
           "Ketchum"
          ],
          [
           "Inkom"
          ],
          [
           "Logan"
          ],
          [
           "Hardin"
          ],
          [
           "Cody"
          ],
          [
           "Dayton"
          ],
          [
           "Idaho Falls"
          ],
          [
           "Pinedale"
          ],
          [
           "Garden City"
          ],
          [
           "Pinedale"
          ],
          [
           "Lovell"
          ],
          [
           "Pray"
          ],
          [
           "Emigrant"
          ],
          [
           "Sheridan"
          ],
          [
           "Thermopolis"
          ],
          [
           "Bozeman"
          ],
          [
           "Jackson"
          ],
          [
           "Riverton"
          ],
          [
           "Ketchum"
          ],
          [
           "Worland"
          ],
          [
           "West Yellowstone"
          ],
          [
           "Bozeman"
          ],
          [
           "Jackson"
          ],
          [
           "Deer Lodge"
          ],
          [
           "Jackson"
          ],
          [
           "Jackson"
          ],
          [
           "Rexburg"
          ],
          [
           "Meeteetse"
          ],
          [
           "Big Sky"
          ],
          [
           "Teton Village"
          ],
          [
           "Buffalo"
          ],
          [
           "West Yellowstone"
          ],
          [
           "Pray"
          ],
          [
           "Gardiner"
          ],
          [
           "Grace"
          ],
          [
           "American Falls"
          ],
          [
           "Big Sky"
          ],
          [
           "Teton Village"
          ],
          [
           "Lima"
          ],
          [
           "Billings"
          ],
          [
           "Sheridan"
          ],
          [
           "Whitehall"
          ],
          [
           "Billings"
          ],
          [
           "Ashton"
          ],
          [
           "Dubois"
          ],
          [
           "West Yellowstone"
          ],
          [
           "Yellowstone National Park"
          ],
          [
           "Salmon"
          ],
          [
           "Hailey"
          ],
          [
           "Wapiti"
          ],
          [
           "Pocatello"
          ],
          [
           "Dubois"
          ],
          [
           "Cody"
          ],
          [
           "Billings"
          ],
          [
           "Boulder"
          ],
          [
           "Rigby"
          ],
          [
           "Cody"
          ],
          [
           "Buffalo"
          ],
          [
           "West Yellowstone"
          ],
          [
           "Jackson"
          ],
          [
           "Bozeman"
          ],
          [
           "Buffalo"
          ],
          [
           "Butte"
          ],
          [
           "Livingston"
          ],
          [
           "Thermopolis"
          ],
          [
           "Idaho Falls"
          ],
          [
           "Sheridan"
          ],
          [
           "Cody"
          ],
          [
           "Victor"
          ],
          [
           "Blackfoot"
          ],
          [
           "Billings"
          ],
          [
           "West Yellowstone"
          ],
          [
           "States"
          ],
          [
           "Saint Charles"
          ],
          [
           "Hailey"
          ],
          [
           "Pocatello"
          ],
          [
           "States"
          ],
          [
           "Bozeman"
          ],
          [
           "Cody"
          ],
          [
           "Garden City"
          ],
          [
           "Cody"
          ],
          [
           "West Yellowstone"
          ],
          [
           "Bozeman"
          ],
          [
           "Lava Hot Springs"
          ],
          [
           "Monarch"
          ],
          [
           "West Yellowstone"
          ],
          [
           "Livingston"
          ],
          [
           "Helena"
          ],
          [
           "White Sulphur Springs"
          ],
          [
           "Big Timber"
          ],
          [
           "Hobson"
          ],
          [
           "Victor"
          ],
          [
           "Twin Bridges"
          ],
          [
           "Jackson"
          ],
          [
           "Clancy"
          ],
          [
           "Victor"
          ],
          [
           "Chubbuck"
          ],
          [
           "Pocatello"
          ],
          [
           "Cody"
          ],
          [
           "Three Forks"
          ],
          [
           "Bozeman"
          ],
          [
           "Sheridan"
          ],
          [
           "Cora"
          ],
          [
           "Jackson"
          ],
          [
           "Billings"
          ],
          [
           "Pinedale"
          ],
          [
           "Billings"
          ],
          [
           "Reed Point"
          ],
          [
           "Bozeman"
          ],
          [
           "Victor"
          ],
          [
           "Ketchum"
          ],
          [
           "Pinedale"
          ],
          [
           "Ammon"
          ],
          [
           "Island Park"
          ],
          [
           "Jackson"
          ],
          [
           "West Yellowstone"
          ],
          [
           "Afton"
          ],
          [
           "Butte"
          ],
          [
           "Anaconda"
          ],
          [
           "Lava Hot Springs"
          ],
          [
           "Billings"
          ],
          [
           "Gardiner"
          ],
          [
           "West Yellowstone"
          ],
          [
           "Gardiner"
          ],
          [
           "Philipsburg"
          ],
          [
           "Joliet"
          ],
          [
           "Billings"
          ],
          [
           "Billings"
          ],
          [
           "Salmon"
          ],
          [
           "Cokeville"
          ],
          [
           "Afton"
          ],
          [
           "Belfry"
          ],
          [
           "West Yellowstone"
          ],
          [
           "Ashton"
          ],
          [
           "Saint Anthony"
          ],
          [
           "Big Sky"
          ],
          [
           "Pocatello"
          ],
          [
           "Island Park"
          ],
          [
           "Billings"
          ],
          [
           "Garden City"
          ],
          [
           "Greycliff"
          ],
          [
           "West Yellowstone"
          ],
          [
           "Gardiner"
          ],
          [
           "Jackson"
          ],
          [
           "Soda Springs"
          ],
          [
           "Sheridan"
          ],
          [
           "Gardiner"
          ],
          [
           "Cody"
          ],
          [
           "Philipsburg"
          ],
          [
           "Livingston"
          ],
          [
           "Hardin"
          ],
          [
           "Sheridan"
          ],
          [
           "Butte"
          ],
          [
           "Gardiner"
          ],
          [
           "Bozeman"
          ],
          [
           "Drummond"
          ],
          [
           "Red Lodge"
          ],
          [
           "Big Sky"
          ],
          [
           "Ennis"
          ],
          [
           "Reed Point"
          ],
          [
           "Idaho Falls"
          ],
          [
           "West Yellowstone"
          ],
          [
           "Red Lodge"
          ],
          [
           "Butte"
          ],
          [
           "Cody"
          ],
          [
           "Red Lodge"
          ],
          [
           "Billings"
          ],
          [
           "Dillon"
          ],
          [
           "Farson"
          ],
          [
           "Basin"
          ],
          [
           "Lander"
          ],
          [
           "Rexburg"
          ],
          [
           "Livingston"
          ],
          [
           "Garden City"
          ],
          [
           "Sula"
          ],
          [
           "Big Sky"
          ],
          [
           "Helena"
          ],
          [
           "Martinsdale"
          ],
          [
           "Absarokee"
          ],
          [
           "West Yellowstone"
          ],
          [
           "Pocatello"
          ],
          [
           "Pinedale"
          ],
          [
           "Salmon"
          ],
          [
           "Pocatello"
          ],
          [
           "Neihart"
          ],
          [
           "West Yellowstone"
          ],
          [
           "Billings"
          ],
          [
           "Big Sky"
          ],
          [
           "Sheridan"
          ],
          [
           "Jackson"
          ],
          [
           "Helena"
          ],
          [
           "Garden City"
          ],
          [
           "West Yellowstone"
          ],
          [
           "Bozeman"
          ],
          [
           "Idaho Falls"
          ],
          [
           "Wolf Creek"
          ],
          [
           "Lewistown"
          ],
          [
           "West Yellowstone"
          ],
          [
           "Bozeman"
          ],
          [
           "Columbus"
          ],
          [
           "Alta"
          ],
          [
           "Salmon"
          ],
          [
           "Wisdom"
          ],
          [
           "West Yellowstone"
          ],
          [
           "Jackson"
          ],
          [
           "Ennis"
          ],
          [
           "Butte"
          ],
          [
           "Island Park"
          ],
          [
           "Gardiner"
          ],
          [
           "Belgrade"
          ],
          [
           "Dillon"
          ],
          [
           "Livingston"
          ],
          [
           "Island Park"
          ],
          [
           "Helena"
          ],
          [
           "Island Park"
          ],
          [
           "Billings"
          ],
          [
           "Powell"
          ],
          [
           "Sheridan"
          ],
          [
           "Cody"
          ],
          [
           "Island Park"
          ],
          [
           "Anaconda"
          ],
          [
           "Thermopolis"
          ],
          [
           "Pocatello"
          ],
          [
           "Belgrade"
          ],
          [
           "Driggs"
          ],
          [
           "Big Piney"
          ],
          [
           "American Falls"
          ],
          [
           "Billings"
          ],
          [
           "Dillon"
          ],
          [
           "States"
          ],
          [
           "Helena"
          ],
          [
           "Buffalo"
          ],
          [
           "Riverton"
          ],
          [
           "Teton Village"
          ],
          [
           "Afton"
          ],
          [
           "Red Lodge"
          ],
          [
           "Butte"
          ],
          [
           "Helena"
          ],
          [
           "Dell"
          ],
          [
           "Wilsall"
          ],
          [
           "Garden City"
          ],
          [
           "Blackfoot"
          ],
          [
           "Livingston"
          ],
          [
           "Lovell"
          ],
          [
           "West Yellowstone"
          ],
          [
           "Laurel"
          ],
          [
           "Cody"
          ],
          [
           "Cody"
          ],
          [
           "Driggs"
          ],
          [
           "Sheridan"
          ],
          [
           "Jackson"
          ],
          [
           "Bozeman"
          ],
          [
           "Sheridan"
          ],
          [
           "West Yellowstone"
          ],
          [
           "Victor"
          ],
          [
           "Kelly"
          ],
          [
           "Rexburg"
          ],
          [
           "Dubois"
          ],
          [
           "Gardiner"
          ],
          [
           "Riverton"
          ],
          [
           "Ketchum"
          ],
          [
           "Island Park"
          ],
          [
           "Lava Hot Springs"
          ],
          [
           "Yellowstone National Park"
          ],
          [
           "Montpelier"
          ],
          [
           "Helena"
          ],
          [
           "Martinsdale"
          ],
          [
           "Ralston"
          ],
          [
           "Dubois"
          ],
          [
           "Dubois"
          ],
          [
           "Bozeman"
          ],
          [
           "Basin"
          ],
          [
           "Billings"
          ],
          [
           "Bozeman"
          ],
          [
           "Conner"
          ],
          [
           "Billings"
          ],
          [
           "Gardiner"
          ],
          [
           "Harlowton"
          ],
          [
           "Butte"
          ],
          [
           "Sheridan"
          ],
          [
           "Helena"
          ],
          [
           "Malad City"
          ],
          [
           "Garden City"
          ],
          [
           "Dillon"
          ],
          [
           "Billings"
          ],
          [
           "States"
          ],
          [
           "Jackson"
          ],
          [
           "Soda Springs"
          ],
          [
           "Moose"
          ],
          [
           "Riverton"
          ],
          [
           "Whitehall"
          ],
          [
           "Buffalo"
          ],
          [
           "Lewistown"
          ],
          [
           "Moran"
          ],
          [
           "Gardiner"
          ],
          [
           "Dubois"
          ],
          [
           "Driggs"
          ],
          [
           "Lovell"
          ],
          [
           "Hardin"
          ],
          [
           "Cooke City"
          ],
          [
           "West Yellowstone"
          ],
          [
           "Idaho Falls"
          ],
          [
           "Cody"
          ],
          [
           "Helena"
          ],
          [
           "Cooke City"
          ],
          [
           "Bellevue"
          ],
          [
           "Pinedale"
          ],
          [
           "Craig"
          ],
          [
           "Billings"
          ],
          [
           "Wapiti"
          ],
          [
           "Kemmerer"
          ],
          [
           "Pony"
          ],
          [
           "Martinsdale"
          ],
          [
           "Cody"
          ],
          [
           "Malad City"
          ],
          [
           "Jackson"
          ],
          [
           "Jackson"
          ],
          [
           "Salmon"
          ],
          [
           "Sheridan"
          ],
          [
           "Victor"
          ],
          [
           "Island Park"
          ],
          [
           "Helena"
          ],
          [
           "Salmon"
          ],
          [
           "Pocatello"
          ],
          [
           "Sheridan"
          ],
          [
           "Billings"
          ],
          [
           "Wisdom"
          ],
          [
           "Logan"
          ],
          [
           "Tetonia"
          ],
          [
           "Lava Hot Springs"
          ],
          [
           "Gardiner"
          ],
          [
           "Livingston"
          ],
          [
           "Cody"
          ],
          [
           "Wise River"
          ],
          [
           "Riverton"
          ],
          [
           "Jackson"
          ],
          [
           "Red Lodge"
          ],
          [
           "Garden City"
          ],
          [
           "Salmon"
          ],
          [
           "Island Park"
          ],
          [
           "Jackson"
          ],
          [
           "Saddlestring"
          ],
          [
           "Livingston"
          ],
          [
           "Atlantic City"
          ],
          [
           "Montpelier"
          ],
          [
           "Lava Hot Springs"
          ],
          [
           "Bozeman"
          ],
          [
           "Jackson"
          ],
          [
           "Sheridan"
          ],
          [
           "Roberts"
          ],
          [
           "Jackson"
          ],
          [
           "Philipsburg"
          ],
          [
           "Cody"
          ],
          [
           "Custer"
          ],
          [
           "Wise River"
          ],
          [
           "Laurel"
          ],
          [
           "Bozeman"
          ],
          [
           "Thayne"
          ],
          [
           "Bridger"
          ],
          [
           "Helena"
          ],
          [
           "Rigby"
          ],
          [
           "Declo"
          ],
          [
           "Butte"
          ],
          [
           "Helena"
          ],
          [
           "Yellowtail"
          ],
          [
           "West Yellowstone"
          ],
          [
           "Afton"
          ],
          [
           "Dillon"
          ],
          [
           "Red Lodge"
          ],
          [
           "Arco"
          ],
          [
           "West Yellowstone"
          ],
          [
           "Tetonia"
          ],
          [
           "Kelly"
          ],
          [
           "Livingston"
          ],
          [
           "Boulder"
          ],
          [
           "Bozeman"
          ],
          [
           "Irwin"
          ],
          [
           "Helena"
          ],
          [
           "States"
          ],
          [
           "Cascade"
          ],
          [
           "Blackfoot"
          ],
          [
           "Livingston"
          ],
          [
           "Lava Hot Springs"
          ],
          [
           "Alpine"
          ],
          [
           "Wilson"
          ],
          [
           "Bozeman"
          ],
          [
           "Cameron"
          ],
          [
           "Gardiner"
          ],
          [
           "Cooke City"
          ],
          [
           "Clark"
          ],
          [
           "Butte"
          ],
          [
           "Red Lodge"
          ],
          [
           "Teton Village"
          ],
          [
           "Billings"
          ],
          [
           "Red Lodge"
          ],
          [
           "Stanford"
          ],
          [
           "Bozeman"
          ],
          [
           "Dayton"
          ],
          [
           "Three Forks"
          ],
          [
           "American Falls"
          ],
          [
           "Cascade"
          ],
          [
           "Garden City"
          ],
          [
           "West Yellowstone"
          ],
          [
           "Butte"
          ],
          [
           "Pocatello"
          ],
          [
           "Lava Hot Springs"
          ],
          [
           "Arco"
          ],
          [
           "Cooke City"
          ],
          [
           "Jackson"
          ],
          [
           "Logan"
          ],
          [
           "Idaho Falls"
          ],
          [
           "Silver Gate"
          ],
          [
           "Moose"
          ],
          [
           "Livingston"
          ],
          [
           "Idaho Falls"
          ],
          [
           "Teton Village"
          ],
          [
           "Lava Hot Springs"
          ],
          [
           "Judith Gap"
          ],
          [
           "Garden City"
          ],
          [
           "Idaho Falls"
          ],
          [
           "Cascade"
          ],
          [
           "Newdale"
          ],
          [
           "Worland"
          ],
          [
           "Cooke City"
          ],
          [
           "Absarokee"
          ],
          [
           "Mackay"
          ],
          [
           "Cody"
          ],
          [
           "White Sulphur Springs"
          ],
          [
           "Anaconda"
          ],
          [
           "Salmon"
          ],
          [
           "West Yellowstone"
          ],
          [
           "Dillon"
          ],
          [
           "Cody"
          ],
          [
           "Lava Hot Springs"
          ],
          [
           "Sheridan"
          ],
          [
           "Jackson"
          ],
          [
           "Challis"
          ],
          [
           "Belgrade"
          ],
          [
           "Swan Valley"
          ],
          [
           "Big Sky"
          ],
          [
           "Red Lodge"
          ],
          [
           "Logan"
          ],
          [
           "Bozeman"
          ],
          [
           "Ranchester"
          ],
          [
           "Idaho Falls"
          ],
          [
           "Billings"
          ],
          [
           "Lovell"
          ],
          [
           "Deer Lodge"
          ],
          [
           "Jackson"
          ],
          [
           "Livingston"
          ],
          [
           "Sheridan"
          ],
          [
           "Helena"
          ],
          [
           "Pocatello"
          ],
          [
           "Pinedale"
          ],
          [
           "Victor"
          ],
          [
           "Lovell"
          ],
          [
           "Tetonia"
          ],
          [
           "Livingston"
          ],
          [
           "Moose"
          ],
          [
           "Teton Village"
          ],
          [
           "Gardiner"
          ],
          [
           "Island Park"
          ],
          [
           "Helena"
          ],
          [
           "Butte"
          ],
          [
           "West Yellowstone"
          ],
          [
           "Butte"
          ],
          [
           "West Yellowstone"
          ],
          [
           "Cody"
          ],
          [
           "Dubois"
          ],
          [
           "Cascade"
          ],
          [
           "Riverton"
          ],
          [
           "Jackson"
          ],
          [
           "Lovell"
          ],
          [
           "White Sulphur Springs"
          ],
          [
           "Lava Hot Springs"
          ],
          [
           "Gardiner"
          ],
          [
           "Sheridan"
          ],
          [
           "Butte"
          ],
          [
           "Logan"
          ],
          [
           "Hardin"
          ],
          [
           "Cooke City"
          ],
          [
           "Bozeman"
          ],
          [
           "Thermopolis"
          ],
          [
           "Billings"
          ],
          [
           "Garden City"
          ],
          [
           "Bozeman"
          ],
          [
           "Driggs"
          ],
          [
           "Montpelier"
          ],
          [
           "Billings"
          ],
          [
           "Jackson"
          ],
          [
           "Kemmerer"
          ],
          [
           "Salmon"
          ],
          [
           "Ashton"
          ],
          [
           "Clancy"
          ],
          [
           "Jackson"
          ],
          [
           "Ennis"
          ],
          [
           "Buffalo"
          ],
          [
           "Jackson"
          ],
          [
           "Garden City"
          ],
          [
           "Wilson"
          ],
          [
           "Ashton"
          ],
          [
           "Thermopolis"
          ],
          [
           "Hailey"
          ],
          [
           "Jackson"
          ],
          [
           "West Yellowstone"
          ],
          [
           "Lewistown"
          ],
          [
           "Bozeman"
          ],
          [
           "West Yellowstone"
          ],
          [
           "Logan"
          ],
          [
           "Bozeman"
          ],
          [
           "West Yellowstone"
          ],
          [
           "Cameron"
          ],
          [
           "Red Lodge"
          ],
          [
           "Lava Hot Springs"
          ],
          [
           "Fort Smith"
          ],
          [
           "Jackson"
          ],
          [
           "Big Horn"
          ],
          [
           "Cascade"
          ],
          [
           "Bozeman"
          ],
          [
           "Billings"
          ],
          [
           "Pinedale"
          ],
          [
           "Pinedale"
          ],
          [
           "Red Lodge"
          ],
          [
           "Belgrade"
          ],
          [
           "Lava Hot Springs"
          ],
          [
           "Bozeman"
          ],
          [
           "Worland"
          ],
          [
           "Pinedale"
          ],
          [
           "Cascade"
          ],
          [
           "Garden City"
          ],
          [
           "North Fork"
          ],
          [
           "Pinedale"
          ],
          [
           "Sheridan"
          ],
          [
           "Dubois"
          ],
          [
           "Dillon"
          ],
          [
           "Jackson"
          ],
          [
           "Powell"
          ],
          [
           "Buffalo"
          ],
          [
           "Jackson"
          ],
          [
           "Sheridan"
          ],
          [
           "Columbus"
          ],
          [
           "Bozeman"
          ],
          [
           "Billings"
          ],
          [
           "Big Sky"
          ],
          [
           "Jackson"
          ],
          [
           "Livingston"
          ],
          [
           "Etna"
          ],
          [
           "Lander"
          ],
          [
           "West Yellowstone"
          ],
          [
           "Moran"
          ],
          [
           "Jackson"
          ],
          [
           "Jackson"
          ],
          [
           "Alpine"
          ],
          [
           "Absarokee"
          ],
          [
           "Bozeman"
          ],
          [
           "Roundup"
          ],
          [
           "Irwin"
          ],
          [
           "Big Sky"
          ],
          [
           "Yellowstone National Park"
          ],
          [
           "Gardiner"
          ],
          [
           "Pocatello"
          ],
          [
           "Buffalo"
          ],
          [
           "Moran"
          ],
          [
           "Dubois"
          ],
          [
           "Jackson"
          ],
          [
           "Lander"
          ],
          [
           "Absarokee"
          ],
          [
           "Hailey"
          ],
          [
           "Driggs"
          ],
          [
           "Butte"
          ],
          [
           "Wilson"
          ],
          [
           "Buffalo"
          ],
          [
           "Billings"
          ],
          [
           "Big Sky"
          ],
          [
           "Idaho Falls"
          ],
          [
           "States"
          ],
          [
           "Dubois"
          ],
          [
           "Ketchum"
          ],
          [
           "Jackson"
          ],
          [
           "Sula"
          ],
          [
           "Nye"
          ],
          [
           "Lewistown"
          ],
          [
           "Cameron"
          ],
          [
           "Lander"
          ],
          [
           "Bozeman"
          ],
          [
           "Alpine"
          ],
          [
           "Pinedale"
          ],
          [
           "Kaycee"
          ],
          [
           "Downey"
          ],
          [
           "Butte"
          ],
          [
           "Buffalo"
          ],
          [
           "States"
          ],
          [
           "Moran"
          ],
          [
           "Billings"
          ],
          [
           "Polaris"
          ],
          [
           "Buffalo"
          ],
          [
           "Buffalo"
          ],
          [
           "Helena"
          ],
          [
           "Meeteetse"
          ],
          [
           "Butte"
          ],
          [
           "West Yellowstone"
          ],
          [
           "Polaris"
          ],
          [
           "Cody"
          ],
          [
           "Hall"
          ],
          [
           "Three Forks"
          ],
          [
           "Malad City"
          ],
          [
           "Avon"
          ],
          [
           "Billings"
          ],
          [
           "Lovell"
          ],
          [
           "Ketchum"
          ],
          [
           "Big Sky"
          ],
          [
           "States"
          ],
          [
           "Island Park"
          ],
          [
           "Gardiner"
          ],
          [
           "Red Lodge"
          ],
          [
           "Moran"
          ],
          [
           "Absarokee"
          ],
          [
           "Cooke City"
          ],
          [
           "West Yellowstone"
          ],
          [
           "Bozeman"
          ],
          [
           "Hailey"
          ],
          [
           "Gallatin Gateway"
          ],
          [
           "Dillon"
          ],
          [
           "La Barge"
          ],
          [
           "Kemmerer"
          ],
          [
           "Lewistown"
          ],
          [
           "Bozeman"
          ],
          [
           "Logan"
          ],
          [
           "Driggs"
          ],
          [
           "Story"
          ],
          [
           "Logan"
          ],
          [
           "West Yellowstone"
          ],
          [
           "Jackson"
          ],
          [
           "Bozeman"
          ],
          [
           "Lima"
          ],
          [
           "States"
          ]
         ],
         "hovertemplate": "<b>%{hovertext}</b><br><br>LATITUDE=%{lat}<br>LONGITUDE=%{lon}<br>CITY=%{customdata[0]}<extra></extra>",
         "hovertext": [
          "Deer Meadow Vacation Home",
          "Yellowstone Motel",
          "Super 8",
          "Aston Sun Valley",
          "Rainbow Ranch Lodge",
          "Robins Nest Bed & Breakfast",
          "Lake Lodge Cabins",
          "Hideout Motel & Rv",
          "Quality Inn",
          "Casa Lodging Vacation Rentals",
          "Extended Stay America",
          "Pinnacle Buttes Lodge & Campground",
          "Big Sky Motel",
          "Mesa Falls Lodge",
          "Super 8",
          "Chateau Rouge",
          "Paradise Gateway",
          "Scharf's Motor Inn",
          "Yellowstone Suites B & B",
          "Sage Motel",
          "Hamilton Lodge",
          "AmericInn",
          "Smithland Bed & Breakfast",
          "Just An Experience",
          "Wood River Inn & Suites",
          "Syringa Lodge",
          "Northgate Inn Motel",
          "Stone Ridge Cabin",
          "The Vonnie Louise Inn",
          "Motel West",
          "Green Creek Inn & Rv Park",
          "Holiday Inn",
          "Aspen Grove Inn at Heise Bridge",
          "Anglers Inn",
          "South Fork Lodge",
          "Americas Best Value Inn",
          "Hilton Garden Inn",
          "SpringHill Suites by Marriott",
          "Rainbow Park Motel",
          "Hotel Ketchum",
          "V Lazy B Bed & Breakfast",
          "Bungalow Bed & Breakfast",
          "Teton West Motel",
          "Americas Best Value Inn",
          "Lazy J Motel",
          "Super 8",
          "The Lexington at Jackson Hole",
          "Driftwood Inn Motel",
          "Carriage House",
          "Whitewater Inn",
          "Continental Motor Inn",
          "Comfort Inn",
          "Bentwood Inn Bg",
          "Trouthunter",
          "Bighorn River Lodge",
          "Mammoth Hot Springs",
          "Stagecoach Motor Inn",
          "Elk Lake Resort",
          "Holiday Lodge",
          "Pintler's Portal Hostel",
          "Travelodge",
          "Tamarack Lodge Sun Valley",
          "Brandin' Iron Inn",
          "Travelodge",
          "Country Motor Inn",
          "Pahaska Tepee Resort",
          "Fairfield Inn & Suites by Marriott",
          "SpringHill Suites by Marriott",
          "Super 8",
          "Rainbow Valley Lodge",
          "Bridger Motel",
          "Comfort Inn",
          "Old Irwin Lodge",
          "Three Rivers Motel",
          "Tumbling Waters Inn",
          "The Lindley House",
          "Residence Inn by Marriott",
          "Old Faithful Snow Lodge Obsidian Dining Room",
          "Wolf Den",
          "Winzig Lodge",
          "Courtyard Bozeman",
          "Wagon Box Inn",
          "Red Bear Inn",
          "Marbleton Inn",
          "The Andrus Hotel",
          "Mountain View Motel",
          "Days Inn",
          "Wolves of Howlers Inn a Bozeman Montana Bed and Breakfast",
          "Leadore Inn",
          "The Harkness Hotel",
          "Sixty Three Ranch",
          "Holiday Inn Express",
          "Best Western Plus Butte Plaza Inn",
          "Ruby Valley Bed & Breakfast",
          "Elks Lodge 1087",
          "Name Tbd",
          "Hot Water Inn",
          "Wisdom Cabin",
          "Rest Stop",
          "Cody Motor Lodge",
          "Yellowstone River Inn & Suites",
          "Budget Host",
          "Greybull Rest Area",
          "Sleepy J Cabins",
          "Blackfoot Rest Area",
          "The Virginian Lodge",
          "Log Cabin Motel",
          "Econo Lodge",
          "Red Lodge Inn",
          "South Fork Mountain Lodge and Outfitters",
          "Stage Stop Motel",
          "Rocky Fork Inn",
          "The Scout",
          "Branding Iron Inn",
          "The Lodge at Diamond Cross",
          "Residence Inn by Marriott",
          "Oddfellow Inn & Farm",
          "Juniper Inn",
          "Island Park Cabins and Lodges",
          "Moonlight Mountain Lodge",
          "The Ranch At Ucross",
          "Southfork Bed and Breakfast",
          "Eod Spring 2023 Capital Area",
          "Sportsman Motel",
          "Billings Travel West Inn",
          "Irma Hotel",
          "Rodeway Inn",
          "Lewistown Lodge",
          "Whitehall",
          "Teton Mountain",
          "Green Mountain Motel",
          "Motel 6",
          "Tao's Inn",
          "Small World Stays",
          "AmericInn",
          "Half Moon Lodge",
          "Courtyard Pocatello",
          "The Meeteetse Inn",
          "Comfort Suites",
          "Camelot Ranch",
          "Doubletree By Hilton Helena Downtown",
          "Ramada Limited",
          "A Wyoming Inn",
          "Hotaling Hotel",
          "Ruby Springs Lodge",
          "Days Inn",
          "Quigley Cottage Bed & Breakfast",
          "Maverick Motel",
          "Quality Inn",
          "Shilo Inns Helena",
          "Wheels Motel",
          "Littletree Inn",
          "Super 8",
          "High Country Motel",
          "Crosswinds Inn",
          "Best Western Pocatello Inn",
          "7 Point Ranch",
          "Brown Derby Restaurant Bar And Inn",
          "Howard Johnson (HoJo)",
          "Silverdollar Bar & Restaurant",
          "Kingfisher Lodge Big Horn Country Outfitters",
          "Best Western Kings Inn",
          "Wagon Wheel Motel",
          "Elks Lodge 394 Fax",
          "Coldwater Hill Eastbound Rest Area",
          "Black Bear Country Inn",
          "Best Western Driftwood Inn",
          "Epic Recreation",
          "Spotted Horse Ranch",
          "WorldMark West Yellowstone",
          "Iron Front Hotel",
          "Super 8",
          "Three Bear Lodge",
          "1872 Inn",
          "Bear Lodge Resort",
          "Super 8",
          "Challis Lodge & Lounge Motel",
          "Bar Lazy H Percherons",
          "Yellowstone Condos & Suites",
          "Home2 Suites",
          "7 Gables Resort",
          "Super 8",
          "Comfort Inn",
          "K 3 Guest Ranch",
          "Treeline Coffee at the Lark Hotel",
          "Lost Creek Ranch & Spa",
          "River View Guest House",
          "406 Lodge",
          "Riverdale Resort",
          "Antler Motel",
          "Quality Inn",
          "Cooke City Sinclair & Cabins",
          "Heights Inn Motel",
          "Best Western Premier Ivy Inn & Suites",
          "Econo Lodge",
          "Chinook Winds Lodge",
          "Sacajawea Hotel",
          "Montana Fly Fishers & The Leaning Tree Lodge",
          "Coachman Motel",
          "El Western Cabins & Lodges",
          "Best Western Plus Kelly Inn & Suites",
          "Parkway Inn",
          "Rodeway Inn",
          "R Lazy S Ranch",
          "Mountain Meadow Inn",
          "Tenderfoot Cabins & Motel",
          "La Quinta Inns & Suites",
          "Parade Rest Guest Ranch",
          "Gardiner Guest House",
          "E Z Livin'inn",
          "Fairfield Inn & Suites by Marriott",
          "The Lodge At Palisades Creek",
          "The Cody Hotel",
          "The White Buffalo Hotel",
          "Lazy G Motel",
          "Loft503 A VRBozeman Property",
          "The Bear Bottom Inn",
          "The LARK Bozeman",
          "Park Motel",
          "Red Rock Lodge",
          "Miller Park Lodge",
          "Bear Country Inn",
          "Comfort Suites",
          "Mine Motel",
          "Snow King Motel",
          "Chick's Motel",
          "Moose Hallow Lodge",
          "Holiday Inn The Grand Montana Billings",
          "Big Horn Trout Shop",
          "Largilliere Carriage House",
          "Camp Creek Inn",
          "Morley's Acres Farm and Bed & Breakfast",
          "Wyoming Inn of Jackson Hole",
          "Cowboy's Lodge",
          "Anniversary Inn",
          "Yellow Rock River Ranch",
          "Fairfield Inn & Suites by Marriott",
          "Raspberry Garden",
          "Country Inn & Suites By Radisson",
          "Homestake Lodge",
          "Boothill Motel",
          "Historic Hotel Greybull",
          "The Aspen",
          "The Riter Mansion",
          "The Waterfront at Snake River Landing",
          "Birch Tree Inn",
          "Evergreen Inn",
          "Hampton",
          "Quality Inn",
          "Red Lion Hotels",
          "Hillview Extended Stay",
          "The Barnsion",
          "ClubHouse Inn West Yellowstone",
          "Laketown Lodge",
          "The Chateau Events Center",
          "Jakey's Fork Homestead Bed & Breakfast",
          "Moose Haven",
          "Wind River Club",
          "Teton Valley Cabins",
          "Grant Village Lodge",
          "Storm Castle Retreat",
          "O Z Motel",
          "Travel Inn",
          "Jenny Lake Lodge",
          "Plaza Motel",
          "Home2 Suites",
          "Bear Lake Motor Lodge",
          "The Drift Lodge",
          "Hampton",
          "Squirrel Creek Guest Ranch",
          "StayVR",
          "The Salsbury Avenue Inn",
          "Island Park Cabins Eagle Ridge",
          "Grizzly Lodge",
          "Parkway Motel",
          "Days Inn",
          "C'mon Inn",
          "Rest Assured Inns & Suites",
          "Yellowstone Hotel Systems",
          "Big Timber River Valley Inn",
          "Lift Tower Lodge",
          "Super 8",
          "Nez Perce Motel",
          "My Place Hotels",
          "Roundhouse Gondola",
          "Carter Inn",
          "La Quinta Inns & Suites",
          "Huntley Lodge",
          "Big Hole River Retreat",
          "FairBridge Inn & Suites Idaho Falls",
          "The Chambers House Bed & Breakfast",
          "Hampton",
          "Sheffield RV",
          "The Spa At Rustic Inn",
          "Hampton",
          "Hampton",
          "The Hideout Private Events",
          "Montana Mountian Lodge",
          "Botts Family Motel",
          "Schmalz Fence",
          "Paradise Inn",
          "Comfort Inn",
          "Riverside Hot Springs Inn",
          "Summer Star Ranch",
          "Country Side Inn",
          "Lexington Inn & Suites",
          "The Sanctuary Inn",
          "High Country Suites",
          "Dolo Properties",
          "Lava Hotel",
          "SpringHill Suites by Marriott",
          "Grizzly Pad Cabins",
          "Western Motel",
          "Bluegreen Lake Condominiums at Big Sky",
          "Red Pole Ranch",
          "Hampton",
          "Pioneer Motel",
          "Wilderness Edge",
          "The Lewis & Clark Motel of Three Forks",
          "Torgrimson Place",
          "Westernaire Motel",
          "Dillon Beaverhead Inn",
          "Johnstad's Bed & Breakfast",
          "Oregon Trail Lodge",
          "Yellowstone River Motel",
          "Elk Creek Ranch",
          "Stillwater Cabins",
          "Yellowstone Valley Inn",
          "B And B Motel",
          "Hitching Post Lodge",
          "AmeriGlide Idaho Falls",
          "Maple Grove Hot Springs",
          "The Wilson Hotel Residence Inn Big Sky",
          "South Fork Mountain Lodge",
          "Rancho Alegre Lodge",
          "El Rancho Motel",
          "The Sanders Helena's Bed and Breakfast",
          "Days Inn",
          "Homestead Inn and Suites",
          "Best Western Weston Inn",
          "The Historic Madison",
          "Pony Express Motel",
          "The Whispering Pines Motel",
          "Eddy's Motel",
          "The Rock Shop Inn",
          "Columbus Eastbound",
          "The Bunk House",
          "Wyo Inn",
          "Days Inn",
          "The Andrus Hotel",
          "The Nordic Inn",
          "Best Western Plus Kentwood Lodge",
          "Jackpine Motel",
          "Country Chalet Inn Motel",
          "Snider's Rustic Inn",
          "Yellowstone Country Bed & Breakfast",
          "Shoshone Lodge",
          "Blue Sky Motel",
          "The Broadway Hotel",
          "Columbus Rest Area WB",
          "Alamo Motel",
          "Kings Inn",
          "Folded Hills Ranch",
          "Bucking Moose",
          "The Lamplighter",
          "Best Western Sunset Inn",
          "Above the Rest Lodge",
          "Motel 6",
          "TownePlace Suites by Marriott",
          "Grand View Lodge Jackson Hole",
          "Best Western Plus Weston Inn",
          "Togrimson Place",
          "Home2 Suites",
          "Sunrise Resort At Harbor Village",
          "Flying K Ranch Vacations",
          "Elkhorn Ranch",
          "Dornan's Chuckwagon",
          "Super 8",
          "Wilson Creekside Inn",
          "Lake Yellowstone Hotel & Cabins",
          "Marcus Daly Motel",
          "The Carlin Hotel",
          "Grand Hotel",
          "Holiday Inn Helena",
          "Granite Creek Ranch",
          "Country Inn & Suites By Radisson",
          "Emigrant Creek Cabins",
          "J & J Cabins",
          "Top of The World Resort",
          "Hampton",
          "The Grasshopper Inn Bed & Breakfast",
          "FairBridge Inn Express Dillon",
          "La Quinta Inns & Suites",
          "Anglers Inn",
          "63 Ranch",
          "Country Inn",
          "Cobblestone Inn & Suites",
          "Hotel Malad",
          "Baymont Inn & Suites",
          "Half Moon Lake Resort",
          "White Deer Ranch",
          "Timbers at Island Park Village Resort",
          "Sleep Inn",
          "A Stone's Throw Bed And Breakfast",
          "The Artful Lodger Bed & Breakfast",
          "Hi Country Inn",
          "Best Western Plus Fossil Country Inn & Suites",
          "Cody Holiday Lodge",
          "Clarks Fork Lodge",
          "City Center Motor Inn",
          "Fort Wilsall Motel",
          "Mountain Inn Condos",
          "Rimview Inn",
          "Sugar Loaf Lodge and Cabins",
          "Canyon Cabins",
          "Rainbow Point Inn",
          "Dreamcatcher Tipi Hotel",
          "Wade Lake Resort",
          "Absaroka Lodge",
          "Travelodge",
          "Quality Inn",
          "Buckrail Lodge",
          "Hilltop Inn By Riversage",
          "Judith Mountain Lodge",
          "Cody Cowboy Village",
          "Trail's End Motel",
          "Roomers Motel",
          "Grand Idaho Inn & Suit",
          "High Country Motel",
          "Best Western Plus Cottontree Inn",
          "The Meadows on Rock Creek",
          "Holiday Inn Express",
          "Idaho Falls Chukars Baseball",
          "Margo's Mountain Suite Bed & Breakfast",
          "Vegas Motel",
          "Hot Springs Hideout",
          "The Old Mill Log Cabins Afton WY",
          "Ranch Inn Motel",
          "Rest Area",
          "Quality Inn",
          "Bolo Bungalow",
          "Big Horn Motel",
          "The Village Inn Restaurant",
          "Best Western Plus Plaza Hotel",
          "Downtown Motel",
          "La Quinta Inns & Suites",
          "Grasshopper Inn Bar and Grill",
          "Henrys Lake Kozy Kabin",
          "The Rawhide Motel",
          "Canyon Lodge and Cabins",
          "Swiss Mountain Motel",
          "SpringHill Suites by Marriott",
          "Quality Inn",
          "Holiday Inn Express",
          "West Yellowstone Central Reservations",
          "Motel 6",
          "South Fork Lodge & Outfitters by Natural Retreats",
          "Rodeway Inn",
          "Econo Lodge",
          "Yellowstone Gateway Inn",
          "Hampton",
          "Village Inn Motel",
          "Teton Gables Motel",
          "Big Sky Extended Stay",
          "Rock Creek Resort",
          "Yellowstone West Gate Hotel",
          "Travelodge",
          "Lakeview Suites",
          "Canyon Lodge & Cabins",
          "Americas Best Value Inn",
          "Salmon Gypsy Bed and Breakfast",
          "Lava Ranch Inn Motel & Campground",
          "Grand Victorian Lodge",
          "Cabins By The Creek",
          "Grandma's Cabin",
          "Lake Lodge Cabins",
          "Arrowhead Lodge",
          "The Benjamin Inn",
          "Riverside Cabins",
          "C'mon Inn Hotel & Suites Bozeman",
          "Yodeler Motel",
          "Holiday Inn",
          "Finlen Hotel & Inn",
          "Lamar Valley Cabins",
          "Fountain of Youth Country Inn Motel",
          "Owner's Resort & Exchange",
          "Timber's Condominiums",
          "Symmes Wicks House",
          "La Quinta Inns & Suites",
          "Absaroka Mountain Lodge",
          "The Flats Luxury Suites",
          "Comfort Inn Nsr",
          "Old Faithful Inn",
          "The Hideout Lodge & Guest Ranch",
          "TownePlace Suites by Marriott",
          "Anaconda Rest Area",
          "Wild Bill's Hikers & Bikers Bed and Breakfast",
          "Holiday Inn",
          "Uptown Motel",
          "The Grandview Inn",
          "McGarry Ranches LLC",
          "Element by Westin",
          "Ho Hum Motel",
          "Crevice Mountain Lodge",
          "Roundtop Mountain Motel",
          "Pennay's At River Run",
          "Yellowstone Valley Grill",
          "Fairfield Inn & Suites by Marriott",
          "Frontier Lodge",
          "Desert Inn Motel",
          "Sleepy Hollow Lodge",
          "Antlers Lodge",
          "Greybull Motel",
          "Kingfisher Lodge",
          "Fairfield Inn & Suites by Marriott",
          "Hotel Jackson",
          "Homestead Motel",
          "Alpine Motel",
          "Siesta Motel",
          "Twin Cubs Motel",
          "Grand Teton Lodge",
          "Grand Teton Area Lodging",
          "The 1915 Barn",
          "Sundowner Station",
          "Billings Hotel And Convention Center",
          "Terra Nova Cabins",
          "Blair Hotels",
          "Mountainview Lodge & Suites",
          "Candlewood Suites",
          "Rodeway Inn",
          "Yellowstone Lodge",
          "Southfork Day Spa Ray'",
          "Somewhere In Time Bed & Breakfast",
          "Bear Lake Condo Rentals",
          "Holiday Inn Express",
          "Cabin Village",
          "Holiday Inn",
          "Willow Bay Resort",
          "Shoshone Bannock Hotel and Event Center",
          "Gallatin Gateway Inn",
          "Mayor's Inn",
          "Trail Motel & Restaurant",
          "Beartrap Ranch",
          "Surestay Plus By Best Western Billings",
          "Pony Express Motel",
          "M Lazy L",
          "Experiences Elevated",
          "The Rusty Parrot Lodge",
          "Kimpton Armory Hotel Bozeman",
          "Two Bears Inn",
          "Exclusive Resorts",
          "Baymont Inn & Suites",
          "Headwaters Lodge & Cabins at Flagg Ranch",
          "Moriah Motel",
          "McLeod Resort",
          "Yellowstone Motel",
          "Hampton",
          "The Inn At Jackson Hole",
          "Spring Creek Ranch",
          "Big Horn Resort Ascend Hotel Collection",
          "Best Western Desert Inn",
          "Henrys Fork Inn",
          "Trails End Motel",
          "Sky Haus",
          "North Fork Motel & Campground",
          "Moonlight Lodging in Big Sky",
          "The Hostel",
          "Lazy K T Motel",
          "Sacajawea Inn",
          "Mystic View Cabins",
          "Comfort Inn",
          "River Bridge",
          "South Fork Inn",
          "Angler's Lodge",
          "Continuum Hotel",
          "Quality Inn",
          "Lazy Bear Bed & Breakfast",
          "Rodeway Inn",
          "Holiday Inn Express",
          "Westwood Motel",
          "Blue Moon Saloon",
          "Dutch Oven Inn",
          "Hotel Terra Jackson Hole",
          "Boulder Hot Springs",
          "Beaver Creek Inn",
          "Super 8",
          "The Miner's Hotel",
          "Big Diamond Ranch",
          "Ranch House Motel",
          "Hampton",
          "Star Valley Lodge",
          "Teton Club",
          "The Bluebird Inn",
          "Chamberlin Inn",
          "Spa Hot Springs Motel",
          "The Lodge at Big Sky",
          "Yellowstone Riverside Cottages",
          "Antler Motel",
          "Motel 6",
          "Burnt Out Lodge",
          "Four Seasons Hotels and Resorts",
          "Livingston Inn Motel & Laundry",
          "Fairfield Inn & Suites by Marriott",
          "Wonderland Cafe & Lodge",
          "Yellowstone Gateway Pines",
          "Huff House Inn and Cabins",
          "Imperial",
          "Kaiser House",
          "Best Western Sheridan Center",
          "Yellowstone National Park Lodges",
          "Downtowner Motel",
          "Canyon Lodge",
          "Solberg's Pine Valley Cabins",
          "Jackson Hole Lodge",
          "Drummond Motel",
          "Y Motel",
          "Best Western Paradise Inn",
          "Madison Hotel",
          "Living Waters Ranch",
          "Best Western City Center Motel",
          "Fairfield Inn & Suites by Marriott",
          "Tomahawk Motor Lodge",
          "Howard Johnson (HoJo)",
          "Golden West Motel",
          "Two Feathers Cabin",
          "Blair Quin Enterprises",
          "Yellowstone Hotel",
          "Sage Lodge",
          "Motel 6",
          "Dude & Roundup Motel",
          "Billings Best DJ Professional Audio and Lighting",
          "The Point Inn and Suites",
          "The Roost Backyard Guesthouse",
          "Tender Foot Hiland Motel",
          "Bear Lake Timeshare",
          "Super 8",
          "Autumn's Inn",
          "100 Acre Wood Lodge",
          "Montage",
          "Goff Creek Lodge",
          "Rose River Receptions",
          "Bear Lake Hot Springs",
          "Bar H Cabins",
          "The Bunkhouse",
          "Big Bear Motel",
          "Grand View Lodge Snow King Resort",
          "The Ranch at Rock Creek",
          "Beartooth Inn",
          "Fairfield Inn & Suites by Marriott",
          "Teton Springs Lodge & Spa",
          "Yellowstone Pioneer Lodge",
          "Erik's Ranch",
          "Big Hole",
          "Mustang Motel",
          "Jackalope Motor Lodge",
          "The Forge Hotel Bw Signature Collection",
          "Creek Side Inn Bed & Breakfast",
          "Destinations Inn",
          "Fairweather Inn & Nevada City Hotel",
          "Snookies",
          "Moose Creek Inn",
          "Travelodge",
          "Canyon Lodge and Cabins",
          "Vacasa Skycrest 1710",
          "Yellowstone Lodging",
          "Moose Creek Ranch",
          "Best Western Pinedale Inn",
          "Explorer Cabins at Yellowstone",
          "Alpine Motel of Cooke City",
          "Le Ritz",
          "Polly's Place",
          "Green Gables Inn",
          "Oso Blu",
          "Massage Therapy Associates",
          "Old Rock Church",
          "Jim Bridger Cabins",
          "Days Inn",
          "Riverside Motel & Cabins",
          "Mountain View Motel",
          "Mountain Modern",
          "Alpenhof Lodge",
          "Motel 6",
          "Bear Lake Cabin Rentals",
          "Northern Hotel",
          "Trade Wind Motel",
          "Yellowstone Inn",
          "InnTrusted",
          "D K Motel",
          "Shilo Inns Idaho Falls",
          "Moose Creek Lodge & Suites",
          "Best Western Tyrolean Lodge",
          "Amber Inn Llc",
          "Old Trapper Inn",
          "Super 8",
          "Elephant Head Lodge",
          "Bear Lodge Resort",
          "Residence Inn by Marriott",
          "Rivera Bed and Breakfast",
          "Bear Lake Overlook",
          "Log Cabin Motel",
          "Wyoming High Country Lodge",
          "The Homestead Cabin at Old Chico",
          "Powell Tim & Judy",
          "Apple Tree Inn",
          "Hot Springs Inn",
          "Hampton",
          "Elk Ridge Estate",
          "Paintbrush Motel",
          "Bridgepoint Condominiums",
          "Econo Inn",
          "Kelly Inn West Yellowstone",
          "Bridger Vista Lodge",
          "Alpine Motel",
          "Western Big Sky Inn",
          "Inn On the Creek",
          "The Jackson SouthTown Motel",
          "Surestay Plus By Best Western Rexburg",
          "4 Bears Bed & Breakfast",
          "River Rock Lodge",
          "Teton Mountain Lodge & Spa",
          "Wyoming Motel",
          "Kirkwood Resort & Marina",
          "Chico Hot Springs Resort & Day Spa",
          "Park Hotel Yellowstone",
          "Black Canyon Motel",
          "Fairview Inn",
          "Two Pines Properties",
          "Chill Spa",
          "Mountain View Motel & Rv Park",
          "Rodeway Inn",
          "Tan beech",
          "Borden's Hotel",
          "Holiday Inn Express",
          "Eagle Peak Lodge",
          "CM Ranch",
          "Wagon Wheel Hotel",
          "Grant Village",
          "Salmon River Motel",
          "The Inn at Ellsworth Estate",
          "Margo's B&B",
          "Home2 Suites",
          "Wind River Motel",
          "Cody Legacy Inn And Suites",
          "Quality Inn",
          "Boulder Motel",
          "Blue Heron Inn",
          "Beartooth Inn",
          "Z Bar Cabins and Motel",
          "Worldmark by Wyndham",
          "The Cloudveil Autograph Collection",
          "Microtel Inn and Suites",
          "Super 8",
          "Quality Inn",
          "Super 8",
          "Elk Antler Inn",
          "My Place Hotels",
          "Candlewood Suites",
          "Grizzly Bear Lodge",
          "Linn Canyon Ranch",
          "Super 8",
          "Lewis & Clark Inn",
          "Pioneer Motel",
          "Sugar Loaf Lodge A Montana Mountain Cabin Resort",
          "Bear Country Cabins",
          "Mountain Valley Lodge",
          "Thunderbird Motel",
          "Longhorn Ranch Motel & RV",
          "Hilton Garden Inn",
          "Comfort Inn",
          "Bear Lake Valley Visitors Bureau",
          "Windmill Inn LLC",
          "One Horse Motel",
          "RSVP Hotel",
          "Lava Spa Motel & RV Park",
          "Cub's Den Restaurant & Motel",
          "Traveler's Lodge",
          "Yellowstone Expeditions Bed & Breakfast",
          "Super 8",
          "Forest Green Resort",
          "Homestead Bed & Breakfast",
          "Circle Bar Guest Ranch",
          "Trail Creek Springs",
          "King's Motel",
          "Elk Country Inn",
          "Elkhorn Mountain Inn",
          "Cowboy Roadhouse Lodge",
          "Extended Stay Pocatello",
          "Black Swan Inn",
          "Double Diamond X Ranch",
          "Broken Spur Motel",
          "Rainbow Motel",
          "Residence Hill Bed & Breakfast",
          "Kendall Valley Lodge",
          "Sundance Inn",
          "Doubletree By Hilton Hotel Billings",
          "Lodge at Pinedale",
          "Hampton",
          "Hotel Montana & Wild Horse Saloon",
          "AC Hotel",
          "Teton Valley Motel",
          "Knob Hill Inn",
          "Lakeside Lodge Resort & Marina",
          "La Quinta Inns & Suites",
          "Henry's Fork Lodge",
          "National Ski Patrol",
          "9 Bar W Cabins",
          "Lazy B Motel",
          "Wingate by Wyndham",
          "Fairmont Hot Springs Resort",
          "Lava Hillside Suites",
          "Days Inn",
          "Yellowstone Vacation Cabins",
          "Faithful Street Inn",
          "North Yellowstone Cabins",
          "Caledonia Bed and Breakfast",
          "The Cottonwood Resort",
          "Homewood Suites by Hilton",
          "La Quinta Inns & Suites",
          "Solaas Bed & Breakfast",
          "Valley Hi Motel",
          "Silver Stream Lodge",
          "Beartooth River Ranch",
          "Elkhorn Cabins & Inn",
          "Squirrel Creek Elk Ranch",
          "Sandhills Resort",
          "The Summit Hotel",
          "TownePlace Suites by Marriott",
          "The Preserve at Yellowstone Island Park",
          "Residence Inn by Marriott",
          "Bcl",
          "Greycliff Montana Rest Area",
          "Yellowstone Country Inn",
          "The Raven's Nest Cabins",
          "Jackson Hot Springs Lodge",
          "J R Inn",
          "Budget Host",
          "Little Trail Creek Cabins",
          "A Western Rose Motel",
          "Inn At Philipsburg",
          "Travelodge",
          "Rodeway Inn",
          "Spahns Bighorn Mountain Bed & Breakfast",
          "La Quinta Inns & Suites",
          "Yellowstone River Motel",
          "The Lodge at Heritage Ranch",
          "Sky Motel",
          "Sunrise Inn",
          "Black Eagle Lodges",
          "Madison Double R",
          "Bunkhouse Bed & Breakfast",
          "tru by Hilton",
          "City Center Motel",
          "Island at Rock Creek",
          "Super 8",
          "Carter Mountain Motel",
          "Fox Meadow Bed and Breakfast",
          "Red Lion Hotels",
          "Expedition Lodge",
          "Sitzman's Motel",
          "Cottonwood Cottages",
          "Holiday Inn Express",
          "Hampton",
          "Livingston Inn at Yellowstone",
          "Mimi's Lodges Papa Bear Lodge",
          "Broad Axe Lodge & Restaurant",
          "Montage Big Sky",
          "Baymont Inn & Suites",
          "Bonanza Creek Country Ranch",
          "Absarokee's Stillwater",
          "Yellowstone Townhouses",
          "Motel 6",
          "Pitchfork Fondue Western Outdoor Cookout",
          "Americas Best Value Inn",
          "Clarion",
          "Bob's Bar",
          "Dude Motor Inn",
          "Western Inn Motel Billings",
          "Village Center",
          "Ramada",
          "Elk Refuge Inn",
          "Helena Inn Airport",
          "Bear Lake Cabin Rentals",
          "Delaware North",
          "SpringHill Suites by Marriott",
          "Comfort Suites",
          "Wolf Creek Retreat",
          "Super 8",
          "Yellowstone Wildlife Cabins",
          "Residence Inn by Marriott",
          "Yellowstone River Lodge B & B & Cabin",
          "Teton Teepee Lodge",
          "American Valley",
          "Pioneer Mountain Lodge",
          "Moose Creek Cabins",
          "Four Winds Motel",
          "Ennis Homestead",
          "Red Lion Inn & Suites",
          "Jared's Wild Rose Resort",
          "North Yellowstone Lodge and Hostel",
          "The Outpost Montana",
          "Sundowner Motel",
          "Comfort Inn",
          "Philly Properties Property Management",
          "Best Western Premier Helena Great Northern Hotel",
          "Trouthunter Lodge",
          "Fairfield Inn & Suites by Marriott",
          "Best Choice Motel",
          "Ruby Valley Lodge",
          "Buffalo Bill's Antler Inn",
          "SpringHill Suites by Marriott",
          "Hickory House Inn",
          "Paintbrush Inn",
          "Hampton",
          "Ross Creek Cabins",
          "Fall River Propane",
          "Big Piney Motel",
          "American Motel",
          "Cherry Tree Inn",
          "Super 8",
          "Pine Creek Ski Resort",
          "Fairfield Inn & Suites by Marriott",
          "Sout Fork Lodge",
          "Comfort Inn",
          "Caldera House",
          "Corral Motel",
          "Gallagher's Irish Rose",
          "Motel 6",
          "The Sleepy Senator",
          "Stockyard Inn",
          "Root to Rise Gardens",
          "The Lodge Motel",
          "Best Western Blackfoot Inn",
          "Yellowstone Park Inn And Suites",
          "Western Motel",
          "Gray Wolf Inn & Suites",
          "Locomotive Inn",
          "Skyline Motor Inn",
          "Rimrock Dude Ranch",
          "Teton Hostel HideAway B&B",
          "Bighorn Women's Club",
          "Jackson Pines",
          "Homewood Suites by Hilton",
          "Sheridan Inn Bw Signature Collection",
          "Stage Coach Inn",
          "Fox Creek Inn",
          "Goosewing Ranch",
          "Mountain View Inn",
          "Geyser Creek Boarding Kennels",
          "Ridgeline Hotel At Yellowstone Ascend Hotel Collection",
          "Holiday Inn",
          "Tamarack Lodge & Resort",
          "Fish Hawk Flats",
          "Dempsey Meadows Inn",
          "Canyon Lodge",
          "Laurie Elizabeth Engle",
          "Budget Inn Express",
          "Checkerboard Inn",
          "Barrows Z3 Retreat",
          "Brooks Lake Lodge & Spa",
          "Twin Pines Lodge & Cabins",
          "Days Inn",
          "Eagles Lodge Hall",
          "Kelly Inn",
          "Baymont Inn & Suites",
          "Rocky Knob Lodge",
          "Rainbow Motel",
          "406 Lodge",
          "Corral Motel",
          "Days Inn",
          "Bramble Motel",
          "Fairfield Inn & Suites by Marriott",
          "Idaho Information Center and Rest Stop",
          "Inn At Snow Meadows Boutique Hotel",
          "Dillon Hotel & Bar",
          "Boothill Inn & Suites",
          "Fin and Feather Inn",
          "Cowboy Village Resort",
          "Caribou Lodge & Motel",
          "Dornan's Spur Ranch Cabins",
          "Ol' Wyoming",
          "Chief Motel",
          "Hampton",
          "Calvert Hotel",
          "Togwotee Mountain Lodge",
          "Hillcrest Cottages",
          "Lava Mountain Lodge",
          "Pines Motel Guest Haus",
          "Cattlemen Motel",
          "Super 8 by Wyndham Hardin",
          "Soda Butte Lodge",
          "The Adventure Inn Yellowstone",
          "Rodeway Inn",
          "Sunrise Motor Inn",
          "Delta Hotels",
          "Alpine Motel",
          "Silver Creek Hotel",
          "Quality Inn",
          "Missouri River Ranch",
          "Hilton Garden Inn",
          "Trail Shop & Inn",
          "Downtown Motel",
          "Madison Management",
          "Crazy Mountain Inn",
          "Super 8",
          "The White Robin",
          "The Wort Hotel",
          "Outpost JH",
          "Stagecoach Inn Motel",
          "Trails End Motel",
          "Cobblestone Inn & Suites",
          "Pendleton Pointe Lodging",
          "Americas Best Value Inn",
          "Flying Resort Ranches",
          "The Newberry Building",
          "Quality Inn",
          "Big 5 Motel",
          "The Montana Lodge",
          "Logan Venues",
          "Teton Peaks Lodge & Rv",
          "Home Hotel Lava Hot Springs",
          "Jim Bridger Explorer Cabins",
          "Fairfield Inn & Suites by Marriott",
          "Jpk Tr Cody Llc",
          "Silver Bow Club",
          "South Federal Inn",
          "The Alpine House",
          "Inn on the Beartooth",
          "Lazy Bear Cabin",
          "Salmon River Inn",
          "Wild Rose Ranch",
          "The Lodge at Jackson Hole",
          "HF Bar Ranch",
          "Blue Winged Olive",
          "Miner's Delight",
          "Clover Creek Inn",
          "Lava Hot Springs Suites",
          "The Olive Branch Inn Bed & Breakfast",
          "White Buffalo Club",
          "Holiday Lodge",
          "Railway Inn Guest House",
          "Super 8",
          "Relais & Chateaux",
          "Wigwam Motel",
          "Junction City Saloon",
          "Complete Fly Fisher",
          "Best Western Yellowstone Crossing",
          "My Place Hotels",
          "Cabin Creek Inn",
          "Rest Area",
          "Quality Inn",
          "Motel 6",
          "Cottrell Rest Area",
          "Rocker Inn",
          "Days Inn",
          "Bunkhouse Bed & Breakfast",
          "Evergreen Motel",
          "Gardner Country Village",
          "Five Rivers Lodge",
          "Alpine Lodge",
          "Lost River Motel",
          "Big Western Pine Motel",
          "Teton Mountain View Lodge & Rv Park",
          "Moulton Ranch Cabins",
          "Cabin In The Country",
          "Big Sandy Lodge",
          "Western Heritage Inn of Bozeman",
          "South Fork Inn and Grille Restaurant",
          "Lamplighter Cabins & Suites",
          "Budget Inn Express Downtown Helena",
          "The Ranch at the Dearborn",
          "Sunset Motel",
          "Yellowstone Valley Lodge Ascend Hotel Collection",
          "Tumbling Waters Motel",
          "Cobblestone Inn & Suites",
          "Jackson Hole Hideout",
          "Motel 6",
          "Galloup's Slide Inn",
          "The Roosevelt Hotel Yellowstone",
          "Elk Horn Lodge",
          "Clark Fork Guest Ranch",
          "Holiday Inn Express",
          "Beartooth Hideaway Inn & Cabins",
          "Snake River Lodge & Spa",
          "Motel 6",
          "Quality Inn",
          "Sundown Motel",
          "Lehrkind Mansion Bed & Breakfast",
          "Elk View Inn",
          "Grey Cliffs Ranch",
          "Hillview Motel",
          "BobKat Mountain Retreat & Motel",
          "Worldmark by Wyndham",
          "Super 8",
          "Budget Motel",
          "Travelodge",
          "Alpaca Inn",
          "Arco Inn Motel",
          "Alpine Motel Inc",
          "Virginian Rv Park",
          "Holiday Inn Express",
          "Holiday Inn",
          "Silver Gate Lodging",
          "Moose Head Ranch",
          "The Last Best Cabin",
          "Super 8",
          "High Mountain Heli Skiing",
          "Greystone Manor",
          "Carroll Trail Inn",
          "The Hideout At Bear Lake",
          "Sleep Inn",
          "Reel Time Cabin",
          "Rocky Mountain Elk Ranch",
          "Herzberg Hideway",
          "High Country Motel",
          "The Big Yellow House",
          "Wagon Wheel Motel & R V Park",
          "Rodeway Inn",
          "Gordon's Highland Motel",
          "Vagabond Lodge Motel LLC",
          "Geertson Creek Trailrides",
          "Geyser Inn",
          "Guest House Inn",
          "Creekside Lodge",
          "Lava Hot Springs Inn & Spa",
          "Mill Inn",
          "Aman",
          "Holiday Lodge Motel",
          "Holiday Inn Express",
          "Hansen Guest Ranch",
          "Collective Yellowstone",
          "Aspen Owners Association",
          "SpringHill Suites by Marriott",
          "Tlc Inn",
          "Ranchester Western Motel",
          "Motel 6",
          "Montana Trailhead Inn",
          "Econo Inn Lovell",
          "Warden Inn",
          "Anvil Motel",
          "Vacay in Pray",
          "Days Inn",
          "Wingate by Wyndham",
          "Quality Inn",
          "Pinedale Cozy Cabins",
          "TetonTastic Properties",
          "Fort Causeway",
          "Teton Sunrise Inn Bed & Breakfast",
          "Budget Host",
          "Grand Targhee",
          "Jackson Hole Resort Lodging",
          "Yellowstone Big Rock Inn",
          "The Pines At Island Park",
          "Ramada",
          "Ramada",
          "Al's Westward Ho Motel",
          "Hodgens Ryan Mansion",
          "Tepee Motor Lodge",
          "Creekside Lodge Yellowstone",
          "Line Shack",
          "River's Bend Lodge",
          "Super 8",
          "DO Jackson Hole",
          "Horseshoe Bend Motel",
          "All Seasons Inn & Suites",
          "Blue Jay Inn",
          "Best Western by Mammoth Hot Springs",
          "Comfort Inn",
          "Comfort Inn",
          "University Inn Utah State University",
          "Lariat Motel",
          "Super 8",
          "Downtown Realty",
          "Two Rivers Inn",
          "Western Executive Inn",
          "Harbor Village Realty & Rentals",
          "Royal 7 Budget Inn",
          "Bunk House Motel",
          "Super 8",
          "Riversage Billings Inn",
          "Kudar Log Cabins",
          "Fossil Butte Motel",
          "Wagons West Motel",
          "Rankin Motel",
          "4 R Ranch & Cattle",
          "Homewood Suites by Hilton",
          "Lure Me Inn",
          "Buffalo Inn",
          "Antler Inn",
          "Bear Lake Rental Properties",
          "Sassy Moose Inn",
          "Log Cabin Motel",
          "Rainbow Motel",
          "Spruce Inn",
          "Golden Eagle Inn",
          "Yellowstone Park Inn & Suites",
          "Trails End Motel",
          "The Sapphire Motel",
          "Yellowstone Self Catering Lodging",
          "Super 8",
          "Ramada by Wyndham Bozeman",
          "Campfire Lodge Resort",
          "Madison County Rest Area",
          "The Pollard Hotel",
          "Lost Trail",
          "Big Horn Valley Ranch",
          "Trapper Inn",
          "Bozeman Trail Inn",
          "Missouri River Lodge",
          "Bozeman Hotel Ownrs Assoc",
          "avid hotel Billings West an IHG Hotel",
          "Lakeside Lodge",
          "Lakeside Lodge Resort & Marina",
          "Red Lodge Reservations",
          "Super 8",
          "Lions Gate Manor Luxury Inn",
          "The Lewis & Clark Motel",
          "Town House Motor Inn",
          "Gannett Peak Lodge",
          "The Lodge At Eagle Rock",
          "Water's Edge Resort",
          "Hundred Acre Wood Bed & Breakfast Resort",
          "Teton Court Motel",
          "Rest Stop 90W Sheridan",
          "Rocky Mountain Lodge",
          "Beaverhead Lodge",
          "Golden Eagle Inn",
          "Travelodge",
          "Surestay Plus By Best Western Buffalo",
          "Stagecoach Motel",
          "Moyler Venture Group",
          "Super 8",
          "Residence Inn by Marriott",
          "Ledgestone Hotel",
          "Sioux Lodge",
          "The Bunkhouse Hotel",
          "Murray Hotel",
          "Fall River Propane",
          "Travelodge",
          "West Yellowstone Bed and Breakfast",
          "Luton's Teton Cabins",
          "Rusty Parrot Lodge & Spa",
          "Jackson Hole Towncenter",
          "3 Rivers Motel",
          "Bed & No Breakfast Bunkhouse",
          "Best Western Plus Grantree Inn",
          "Ideal Motel & RV Park",
          "River Retreat Lodge",
          "Big Sky Summit Resort",
          "Old Faithful Snow Lodge & Cabins",
          "Yellowstone Village Inn and Suites",
          "Holiday Inn Express",
          "Blue Gables Motel",
          "Heartsix 1",
          "Hernandez Motel",
          "49er Inn & Suites",
          "The Inn at Lander",
          "Stillwater Lodge",
          "AmericInn",
          "Teton Creek Resort",
          "Butte War Bonnet Hotel",
          "The Wildflower Lodge",
          "Cross Roads Inn",
          "Dude Rancher Lodge",
          "Big Ez Lodge",
          "PineCrest Inn",
          "American Alpine Club Grand Teton Climbers' Ranch",
          "CM Ranch",
          "Limelight Hotel",
          "Luxury Properties Jackson Hole",
          "A Li'l Bit of Heaven",
          "River Island House",
          "Yogo Inn",
          "Driftwaters Resort",
          "Lander Mill House",
          "Comfort Suites",
          "Bull Moose Lodge & Saloon",
          "Hampton",
          "Cassidy Inn",
          "Flag's West Motel",
          "Copper King Convention Center Ascend Hotel Collection",
          "Arrowhead Motel",
          "Goosewing Ranch",
          "Diamond D Ranch",
          "Best Western Plus Clocktower Inn",
          "Elkhorn Hot Springs",
          "Rodeway Inn",
          "TA Ranch",
          "Kim's Marina & Resort",
          "Oasis Motel & Rv Park",
          "Toad Hall Manor Bed and Breakfast",
          "Yellowstone Park Hotel",
          "Montana High Country Tours",
          "Burl Inn",
          "Tomahawk Lodge",
          "Travelodge",
          "Malad Summit Southbound I 15 Rest Area",
          "Last Chance Motel",
          "Baymont Inn & Suites",
          "Dryhead Ranch",
          "Bald Mountain Lodge",
          "Big Sky Summit Resort",
          "Preston Ranch Cabins",
          "My Yellowstone Retreat",
          "Yellowstone Basin Inn",
          "Lupine Inn",
          "Hatchet Resort",
          "River Haven Bed & Breakfast",
          "Big Bear Lodge",
          "Alpine Motel",
          "Bozeman Rest Stop",
          "Airport Inn",
          "Castle Rock Inn",
          "Montana's Medicine Lodge Adventures",
          "Wyoming Inn",
          "Fairview Motel",
          "The Duvall Inn",
          "Howlers Inn B&B and Wolf Sanctuary",
          "Baugh Motel Surestay Collection By Best Western",
          "Teton Valley Cabins",
          "Story Pines Inn",
          "Econo Lodge",
          "Golden Stone Inn",
          "Cache Creek Motel",
          "Bozeman Inn",
          "J Bar L Ranch",
          "Boulder Lake Lodge"
         ],
         "lat": [
          44.684131,
          44.488595,
          45.698536,
          43.516754,
          45.195123,
          44.523578,
          44.685014,
          42.082935,
          43.496693,
          44.527468,
          45.753239,
          43.66849,
          46.44853,
          44.106419,
          41.773648,
          45.172399,
          45.317032,
          46.394196,
          45.032754,
          44.499563,
          44.459037,
          43.803172,
          42.353964,
          45.306486,
          43.524453,
          45.174857,
          44.512227,
          42.638136,
          46.394481,
          43.497036,
          44.461902,
          44.52694,
          43.641842,
          44.071052,
          43.460528,
          44.806613,
          43.499707,
          43.477094,
          44.525745,
          43.682629,
          45.800725,
          47.046204,
          43.72966,
          46.00839,
          45.837754,
          43.546603,
          43.483172,
          43.024362,
          44.518006,
          45.254092,
          45.678968,
          43.496004,
          43.504634,
          44.362194,
          45.418871,
          45.035227,
          43.533177,
          44.672003,
          42.832976,
          46.130013,
          44.836941,
          43.68223,
          44.662428,
          45.678533,
          45.666738,
          44.502406,
          43.494669,
          43.491995,
          45.178296,
          45.33969,
          45.296531,
          41.762729,
          43.396451,
          43.164431,
          42.61898,
          45.677162,
          46.617534,
          44.976501,
          42.997355,
          42.619424,
          45.701346,
          44.57863,
          45.350703,
          42.557114,
          45.216695,
          47.057685,
          44.353797,
          45.702292,
          44.678717,
          42.65379,
          45.604797,
          45.736214,
          45.981825,
          45.43825,
          43.503538,
          46.590212,
          43.684919,
          45.614631,
          45.343045,
          44.526501,
          45.643716,
          43.641359,
          44.510008,
          43.45386,
          43.30318,
          43.474235,
          44.033717,
          45.646236,
          45.178278,
          44.277408,
          44.821856,
          45.179565,
          44.526493,
          43.533694,
          45.209791,
          45.260475,
          46.629566,
          45.79617,
          44.513573,
          42.889447,
          44.567376,
          44.444836,
          46.591546,
          45.633575,
          45.780061,
          44.52584,
          43.024062,
          47.060145,
          45.870051,
          44.071095,
          42.492596,
          45.748736,
          44.657342,
          44.79778,
          44.515781,
          42.867201,
          42.880803,
          44.155725,
          45.753538,
          45.753413,
          46.587671,
          45.746354,
          44.516273,
          41.733491,
          45.341948,
          41.739865,
          46.334086,
          42.835743,
          45.226508,
          46.591514,
          44.502212,
          43.503597,
          44.825029,
          43.457664,
          44.662594,
          42.901846,
          45.343065,
          46.17511,
          45.746508,
          43.479729,
          45.459468,
          44.754678,
          42.866841,
          45.779886,
          42.613908,
          43.534698,
          43.497669,
          41.907358,
          43.299466,
          44.654847,
          46.590978,
          45.826269,
          44.65893,
          44.659009,
          44.768069,
          45.035316,
          44.506049,
          46.650837,
          45.03146,
          45.788509,
          46.192159,
          45.752724,
          44.020235,
          44.496361,
          45.679166,
          43.739861,
          47.139457,
          45.031065,
          42.164469,
          44.500803,
          44.35494,
          45.020174,
          45.820211,
          44.518199,
          43.503614,
          43.527976,
          45.895249,
          45.308936,
          43.636311,
          45.34067,
          45.754487,
          43.480565,
          42.860898,
          43.593981,
          46.628864,
          46.548475,
          42.900336,
          44.795508,
          45.030754,
          42.61904,
          45.66531,
          43.374701,
          44.51344,
          44.663565,
          44.661587,
          45.6806,
          43.9139,
          45.678912,
          44.754582,
          44.512301,
          43.481273,
          45.172963,
          46.618334,
          46.240216,
          43.474653,
          45.32394,
          44.471161,
          45.748463,
          45.743458,
          42.655031,
          45.79756,
          43.664446,
          43.473645,
          45.031418,
          41.731681,
          45.419031,
          43.525749,
          43.822124,
          45.802991,
          45.905362,
          45.803485,
          44.489316,
          44.663445,
          41.734536,
          43.477132,
          44.068005,
          44.8066,
          45.735847,
          43.824703,
          42.897044,
          42.790953,
          46.405752,
          44.657391,
          41.825765,
          45.667085,
          43.50073,
          44.684829,
          42.972537,
          43.723246,
          44.976469,
          45.422679,
          46.236953,
          46.4109,
          43.782724,
          42.088398,
          43.482573,
          41.945756,
          44.570966,
          43.047983,
          44.071588,
          45.680571,
          44.529015,
          44.450413,
          45.005928,
          44.774632,
          42.861006,
          45.753371,
          42.317225,
          43.834651,
          45.830712,
          43.513606,
          44.754795,
          45.618524,
          45.754281,
          43.670327,
          44.033682,
          46.591576,
          45.285591,
          45.532489,
          43.50207,
          42.867798,
          44.80657,
          43.751933,
          43.486325,
          46.591839,
          43.476503,
          42.965718,
          46.766789,
          45.482974,
          44.478783,
          45.226645,
          45.693685,
          42.619881,
          46.779151,
          46.436427,
          45.753623,
          46.333986,
          42.867516,
          44.797762,
          42.619427,
          43.801476,
          45.021073,
          45.731146,
          45.288675,
          44.476757,
          41.735661,
          43.484068,
          44.771568,
          45.889489,
          45.508653,
          45.034466,
          45.220102,
          45.64087,
          42.619432,
          45.029989,
          44.445416,
          45.023319,
          44.474759,
          47.070071,
          43.478998,
          43.508477,
          42.309073,
          45.267282,
          44.277396,
          43.426683,
          43.639277,
          46.588462,
          43.650145,
          45.744014,
          44.664079,
          44.658961,
          44.662013,
          44.664939,
          45.9976,
          42.487684,
          45.598054,
          42.810976,
          44.825004,
          44.660773,
          45.216718,
          43.175407,
          43.519001,
          43.023867,
          42.552955,
          42.92146,
          45.338626,
          44.49578,
          45.679073,
          46.332534,
          45.632347,
          44.811474,
          44.516307,
          44.176586,
          44.661977,
          44.752434,
          44.520552,
          45.032148,
          43.468864,
          41.723239,
          43.473632,
          41.736031,
          45.520447,
          46.620846,
          41.962433,
          45.640565,
          45.059933,
          43.656893,
          42.899536,
          43.756205,
          44.976471,
          46.129053,
          45.783687,
          45.834405,
          46.587651,
          43.478449,
          45.71598,
          45.317865,
          45.156366,
          44.942982,
          43.49802,
          45.413031,
          45.226047,
          41.716555,
          43.48284,
          45.626522,
          43.712322,
          42.65497,
          42.185851,
          42.866132,
          42.899148,
          45.48671,
          44.522317,
          45.754092,
          45.658717,
          45.841642,
          42.716826,
          41.772744,
          44.513457,
          44.897679,
          45.679802,
          45.997357,
          42.701704,
          45.791984,
          46.002512,
          45.565831,
          44.779177,
          45.085283,
          44.804106,
          45.032697,
          46.410953,
          43.496437,
          43.47426,
          45.79234,
          47.136584,
          44.514816,
          43.534993,
          43.027372,
          42.900087,
          45.019279,
          43.503234,
          46.273571,
          46.617745,
          43.504398,
          44.466598,
          45.777762,
          43.638155,
          42.683373,
          43.478622,
          44.340474,
          45.76138,
          43.316321,
          44.35005,
          44.503364,
          43.650906,
          42.833947,
          45.698498,
          45.413041,
          44.617474,
          43.47885,
          44.732562,
          42.920158,
          45.754812,
          43.629747,
          43.476901,
          44.658908,
          42.913989,
          43.460543,
          45.876794,
          45.750458,
          45.035788,
          43.471058,
          42.192158,
          43.474171,
          45.781419,
          45.114494,
          44.660191,
          44.01687,
          44.805872,
          44.976473,
          45.769297,
          44.876568,
          42.623615,
          43.485103,
          44.898941,
          44.36583,
          44.554996,
          44.780798,
          44.506306,
          45.639183,
          45.714389,
          45.180753,
          44.659018,
          46.013611,
          45.006493,
          43.646456,
          41.905858,
          44.522323,
          47.067598,
          45.764065,
          44.456523,
          41.731101,
          45.693683,
          44.441786,
          44.538919,
          45.75194,
          46.092611,
          42.494119,
          45.695009,
          44.525724,
          46.629571,
          43.759352,
          45.680765,
          44.661704,
          45.070401,
          43.649679,
          43.673512,
          45.440927,
          45.646667,
          42.835751,
          43.23533,
          44.661525,
          45.021082,
          44.492263,
          45.344363,
          44.775033,
          43.480703,
          44.683232,
          43.475092,
          43.712064,
          45.831927,
          43.475515,
          43.469205,
          45.612533,
          43.040774,
          45.747356,
          44.843439,
          44.52698,
          45.718187,
          43.483721,
          44.816315,
          44.655712,
          43.385487,
          45.819428,
          41.935743,
          44.354723,
          44.521998,
          44.778162,
          42.806304,
          43.024916,
          45.593588,
          44.527472,
          42.655182,
          45.102969,
          45.753598,
          43.474231,
          42.102876,
          44.797757,
          43.481601,
          45.680056,
          45.125092,
          43.528761,
          44.806218,
          44.106311,
          45.454065,
          45.663334,
          43.476086,
          44.514476,
          43.586013,
          43.503315,
          45.734567,
          44.662017,
          43.965297,
          43.603389,
          45.301376,
          45.406505,
          45.295032,
          43.586073,
          45.790421,
          45.168702,
          45.393128,
          45.036855,
          42.619872,
          43.68044,
          44.368824,
          43.586069,
          45.698606,
          45.18387,
          42.832618,
          45.713034,
          44.661553,
          45.203125,
          42.951379,
          43.586581,
          46.19964,
          44.172253,
          43.742478,
          46.01298,
          43.624837,
          45.679449,
          45.975521,
          42.857533,
          43.588168,
          42.006821,
          44.526711,
          46.547652,
          45.287571,
          45.034248,
          41.790018,
          43.506071,
          45.719603,
          43.5899,
          45.645871,
          42.731977,
          45.030681,
          44.659432,
          43.480196,
          45.679096,
          46.332211,
          44.804114,
          44.460484,
          46.397617,
          41.740406,
          46.561636,
          43.47897,
          46.66927,
          43.177301,
          45.226496,
          44.658966,
          44.491134,
          45.679804,
          42.880257,
          43.025142,
          46.589488,
          44.660993,
          44.664075,
          44.526974,
          45.783549,
          45.35515,
          43.02607,
          44.660695,
          45.781247,
          43.470781,
          45.666729,
          46.548479,
          41.905871,
          43.825654,
          46.447331,
          45.450803,
          45.260035,
          44.454721,
          43.262325,
          42.108557,
          42.726257,
          46.579984,
          44.515494,
          43.472391,
          46.265026,
          44.513601,
          45.985329,
          43.573462,
          45.648228,
          45.476902,
          45.54446,
          46.323653,
          42.866852,
          46.124891,
          44.506222,
          43.491006,
          45.29335,
          46.332219,
          44.661217,
          45.037443,
          44.703523,
          45.289652,
          44.658879,
          43.563836,
          42.865982,
          44.656968,
          45.019756,
          43.500005,
          45.315398,
          44.519937,
          41.931592,
          45.694897,
          41.707608,
          45.035703,
          44.021727,
          45.349034,
          44.348055,
          43.479086,
          43.587893,
          43.797453,
          41.946368,
          45.78198,
          46.126783,
          44.663737,
          43.508887,
          43.638556,
          43.501972,
          44.526401,
          43.675272,
          42.790064,
          41.73013,
          45.742761,
          44.454508,
          44.790026,
          43.49288,
          42.865911,
          41.920796,
          42.867769,
          44.751067,
          45.321545,
          45.338642,
          44.781339,
          43.646469,
          45.696243,
          43.507009,
          43.040152,
          43.679469,
          44.022709,
          44.657384,
          45.828886,
          43.478884,
          46.403874,
          43.483412,
          43.468697,
          43.824695,
          44.0987,
          45.259655,
          43.586699,
          44.354862,
          44.842555,
          45.338952,
          45.030274,
          42.577617,
          42.834322,
          45.259291,
          43.58667,
          44.633245,
          45.795983,
          44.797735,
          45.87003,
          45.81548,
          44.079862,
          43.492552,
          44.663506,
          44.389601,
          45.178294,
          43.515407,
          44.466552,
          42.876958,
          43.535388,
          44.51648,
          45.752171,
          42.74664,
          43.728915,
          44.514473,
          44.348648,
          44.654811,
          43.480494,
          45.69785,
          44.353396,
          45.985378,
          45.64276,
          43.641337,
          43.486222,
          44.779934,
          44.512713,
          43.638718,
          43.196562,
          45.78884,
          44.660869,
          46.002527,
          42.111271,
          43.528038,
          42.856245,
          43.517558,
          45.699646,
          44.526539,
          41.947703,
          44.47349,
          44.662804,
          45.68492,
          42.619056,
          47.099047,
          44.659136,
          45.600168,
          46.590273,
          46.760708,
          45.830234,
          46.855429,
          43.599863,
          45.541067,
          43.478198,
          46.540262,
          43.610252,
          42.913902,
          42.868031,
          44.220446,
          45.891624,
          45.684946,
          44.792949,
          43.22419,
          43.479824,
          45.782533,
          42.866096,
          45.753156,
          45.708949,
          45.680927,
          43.610272,
          43.685952,
          42.899178,
          43.475453,
          44.28753,
          43.463074,
          44.661874,
          42.729114,
          45.986127,
          46.038838,
          42.618599,
          45.752689,
          45.069207,
          44.661722,
          45.035123,
          46.332892,
          45.567595,
          45.735549,
          45.746808,
          45.096163,
          42.086907,
          42.857714,
          45.025787,
          44.664204,
          44.056442,
          44.008849,
          45.285632,
          42.877942,
          44.52261,
          45.75211,
          41.962833,
          45.735783,
          44.662044,
          45.07168,
          45.367888,
          42.65391,
          44.819328,
          45.06922,
          44.526316,
          46.335631,
          45.647155,
          45.742772,
          44.62579,
          45.983734,
          45.038747,
          45.707227,
          46.665912,
          45.190147,
          45.285593,
          45.231995,
          45.690727,
          43.498507,
          44.660348,
          45.186062,
          45.982019,
          44.520325,
          45.262615,
          45.748432,
          45.146761,
          42.112333,
          44.381342,
          42.836842,
          43.801085,
          45.64589,
          41.943559,
          45.863296,
          45.260048,
          46.591806,
          46.457685,
          45.519533,
          44.665362,
          42.913893,
          42.861869,
          45.173321,
          42.900251,
          46.933812,
          44.6607,
          45.780066,
          45.28488,
          44.778033,
          43.505224,
          46.608219,
          41.94769,
          44.655735,
          45.700867,
          43.496361,
          47.006035,
          47.056194,
          44.663483,
          45.713271,
          45.588902,
          43.753676,
          45.173288,
          45.616096,
          44.661967,
          43.481119,
          45.34944,
          46.006139,
          44.669006,
          45.153054,
          45.776856,
          45.221222,
          45.643718,
          44.522269,
          46.596878,
          44.362103,
          45.752746,
          44.754341,
          45.452854,
          44.524286,
          44.50015,
          46.129137,
          43.640093,
          42.878468,
          45.829693,
          43.746449,
          42.536815,
          42.78951,
          45.788637,
          45.223317,
          42.102965,
          46.605526,
          44.277405,
          43.044693,
          43.587246,
          42.730329,
          45.18386,
          46.015385,
          46.587952,
          44.722814,
          46.031816,
          41.945781,
          43.200443,
          45.648237,
          44.837359,
          44.655709,
          45.666503,
          44.516741,
          44.462246,
          43.722556,
          44.679625,
          43.478908,
          45.696823,
          44.806406,
          44.660755,
          43.642734,
          43.556489,
          43.818361,
          43.554376,
          45.035264,
          43.034634,
          43.682228,
          44.106335,
          42.619274,
          44.394252,
          42.311801,
          46.592209,
          46.57131,
          44.715485,
          43.74742,
          43.533915,
          45.69339,
          44.380916,
          45.747415,
          45.699547,
          45.873011,
          45.771263,
          45.03401,
          46.437744,
          45.986254,
          44.824538,
          46.590263,
          42.100381,
          41.930221,
          45.217748,
          45.803465,
          43.586233,
          43.476748,
          42.655057,
          43.656909,
          43.028593,
          45.869447,
          44.35338,
          47.06164,
          43.819008,
          45.033702,
          43.668526,
          43.720914,
          44.836323,
          45.744039,
          45.01994,
          44.657305,
          43.496671,
          44.522196,
          46.588505,
          45.020354,
          43.471498,
          42.866104,
          47.06381,
          45.753197,
          44.482493,
          41.793053,
          45.659707,
          46.457639,
          44.516648,
          42.341914,
          43.479949,
          43.479276,
          45.178469,
          44.822613,
          43.600114,
          44.360814,
          46.592692,
          45.114444,
          42.862883,
          44.772336,
          45.785779,
          45.617372,
          41.731141,
          43.809829,
          42.619421,
          45.03526,
          45.646669,
          44.514278,
          45.72512,
          43.023017,
          43.482906,
          45.149007,
          41.959944,
          45.175421,
          44.66902,
          43.473022,
          44.456203,
          45.622091,
          42.494516,
          42.32088,
          42.618794,
          45.677137,
          43.481602,
          44.789755,
          45.362158,
          43.467142,
          46.265009,
          44.524065,
          46.12946,
          45.78727,
          45.665817,
          45.7177,
          42.915366,
          45.337983,
          46.608118,
          43.680386,
          42.504988,
          46.008314,
          46.590675,
          45.307444,
          44.662421,
          42.708193,
          45.36572,
          45.197679,
          43.634273,
          44.662037,
          43.809901,
          43.65835,
          45.857132,
          42.682449,
          45.678557,
          43.40221,
          46.598003,
          46.592231,
          47.136532,
          43.193598,
          45.441004,
          42.619438,
          43.163051,
          43.490368,
          45.699497,
          44.826476,
          45.037214,
          45.019726,
          44.897675,
          45.986018,
          45.173816,
          43.588285,
          45.750726,
          45.193766,
          47.151493,
          45.687428,
          44.753931,
          45.687947,
          42.790944,
          47.1303,
          41.962536,
          44.687136,
          46.001442,
          42.91418,
          42.618707,
          43.632479,
          45.019767,
          43.472855,
          41.773023,
          43.470901,
          45.007236,
          43.785694,
          45.443029,
          43.499346,
          43.585185,
          42.617856,
          46.681983,
          41.935987,
          43.469109,
          47.135155,
          43.813961,
          43.98307,
          45.018941,
          45.521539,
          43.917277,
          44.51674,
          46.547702,
          46.12576,
          45.139557,
          44.66175,
          45.226013,
          44.518153,
          42.620092,
          44.774111,
          43.504069,
          44.510199,
          45.773551,
          43.43833,
          45.295202,
          45.199156,
          41.720698,
          45.699259,
          44.908572,
          43.497927,
          45.748459,
          44.836956,
          46.394189,
          43.482082,
          45.379888,
          44.773268,
          46.605512,
          42.899369,
          42.867401,
          43.571724,
          44.847248,
          43.814692,
          45.653581,
          43.783081,
          43.585822,
          45.036441,
          44.444765,
          46.590081,
          45.985451,
          44.659012,
          46.01336,
          44.658905,
          44.454685,
          43.573114,
          47.173868,
          43.036297,
          43.472684,
          44.838094,
          46.541949,
          42.619084,
          45.111403,
          44.805604,
          45.984612,
          41.742789,
          45.735688,
          45.020717,
          45.679063,
          43.650077,
          45.755718,
          41.932042,
          45.682641,
          43.727046,
          42.321241,
          45.787717,
          43.482892,
          41.787508,
          45.181235,
          44.069671,
          46.49827,
          43.482898,
          45.341843,
          44.354698,
          43.478177,
          41.94697,
          43.526787,
          44.071533,
          43.650894,
          43.523958,
          43.479914,
          44.663486,
          47.070732,
          45.68257,
          44.662973,
          41.715835,
          45.699515,
          44.86952,
          44.90034,
          45.187089,
          42.623597,
          45.400626,
          43.482679,
          44.681044,
          47.061764,
          45.679554,
          45.736119,
          42.899173,
          42.871257,
          45.187241,
          45.764268,
          42.610589,
          45.678883,
          44.017498,
          42.867325,
          47.134964,
          41.94514,
          45.450804,
          42.867826,
          44.804813,
          43.544927,
          45.220091,
          43.476175,
          44.754531,
          44.353429,
          43.483053,
          44.797772,
          45.644621,
          45.679717,
          45.756037,
          45.293197,
          45.368357,
          45.661523,
          43.063884,
          42.830013,
          44.68102,
          43.827299,
          43.481634,
          43.47986,
          43.162853,
          45.520899,
          45.694351,
          46.450875,
          43.396386,
          45.283513,
          44.456788,
          45.037969,
          42.879254,
          44.355216,
          43.848484,
          44.17652,
          43.477815,
          42.83007,
          45.519477,
          43.527921,
          43.761779,
          45.985353,
          43.534734,
          44.355173,
          45.784893,
          45.215815,
          43.503619,
          43.704699,
          43.492688,
          43.51872,
          43.478256,
          45.784964,
          45.453093,
          47.066938,
          44.847338,
          42.832207,
          45.715089,
          43.162402,
          42.867732,
          43.711235,
          42.429149,
          45.954325,
          44.34797,
          43.556152,
          43.853082,
          45.783796,
          45.456933,
          44.354435,
          44.157688,
          46.652377,
          44.15958,
          45.969595,
          44.656805,
          45.36998,
          44.524241,
          46.591883,
          45.921137,
          42.352373,
          46.559794,
          45.75268,
          44.834735,
          43.68494,
          45.285595,
          42.902876,
          44.649433,
          45.08258,
          45.179559,
          43.824633,
          45.536265,
          45.023296,
          44.660234,
          45.712188,
          43.514342,
          45.464643,
          44.941237,
          42.264792,
          41.785753,
          47.136556,
          45.702295,
          41.728391,
          43.723691,
          44.57621,
          41.724844,
          44.661232,
          43.484628,
          45.692549,
          44.643884,
          42.8551
         ],
         "legendgroup": "",
         "lon": [
          -111.246236,
          -108.05045,
          -111.048479,
          -114.31356,
          -111.236724,
          -109.057613,
          -110.436273,
          -110.947113,
          -112.044398,
          -109.05928,
          -108.541016,
          -109.946189,
          -108.541262,
          -111.345601,
          -110.544692,
          -109.254753,
          -110.796743,
          -112.735118,
          -110.708729,
          -108.054805,
          -109.519054,
          -111.812055,
          -112.025258,
          -111.966249,
          -114.319678,
          -113.909966,
          -114.221051,
          -110.961122,
          -112.734325,
          -112.05986,
          -109.492609,
          -109.054749,
          -111.701911,
          -111.453956,
          -111.425264,
          -106.946459,
          -112.045458,
          -110.764648,
          -109.054048,
          -114.366307,
          -108.835483,
          -112.067739,
          -111.111645,
          -112.612274,
          -109.947417,
          -109.662335,
          -110.762752,
          -108.397914,
          -109.071462,
          -111.25303,
          -111.05526,
          -112.054928,
          -110.847338,
          -111.404479,
          -107.784604,
          -110.715534,
          -109.632351,
          -111.6317,
          -108.723782,
          -112.955255,
          -108.381505,
          -114.361722,
          -111.098996,
          -111.020459,
          -110.552491,
          -109.963812,
          -112.052187,
          -112.046612,
          -113.900657,
          -111.711871,
          -108.91479,
          -111.835889,
          -111.258901,
          -111.018551,
          -112.00696,
          -111.032606,
          -111.995783,
          -110.701255,
          -111.011703,
          -112.009843,
          -111.058968,
          -106.90546,
          -111.733153,
          -110.111808,
          -112.637563,
          -109.438465,
          -106.693912,
          -110.832122,
          -113.355477,
          -112.194427,
          -110.40135,
          -108.606492,
          -112.506285,
          -112.185236,
          -112.020379,
          -112.009819,
          -114.40136,
          -113.452448,
          -110.757491,
          -109.058889,
          -110.575568,
          -108.211528,
          -108.085101,
          -111.337492,
          -112.26889,
          -110.778536,
          -107.447977,
          -110.574554,
          -109.247784,
          -106.951587,
          -106.955491,
          -109.24643,
          -109.058884,
          -109.637303,
          -106.700822,
          -111.305861,
          -112.081657,
          -108.517417,
          -111.312531,
          -112.374504,
          -106.561288,
          -109.186436,
          -112.002688,
          -112.684175,
          -108.513351,
          -109.064444,
          -108.398154,
          -109.433214,
          -112.093459,
          -111.453616,
          -107.820044,
          -108.55084,
          -111.104669,
          -106.954904,
          -109.084153,
          -109.858742,
          -112.423188,
          -108.869429,
          -108.538716,
          -108.740233,
          -112.039522,
          -108.55549,
          -109.074778,
          -111.834529,
          -112.12072,
          -111.835068,
          -113.299319,
          -108.74136,
          -112.638231,
          -112.003823,
          -108.055732,
          -112.022635,
          -106.957241,
          -114.258445,
          -111.102294,
          -112.433611,
          -110.757511,
          -113.255102,
          -108.555503,
          -110.763328,
          -107.726387,
          -108.74879,
          -109.865735,
          -108.539117,
          -113.14581,
          -109.639559,
          -112.044243,
          -111.379745,
          -110.671239,
          -111.100873,
          -112.037141,
          -109.972366,
          -111.10301,
          -111.110774,
          -107.528836,
          -110.711443,
          -114.225214,
          -111.970731,
          -110.706683,
          -108.50922,
          -113.262909,
          -108.55098,
          -107.926996,
          -109.091653,
          -111.039458,
          -110.586216,
          -111.890734,
          -110.707123,
          -111.837353,
          -108.05579,
          -106.689926,
          -109.933094,
          -108.471642,
          -109.071367,
          -112.022626,
          -109.621007,
          -111.551816,
          -107.915228,
          -108.222565,
          -111.71371,
          -108.540074,
          -110.766811,
          -112.437303,
          -110.796663,
          -112.081599,
          -110.90651,
          -112.43228,
          -111.134333,
          -110.705103,
          -112.009896,
          -108.763118,
          -111.244508,
          -109.102987,
          -111.102315,
          -111.110006,
          -111.03006,
          -113.614944,
          -111.03506,
          -108.749324,
          -114.224626,
          -110.767034,
          -113.889174,
          -112.006141,
          -112.117124,
          -110.760427,
          -112.10677,
          -111.448998,
          -108.554869,
          -107.612725,
          -111.604503,
          -113.947825,
          -111.092359,
          -110.783764,
          -110.705898,
          -111.830651,
          -110.654153,
          -114.320755,
          -111.794766,
          -108.477229,
          -112.380735,
          -108.479409,
          -108.05559,
          -111.11025,
          -111.83177,
          -112.057745,
          -111.446061,
          -106.946428,
          -108.608397,
          -111.8091,
          -112.432592,
          -112.829417,
          -109.73644,
          -111.102995,
          -111.32317,
          -111.160925,
          -109.584541,
          -111.244349,
          -109.750812,
          -111.093108,
          -110.701281,
          -111.119053,
          -112.118656,
          -112.727785,
          -110.724723,
          -111.871803,
          -112.056524,
          -111.392877,
          -111.338443,
          -108.381506,
          -111.448227,
          -111.03009,
          -109.063472,
          -111.475386,
          -109.991068,
          -106.943095,
          -112.437613,
          -108.5641,
          -111.306061,
          -111.773996,
          -109.960705,
          -114.311369,
          -108.747204,
          -113.447258,
          -108.533665,
          -114.368,
          -107.446226,
          -112.002652,
          -111.40132,
          -112.708416,
          -112.049381,
          -109.862819,
          -106.940477,
          -111.850429,
          -110.762715,
          -111.985541,
          -111.991477,
          -111.024667,
          -110.814378,
          -108.976029,
          -109.335386,
          -112.627998,
          -111.045085,
          -112.0091,
          -111.796315,
          -109.827538,
          -108.593479,
          -113.295924,
          -109.876805,
          -106.954902,
          -112.010026,
          -111.809269,
          -109.930343,
          -107.621121,
          -111.396762,
          -109.336862,
          -111.835209,
          -110.762684,
          -111.524524,
          -111.552766,
          -109.449139,
          -110.70449,
          -112.64046,
          -110.585974,
          -112.010015,
          -110.703671,
          -111.356488,
          -109.879246,
          -109.410715,
          -109.41974,
          -110.752873,
          -111.957736,
          -111.707909,
          -111.292183,
          -106.951592,
          -110.814023,
          -108.219506,
          -112.034519,
          -108.200661,
          -107.609952,
          -111.100381,
          -111.101696,
          -111.09788,
          -111.099376,
          -112.540767,
          -108.826514,
          -109.064821,
          -108.743996,
          -106.957216,
          -111.104574,
          -112.637545,
          -111.00804,
          -114.314461,
          -108.381105,
          -110.110248,
          -111.003066,
          -110.764422,
          -109.935305,
          -111.023094,
          -113.294464,
          -108.926192,
          -106.956275,
          -109.083161,
          -106.698434,
          -111.102979,
          -108.75644,
          -109.073614,
          -110.682641,
          -110.791323,
          -111.834229,
          -110.755651,
          -111.8345,
          -109.443022,
          -112.014171,
          -111.401582,
          -110.731634,
          -111.19042,
          -110.71074,
          -112.432789,
          -111.025686,
          -110.701274,
          -112.954085,
          -108.502139,
          -109.954435,
          -112.039446,
          -111.494671,
          -111.067352,
          -110.701928,
          -113.844277,
          -109.559834,
          -112.047058,
          -113.116653,
          -112.639136,
          -111.836386,
          -110.765321,
          -110.40226,
          -106.638855,
          -111.616159,
          -112.245818,
          -109.881655,
          -109.825248,
          -109.580367,
          -111.324061,
          -108.5374,
          -110.563952,
          -110.991684,
          -110.93247,
          -110.550424,
          -109.103006,
          -109.110173,
          -111.044462,
          -110.660014,
          -110.932617,
          -108.513024,
          -112.988641,
          -111.197662,
          -111.180275,
          -110.774872,
          -111.561561,
          -110.705011,
          -112.728095,
          -112.044704,
          -110.760344,
          -108.516551,
          -109.351727,
          -109.101499,
          -109.639731,
          -108.380167,
          -112.43494,
          -109.934568,
          -112.050525,
          -113.506996,
          -112.016983,
          -112.038338,
          -109.484268,
          -108.513736,
          -108.217321,
          -110.914473,
          -110.761665,
          -106.634431,
          -111.18594,
          -113.946332,
          -106.698655,
          -114.22399,
          -108.200369,
          -108.736595,
          -111.045491,
          -113.116618,
          -111.377266,
          -110.765522,
          -110.486309,
          -111.002196,
          -108.561997,
          -108.220369,
          -111.991442,
          -111.102673,
          -112.470819,
          -111.425266,
          -112.102359,
          -108.551416,
          -110.711449,
          -110.789647,
          -112.246911,
          -110.789751,
          -111.186142,
          -109.298875,
          -111.112998,
          -107.936346,
          -111.24114,
          -110.701302,
          -108.490065,
          -113.972059,
          -112.033299,
          -110.763354,
          -109.167809,
          -111.396612,
          -110.395742,
          -107.478069,
          -114.231157,
          -109.261142,
          -111.06747,
          -109.247107,
          -111.104885,
          -112.533345,
          -109.991615,
          -108.212294,
          -111.375849,
          -111.324052,
          -109.428127,
          -111.187599,
          -109.791714,
          -111.834276,
          -111.045078,
          -110.718531,
          -107.770856,
          -108.578878,
          -112.808268,
          -108.732432,
          -111.047717,
          -109.056758,
          -112.081622,
          -111.897809,
          -111.036104,
          -111.100067,
          -110.634532,
          -108.212087,
          -114.367791,
          -110.631164,
          -110.57256,
          -108.741369,
          -108.117951,
          -111.104417,
          -109.930344,
          -108.055945,
          -107.86384,
          -106.938522,
          -110.763347,
          -113.361823,
          -110.759164,
          -106.638825,
          -108.472011,
          -110.766701,
          -110.784653,
          -111.112561,
          -108.381206,
          -108.554332,
          -111.302691,
          -109.05449,
          -111.063912,
          -112.046974,
          -106.955804,
          -111.103476,
          -111.332023,
          -108.292277,
          -111.394185,
          -106.677118,
          -111.326127,
          -106.938313,
          -112.835581,
          -112.41115,
          -111.198596,
          -109.059307,
          -111.596454,
          -108.994752,
          -108.593461,
          -110.787954,
          -110.898349,
          -106.9549,
          -110.766701,
          -111.038013,
          -109.296751,
          -110.846138,
          -106.938564,
          -110.667608,
          -112.197065,
          -110.115855,
          -112.051055,
          -109.09536,
          -110.829999,
          -110.77134,
          -108.603916,
          -111.099052,
          -111.683258,
          -111.110837,
          -111.405593,
          -113.996032,
          -111.42159,
          -110.828365,
          -108.489393,
          -113.891305,
          -109.591728,
          -110.716284,
          -112.010747,
          -111.90842,
          -111.401817,
          -110.829891,
          -111.050403,
          -109.246678,
          -108.725748,
          -111.068711,
          -111.104403,
          -111.679274,
          -111.012602,
          -110.828848,
          -112.095066,
          -112.227321,
          -111.109968,
          -112.537298,
          -109.845607,
          -111.020117,
          -112.508869,
          -110.912399,
          -110.829016,
          -111.409839,
          -109.063651,
          -110.905618,
          -111.400095,
          -110.709048,
          -110.537845,
          -112.052918,
          -109.907965,
          -110.827149,
          -110.57389,
          -110.931458,
          -110.705879,
          -111.112843,
          -110.757701,
          -111.039372,
          -113.292534,
          -106.956214,
          -110.828154,
          -112.734214,
          -111.803383,
          -110.511271,
          -110.76875,
          -113.150512,
          -112.359789,
          -112.628547,
          -111.101669,
          -114.312415,
          -111.044424,
          -112.420683,
          -108.388751,
          -112.001948,
          -111.107682,
          -111.102695,
          -109.054516,
          -108.500888,
          -110.7272,
          -108.387606,
          -111.097644,
          -108.53136,
          -110.790129,
          -110.551849,
          -110.906501,
          -111.375818,
          -111.790549,
          -108.541602,
          -113.990506,
          -111.368759,
          -109.837206,
          -112.300226,
          -111.26572,
          -110.93299,
          -112.048803,
          -109.100599,
          -110.753849,
          -113.508248,
          -109.041137,
          -112.503685,
          -111.109719,
          -110.571795,
          -110.720549,
          -112.331237,
          -111.523844,
          -109.865709,
          -112.928501,
          -114.232746,
          -112.040292,
          -111.947202,
          -113.292544,
          -111.103899,
          -110.715858,
          -110.596428,
          -111.390827,
          -111.09818,
          -111.058822,
          -109.872113,
          -111.099968,
          -109.934064,
          -112.045895,
          -107.940412,
          -109.054472,
          -111.404969,
          -111.047824,
          -111.817219,
          -110.71446,
          -107.955576,
          -111.724495,
          -106.707148,
          -110.76785,
          -110.82716,
          -111.818551,
          -111.395191,
          -108.505368,
          -112.930605,
          -111.110884,
          -111.980225,
          -113.302856,
          -112.047622,
          -109.066986,
          -114.363744,
          -112.291384,
          -111.833828,
          -107.612697,
          -109.804338,
          -107.53041,
          -112.046018,
          -109.866983,
          -111.457788,
          -109.860184,
          -108.759006,
          -110.70593,
          -110.764385,
          -106.942941,
          -108.212271,
          -111.049125,
          -110.757755,
          -108.381114,
          -114.367654,
          -107.954639,
          -111.101507,
          -110.881585,
          -110.756572,
          -112.735586,
          -110.765332,
          -110.791744,
          -111.809082,
          -108.989969,
          -111.31182,
          -110.830011,
          -106.68922,
          -111.300629,
          -110.691759,
          -110.704683,
          -111.730763,
          -112.886101,
          -111.310685,
          -110.828971,
          -112.59274,
          -108.516975,
          -106.954912,
          -112.099817,
          -108.410964,
          -111.454854,
          -109.60082,
          -111.107281,
          -110.555359,
          -113.90069,
          -114.306548,
          -109.484793,
          -112.419332,
          -109.640784,
          -109.052773,
          -108.565694,
          -109.720688,
          -111.868021,
          -109.041449,
          -106.708829,
          -111.100906,
          -110.761006,
          -111.044153,
          -106.688833,
          -112.505969,
          -110.572516,
          -108.211553,
          -112.057937,
          -106.937813,
          -109.105316,
          -111.074699,
          -112.363696,
          -108.492841,
          -111.109663,
          -112.988669,
          -111.389377,
          -114.32021,
          -112.431979,
          -109.591161,
          -111.06234,
          -109.055814,
          -111.400447,
          -109.380353,
          -111.102321,
          -111.045708,
          -112.008045,
          -110.836615,
          -111.103684,
          -110.572392,
          -112.001402,
          -110.741719,
          -109.950099,
          -110.266172,
          -111.115992,
          -112.330667,
          -110.769047,
          -111.949052,
          -111.108659,
          -112.470846,
          -112.441995,
          -109.546927,
          -111.554771,
          -111.045679,
          -106.96023,
          -110.023227,
          -110.760192,
          -108.503835,
          -109.874085,
          -108.543807,
          -109.541563,
          -111.037487,
          -111.108715,
          -114.366796,
          -109.825229,
          -111.981897,
          -111.456579,
          -110.762549,
          -111.104593,
          -110.932262,
          -112.507285,
          -112.815818,
          -112.008575,
          -108.551875,
          -110.765842,
          -111.106912,
          -110.680938,
          -113.296335,
          -108.81408,
          -108.607159,
          -108.560339,
          -113.732618,
          -110.947485,
          -110.991142,
          -109.077975,
          -111.099044,
          -111.260146,
          -111.781635,
          -111.401294,
          -112.419092,
          -111.331212,
          -108.581057,
          -111.521782,
          -109.756912,
          -111.103658,
          -110.775107,
          -113.409125,
          -111.608609,
          -106.954631,
          -110.765848,
          -109.052344,
          -113.305427,
          -110.573701,
          -107.612822,
          -107.077761,
          -112.502722,
          -110.701572,
          -111.144927,
          -113.140565,
          -109.248831,
          -111.401278,
          -111.740632,
          -109.717342,
          -112.045257,
          -111.10248,
          -109.243003,
          -112.508785,
          -109.053659,
          -109.223078,
          -108.554847,
          -112.685161,
          -109.449764,
          -108.043996,
          -108.746545,
          -111.809515,
          -110.573901,
          -111.392424,
          -113.885031,
          -111.368752,
          -112.006008,
          -110.314037,
          -109.443613,
          -111.109121,
          -112.468356,
          -109.849213,
          -113.888674,
          -112.43472,
          -110.736446,
          -111.097623,
          -108.513448,
          -111.401882,
          -106.938369,
          -110.758274,
          -112.010551,
          -111.400442,
          -111.100722,
          -111.058477,
          -112.044843,
          -112.068985,
          -109.44302,
          -111.108194,
          -111.066887,
          -109.088712,
          -111.035749,
          -113.888705,
          -113.450586,
          -111.103021,
          -110.76483,
          -111.728876,
          -112.614713,
          -111.401481,
          -110.820605,
          -111.177988,
          -112.632433,
          -110.575591,
          -111.329645,
          -112.036518,
          -111.404537,
          -108.564933,
          -108.755173,
          -112.196175,
          -109.054896,
          -111.33609,
          -112.950501,
          -108.211845,
          -112.424543,
          -111.106447,
          -111.110088,
          -110.10955,
          -112.837597,
          -108.511647,
          -112.630206,
          -110.828798,
          -112.009141,
          -106.951611,
          -108.382663,
          -110.827918,
          -110.932902,
          -109.246678,
          -112.532622,
          -112.025476,
          -112.697728,
          -110.789645,
          -111.392886,
          -112.3565,
          -110.571812,
          -108.397389,
          -111.10074,
          -108.772278,
          -109.054509,
          -109.519602,
          -111.050307,
          -106.991119,
          -110.764831,
          -111.050231,
          -106.953925,
          -111.10317,
          -111.095768,
          -110.280553,
          -111.796493,
          -109.715742,
          -110.715538,
          -108.378991,
          -114.36173,
          -111.434183,
          -112.02839,
          -110.56345,
          -111.30927,
          -112.037009,
          -110.545743,
          -108.864355,
          -110.007369,
          -109.635183,
          -111.04876,
          -108.0387,
          -108.557843,
          -111.050129,
          -114.052542,
          -108.526718,
          -110.706908,
          -109.814268,
          -112.50699,
          -106.958007,
          -112.002069,
          -112.215151,
          -111.397503,
          -112.636202,
          -108.479399,
          -111.178958,
          -110.768567,
          -111.60699,
          -110.710766,
          -108.381446,
          -112.092099,
          -106.682655,
          -109.429215,
          -110.199792,
          -110.705816,
          -109.946191,
          -111.110551,
          -108.391863,
          -107.609971,
          -109.931824,
          -111.103642,
          -112.044392,
          -109.072699,
          -111.998157,
          -109.931911,
          -114.264709,
          -109.874085,
          -111.971889,
          -108.578306,
          -109.513791,
          -110.536537,
          -111.890455,
          -110.314622,
          -109.074001,
          -112.223734,
          -110.763348,
          -110.759433,
          -113.898223,
          -106.955833,
          -111.111932,
          -111.402067,
          -112.001108,
          -113.88756,
          -112.451138,
          -106.93483,
          -108.506353,
          -113.451893,
          -111.834279,
          -111.158664,
          -112.007909,
          -110.715258,
          -110.572582,
          -109.096623,
          -112.750532,
          -108.380106,
          -110.764039,
          -109.275236,
          -111.409528,
          -113.892612,
          -111.401506,
          -110.781841,
          -106.895446,
          -110.579368,
          -108.732709,
          -111.298262,
          -112.011282,
          -111.032625,
          -110.764705,
          -106.94692,
          -109.166617,
          -110.791793,
          -113.508263,
          -109.054083,
          -107.553331,
          -112.919035,
          -108.76906,
          -111.068957,
          -111.001941,
          -108.916415,
          -112.010548,
          -111.90819,
          -113.407706,
          -112.612229,
          -112.004536,
          -107.91448,
          -111.103613,
          -110.934172,
          -112.471506,
          -109.247021,
          -113.295254,
          -111.103662,
          -111.158429,
          -110.664625,
          -110.584715,
          -109.280243,
          -111.020455,
          -111.288723,
          -112.04465,
          -112.037029,
          -111.867798,
          -112.358516,
          -110.63114,
          -112.00778,
          -111.016293,
          -110.885255,
          -111.049339,
          -111.458691,
          -110.717455,
          -109.934413,
          -109.110169,
          -112.509955,
          -109.251441,
          -110.826621,
          -108.549894,
          -109.24585,
          -110.229173,
          -111.02874,
          -107.504617,
          -111.468813,
          -112.829407,
          -111.896682,
          -111.403364,
          -111.251476,
          -112.538668,
          -112.468178,
          -112.010819,
          -113.306619,
          -109.934097,
          -110.778724,
          -111.836,
          -112.077958,
          -109.990246,
          -110.554997,
          -110.639735,
          -112.04749,
          -110.827943,
          -112.009868,
          -109.752886,
          -111.4274,
          -112.087777,
          -111.881549,
          -111.406285,
          -107.952608,
          -109.935926,
          -109.440628,
          -113.617047,
          -109.054706,
          -110.897303,
          -112.933438,
          -113.771554,
          -111.104002,
          -112.639113,
          -109.072389,
          -112.011359,
          -106.941695,
          -110.774395,
          -114.222644,
          -111.187533,
          -111.30555,
          -111.421484,
          -109.258168,
          -111.833888,
          -111.048557,
          -107.163425,
          -112.056326,
          -108.554881,
          -108.381515,
          -112.735116,
          -110.762739,
          -110.68094,
          -106.940069,
          -112.00914,
          -112.434415,
          -109.87045,
          -111.108308,
          -108.260598,
          -111.159859,
          -110.57247,
          -110.942205,
          -110.826212,
          -110.714501,
          -111.360675,
          -112.010582,
          -112.506173,
          -111.097875,
          -112.549755,
          -111.102406,
          -109.837202,
          -109.81409,
          -111.818484,
          -108.381109,
          -110.789109,
          -108.386087,
          -110.906038,
          -112.009876,
          -110.788223,
          -106.928079,
          -112.511768,
          -111.811982,
          -107.605749,
          -109.931069,
          -111.037015,
          -108.2094,
          -108.594881,
          -111.395318,
          -111.0451,
          -111.110719,
          -111.296852,
          -108.513745,
          -110.761842,
          -110.538647,
          -113.896474,
          -111.456709,
          -111.857452,
          -110.764855,
          -111.74061,
          -106.676735,
          -110.7633,
          -111.394909,
          -110.841346,
          -111.441108,
          -108.209499,
          -114.31658,
          -110.756272,
          -111.102299,
          -109.415836,
          -111.045117,
          -111.110094,
          -111.836911,
          -111.050158,
          -111.347606,
          -111.590148,
          -109.246723,
          -112.033284,
          -107.783829,
          -110.762765,
          -106.992091,
          -111.958766,
          -111.032273,
          -108.606695,
          -109.825323,
          -109.853879,
          -109.247336,
          -111.184399,
          -112.018552,
          -111.048419,
          -107.956139,
          -109.859051,
          -111.887689,
          -111.393046,
          -113.990496,
          -109.859192,
          -106.93251,
          -109.661044,
          -112.64047,
          -110.766644,
          -108.748795,
          -106.685297,
          -110.764238,
          -106.95494,
          -109.246167,
          -111.024979,
          -108.537154,
          -111.398326,
          -113.40963,
          -110.562336,
          -111.01068,
          -108.721424,
          -111.198746,
          -110.415088,
          -110.766712,
          -110.766701,
          -111.018082,
          -109.442284,
          -111.048496,
          -108.541644,
          -111.258883,
          -111.400593,
          -110.829301,
          -110.71855,
          -112.420891,
          -106.699252,
          -110.418319,
          -112.23026,
          -110.766958,
          -108.721421,
          -109.443635,
          -114.320302,
          -111.065789,
          -112.505987,
          -110.83857,
          -106.690103,
          -108.509972,
          -111.309869,
          -112.02264,
          -110.735399,
          -109.596563,
          -114.315001,
          -110.766108,
          -113.952829,
          -109.864317,
          -109.42098,
          -111.533016,
          -108.727794,
          -111.070853,
          -111.018653,
          -109.885916,
          -106.638843,
          -112.124686,
          -112.508932,
          -106.712376,
          -110.281021,
          -110.313139,
          -108.5031,
          -113.107834,
          -106.688857,
          -106.70065,
          -111.701034,
          -108.872966,
          -112.491517,
          -111.102919,
          -113.118798,
          -109.054906,
          -113.275172,
          -111.599913,
          -112.225316,
          -112.427934,
          -108.565737,
          -108.392613,
          -114.401337,
          -111.401301,
          -110.923567,
          -111.307773,
          -110.774803,
          -109.247625,
          -110.358841,
          -109.426899,
          -109.879263,
          -111.100811,
          -111.064129,
          -114.304202,
          -111.255376,
          -113.013331,
          -110.195428,
          -110.539769,
          -109.351586,
          -110.832134,
          -111.835706,
          -111.09282,
          -106.895439,
          -111.834484,
          -111.106175,
          -110.76335,
          -111.046925,
          -112.037255,
          -109.614453
         ],
         "marker": {
          "color": "#636efa",
          "opacity": 0.5
         },
         "mode": "markers",
         "name": "",
         "showlegend": false,
         "subplot": "mapbox",
         "type": "scattermapbox"
        }
       ],
       "layout": {
        "height": 800,
        "legend": {
         "tracegroupgap": 0
        },
        "mapbox": {
         "center": {
          "lat": 44.52870908446456,
          "lon": -110.67164916515839
         },
         "domain": {
          "x": [
           0,
           1
          ],
          "y": [
           0,
           1
          ]
         },
         "style": "open-street-map",
         "zoom": 6
        },
        "margin": {
         "t": 60
        },
        "template": {
         "data": {
          "bar": [
           {
            "error_x": {
             "color": "#2a3f5f"
            },
            "error_y": {
             "color": "#2a3f5f"
            },
            "marker": {
             "line": {
              "color": "#E5ECF6",
              "width": 0.5
             },
             "pattern": {
              "fillmode": "overlay",
              "size": 10,
              "solidity": 0.2
             }
            },
            "type": "bar"
           }
          ],
          "barpolar": [
           {
            "marker": {
             "line": {
              "color": "#E5ECF6",
              "width": 0.5
             },
             "pattern": {
              "fillmode": "overlay",
              "size": 10,
              "solidity": 0.2
             }
            },
            "type": "barpolar"
           }
          ],
          "carpet": [
           {
            "aaxis": {
             "endlinecolor": "#2a3f5f",
             "gridcolor": "white",
             "linecolor": "white",
             "minorgridcolor": "white",
             "startlinecolor": "#2a3f5f"
            },
            "baxis": {
             "endlinecolor": "#2a3f5f",
             "gridcolor": "white",
             "linecolor": "white",
             "minorgridcolor": "white",
             "startlinecolor": "#2a3f5f"
            },
            "type": "carpet"
           }
          ],
          "choropleth": [
           {
            "colorbar": {
             "outlinewidth": 0,
             "ticks": ""
            },
            "type": "choropleth"
           }
          ],
          "contour": [
           {
            "colorbar": {
             "outlinewidth": 0,
             "ticks": ""
            },
            "colorscale": [
             [
              0,
              "#0d0887"
             ],
             [
              0.1111111111111111,
              "#46039f"
             ],
             [
              0.2222222222222222,
              "#7201a8"
             ],
             [
              0.3333333333333333,
              "#9c179e"
             ],
             [
              0.4444444444444444,
              "#bd3786"
             ],
             [
              0.5555555555555556,
              "#d8576b"
             ],
             [
              0.6666666666666666,
              "#ed7953"
             ],
             [
              0.7777777777777778,
              "#fb9f3a"
             ],
             [
              0.8888888888888888,
              "#fdca26"
             ],
             [
              1,
              "#f0f921"
             ]
            ],
            "type": "contour"
           }
          ],
          "contourcarpet": [
           {
            "colorbar": {
             "outlinewidth": 0,
             "ticks": ""
            },
            "type": "contourcarpet"
           }
          ],
          "heatmap": [
           {
            "colorbar": {
             "outlinewidth": 0,
             "ticks": ""
            },
            "colorscale": [
             [
              0,
              "#0d0887"
             ],
             [
              0.1111111111111111,
              "#46039f"
             ],
             [
              0.2222222222222222,
              "#7201a8"
             ],
             [
              0.3333333333333333,
              "#9c179e"
             ],
             [
              0.4444444444444444,
              "#bd3786"
             ],
             [
              0.5555555555555556,
              "#d8576b"
             ],
             [
              0.6666666666666666,
              "#ed7953"
             ],
             [
              0.7777777777777778,
              "#fb9f3a"
             ],
             [
              0.8888888888888888,
              "#fdca26"
             ],
             [
              1,
              "#f0f921"
             ]
            ],
            "type": "heatmap"
           }
          ],
          "heatmapgl": [
           {
            "colorbar": {
             "outlinewidth": 0,
             "ticks": ""
            },
            "colorscale": [
             [
              0,
              "#0d0887"
             ],
             [
              0.1111111111111111,
              "#46039f"
             ],
             [
              0.2222222222222222,
              "#7201a8"
             ],
             [
              0.3333333333333333,
              "#9c179e"
             ],
             [
              0.4444444444444444,
              "#bd3786"
             ],
             [
              0.5555555555555556,
              "#d8576b"
             ],
             [
              0.6666666666666666,
              "#ed7953"
             ],
             [
              0.7777777777777778,
              "#fb9f3a"
             ],
             [
              0.8888888888888888,
              "#fdca26"
             ],
             [
              1,
              "#f0f921"
             ]
            ],
            "type": "heatmapgl"
           }
          ],
          "histogram": [
           {
            "marker": {
             "pattern": {
              "fillmode": "overlay",
              "size": 10,
              "solidity": 0.2
             }
            },
            "type": "histogram"
           }
          ],
          "histogram2d": [
           {
            "colorbar": {
             "outlinewidth": 0,
             "ticks": ""
            },
            "colorscale": [
             [
              0,
              "#0d0887"
             ],
             [
              0.1111111111111111,
              "#46039f"
             ],
             [
              0.2222222222222222,
              "#7201a8"
             ],
             [
              0.3333333333333333,
              "#9c179e"
             ],
             [
              0.4444444444444444,
              "#bd3786"
             ],
             [
              0.5555555555555556,
              "#d8576b"
             ],
             [
              0.6666666666666666,
              "#ed7953"
             ],
             [
              0.7777777777777778,
              "#fb9f3a"
             ],
             [
              0.8888888888888888,
              "#fdca26"
             ],
             [
              1,
              "#f0f921"
             ]
            ],
            "type": "histogram2d"
           }
          ],
          "histogram2dcontour": [
           {
            "colorbar": {
             "outlinewidth": 0,
             "ticks": ""
            },
            "colorscale": [
             [
              0,
              "#0d0887"
             ],
             [
              0.1111111111111111,
              "#46039f"
             ],
             [
              0.2222222222222222,
              "#7201a8"
             ],
             [
              0.3333333333333333,
              "#9c179e"
             ],
             [
              0.4444444444444444,
              "#bd3786"
             ],
             [
              0.5555555555555556,
              "#d8576b"
             ],
             [
              0.6666666666666666,
              "#ed7953"
             ],
             [
              0.7777777777777778,
              "#fb9f3a"
             ],
             [
              0.8888888888888888,
              "#fdca26"
             ],
             [
              1,
              "#f0f921"
             ]
            ],
            "type": "histogram2dcontour"
           }
          ],
          "mesh3d": [
           {
            "colorbar": {
             "outlinewidth": 0,
             "ticks": ""
            },
            "type": "mesh3d"
           }
          ],
          "parcoords": [
           {
            "line": {
             "colorbar": {
              "outlinewidth": 0,
              "ticks": ""
             }
            },
            "type": "parcoords"
           }
          ],
          "pie": [
           {
            "automargin": true,
            "type": "pie"
           }
          ],
          "scatter": [
           {
            "fillpattern": {
             "fillmode": "overlay",
             "size": 10,
             "solidity": 0.2
            },
            "type": "scatter"
           }
          ],
          "scatter3d": [
           {
            "line": {
             "colorbar": {
              "outlinewidth": 0,
              "ticks": ""
             }
            },
            "marker": {
             "colorbar": {
              "outlinewidth": 0,
              "ticks": ""
             }
            },
            "type": "scatter3d"
           }
          ],
          "scattercarpet": [
           {
            "marker": {
             "colorbar": {
              "outlinewidth": 0,
              "ticks": ""
             }
            },
            "type": "scattercarpet"
           }
          ],
          "scattergeo": [
           {
            "marker": {
             "colorbar": {
              "outlinewidth": 0,
              "ticks": ""
             }
            },
            "type": "scattergeo"
           }
          ],
          "scattergl": [
           {
            "marker": {
             "colorbar": {
              "outlinewidth": 0,
              "ticks": ""
             }
            },
            "type": "scattergl"
           }
          ],
          "scattermapbox": [
           {
            "marker": {
             "colorbar": {
              "outlinewidth": 0,
              "ticks": ""
             }
            },
            "type": "scattermapbox"
           }
          ],
          "scatterpolar": [
           {
            "marker": {
             "colorbar": {
              "outlinewidth": 0,
              "ticks": ""
             }
            },
            "type": "scatterpolar"
           }
          ],
          "scatterpolargl": [
           {
            "marker": {
             "colorbar": {
              "outlinewidth": 0,
              "ticks": ""
             }
            },
            "type": "scatterpolargl"
           }
          ],
          "scatterternary": [
           {
            "marker": {
             "colorbar": {
              "outlinewidth": 0,
              "ticks": ""
             }
            },
            "type": "scatterternary"
           }
          ],
          "surface": [
           {
            "colorbar": {
             "outlinewidth": 0,
             "ticks": ""
            },
            "colorscale": [
             [
              0,
              "#0d0887"
             ],
             [
              0.1111111111111111,
              "#46039f"
             ],
             [
              0.2222222222222222,
              "#7201a8"
             ],
             [
              0.3333333333333333,
              "#9c179e"
             ],
             [
              0.4444444444444444,
              "#bd3786"
             ],
             [
              0.5555555555555556,
              "#d8576b"
             ],
             [
              0.6666666666666666,
              "#ed7953"
             ],
             [
              0.7777777777777778,
              "#fb9f3a"
             ],
             [
              0.8888888888888888,
              "#fdca26"
             ],
             [
              1,
              "#f0f921"
             ]
            ],
            "type": "surface"
           }
          ],
          "table": [
           {
            "cells": {
             "fill": {
              "color": "#EBF0F8"
             },
             "line": {
              "color": "white"
             }
            },
            "header": {
             "fill": {
              "color": "#C8D4E3"
             },
             "line": {
              "color": "white"
             }
            },
            "type": "table"
           }
          ]
         },
         "layout": {
          "annotationdefaults": {
           "arrowcolor": "#2a3f5f",
           "arrowhead": 0,
           "arrowwidth": 1
          },
          "autotypenumbers": "strict",
          "coloraxis": {
           "colorbar": {
            "outlinewidth": 0,
            "ticks": ""
           }
          },
          "colorscale": {
           "diverging": [
            [
             0,
             "#8e0152"
            ],
            [
             0.1,
             "#c51b7d"
            ],
            [
             0.2,
             "#de77ae"
            ],
            [
             0.3,
             "#f1b6da"
            ],
            [
             0.4,
             "#fde0ef"
            ],
            [
             0.5,
             "#f7f7f7"
            ],
            [
             0.6,
             "#e6f5d0"
            ],
            [
             0.7,
             "#b8e186"
            ],
            [
             0.8,
             "#7fbc41"
            ],
            [
             0.9,
             "#4d9221"
            ],
            [
             1,
             "#276419"
            ]
           ],
           "sequential": [
            [
             0,
             "#0d0887"
            ],
            [
             0.1111111111111111,
             "#46039f"
            ],
            [
             0.2222222222222222,
             "#7201a8"
            ],
            [
             0.3333333333333333,
             "#9c179e"
            ],
            [
             0.4444444444444444,
             "#bd3786"
            ],
            [
             0.5555555555555556,
             "#d8576b"
            ],
            [
             0.6666666666666666,
             "#ed7953"
            ],
            [
             0.7777777777777778,
             "#fb9f3a"
            ],
            [
             0.8888888888888888,
             "#fdca26"
            ],
            [
             1,
             "#f0f921"
            ]
           ],
           "sequentialminus": [
            [
             0,
             "#0d0887"
            ],
            [
             0.1111111111111111,
             "#46039f"
            ],
            [
             0.2222222222222222,
             "#7201a8"
            ],
            [
             0.3333333333333333,
             "#9c179e"
            ],
            [
             0.4444444444444444,
             "#bd3786"
            ],
            [
             0.5555555555555556,
             "#d8576b"
            ],
            [
             0.6666666666666666,
             "#ed7953"
            ],
            [
             0.7777777777777778,
             "#fb9f3a"
            ],
            [
             0.8888888888888888,
             "#fdca26"
            ],
            [
             1,
             "#f0f921"
            ]
           ]
          },
          "colorway": [
           "#636efa",
           "#EF553B",
           "#00cc96",
           "#ab63fa",
           "#FFA15A",
           "#19d3f3",
           "#FF6692",
           "#B6E880",
           "#FF97FF",
           "#FECB52"
          ],
          "font": {
           "color": "#2a3f5f"
          },
          "geo": {
           "bgcolor": "white",
           "lakecolor": "white",
           "landcolor": "#E5ECF6",
           "showlakes": true,
           "showland": true,
           "subunitcolor": "white"
          },
          "hoverlabel": {
           "align": "left"
          },
          "hovermode": "closest",
          "mapbox": {
           "style": "light"
          },
          "paper_bgcolor": "white",
          "plot_bgcolor": "#E5ECF6",
          "polar": {
           "angularaxis": {
            "gridcolor": "white",
            "linecolor": "white",
            "ticks": ""
           },
           "bgcolor": "#E5ECF6",
           "radialaxis": {
            "gridcolor": "white",
            "linecolor": "white",
            "ticks": ""
           }
          },
          "scene": {
           "xaxis": {
            "backgroundcolor": "#E5ECF6",
            "gridcolor": "white",
            "gridwidth": 2,
            "linecolor": "white",
            "showbackground": true,
            "ticks": "",
            "zerolinecolor": "white"
           },
           "yaxis": {
            "backgroundcolor": "#E5ECF6",
            "gridcolor": "white",
            "gridwidth": 2,
            "linecolor": "white",
            "showbackground": true,
            "ticks": "",
            "zerolinecolor": "white"
           },
           "zaxis": {
            "backgroundcolor": "#E5ECF6",
            "gridcolor": "white",
            "gridwidth": 2,
            "linecolor": "white",
            "showbackground": true,
            "ticks": "",
            "zerolinecolor": "white"
           }
          },
          "shapedefaults": {
           "line": {
            "color": "#2a3f5f"
           }
          },
          "ternary": {
           "aaxis": {
            "gridcolor": "white",
            "linecolor": "white",
            "ticks": ""
           },
           "baxis": {
            "gridcolor": "white",
            "linecolor": "white",
            "ticks": ""
           },
           "bgcolor": "#E5ECF6",
           "caxis": {
            "gridcolor": "white",
            "linecolor": "white",
            "ticks": ""
           }
          },
          "title": {
           "x": 0.05
          },
          "xaxis": {
           "automargin": true,
           "gridcolor": "white",
           "linecolor": "white",
           "ticks": "",
           "title": {
            "standoff": 15
           },
           "zerolinecolor": "white",
           "zerolinewidth": 2
          },
          "yaxis": {
           "automargin": true,
           "gridcolor": "white",
           "linecolor": "white",
           "ticks": "",
           "title": {
            "standoff": 15
           },
           "zerolinecolor": "white",
           "zerolinewidth": 2
          }
         }
        },
        "title": {
         "text": "Accomadations in Greater Yellowstone Region"
        },
        "width": 1200
       }
      }
     },
     "metadata": {},
     "output_type": "display_data"
    },
    {
     "data": {
      "text/plain": [
       "<Figure size 640x480 with 0 Axes>"
      ]
     },
     "metadata": {},
     "output_type": "display_data"
    }
   ],
   "source": [
    "fig = figure()\n",
    "fig = map_points(fig,df_food)\n",
    "fig.update_layout(title=\"Accomadations in Greater Yellowstone Region\",height=800,width=1200,mapbox_style=\"open-street-map\")"
   ]
  },
  {
   "cell_type": "code",
   "execution_count": 20,
   "metadata": {},
   "outputs": [
    {
     "name": "stderr",
     "output_type": "stream",
     "text": [
      "C:\\Users\\tjbla\\AppData\\Local\\Temp\\ipykernel_6872\\3068815724.py:8: SettingWithCopyWarning:\n",
      "\n",
      "\n",
      "A value is trying to be set on a copy of a slice from a DataFrame.\n",
      "Try using .loc[row_indexer,col_indexer] = value instead\n",
      "\n",
      "See the caveats in the documentation: https://pandas.pydata.org/pandas-docs/stable/user_guide/indexing.html#returning-a-view-versus-a-copy\n",
      "\n",
      "C:\\Users\\tjbla\\AppData\\Local\\Temp\\ipykernel_6872\\3068815724.py:9: SettingWithCopyWarning:\n",
      "\n",
      "\n",
      "A value is trying to be set on a copy of a slice from a DataFrame.\n",
      "Try using .loc[row_indexer,col_indexer] = value instead\n",
      "\n",
      "See the caveats in the documentation: https://pandas.pydata.org/pandas-docs/stable/user_guide/indexing.html#returning-a-view-versus-a-copy\n",
      "\n"
     ]
    }
   ],
   "source": [
    "import ast\n",
    "\n",
    "datetime_start = pd.to_datetime('2019-05-01')\n",
    "datetime_end = pd.to_datetime('2019-09-01')\n",
    "\n",
    "df = df_filtered.copy()\n",
    "\n",
    "df_filtered['SPEND_DATE_RANGE_START'] = pd.to_datetime(df_filtered['SPEND_DATE_RANGE_START'])\n",
    "df_filtered['SPEND_DATE_RANGE_END'] = pd.to_datetime(df_filtered['SPEND_DATE_RANGE_END'])\n",
    "\n",
    "df_filtered_2019 = df[(df_filtered['SPEND_DATE_RANGE_START'] >= datetime_start) &\n",
    "                                 (df_filtered['SPEND_DATE_RANGE_END'] <= datetime_end)]\n",
    "\n",
    "df = df_filtered_2019.copy()\n",
    "\n",
    "# Convert string representations of lists in 'SPEND_BY_DAY' to actual lists\n",
    "df['SPEND_BY_DAY'] = df['SPEND_BY_DAY'].apply(ast.literal_eval)\n",
    "\n",
    "# Add a new column called 'DATE_OF_MONTH', as a list of integers from 1 to the end of the month (length of the 'SPEND_BY_DAY' list)\n",
    "df['DATE_OF_MONTH'] = df['SPEND_BY_DAY'].apply(lambda x: list(range(1, len(x) + 1)))\n",
    "\n",
    "df_spend_by_day = df.explode(['SPEND_BY_DAY', 'DATE_OF_MONTH'])\n",
    "\n",
    "df_spend_by_day['SPEND_BY_DAY'] = df_spend_by_day['SPEND_BY_DAY'].astype(float)\n",
    "df_spend_by_day['DATE_OF_MONTH'] = df_spend_by_day['DATE_OF_MONTH'].astype(int)\n",
    "\n",
    "df_spend_by_day['DATE'] = pd.to_datetime(df_spend_by_day['SPEND_DATE_RANGE_START']) + pd.to_timedelta(df_spend_by_day['DATE_OF_MONTH'] - 1, unit='D')\n",
    "df_spend_by_day['DATE'] = df_spend_by_day['DATE'].dt.strftime('%m-%d')\n",
    "\n",
    "grouped_19_food = df_spend_by_day.groupby('DATE')['SPEND_BY_DAY'].sum()"
   ]
  },
  {
   "cell_type": "code",
   "execution_count": 24,
   "metadata": {},
   "outputs": [
    {
     "name": "stderr",
     "output_type": "stream",
     "text": [
      "C:\\Users\\tjbla\\AppData\\Local\\Temp\\ipykernel_6872\\3346195129.py:6: SettingWithCopyWarning:\n",
      "\n",
      "\n",
      "A value is trying to be set on a copy of a slice from a DataFrame.\n",
      "Try using .loc[row_indexer,col_indexer] = value instead\n",
      "\n",
      "See the caveats in the documentation: https://pandas.pydata.org/pandas-docs/stable/user_guide/indexing.html#returning-a-view-versus-a-copy\n",
      "\n",
      "C:\\Users\\tjbla\\AppData\\Local\\Temp\\ipykernel_6872\\3346195129.py:7: SettingWithCopyWarning:\n",
      "\n",
      "\n",
      "A value is trying to be set on a copy of a slice from a DataFrame.\n",
      "Try using .loc[row_indexer,col_indexer] = value instead\n",
      "\n",
      "See the caveats in the documentation: https://pandas.pydata.org/pandas-docs/stable/user_guide/indexing.html#returning-a-view-versus-a-copy\n",
      "\n"
     ]
    }
   ],
   "source": [
    "datetime_start = pd.to_datetime('2020-05-01')\n",
    "datetime_end = pd.to_datetime('2020-09-01')\n",
    "\n",
    "df = df_filtered.copy()\n",
    "\n",
    "df_filtered['SPEND_DATE_RANGE_START'] = pd.to_datetime(df_filtered['SPEND_DATE_RANGE_START'])\n",
    "df_filtered['SPEND_DATE_RANGE_END'] = pd.to_datetime(df_filtered['SPEND_DATE_RANGE_END'])\n",
    "\n",
    "df_filtered_2020 = df[(df_filtered['SPEND_DATE_RANGE_START'] >= datetime_start) &\n",
    "                                 (df_filtered['SPEND_DATE_RANGE_END'] <= datetime_end)]\n",
    "\n",
    "df = df_filtered_2020.copy()\n",
    "\n",
    "# Convert string representations of lists in 'SPEND_BY_DAY' to actual lists\n",
    "df['SPEND_BY_DAY'] = df['SPEND_BY_DAY'].apply(ast.literal_eval)\n",
    "\n",
    "# Add a new column called 'DATE_OF_MONTH', as a list of integers from 1 to the end of the month (length of the 'SPEND_BY_DAY' list)\n",
    "df['DATE_OF_MONTH'] = df['SPEND_BY_DAY'].apply(lambda x: list(range(1, len(x) + 1)))\n",
    "\n",
    "df_spend_by_day = df.explode(['SPEND_BY_DAY', 'DATE_OF_MONTH'])\n",
    "\n",
    "df_spend_by_day['SPEND_BY_DAY'] = df_spend_by_day['SPEND_BY_DAY'].astype(float)\n",
    "df_spend_by_day['DATE_OF_MONTH'] = df_spend_by_day['DATE_OF_MONTH'].astype(int)\n",
    "\n",
    "df_spend_by_day['DATE'] = pd.to_datetime(df_spend_by_day['SPEND_DATE_RANGE_START']) + pd.to_timedelta(df_spend_by_day['DATE_OF_MONTH'] - 1, unit='D')\n",
    "df_spend_by_day['DATE'] = df_spend_by_day['DATE'].dt.strftime('%m-%d')\n",
    "\n",
    "grouped_20_food = df_spend_by_day.groupby('DATE')['SPEND_BY_DAY'].sum()"
   ]
  },
  {
   "cell_type": "code",
   "execution_count": 25,
   "metadata": {},
   "outputs": [
    {
     "name": "stderr",
     "output_type": "stream",
     "text": [
      "C:\\Users\\tjbla\\AppData\\Local\\Temp\\ipykernel_6872\\3242774707.py:6: SettingWithCopyWarning:\n",
      "\n",
      "\n",
      "A value is trying to be set on a copy of a slice from a DataFrame.\n",
      "Try using .loc[row_indexer,col_indexer] = value instead\n",
      "\n",
      "See the caveats in the documentation: https://pandas.pydata.org/pandas-docs/stable/user_guide/indexing.html#returning-a-view-versus-a-copy\n",
      "\n",
      "C:\\Users\\tjbla\\AppData\\Local\\Temp\\ipykernel_6872\\3242774707.py:7: SettingWithCopyWarning:\n",
      "\n",
      "\n",
      "A value is trying to be set on a copy of a slice from a DataFrame.\n",
      "Try using .loc[row_indexer,col_indexer] = value instead\n",
      "\n",
      "See the caveats in the documentation: https://pandas.pydata.org/pandas-docs/stable/user_guide/indexing.html#returning-a-view-versus-a-copy\n",
      "\n"
     ]
    }
   ],
   "source": [
    "datetime_start = pd.to_datetime('2021-05-01')\n",
    "datetime_end = pd.to_datetime('2021-09-01')\n",
    "\n",
    "df = df_filtered.copy()\n",
    "\n",
    "df_filtered['SPEND_DATE_RANGE_START'] = pd.to_datetime(df_filtered['SPEND_DATE_RANGE_START'])\n",
    "df_filtered['SPEND_DATE_RANGE_END'] = pd.to_datetime(df_filtered['SPEND_DATE_RANGE_END'])\n",
    "\n",
    "df_filtered_2021 = df[(df_filtered['SPEND_DATE_RANGE_START'] >= datetime_start) &\n",
    "                                 (df_filtered['SPEND_DATE_RANGE_END'] <= datetime_end)]\n",
    "\n",
    "df = df_filtered_2021.copy()\n",
    "\n",
    "# Convert string representations of lists in 'SPEND_BY_DAY' to actual lists\n",
    "df['SPEND_BY_DAY'] = df['SPEND_BY_DAY'].apply(ast.literal_eval)\n",
    "\n",
    "# Add a new column called 'DATE_OF_MONTH', as a list of integers from 1 to the end of the month (length of the 'SPEND_BY_DAY' list)\n",
    "df['DATE_OF_MONTH'] = df['SPEND_BY_DAY'].apply(lambda x: list(range(1, len(x) + 1)))\n",
    "\n",
    "df_spend_by_day = df.explode(['SPEND_BY_DAY', 'DATE_OF_MONTH'])\n",
    "\n",
    "df_spend_by_day['SPEND_BY_DAY'] = df_spend_by_day['SPEND_BY_DAY'].astype(float)\n",
    "df_spend_by_day['DATE_OF_MONTH'] = df_spend_by_day['DATE_OF_MONTH'].astype(int)\n",
    "\n",
    "df_spend_by_day['DATE'] = pd.to_datetime(df_spend_by_day['SPEND_DATE_RANGE_START']) + pd.to_timedelta(df_spend_by_day['DATE_OF_MONTH'] - 1, unit='D')\n",
    "df_spend_by_day['DATE'] = df_spend_by_day['DATE'].dt.strftime('%m-%d')\n",
    "\n",
    "grouped_21_food = df_spend_by_day.groupby('DATE')['SPEND_BY_DAY'].sum()"
   ]
  },
  {
   "cell_type": "code",
   "execution_count": 26,
   "metadata": {},
   "outputs": [
    {
     "name": "stderr",
     "output_type": "stream",
     "text": [
      "C:\\Users\\tjbla\\AppData\\Local\\Temp\\ipykernel_6872\\2216778773.py:6: SettingWithCopyWarning:\n",
      "\n",
      "\n",
      "A value is trying to be set on a copy of a slice from a DataFrame.\n",
      "Try using .loc[row_indexer,col_indexer] = value instead\n",
      "\n",
      "See the caveats in the documentation: https://pandas.pydata.org/pandas-docs/stable/user_guide/indexing.html#returning-a-view-versus-a-copy\n",
      "\n",
      "C:\\Users\\tjbla\\AppData\\Local\\Temp\\ipykernel_6872\\2216778773.py:7: SettingWithCopyWarning:\n",
      "\n",
      "\n",
      "A value is trying to be set on a copy of a slice from a DataFrame.\n",
      "Try using .loc[row_indexer,col_indexer] = value instead\n",
      "\n",
      "See the caveats in the documentation: https://pandas.pydata.org/pandas-docs/stable/user_guide/indexing.html#returning-a-view-versus-a-copy\n",
      "\n"
     ]
    }
   ],
   "source": [
    "datetime_start = pd.to_datetime('2022-05-01')\n",
    "datetime_end = pd.to_datetime('2022-09-01')\n",
    "\n",
    "df = df_filtered.copy()\n",
    "\n",
    "df_filtered['SPEND_DATE_RANGE_START'] = pd.to_datetime(df_filtered['SPEND_DATE_RANGE_START'])\n",
    "df_filtered['SPEND_DATE_RANGE_END'] = pd.to_datetime(df_filtered['SPEND_DATE_RANGE_END'])\n",
    "\n",
    "df_filtered_2022 = df[(df_filtered['SPEND_DATE_RANGE_START'] >= datetime_start) &\n",
    "                                 (df_filtered['SPEND_DATE_RANGE_END'] <= datetime_end)]\n",
    "\n",
    "df = df_filtered_2022.copy()\n",
    "\n",
    "# Convert string representations of lists in 'SPEND_BY_DAY' to actual lists\n",
    "df['SPEND_BY_DAY'] = df['SPEND_BY_DAY'].apply(ast.literal_eval)\n",
    "\n",
    "# Add a new column called 'DATE_OF_MONTH', as a list of integers from 1 to the end of the month (length of the 'SPEND_BY_DAY' list)\n",
    "df['DATE_OF_MONTH'] = df['SPEND_BY_DAY'].apply(lambda x: list(range(1, len(x) + 1)))\n",
    "\n",
    "df_spend_by_day = df.explode(['SPEND_BY_DAY', 'DATE_OF_MONTH'])\n",
    "\n",
    "df_spend_by_day['SPEND_BY_DAY'] = df_spend_by_day['SPEND_BY_DAY'].astype(float)\n",
    "df_spend_by_day['DATE_OF_MONTH'] = df_spend_by_day['DATE_OF_MONTH'].astype(int)\n",
    "\n",
    "df_spend_by_day['DATE'] = pd.to_datetime(df_spend_by_day['SPEND_DATE_RANGE_START']) + pd.to_timedelta(df_spend_by_day['DATE_OF_MONTH'] - 1, unit='D')\n",
    "df_spend_by_day['DATE'] = df_spend_by_day['DATE'].dt.strftime('%m-%d')\n",
    "\n",
    "grouped_22_food = df_spend_by_day.groupby('DATE')['SPEND_BY_DAY'].sum()"
   ]
  },
  {
   "cell_type": "code",
   "execution_count": 29,
   "metadata": {},
   "outputs": [
    {
     "data": {
      "image/png": "[encoded data removed]",
      "text/plain": [
       "<Figure size 2000x800 with 1 Axes>"
      ]
     },
     "metadata": {},
     "output_type": "display_data"
    }
   ],
   "source": [
    "import matplotlib.pyplot as plt\n",
    "\n",
    "plt.figure(figsize=(20, 8))\n",
    "plt.plot(grouped_19_food);\n",
    "plt.plot(grouped_20_food);\n",
    "plt.plot(grouped_21_food);\n",
    "plt.plot(grouped_22_food);\n",
    "plt.title('Spending per Day, Food');\n",
    "plt.xlabel('day');\n",
    "plt.ylabel('$');\n",
    "plt.xticks(rotation=45)\n",
    "plt.legend(['2019', '2020', '2021', '2022']);"
   ]
  }
 ],
 "metadata": {
  "kernelspec": {
   "display_name": "worth",
   "language": "python",
   "name": "python3"
  },
  "language_info": {
   "codemirror_mode": {
    "name": "ipython",
    "version": 3
   },
   "file_extension": ".py",
   "mimetype": "text/x-python",
   "name": "python",
   "nbconvert_exporter": "python",
   "pygments_lexer": "ipython3",
   "version": "3.12.6"
  }
 },
 "nbformat": 4,
 "nbformat_minor": 2
}
