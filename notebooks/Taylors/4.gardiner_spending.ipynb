{
 "cells": [
  {
   "cell_type": "code",
   "execution_count": 12,
   "metadata": {},
   "outputs": [],
   "source": [
    "# Load data\n",
    "\n",
    "import os\n",
    "import pandas as pd\n",
    "\n",
    "pd.set_option('display.max_columns', None)\n",
    "pd.set_option('display.width', 40000)\n",
    "pd.set_option('display.max_rows', None)\n",
    "\n",
    "# Read the data from the CSV file\n",
    "df_safegraph_spend = pd.read_csv(os.path.join('..', 'dewey_data_filtered','SafeGraph_SPEND_Yellowstone_200miRadius.csv.gz'))\n",
    "\n",
    "# Print the first 5 rows of the DataFrame\n",
    "# print(df_safegraph_spend.info())\n",
    "# print(df_safegraph_spend.head())\n"
   ]
  },
  {
   "cell_type": "code",
   "execution_count": 2,
   "metadata": {},
   "outputs": [],
   "source": [
    "# Filter by Geographic Region\n",
    "\n",
    "# Create a geojson file using this online tool: https://geojson.io/#map=6.57/43.031/-108.404\n",
    "\n",
    "import geopandas as gpd\n",
    "\n",
    "filter_region = gpd.read_file(os.path.join('..', 'map','Gardiner.geojson')) # Put your new location geojson file here\n",
    "\n",
    "# The following code does a 2-step filtering process: 1) filter the POI down to be within the region, 2) use the POI set to filter the SPEND data\n",
    "\n",
    "# 1 - Filter POI within the filter_region\n",
    "df_safegraph_poi = pd.read_csv(os.path.join('..', 'dewey_data_filtered','SafeGraph_POI_Yellowstone_200miRadius.csv.gz'))\n",
    "\n",
    "# print('(before filter) # of rows: ', len(df_safegraph_poi))\n",
    "\n",
    "if 'LONGITUDE' in df_safegraph_poi.columns and 'LATITUDE' in df_safegraph_poi.columns:\n",
    "    points = gpd.points_from_xy(df_safegraph_poi['LONGITUDE'], df_safegraph_poi['LATITUDE'])\n",
    "    mask = points.within(filter_region.geometry.iloc[0])  # Assuming filter_region has only one polygon\n",
    "    df_safegraph_poi_filtered = df_safegraph_poi[mask]\n",
    "else:\n",
    "    print(\"Error: DataFrame does not contain 'LONGITUDE' and/or 'LATITUDE' columns.\")\n",
    "\n",
    "# print('(after filter)  # of rows: ', len(df_safegraph_poi_filtered))\n",
    "# print(df_safegraph_poi_filtered.head())\n",
    "\n",
    "# 2 - Filter SPEND data by matching the PLACEKEY with the filtered POI\n",
    "# print('(before filter) # of rows: ', len(df_safegraph_spend))\n",
    "\n",
    "if 'PLACEKEY' in df_safegraph_spend.columns:\n",
    "    df_filtered = df_safegraph_spend[df_safegraph_spend['PLACEKEY'].isin(df_safegraph_poi_filtered['PLACEKEY'])]\n",
    "else:\n",
    "    print(\"Error: DataFrame does not contain 'PLACEKEY' column.\")\n",
    "\n",
    "# print('(after filter)  # of rows: ', len(df_filtered))\n",
    "# print(df_filtered.head())\n"
   ]
  },
  {
   "cell_type": "code",
   "execution_count": 5,
   "metadata": {},
   "outputs": [
    {
     "name": "stdout",
     "output_type": "stream",
     "text": [
      "                  PLACEKEY                        SAFEGRAPH_BRAND_IDS          BRANDS   SPEND_DATE_RANGE_START     SPEND_DATE_RANGE_END  RAW_TOTAL_SPEND  RAW_NUM_TRANSACTIONS  RAW_NUM_CUSTOMERS  MEDIAN_SPEND_PER_TRANSACTION  MEDIAN_SPEND_PER_CUSTOMER SPEND_PER_TRANSACTION_PERCENTILES                                       SPEND_BY_DAY                       SPEND_PER_TRANSACTION_BY_DAY                               SPEND_BY_DAY_OF_WEEK                                         DAY_COUNTS  SPEND_PCT_CHANGE_VS_PREV_MONTH  SPEND_PCT_CHANGE_VS_PREV_YEAR  ONLINE_TRANSACTIONS  ONLINE_SPEND TRANSACTION_INTERMEDIARY SPEND_BY_TRANSACTION_INTERMEDIARY                    BUCKETED_CUSTOMER_FREQUENCY               MEAN_SPEND_PER_CUSTOMER_BY_FREQUENCY                          BUCKETED_CUSTOMER_INCOMES                  MEAN_SPEND_PER_CUSTOMER_BY_INCOME                                 CUSTOMER_HOME_CITY         RELATED_CROSS_SHOPPING_PHYSICAL_BRANDS_PCT        RELATED_CROSS_SHOPPING_ONLINE_MERCHANTS_PCT    RELATED_CROSS_SHOPPING_SAME_CATEGORY_BRANDS_PCT            RELATED_CROSS_SHOPPING_LOCAL_BRANDS_PCT                       RELATED_WIRELESS_CARRIER_PCT                        RELATED_STREAMING_CABLE_PCT                       RELATED_DELIVERY_SERVICE_PCT RELATED_RIDESHARE_SERVICE_PCT RELATED_BUYNOWPAYLATER_SERVICE_PCT RELATED_PAYMENT_PLATFORM_PCT\n",
      "14216  222-222@5wf-jgs-y5f                                        NaN             NaN  2019-05-01 00:00:00.000  2019-06-01 00:00:00.000          2049.10                    42                 37                         46.88                      50.00           {\"25\":25.00,\"75\":60.94}  [0.00,0.00,48.00,0.00,83.00,218.25,0.00,236.75...  [null,null,48.00,null,83.00,55.00,null,61.00,3...  {\"Monday\":421.10,\"Tuesday\":237.50,\"Wednesday\":...  {\"Wednesday\":5,\"Monday\":4,\"Saturday\":4,\"Thursd...                             NaN                            NaN                    0           0.0   {\"No intermediary\":42}       {\"No intermediary\":2049.10}    {\"1\":33,\"2\":3,\"3\":1,\"4\":0,\"5-10\":0,\">10\":0}  {\"1\":49.55,\"2\":74.33,\"3\":191.00,\"4\":null,\"5-10...  {\"<25k\":6,\"25-45k\":5,\"45-60k\":2,\"60-75k\":2,\"75...  {\"<25k\":67.21,\"25-45k\":59.84,\"45-60k\":82.00,\"6...  {\"Island Park, ID\":5,\"Omaha, NE\":4,\"Great Fall...  {\"ConocoPhillips\":49,\"Walmart\":41,\"McDonald's\"...  {\"iTunes\":46,\"Amazon\":38,\"Netflix\":30,\"Amazon ...  {\"McDonald's\":41,\"Panda Express\":22,\"Starbucks...               {\"ConocoPhillips\":22,\"Travelodge\":3}     {\"Verizon Wireless\":36,\"AT&T\":28,\"T-Mobile\":3}  {\"Netflix\":30,\"Hulu\":14,\"Amazon Prime\":9,\"Slin...                                                 {}         {\"Uber\":11,\"Lyft\":11}                                 {}       {\"PayPal\":6,\"Venmo\":3}\n",
      "14489  22p-222@5wf-jgv-mzf  SG_BRAND_6437599b41150ccc0b9c63702c5f7ba7      Travelodge  2019-05-01 00:00:00.000  2019-06-01 00:00:00.000          3690.15                    13                  8                        200.21                     264.67         {\"25\":194.80,\"75\":322.91}  [0.00,0.00,0.00,0.00,0.00,1469.47,0.00,0.00,0....  [null,null,null,null,null,624.60,null,null,nul...  {\"Monday\":1919.51,\"Tuesday\":1332.23,\"Wednesday...  {\"Wednesday\":5,\"Monday\":4,\"Saturday\":4,\"Thursd...                             NaN                            NaN                    0           0.0   {\"No intermediary\":13}       {\"No intermediary\":3690.15}     {\"1\":6,\"2\":1,\"3\":0,\"4\":0,\"5-10\":1,\">10\":0}  {\"1\":230.71,\"2\":1326.50,\"3\":null,\"4\":null,\"5-1...        {\"<25k\":2,\"25-45k\":2,\"75-100k\":4,\">150k\":2}  {\"<25k\":1152.96,\"25-45k\":157.04,\"75-100k\":232....  {\"Baltimore, MD\":4,\"Boulder, CO\":3,\"Pasadena, ...  {\"Chevron\":75,\"ConocoPhillips\":63,\"Subway\":50,...  {\"AT&T\":38,\"Uber\":25,\"Amazon\":25,\"Chewy\":25,\"C...  {\"Quality Inn\":25,\"Sheraton Hotels & Resorts\":...                  {\"ConocoPhillips\":50,\"Subway\":13}                  {\"AT&T\":50,\"Verizon Wireless\":13}            {\"Roku\":13,\"Amazon Prime\":13,\"Hulu\":13}                                                 {}         {\"Uber\":25,\"Lyft\":13}                                 {}                           {}\n",
      "14831  zzy-222@5wf-jgs-ty9                                        NaN             NaN  2019-05-01 00:00:00.000  2019-06-01 00:00:00.000           269.15                     6                  5                         24.10                      37.00            {\"25\":6.49,\"75\":86.75}  [0.00,0.00,0.00,0.00,0.00,0.00,0.00,0.00,0.00,...  [null,null,null,null,null,null,null,null,null,...  {\"Monday\":37.00,\"Tuesday\":0.00,\"Wednesday\":7.0...  {\"Wednesday\":5,\"Monday\":4,\"Saturday\":4,\"Thursd...                             NaN                            NaN                    0           0.0    {\"No intermediary\":6}        {\"No intermediary\":269.15}     {\"1\":4,\"2\":1,\"3\":0,\"4\":0,\"5-10\":0,\">10\":0}  {\"1\":63.25,\"2\":16.15,\"3\":null,\"4\":null,\"5-10\":...  {\"<25k\":2,\"25-45k\":2,\"45-60k\":2,\"60-75k\":2,\">1...  {\"<25k\":7.00,\"25-45k\":37.00,\"45-60k\":69.00,\"60...  {\"Devon, KY\":2,\"Austin, TX\":2,\"Las Vegas, NV\":...  {\"Walmart\":80,\"Pilot Flying J\":60,\"McDonald's\"...  {\"Walmart\":40,\"Verizon Wireless\":40,\"Amazon\":4...                                                 {}                              {\"ConocoPhillips\":20}    {\"Verizon Wireless\":40,\"AT&T\":20,\"T-Mobile\":20}               {\"Netflix\":40,\"Roku\":20,\"Redbox\":20}                                                 {}                            {}                                 {}                           {}\n",
      "15666  zzw-223@5wf-jgv-nbk                                        NaN             NaN  2019-05-01 00:00:00.000  2019-06-01 00:00:00.000           673.20                     9                  9                         72.50                      72.50           {\"25\":49.75,\"75\":95.50}  [0.00,0.00,0.00,0.00,0.00,60.00,0.00,0.00,0.00...  [null,null,null,null,null,60.00,null,null,null...  {\"Monday\":260.50,\"Tuesday\":0.00,\"Wednesday\":0....  {\"Wednesday\":5,\"Monday\":4,\"Saturday\":4,\"Thursd...                             NaN                            NaN                    0           0.0    {\"No intermediary\":9}        {\"No intermediary\":673.20}     {\"1\":9,\"2\":0,\"3\":0,\"4\":0,\"5-10\":0,\">10\":0}  {\"1\":74.80,\"2\":null,\"3\":null,\"4\":null,\"5-10\":n...      {\"<25k\":2,\"75-100k\":2,\"100-150k\":2,\">150k\":3}  {\"<25k\":39.50,\"75-100k\":69.60,\"100-150k\":128.0...  {\"Manassas, VA\":7,\"Tacoma, WA\":2,\"Humble, TX\":...  {\"McDonald's\":78,\"ConocoPhillips\":67,\"Subway\":...  {\"ADT Security Services\":34,\"Verizon Wireless\"...  {\"McDonald's\":78,\"Subway\":67,\"Starbucks\":56,\"C...  {\"Subway\":23,\"Travelodge\":12,\"ConocoPhillips\":12}      {\"AT&T\":45,\"Verizon Wireless\":45,\"Sprint\":12}  {\"Redbox\":45,\"Netflix\":34,\"Hulu\":23,\"DirecTV\":...    {\"HelloFresh\":23,\"Uber Eats\":12,\"Postmates\":12}         {\"Uber\":12,\"Lyft\":12}                                 {}                {\"PayPal\":23}\n",
      "15826  222-222@5wf-jgt-b6k  SG_BRAND_a0ccd5fb65a3df0d5a340321693f0a16  ConocoPhillips  2019-05-01 00:00:00.000  2019-06-01 00:00:00.000          9058.61                   342                267                         24.10                      27.12           {\"25\":15.72,\"75\":35.92}  [121.74,163.42,127.46,78.38,35.88,458.68,280.6...  [16.65,35.98,26.49,11.68,17.94,26.14,20.25,24....  {\"Monday\":1677.32,\"Tuesday\":1899.72,\"Wednesday...  {\"Wednesday\":5,\"Monday\":4,\"Saturday\":4,\"Thursd...                           221.0                            NaN                    0           0.0  {\"No intermediary\":342}       {\"No intermediary\":9058.61}  {\"1\":209,\"2\":46,\"3\":9,\"4\":2,\"5-10\":1,\">10\":0}  {\"1\":27.99,\"2\":46.43,\"3\":68.94,\"4\":175.78,\"5-1...  {\"<25k\":44,\"25-45k\":40,\"45-60k\":25,\"60-75k\":21...  {\"<25k\":28.81,\"25-45k\":28.01,\"45-60k\":29.77,\"6...  {\"Bozeman, MT\":16,\"Great Falls, MT\":8,\"Billing...  {\"Walmart\":61,\"McDonald's\":54,\"Exxon Mobil\":47...  {\"Amazon\":41,\"iTunes\":37,\"Netflix\":27,\"Amazon ...  {\"Exxon Mobil\":47,\"Shell Oil\":33,\"Chevron\":27,...  {\"Subway\":6,\"United States Postal Service (USP...  {\"Verizon Wireless\":28,\"AT&T\":18,\"T-Mobile\":5,...  {\"Netflix\":27,\"Hulu\":12,\"Amazon Prime\":12,\"Red...  {\"Uber Eats\":2,\"DoorDash\":1,\"HelloFresh\":1,\"In...          {\"Uber\":17,\"Lyft\":8}        {\"Affirm.com\":1,\"Klarna\":1}  {\"PayPal\":3,\"Apple Cash\":1}\n"
     ]
    },
    {
     "name": "stderr",
     "output_type": "stream",
     "text": [
      "C:\\Users\\tjbla\\AppData\\Local\\Temp\\ipykernel_17624\\1004588570.py:12: UserWarning: Boolean Series key will be reindexed to match DataFrame index.\n",
      "  df_filtered_2019 = df[(df_safegraph_spend['SPEND_DATE_RANGE_START'] >= datetime_start) &\n"
     ]
    }
   ],
   "source": [
    "# Filter by Dates\n",
    "\n",
    "# print('(before filter) # of rows: ', len(df_filtered))\n",
    "df = df_filtered.copy()\n",
    "\n",
    "datetime_start = pd.to_datetime('2019-05-01')\n",
    "datetime_end = pd.to_datetime('2019-09-01')\n",
    "\n",
    "df_safegraph_spend['SPEND_DATE_RANGE_START'] = pd.to_datetime(df_safegraph_spend['SPEND_DATE_RANGE_START'])\n",
    "df_safegraph_spend['SPEND_DATE_RANGE_END'] = pd.to_datetime(df_safegraph_spend['SPEND_DATE_RANGE_END'])\n",
    "\n",
    "df_filtered_2019 = df[(df_safegraph_spend['SPEND_DATE_RANGE_START'] >= datetime_start) &\n",
    "                                 (df_safegraph_spend['SPEND_DATE_RANGE_END'] <= datetime_end)]\n",
    "\n",
    "#print('(after filter) # of rows: ', len(df_filtered))\n",
    "print(df_filtered_2019.head())"
   ]
  },
  {
   "cell_type": "code",
   "execution_count": 6,
   "metadata": {},
   "outputs": [
    {
     "name": "stdout",
     "output_type": "stream",
     "text": [
      "                  PLACEKEY                        SAFEGRAPH_BRAND_IDS          BRANDS   SPEND_DATE_RANGE_START     SPEND_DATE_RANGE_END  RAW_TOTAL_SPEND  RAW_NUM_TRANSACTIONS  RAW_NUM_CUSTOMERS  MEDIAN_SPEND_PER_TRANSACTION  MEDIAN_SPEND_PER_CUSTOMER SPEND_PER_TRANSACTION_PERCENTILES                                       SPEND_BY_DAY                       SPEND_PER_TRANSACTION_BY_DAY                               SPEND_BY_DAY_OF_WEEK                                         DAY_COUNTS  SPEND_PCT_CHANGE_VS_PREV_MONTH  SPEND_PCT_CHANGE_VS_PREV_YEAR  ONLINE_TRANSACTIONS  ONLINE_SPEND TRANSACTION_INTERMEDIARY SPEND_BY_TRANSACTION_INTERMEDIARY                    BUCKETED_CUSTOMER_FREQUENCY               MEAN_SPEND_PER_CUSTOMER_BY_FREQUENCY                          BUCKETED_CUSTOMER_INCOMES                  MEAN_SPEND_PER_CUSTOMER_BY_INCOME                                 CUSTOMER_HOME_CITY         RELATED_CROSS_SHOPPING_PHYSICAL_BRANDS_PCT        RELATED_CROSS_SHOPPING_ONLINE_MERCHANTS_PCT    RELATED_CROSS_SHOPPING_SAME_CATEGORY_BRANDS_PCT            RELATED_CROSS_SHOPPING_LOCAL_BRANDS_PCT                       RELATED_WIRELESS_CARRIER_PCT                        RELATED_STREAMING_CABLE_PCT                       RELATED_DELIVERY_SERVICE_PCT RELATED_RIDESHARE_SERVICE_PCT RELATED_BUYNOWPAYLATER_SERVICE_PCT RELATED_PAYMENT_PLATFORM_PCT                                      DATE_OF_MONTH\n",
      "14216  222-222@5wf-jgs-y5f                                        NaN             NaN  2019-05-01 00:00:00.000  2019-06-01 00:00:00.000          2049.10                    42                 37                         46.88                      50.00           {\"25\":25.00,\"75\":60.94}  [0.0, 0.0, 48.0, 0.0, 83.0, 218.25, 0.0, 236.7...  [null,null,48.00,null,83.00,55.00,null,61.00,3...  {\"Monday\":421.10,\"Tuesday\":237.50,\"Wednesday\":...  {\"Wednesday\":5,\"Monday\":4,\"Saturday\":4,\"Thursd...                             NaN                            NaN                    0           0.0   {\"No intermediary\":42}       {\"No intermediary\":2049.10}    {\"1\":33,\"2\":3,\"3\":1,\"4\":0,\"5-10\":0,\">10\":0}  {\"1\":49.55,\"2\":74.33,\"3\":191.00,\"4\":null,\"5-10...  {\"<25k\":6,\"25-45k\":5,\"45-60k\":2,\"60-75k\":2,\"75...  {\"<25k\":67.21,\"25-45k\":59.84,\"45-60k\":82.00,\"6...  {\"Island Park, ID\":5,\"Omaha, NE\":4,\"Great Fall...  {\"ConocoPhillips\":49,\"Walmart\":41,\"McDonald's\"...  {\"iTunes\":46,\"Amazon\":38,\"Netflix\":30,\"Amazon ...  {\"McDonald's\":41,\"Panda Express\":22,\"Starbucks...               {\"ConocoPhillips\":22,\"Travelodge\":3}     {\"Verizon Wireless\":36,\"AT&T\":28,\"T-Mobile\":3}  {\"Netflix\":30,\"Hulu\":14,\"Amazon Prime\":9,\"Slin...                                                 {}         {\"Uber\":11,\"Lyft\":11}                                 {}       {\"PayPal\":6,\"Venmo\":3}  [1, 2, 3, 4, 5, 6, 7, 8, 9, 10, 11, 12, 13, 14...\n",
      "14489  22p-222@5wf-jgv-mzf  SG_BRAND_6437599b41150ccc0b9c63702c5f7ba7      Travelodge  2019-05-01 00:00:00.000  2019-06-01 00:00:00.000          3690.15                    13                  8                        200.21                     264.67         {\"25\":194.80,\"75\":322.91}  [0.0, 0.0, 0.0, 0.0, 0.0, 1469.47, 0.0, 0.0, 0...  [null,null,null,null,null,624.60,null,null,nul...  {\"Monday\":1919.51,\"Tuesday\":1332.23,\"Wednesday...  {\"Wednesday\":5,\"Monday\":4,\"Saturday\":4,\"Thursd...                             NaN                            NaN                    0           0.0   {\"No intermediary\":13}       {\"No intermediary\":3690.15}     {\"1\":6,\"2\":1,\"3\":0,\"4\":0,\"5-10\":1,\">10\":0}  {\"1\":230.71,\"2\":1326.50,\"3\":null,\"4\":null,\"5-1...        {\"<25k\":2,\"25-45k\":2,\"75-100k\":4,\">150k\":2}  {\"<25k\":1152.96,\"25-45k\":157.04,\"75-100k\":232....  {\"Baltimore, MD\":4,\"Boulder, CO\":3,\"Pasadena, ...  {\"Chevron\":75,\"ConocoPhillips\":63,\"Subway\":50,...  {\"AT&T\":38,\"Uber\":25,\"Amazon\":25,\"Chewy\":25,\"C...  {\"Quality Inn\":25,\"Sheraton Hotels & Resorts\":...                  {\"ConocoPhillips\":50,\"Subway\":13}                  {\"AT&T\":50,\"Verizon Wireless\":13}            {\"Roku\":13,\"Amazon Prime\":13,\"Hulu\":13}                                                 {}         {\"Uber\":25,\"Lyft\":13}                                 {}                           {}  [1, 2, 3, 4, 5, 6, 7, 8, 9, 10, 11, 12, 13, 14...\n",
      "14831  zzy-222@5wf-jgs-ty9                                        NaN             NaN  2019-05-01 00:00:00.000  2019-06-01 00:00:00.000           269.15                     6                  5                         24.10                      37.00            {\"25\":6.49,\"75\":86.75}  [0.0, 0.0, 0.0, 0.0, 0.0, 0.0, 0.0, 0.0, 0.0, ...  [null,null,null,null,null,null,null,null,null,...  {\"Monday\":37.00,\"Tuesday\":0.00,\"Wednesday\":7.0...  {\"Wednesday\":5,\"Monday\":4,\"Saturday\":4,\"Thursd...                             NaN                            NaN                    0           0.0    {\"No intermediary\":6}        {\"No intermediary\":269.15}     {\"1\":4,\"2\":1,\"3\":0,\"4\":0,\"5-10\":0,\">10\":0}  {\"1\":63.25,\"2\":16.15,\"3\":null,\"4\":null,\"5-10\":...  {\"<25k\":2,\"25-45k\":2,\"45-60k\":2,\"60-75k\":2,\">1...  {\"<25k\":7.00,\"25-45k\":37.00,\"45-60k\":69.00,\"60...  {\"Devon, KY\":2,\"Austin, TX\":2,\"Las Vegas, NV\":...  {\"Walmart\":80,\"Pilot Flying J\":60,\"McDonald's\"...  {\"Walmart\":40,\"Verizon Wireless\":40,\"Amazon\":4...                                                 {}                              {\"ConocoPhillips\":20}    {\"Verizon Wireless\":40,\"AT&T\":20,\"T-Mobile\":20}               {\"Netflix\":40,\"Roku\":20,\"Redbox\":20}                                                 {}                            {}                                 {}                           {}  [1, 2, 3, 4, 5, 6, 7, 8, 9, 10, 11, 12, 13, 14...\n",
      "15666  zzw-223@5wf-jgv-nbk                                        NaN             NaN  2019-05-01 00:00:00.000  2019-06-01 00:00:00.000           673.20                     9                  9                         72.50                      72.50           {\"25\":49.75,\"75\":95.50}  [0.0, 0.0, 0.0, 0.0, 0.0, 60.0, 0.0, 0.0, 0.0,...  [null,null,null,null,null,60.00,null,null,null...  {\"Monday\":260.50,\"Tuesday\":0.00,\"Wednesday\":0....  {\"Wednesday\":5,\"Monday\":4,\"Saturday\":4,\"Thursd...                             NaN                            NaN                    0           0.0    {\"No intermediary\":9}        {\"No intermediary\":673.20}     {\"1\":9,\"2\":0,\"3\":0,\"4\":0,\"5-10\":0,\">10\":0}  {\"1\":74.80,\"2\":null,\"3\":null,\"4\":null,\"5-10\":n...      {\"<25k\":2,\"75-100k\":2,\"100-150k\":2,\">150k\":3}  {\"<25k\":39.50,\"75-100k\":69.60,\"100-150k\":128.0...  {\"Manassas, VA\":7,\"Tacoma, WA\":2,\"Humble, TX\":...  {\"McDonald's\":78,\"ConocoPhillips\":67,\"Subway\":...  {\"ADT Security Services\":34,\"Verizon Wireless\"...  {\"McDonald's\":78,\"Subway\":67,\"Starbucks\":56,\"C...  {\"Subway\":23,\"Travelodge\":12,\"ConocoPhillips\":12}      {\"AT&T\":45,\"Verizon Wireless\":45,\"Sprint\":12}  {\"Redbox\":45,\"Netflix\":34,\"Hulu\":23,\"DirecTV\":...    {\"HelloFresh\":23,\"Uber Eats\":12,\"Postmates\":12}         {\"Uber\":12,\"Lyft\":12}                                 {}                {\"PayPal\":23}  [1, 2, 3, 4, 5, 6, 7, 8, 9, 10, 11, 12, 13, 14...\n",
      "15826  222-222@5wf-jgt-b6k  SG_BRAND_a0ccd5fb65a3df0d5a340321693f0a16  ConocoPhillips  2019-05-01 00:00:00.000  2019-06-01 00:00:00.000          9058.61                   342                267                         24.10                      27.12           {\"25\":15.72,\"75\":35.92}  [121.74, 163.42, 127.46, 78.38, 35.88, 458.68,...  [16.65,35.98,26.49,11.68,17.94,26.14,20.25,24....  {\"Monday\":1677.32,\"Tuesday\":1899.72,\"Wednesday...  {\"Wednesday\":5,\"Monday\":4,\"Saturday\":4,\"Thursd...                           221.0                            NaN                    0           0.0  {\"No intermediary\":342}       {\"No intermediary\":9058.61}  {\"1\":209,\"2\":46,\"3\":9,\"4\":2,\"5-10\":1,\">10\":0}  {\"1\":27.99,\"2\":46.43,\"3\":68.94,\"4\":175.78,\"5-1...  {\"<25k\":44,\"25-45k\":40,\"45-60k\":25,\"60-75k\":21...  {\"<25k\":28.81,\"25-45k\":28.01,\"45-60k\":29.77,\"6...  {\"Bozeman, MT\":16,\"Great Falls, MT\":8,\"Billing...  {\"Walmart\":61,\"McDonald's\":54,\"Exxon Mobil\":47...  {\"Amazon\":41,\"iTunes\":37,\"Netflix\":27,\"Amazon ...  {\"Exxon Mobil\":47,\"Shell Oil\":33,\"Chevron\":27,...  {\"Subway\":6,\"United States Postal Service (USP...  {\"Verizon Wireless\":28,\"AT&T\":18,\"T-Mobile\":5,...  {\"Netflix\":27,\"Hulu\":12,\"Amazon Prime\":12,\"Red...  {\"Uber Eats\":2,\"DoorDash\":1,\"HelloFresh\":1,\"In...          {\"Uber\":17,\"Lyft\":8}        {\"Affirm.com\":1,\"Klarna\":1}  {\"PayPal\":3,\"Apple Cash\":1}  [1, 2, 3, 4, 5, 6, 7, 8, 9, 10, 11, 12, 13, 14...\n"
     ]
    }
   ],
   "source": [
    "import ast  # For safely evaluating strings containing Python literals\n",
    "\n",
    "df = df_filtered_2019.copy()\n",
    "\n",
    "# Convert string representations of lists in 'SPEND_BY_DAY' to actual lists\n",
    "df['SPEND_BY_DAY'] = df['SPEND_BY_DAY'].apply(ast.literal_eval)\n",
    "\n",
    "# Add a new column called 'DATE_OF_MONTH', as a list of integers from 1 to the end of the month (length of the 'SPEND_BY_DAY' list)\n",
    "df['DATE_OF_MONTH'] = df['SPEND_BY_DAY'].apply(lambda x: list(range(1, len(x) + 1)))\n",
    "\n",
    "print(df.head())\n",
    "\n",
    "# Explode both 'SPEND_BY_DAY' and 'DATE_OF_MONTH' simultaneously to keep their mapping correct\n",
    "df_spend_by_day = df.explode(['SPEND_BY_DAY', 'DATE_OF_MONTH'])\n",
    "\n",
    "# Convert the spending amounts to float\n",
    "df_spend_by_day['SPEND_BY_DAY'] = df_spend_by_day['SPEND_BY_DAY'].astype(float)\n",
    "df_spend_by_day['DATE_OF_MONTH'] = df_spend_by_day['DATE_OF_MONTH'].astype(int)\n",
    "\n",
    "\n",
    "# Calculate 'DATE' correctly by subtracting 1 since 'DATE_OF_MONTH' starts from 1, not 0\n",
    "df_spend_by_day['DATE'] = pd.to_datetime(df_spend_by_day['SPEND_DATE_RANGE_START']) + pd.to_timedelta(df_spend_by_day['DATE_OF_MONTH'] - 1, unit='D')\n",
    "df_spend_by_day['DATE'] = df_spend_by_day['DATE'].dt.strftime('%m-%d')\n",
    "\n",
    "# Ensure the DataFrame is sorted by 'DATE' if not already\n",
    "# df_spend_by_day = df_spend_by_day.sort_values('DATE')\n",
    "\n",
    "#print('# of rows: ', len(df_spend_by_day))\n",
    "#print(df_spend_by_day.head(10))\n",
    "\n",
    "# Plot df_spend_by_day using plotly\n",
    "#fig = px.scatter(df_spend_by_day, x='DATE', y='SPEND_BY_DAY', title='Daily Spend', labels={'SPEND_BY_DAY': 'Spend ($)'})\n",
    "\n",
    "#fig.show()\n",
    "\n",
    "grouped_19_gmt = df_spend_by_day.groupby('DATE')['SPEND_BY_DAY'].sum()"
   ]
  },
  {
   "cell_type": "code",
   "execution_count": 7,
   "metadata": {},
   "outputs": [
    {
     "name": "stdout",
     "output_type": "stream",
     "text": [
      "                   PLACEKEY                        SAFEGRAPH_BRAND_IDS                               BRANDS   SPEND_DATE_RANGE_START     SPEND_DATE_RANGE_END  RAW_TOTAL_SPEND  RAW_NUM_TRANSACTIONS  RAW_NUM_CUSTOMERS  MEDIAN_SPEND_PER_TRANSACTION  MEDIAN_SPEND_PER_CUSTOMER SPEND_PER_TRANSACTION_PERCENTILES                                       SPEND_BY_DAY                       SPEND_PER_TRANSACTION_BY_DAY                               SPEND_BY_DAY_OF_WEEK                                         DAY_COUNTS  SPEND_PCT_CHANGE_VS_PREV_MONTH  SPEND_PCT_CHANGE_VS_PREV_YEAR  ONLINE_TRANSACTIONS  ONLINE_SPEND TRANSACTION_INTERMEDIARY SPEND_BY_TRANSACTION_INTERMEDIARY                  BUCKETED_CUSTOMER_FREQUENCY               MEAN_SPEND_PER_CUSTOMER_BY_FREQUENCY                          BUCKETED_CUSTOMER_INCOMES                  MEAN_SPEND_PER_CUSTOMER_BY_INCOME                                 CUSTOMER_HOME_CITY         RELATED_CROSS_SHOPPING_PHYSICAL_BRANDS_PCT        RELATED_CROSS_SHOPPING_ONLINE_MERCHANTS_PCT    RELATED_CROSS_SHOPPING_SAME_CATEGORY_BRANDS_PCT RELATED_CROSS_SHOPPING_LOCAL_BRANDS_PCT                       RELATED_WIRELESS_CARRIER_PCT                        RELATED_STREAMING_CABLE_PCT             RELATED_DELIVERY_SERVICE_PCT RELATED_RIDESHARE_SERVICE_PCT RELATED_BUYNOWPAYLATER_SERVICE_PCT RELATED_PAYMENT_PLATFORM_PCT\n",
      "109785  zzw-222@5wf-jgs-vvf                                        NaN                                  NaN  2021-05-01 00:00:00.000  2021-06-01 00:00:00.000           792.50                     5                  4                        142.50                     202.50         {\"25\":122.50,\"75\":202.50}  [0.00,0.00,0.00,0.00,0.00,0.00,0.00,0.00,0.00,...  [null,null,null,null,null,null,null,null,null,...  {\"Monday\":0.00,\"Tuesday\":202.50,\"Wednesday\":0....  {\"Wednesday\":4,\"Monday\":5,\"Saturday\":5,\"Thursd...                           -18.0                            NaN                    0           0.0    {\"No intermediary\":5}        {\"No intermediary\":792.50}   {\"1\":3,\"2\":1,\"3\":0,\"4\":0,\"5-10\":0,\">10\":0}  {\"1\":182.50,\"2\":245.00,\"3\":null,\"4\":null,\"5-10...                                                 {}                                                 {}          {\"Salt Lake City, UT\":3,\"Waveland, MS\":2}  {\"Walmart\":75,\"McDonald's\":75,\"Jimmy John's\":5...  {\"Amazon\":50,\"Apple\":50,\"Nike\":25,\"Expedia\":25...  {\"Chevron\":50,\"ConocoPhillips\":50,\"Love's Trav...       {\"Subway\":50,\"ConocoPhillips\":25}                  {\"AT&T\":25,\"Verizon Wireless\":25}          {\"Disney Plus\":50,\"Hulu\":25,\"Netflix\":25}                                       {}                            {}                                 {}                           {}\n",
      "109805  222-222@5wf-jgs-whq  SG_BRAND_43bdfa786f5809e475a7382797eae3fd                              Super 8  2021-05-01 00:00:00.000  2021-06-01 00:00:00.000          3779.88                    15                 12                        216.92                     281.33         {\"25\":158.16,\"75\":453.84}  [0.00,0.00,0.00,0.00,1020.56,0.00,234.20,0.00,...  [null,null,null,null,453.84,null,234.20,null,n...  {\"Monday\":900.70,\"Tuesday\":486.62,\"Wednesday\":...  {\"Wednesday\":4,\"Monday\":5,\"Saturday\":5,\"Thursd...                            16.0                            NaN                    0           0.0   {\"No intermediary\":15}       {\"No intermediary\":3779.88}  {\"1\":10,\"2\":1,\"3\":1,\"4\":0,\"5-10\":0,\">10\":0}  {\"1\":304.97,\"2\":328.46,\"3\":401.74,\"4\":null,\"5-...       {\"<25k\":2,\"25-45k\":2,\"100-150k\":2,\">150k\":3}  {\"<25k\":222.68,\"25-45k\":175.99,\"100-150k\":335....  {\"Somerville, VA\":4,\"Joliet, MT\":2,\"Woodside, ...  {\"McDonald's\":84,\"Walmart\":75,\"Target\":59,\"She...  {\"Amazon\":50,\"Apple\":50,\"Netflix\":34,\"Audible\"...  {\"Home2 Suites\":17,\"Extended Stay America\":17,...         {\"ConocoPhillips\":9,\"Subway\":9}        {\"Verizon Wireless\":34,\"Sprint\":9,\"AT&T\":9}  {\"Disney Plus\":34,\"Netflix\":34,\"Hulu\":9,\"Dish ...                          {\"Uber Eats\":9}          {\"Uber\":17,\"Lyft\":9}        {\"Sezzle\":9,\"Affirm.com\":9}                           {}\n",
      "110017  222-222@5wf-jgs-y5f                                        NaN                                  NaN  2021-05-01 00:00:00.000  2021-06-01 00:00:00.000          3884.69                    60                 43                         57.00                      71.00           {\"25\":21.00,\"75\":84.13}  [0.00,0.00,0.00,0.00,0.00,0.00,0.00,0.00,0.00,...  [null,null,null,null,null,null,null,null,null,...  {\"Monday\":533.25,\"Tuesday\":1095.00,\"Wednesday\"...  {\"Wednesday\":4,\"Monday\":5,\"Saturday\":5,\"Thursd...                             NaN                            NaN                    0           0.0   {\"No intermediary\":60}       {\"No intermediary\":3884.69}  {\"1\":35,\"2\":3,\"3\":3,\"4\":1,\"5-10\":1,\">10\":0}  {\"1\":68.76,\"2\":154.33,\"3\":97.08,\"4\":88.00,\"5-1...  {\"<25k\":2,\"25-45k\":8,\"45-60k\":2,\"75-100k\":3,\"1...  {\"<25k\":29.33,\"25-45k\":64.64,\"45-60k\":272.33,\"...  {\"Anchorage, AK\":5,\"Riverton, VA\":4,\"Fitchburg...  {\"Walmart\":49,\"McDonald's\":40,\"ConocoPhillips\"...  {\"Amazon\":56,\"Apple\":42,\"Spotify\":40,\"Netflix\"...  {\"McDonald's\":40,\"Starbucks\":28,\"Wendy's\":28,\"...       {\"ConocoPhillips\":26,\"Subway\":12}  {\"Verizon Wireless\":19,\"AT&T\":14,\"T-Mobile\":10...  {\"Netflix\":35,\"Hulu\":17,\"YouTube TV\":7,\"Disney...  {\"Shipt\":7,\"Instacart\":3,\"Postmates\":3}           {\"Uber\":5,\"Lyft\":3}            {\"Sezzle\":3,\"Klarna\":3}  {\"Apple Cash\":5,\"PayPal\":3}\n",
      "110300  22p-222@5wf-jgv-mzf  SG_BRAND_6437599b41150ccc0b9c63702c5f7ba7                           Travelodge  2021-05-01 00:00:00.000  2021-06-01 00:00:00.000           500.68                     3                  3                        156.96                     156.96         {\"25\":126.80,\"75\":216.92}  [0.00,0.00,126.80,156.96,0.00,0.00,0.00,0.00,0...  [null,null,126.80,156.96,null,null,null,null,n...  {\"Monday\":343.72,\"Tuesday\":156.96,\"Wednesday\":...  {\"Wednesday\":4,\"Monday\":5,\"Saturday\":5,\"Thursd...                             NaN                            NaN                    0           0.0    {\"No intermediary\":3}        {\"No intermediary\":500.68}   {\"1\":3,\"2\":0,\"3\":0,\"4\":0,\"5-10\":0,\">10\":0}  {\"1\":166.89,\"2\":null,\"3\":null,\"4\":null,\"5-10\":...                           {\"100-150k\":2,\">150k\":2}                 {\"100-150k\":156.96,\">150k\":216.92}                     {\"Modesto, CA\":2,\"Reno, NV\":2}  {\"ConocoPhillips\":100,\"Walmart\":67,\"Starbucks\"...  {\"AT&T\":67,\"Venmo\":34,\"Verizon Wireless\":34,\"N...  {\"La Quinta Inns & Suites\":67,\"AmericInn\":34,\"...                   {\"ConocoPhillips\":67}                  {\"AT&T\":67,\"Verizon Wireless\":34}                         {\"DirecTV\":34,\"Redbox\":34}                                       {}                            {}                                 {}                 {\"Venmo\":34}\n",
      "110370  zzy-224@5wf-jgs-t9z  SG_BRAND_27ee73cd1fb6f5e432852fea401eacce  United States Postal Service (USPS)  2021-05-01 00:00:00.000  2021-06-01 00:00:00.000           120.52                     8                  6                         12.50                       8.00            {\"25\":2.04,\"75\":21.95}  [0.00,0.00,0.00,0.00,0.00,0.00,0.00,0.00,0.00,...  [null,null,null,null,null,null,null,null,null,...  {\"Monday\":12.54,\"Tuesday\":59.68,\"Wednesday\":21...  {\"Wednesday\":4,\"Monday\":5,\"Saturday\":5,\"Thursd...                             NaN                         8633.0                    0           0.0    {\"No intermediary\":8}        {\"No intermediary\":120.52}   {\"1\":5,\"2\":0,\"3\":1,\"4\":0,\"5-10\":0,\">10\":0}  {\"1\":12.64,\"2\":null,\"3\":57.30,\"4\":null,\"5-10\":...                {\"25-45k\":3,\"45-60k\":2,\"75-100k\":2}      {\"25-45k\":38.06,\"45-60k\":1.08,\"75-100k\":4.90}  {\"Gardiner, MT\":2,\"Baltimore, MD\":2,\"Jacksonvi...  {\"Walmart\":50,\"Target\":50,\"ConocoPhillips\":50,...  {\"Amazon\":67,\"Apple\":34,\"Netflix\":34,\"Spotify\"...                                                 {}       {\"ConocoPhillips\":50,\"Subway\":34}              {\"T-Mobile\":17,\"Verizon Wireless\":17}                                     {\"Netflix\":34}                                       {}                            {}                                 {}                           {}\n"
     ]
    },
    {
     "name": "stderr",
     "output_type": "stream",
     "text": [
      "C:\\Users\\tjbla\\AppData\\Local\\Temp\\ipykernel_17624\\1595654646.py:12: UserWarning: Boolean Series key will be reindexed to match DataFrame index.\n",
      "  df_filtered_2021 = df[(df_safegraph_spend['SPEND_DATE_RANGE_START'] >= datetime_start) &\n"
     ]
    }
   ],
   "source": [
    "# Filter by Dates\n",
    "\n",
    "# print('(before filter) # of rows: ', len(df_filtered))\n",
    "df = df_filtered.copy()\n",
    "\n",
    "datetime_start = pd.to_datetime('2021-05-01')\n",
    "datetime_end = pd.to_datetime('2021-09-01')\n",
    "\n",
    "df_safegraph_spend['SPEND_DATE_RANGE_START'] = pd.to_datetime(df_safegraph_spend['SPEND_DATE_RANGE_START'])\n",
    "df_safegraph_spend['SPEND_DATE_RANGE_END'] = pd.to_datetime(df_safegraph_spend['SPEND_DATE_RANGE_END'])\n",
    "\n",
    "df_filtered_2021 = df[(df_safegraph_spend['SPEND_DATE_RANGE_START'] >= datetime_start) &\n",
    "                                 (df_safegraph_spend['SPEND_DATE_RANGE_END'] <= datetime_end)]\n",
    "\n",
    "#print('(after filter) # of rows: ', len(df_filtered))\n",
    "print(df_filtered_2021.head())\n"
   ]
  },
  {
   "cell_type": "code",
   "execution_count": 8,
   "metadata": {},
   "outputs": [
    {
     "name": "stdout",
     "output_type": "stream",
     "text": [
      "                   PLACEKEY                        SAFEGRAPH_BRAND_IDS                               BRANDS   SPEND_DATE_RANGE_START     SPEND_DATE_RANGE_END  RAW_TOTAL_SPEND  RAW_NUM_TRANSACTIONS  RAW_NUM_CUSTOMERS  MEDIAN_SPEND_PER_TRANSACTION  MEDIAN_SPEND_PER_CUSTOMER SPEND_PER_TRANSACTION_PERCENTILES                                       SPEND_BY_DAY                       SPEND_PER_TRANSACTION_BY_DAY                               SPEND_BY_DAY_OF_WEEK                                         DAY_COUNTS  SPEND_PCT_CHANGE_VS_PREV_MONTH  SPEND_PCT_CHANGE_VS_PREV_YEAR  ONLINE_TRANSACTIONS  ONLINE_SPEND TRANSACTION_INTERMEDIARY SPEND_BY_TRANSACTION_INTERMEDIARY                  BUCKETED_CUSTOMER_FREQUENCY               MEAN_SPEND_PER_CUSTOMER_BY_FREQUENCY                          BUCKETED_CUSTOMER_INCOMES                  MEAN_SPEND_PER_CUSTOMER_BY_INCOME                                 CUSTOMER_HOME_CITY         RELATED_CROSS_SHOPPING_PHYSICAL_BRANDS_PCT        RELATED_CROSS_SHOPPING_ONLINE_MERCHANTS_PCT    RELATED_CROSS_SHOPPING_SAME_CATEGORY_BRANDS_PCT RELATED_CROSS_SHOPPING_LOCAL_BRANDS_PCT                       RELATED_WIRELESS_CARRIER_PCT                        RELATED_STREAMING_CABLE_PCT             RELATED_DELIVERY_SERVICE_PCT RELATED_RIDESHARE_SERVICE_PCT RELATED_BUYNOWPAYLATER_SERVICE_PCT RELATED_PAYMENT_PLATFORM_PCT                                      DATE_OF_MONTH\n",
      "109785  zzw-222@5wf-jgs-vvf                                        NaN                                  NaN  2021-05-01 00:00:00.000  2021-06-01 00:00:00.000           792.50                     5                  4                        142.50                     202.50         {\"25\":122.50,\"75\":202.50}  [0.0, 0.0, 0.0, 0.0, 0.0, 0.0, 0.0, 0.0, 0.0, ...  [null,null,null,null,null,null,null,null,null,...  {\"Monday\":0.00,\"Tuesday\":202.50,\"Wednesday\":0....  {\"Wednesday\":4,\"Monday\":5,\"Saturday\":5,\"Thursd...                           -18.0                            NaN                    0           0.0    {\"No intermediary\":5}        {\"No intermediary\":792.50}   {\"1\":3,\"2\":1,\"3\":0,\"4\":0,\"5-10\":0,\">10\":0}  {\"1\":182.50,\"2\":245.00,\"3\":null,\"4\":null,\"5-10...                                                 {}                                                 {}          {\"Salt Lake City, UT\":3,\"Waveland, MS\":2}  {\"Walmart\":75,\"McDonald's\":75,\"Jimmy John's\":5...  {\"Amazon\":50,\"Apple\":50,\"Nike\":25,\"Expedia\":25...  {\"Chevron\":50,\"ConocoPhillips\":50,\"Love's Trav...       {\"Subway\":50,\"ConocoPhillips\":25}                  {\"AT&T\":25,\"Verizon Wireless\":25}          {\"Disney Plus\":50,\"Hulu\":25,\"Netflix\":25}                                       {}                            {}                                 {}                           {}  [1, 2, 3, 4, 5, 6, 7, 8, 9, 10, 11, 12, 13, 14...\n",
      "109805  222-222@5wf-jgs-whq  SG_BRAND_43bdfa786f5809e475a7382797eae3fd                              Super 8  2021-05-01 00:00:00.000  2021-06-01 00:00:00.000          3779.88                    15                 12                        216.92                     281.33         {\"25\":158.16,\"75\":453.84}  [0.0, 0.0, 0.0, 0.0, 1020.56, 0.0, 234.2, 0.0,...  [null,null,null,null,453.84,null,234.20,null,n...  {\"Monday\":900.70,\"Tuesday\":486.62,\"Wednesday\":...  {\"Wednesday\":4,\"Monday\":5,\"Saturday\":5,\"Thursd...                            16.0                            NaN                    0           0.0   {\"No intermediary\":15}       {\"No intermediary\":3779.88}  {\"1\":10,\"2\":1,\"3\":1,\"4\":0,\"5-10\":0,\">10\":0}  {\"1\":304.97,\"2\":328.46,\"3\":401.74,\"4\":null,\"5-...       {\"<25k\":2,\"25-45k\":2,\"100-150k\":2,\">150k\":3}  {\"<25k\":222.68,\"25-45k\":175.99,\"100-150k\":335....  {\"Somerville, VA\":4,\"Joliet, MT\":2,\"Woodside, ...  {\"McDonald's\":84,\"Walmart\":75,\"Target\":59,\"She...  {\"Amazon\":50,\"Apple\":50,\"Netflix\":34,\"Audible\"...  {\"Home2 Suites\":17,\"Extended Stay America\":17,...         {\"ConocoPhillips\":9,\"Subway\":9}        {\"Verizon Wireless\":34,\"Sprint\":9,\"AT&T\":9}  {\"Disney Plus\":34,\"Netflix\":34,\"Hulu\":9,\"Dish ...                          {\"Uber Eats\":9}          {\"Uber\":17,\"Lyft\":9}        {\"Sezzle\":9,\"Affirm.com\":9}                           {}  [1, 2, 3, 4, 5, 6, 7, 8, 9, 10, 11, 12, 13, 14...\n",
      "110017  222-222@5wf-jgs-y5f                                        NaN                                  NaN  2021-05-01 00:00:00.000  2021-06-01 00:00:00.000          3884.69                    60                 43                         57.00                      71.00           {\"25\":21.00,\"75\":84.13}  [0.0, 0.0, 0.0, 0.0, 0.0, 0.0, 0.0, 0.0, 0.0, ...  [null,null,null,null,null,null,null,null,null,...  {\"Monday\":533.25,\"Tuesday\":1095.00,\"Wednesday\"...  {\"Wednesday\":4,\"Monday\":5,\"Saturday\":5,\"Thursd...                             NaN                            NaN                    0           0.0   {\"No intermediary\":60}       {\"No intermediary\":3884.69}  {\"1\":35,\"2\":3,\"3\":3,\"4\":1,\"5-10\":1,\">10\":0}  {\"1\":68.76,\"2\":154.33,\"3\":97.08,\"4\":88.00,\"5-1...  {\"<25k\":2,\"25-45k\":8,\"45-60k\":2,\"75-100k\":3,\"1...  {\"<25k\":29.33,\"25-45k\":64.64,\"45-60k\":272.33,\"...  {\"Anchorage, AK\":5,\"Riverton, VA\":4,\"Fitchburg...  {\"Walmart\":49,\"McDonald's\":40,\"ConocoPhillips\"...  {\"Amazon\":56,\"Apple\":42,\"Spotify\":40,\"Netflix\"...  {\"McDonald's\":40,\"Starbucks\":28,\"Wendy's\":28,\"...       {\"ConocoPhillips\":26,\"Subway\":12}  {\"Verizon Wireless\":19,\"AT&T\":14,\"T-Mobile\":10...  {\"Netflix\":35,\"Hulu\":17,\"YouTube TV\":7,\"Disney...  {\"Shipt\":7,\"Instacart\":3,\"Postmates\":3}           {\"Uber\":5,\"Lyft\":3}            {\"Sezzle\":3,\"Klarna\":3}  {\"Apple Cash\":5,\"PayPal\":3}  [1, 2, 3, 4, 5, 6, 7, 8, 9, 10, 11, 12, 13, 14...\n",
      "110300  22p-222@5wf-jgv-mzf  SG_BRAND_6437599b41150ccc0b9c63702c5f7ba7                           Travelodge  2021-05-01 00:00:00.000  2021-06-01 00:00:00.000           500.68                     3                  3                        156.96                     156.96         {\"25\":126.80,\"75\":216.92}  [0.0, 0.0, 126.8, 156.96, 0.0, 0.0, 0.0, 0.0, ...  [null,null,126.80,156.96,null,null,null,null,n...  {\"Monday\":343.72,\"Tuesday\":156.96,\"Wednesday\":...  {\"Wednesday\":4,\"Monday\":5,\"Saturday\":5,\"Thursd...                             NaN                            NaN                    0           0.0    {\"No intermediary\":3}        {\"No intermediary\":500.68}   {\"1\":3,\"2\":0,\"3\":0,\"4\":0,\"5-10\":0,\">10\":0}  {\"1\":166.89,\"2\":null,\"3\":null,\"4\":null,\"5-10\":...                           {\"100-150k\":2,\">150k\":2}                 {\"100-150k\":156.96,\">150k\":216.92}                     {\"Modesto, CA\":2,\"Reno, NV\":2}  {\"ConocoPhillips\":100,\"Walmart\":67,\"Starbucks\"...  {\"AT&T\":67,\"Venmo\":34,\"Verizon Wireless\":34,\"N...  {\"La Quinta Inns & Suites\":67,\"AmericInn\":34,\"...                   {\"ConocoPhillips\":67}                  {\"AT&T\":67,\"Verizon Wireless\":34}                         {\"DirecTV\":34,\"Redbox\":34}                                       {}                            {}                                 {}                 {\"Venmo\":34}  [1, 2, 3, 4, 5, 6, 7, 8, 9, 10, 11, 12, 13, 14...\n",
      "110370  zzy-224@5wf-jgs-t9z  SG_BRAND_27ee73cd1fb6f5e432852fea401eacce  United States Postal Service (USPS)  2021-05-01 00:00:00.000  2021-06-01 00:00:00.000           120.52                     8                  6                         12.50                       8.00            {\"25\":2.04,\"75\":21.95}  [0.0, 0.0, 0.0, 0.0, 0.0, 0.0, 0.0, 0.0, 0.0, ...  [null,null,null,null,null,null,null,null,null,...  {\"Monday\":12.54,\"Tuesday\":59.68,\"Wednesday\":21...  {\"Wednesday\":4,\"Monday\":5,\"Saturday\":5,\"Thursd...                             NaN                         8633.0                    0           0.0    {\"No intermediary\":8}        {\"No intermediary\":120.52}   {\"1\":5,\"2\":0,\"3\":1,\"4\":0,\"5-10\":0,\">10\":0}  {\"1\":12.64,\"2\":null,\"3\":57.30,\"4\":null,\"5-10\":...                {\"25-45k\":3,\"45-60k\":2,\"75-100k\":2}      {\"25-45k\":38.06,\"45-60k\":1.08,\"75-100k\":4.90}  {\"Gardiner, MT\":2,\"Baltimore, MD\":2,\"Jacksonvi...  {\"Walmart\":50,\"Target\":50,\"ConocoPhillips\":50,...  {\"Amazon\":67,\"Apple\":34,\"Netflix\":34,\"Spotify\"...                                                 {}       {\"ConocoPhillips\":50,\"Subway\":34}              {\"T-Mobile\":17,\"Verizon Wireless\":17}                                     {\"Netflix\":34}                                       {}                            {}                                 {}                           {}  [1, 2, 3, 4, 5, 6, 7, 8, 9, 10, 11, 12, 13, 14...\n"
     ]
    }
   ],
   "source": [
    "# Make a Plot of the Data\n",
    "\n",
    "# Note: 'SPEND_DATE_RANGE_START' and 'SPEND_DATE_RANGE_END' is typically separated by 1 month (~30 days)\n",
    "#       'SPEND_BY_DAY' is each spend data for each day of the month\n",
    "# Goal; Plot spending for each single day using plotly\n",
    "\n",
    "#import plotly.express as px\n",
    "import ast  # For safely evaluating strings containing Python literals\n",
    "\n",
    "df = df_filtered_2021.copy()\n",
    "\n",
    "# Convert string representations of lists in 'SPEND_BY_DAY' to actual lists\n",
    "df['SPEND_BY_DAY'] = df['SPEND_BY_DAY'].apply(ast.literal_eval)\n",
    "\n",
    "# Add a new column called 'DATE_OF_MONTH', as a list of integers from 1 to the end of the month (length of the 'SPEND_BY_DAY' list)\n",
    "df['DATE_OF_MONTH'] = df['SPEND_BY_DAY'].apply(lambda x: list(range(1, len(x) + 1)))\n",
    "\n",
    "print(df.head())\n",
    "\n",
    "# Explode both 'SPEND_BY_DAY' and 'DATE_OF_MONTH' simultaneously to keep their mapping correct\n",
    "df_spend_by_day = df.explode(['SPEND_BY_DAY', 'DATE_OF_MONTH'])\n",
    "\n",
    "# Convert the spending amounts to float\n",
    "df_spend_by_day['SPEND_BY_DAY'] = df_spend_by_day['SPEND_BY_DAY'].astype(float)\n",
    "df_spend_by_day['DATE_OF_MONTH'] = df_spend_by_day['DATE_OF_MONTH'].astype(int)\n",
    "\n",
    "\n",
    "# Calculate 'DATE' correctly by subtracting 1 since 'DATE_OF_MONTH' starts from 1, not 0\n",
    "df_spend_by_day['DATE'] = pd.to_datetime(df_spend_by_day['SPEND_DATE_RANGE_START']) + pd.to_timedelta(df_spend_by_day['DATE_OF_MONTH'] - 1, unit='D')\n",
    "df_spend_by_day['DATE'] = df_spend_by_day['DATE'].dt.strftime('%m-%d')\n",
    "\n",
    "# Ensure the DataFrame is sorted by 'DATE' if not already\n",
    "# df_spend_by_day = df_spend_by_day.sort_values('DATE')\n",
    "\n",
    "#print('# of rows: ', len(df_spend_by_day))\n",
    "#print(df_spend_by_day.head(10))\n",
    "\n",
    "# Plot df_spend_by_day using plotly\n",
    "#fig = px.scatter(df_spend_by_day, x='DATE', y='SPEND_BY_DAY', title='Daily Spend', labels={'SPEND_BY_DAY': 'Spend ($)'})\n",
    "\n",
    "#fig.show()\n",
    "\n",
    "grouped_21_gmt = df_spend_by_day.groupby('DATE')['SPEND_BY_DAY'].sum()\n"
   ]
  },
  {
   "cell_type": "code",
   "execution_count": 9,
   "metadata": {},
   "outputs": [
    {
     "name": "stdout",
     "output_type": "stream",
     "text": [
      "                   PLACEKEY                        SAFEGRAPH_BRAND_IDS          BRANDS   SPEND_DATE_RANGE_START     SPEND_DATE_RANGE_END  RAW_TOTAL_SPEND  RAW_NUM_TRANSACTIONS  RAW_NUM_CUSTOMERS  MEDIAN_SPEND_PER_TRANSACTION  MEDIAN_SPEND_PER_CUSTOMER SPEND_PER_TRANSACTION_PERCENTILES                                       SPEND_BY_DAY                       SPEND_PER_TRANSACTION_BY_DAY                               SPEND_BY_DAY_OF_WEEK                                         DAY_COUNTS  SPEND_PCT_CHANGE_VS_PREV_MONTH  SPEND_PCT_CHANGE_VS_PREV_YEAR  ONLINE_TRANSACTIONS  ONLINE_SPEND            TRANSACTION_INTERMEDIARY            SPEND_BY_TRANSACTION_INTERMEDIARY                    BUCKETED_CUSTOMER_FREQUENCY               MEAN_SPEND_PER_CUSTOMER_BY_FREQUENCY                          BUCKETED_CUSTOMER_INCOMES                  MEAN_SPEND_PER_CUSTOMER_BY_INCOME                                 CUSTOMER_HOME_CITY         RELATED_CROSS_SHOPPING_PHYSICAL_BRANDS_PCT        RELATED_CROSS_SHOPPING_ONLINE_MERCHANTS_PCT    RELATED_CROSS_SHOPPING_SAME_CATEGORY_BRANDS_PCT            RELATED_CROSS_SHOPPING_LOCAL_BRANDS_PCT                       RELATED_WIRELESS_CARRIER_PCT                        RELATED_STREAMING_CABLE_PCT                       RELATED_DELIVERY_SERVICE_PCT RELATED_RIDESHARE_SERVICE_PCT         RELATED_BUYNOWPAYLATER_SERVICE_PCT                       RELATED_PAYMENT_PLATFORM_PCT\n",
      "164666  222-222@5wf-jgt-b6k  SG_BRAND_a0ccd5fb65a3df0d5a340321693f0a16  ConocoPhillips  2022-05-01 00:00:00.000  2022-06-01 00:00:00.000          7989.54                   282                172                         21.63                      34.03            {\"25\":7.07,\"75\":41.03}  [67.91,43.22,194.14,353.55,146.56,288.11,72.46...  [18.46,21.61,25.82,28.96,7.80,22.58,36.23,30.4...  {\"Monday\":1723.53,\"Tuesday\":1232.81,\"Wednesday...  {\"Wednesday\":4,\"Monday\":5,\"Saturday\":4,\"Thursd...                           209.0                           13.0                   24        987.01             {\"No intermediary\":282}                  {\"No intermediary\":7989.54}  {\"1\":124,\"2\":31,\"3\":8,\"4\":2,\"5-10\":5,\">10\":2}  {\"1\":31.72,\"2\":68.18,\"3\":69.59,\"4\":120.01,\"5-1...  {\"<25k\":20,\"25-45k\":19,\"45-60k\":17,\"60-75k\":5,...  {\"<25k\":26.00,\"25-45k\":43.56,\"45-60k\":34.15,\"6...  {\"Peoria, AZ\":6,\"Logan, UT\":6,\"Erda, UT\":5,\"Ga...  {\"Walmart\":55,\"McDonald's\":46,\"Exxon Mobil\":38...  {\"Amazon\":63,\"Apple\":42,\"Netflix\":26,\"Spotify\"...  {\"Exxon Mobil\":41,\"Shell Oil\":34,\"Chevron\":30,...  {\"Super 8\":2,\"United States Postal Service (US...  {\"Verizon Wireless\":31,\"AT&T\":17,\"T-Mobile\":9,...  {\"Netflix\":26,\"Hulu\":16,\"Disney Plus\":7,\"Dish ...  {\"Uber Eats\":6,\"HelloFresh\":2,\"Dashpass\":2,\"Do...          {\"Uber\":12,\"Lyft\":7}  {\"Klarna\":3,\"Afterpay\":2,\"Zip Company\":1}  {\"Apple Card\":5,\"PayPal\":2,\"Venmo\":2,\"Apple Ca...\n",
      "165263  226-222@5wf-jgs-q75                                        NaN             NaN  2022-05-01 00:00:00.000  2022-06-01 00:00:00.000          2151.30                    76                 61                         14.00                      15.75           {\"25\":10.69,\"75\":25.92}  [0.00,0.00,0.00,47.42,0.00,0.00,135.17,18.20,0...  [null,null,null,10.84,null,null,135.17,9.10,nu...  {\"Monday\":202.72,\"Tuesday\":1149.98,\"Wednesday\"...  {\"Wednesday\":4,\"Monday\":5,\"Saturday\":4,\"Thursd...                          1771.0                           48.0                    1         21.98  {\"Square\":61,\"No intermediary\":15}  {\"Square\":1267.20,\"No intermediary\":884.10}   {\"1\":48,\"2\":12,\"3\":0,\"4\":1,\"5-10\":0,\">10\":0}  {\"1\":32.67,\"2\":44.06,\"3\":null,\"4\":54.35,\"5-10\"...  {\"<25k\":6,\"25-45k\":3,\"45-60k\":8,\"60-75k\":4,\"75...  {\"<25k\":20.73,\"25-45k\":22.15,\"45-60k\":26.42,\"6...  {\"Meridian, ID\":6,\"Boone, NC\":4,\"Gainesville, ...  {\"Walmart\":64,\"McDonald's\":55,\"Target\":40,\"She...  {\"Amazon\":66,\"Apple\":45,\"Spotify\":27,\"AT&T\":20...  {\"McDonald's\":55,\"Starbucks\":35,\"Wendy's\":25,\"...  {\"ConocoPhillips\":19,\"Super 8\":7,\"United State...  {\"Verizon Wireless\":25,\"AT&T\":20,\"T-Mobile\":4,...  {\"Netflix\":19,\"Hulu\":10,\"Sling TV\":4,\"Youtube\"...        {\"Uber Eats\":7,\"Instacart\":2,\"Postmates\":2}          {\"Uber\":15,\"Lyft\":4}                             {\"Afterpay\":5}            {\"Apple Card\":5,\"Venmo\":2,\"Cash App\":2}\n",
      "165798  zzw-222@5wf-jgs-vvf                                        NaN             NaN  2022-05-01 00:00:00.000  2022-06-01 00:00:00.000           412.50                     5                  2                         62.50                     206.25          {\"25\":42.50,\"75\":132.50}  [0.00,0.00,0.00,0.00,0.00,0.00,0.00,0.00,0.00,...  [null,null,null,null,null,null,null,null,null,...  {\"Monday\":42.50,\"Tuesday\":125.00,\"Wednesday\":0...  {\"Wednesday\":4,\"Monday\":5,\"Saturday\":4,\"Thursd...                          6775.0                          -48.0                    0          0.00               {\"No intermediary\":5}                   {\"No intermediary\":412.50}     {\"1\":0,\"2\":1,\"3\":1,\"4\":0,\"5-10\":0,\">10\":0}  {\"1\":null,\"2\":265.00,\"3\":147.50,\"4\":null,\"5-10...                             {\"25-45k\":2,\">150k\":2}                   {\"25-45k\":147.50,\">150k\":265.00}             {\"Milwaukee, WI\":2,\"Sturtevant, WI\":2}  {\"Albertsons\":100,\"ConocoPhillips\":100,\"United...  {\"Google Storage\":100,\"Target\":50,\"Verizon Wir...                                                 {}                             {\"ConocoPhillips\":100}                           {\"Verizon Wireless\":100}                {\"Netflix\":50,\"Youtube Premium\":50}                                                 {}                            {}                              {\"Klarna\":50}                                                 {}\n",
      "166009  22k-222@5wf-jgs-pvz                                        NaN             NaN  2022-05-01 00:00:00.000  2022-06-01 00:00:00.000           918.75                     6                  6                        135.88                     135.88          {\"25\":11.50,\"75\":312.00}  [0.00,0.00,0.00,0.00,0.00,0.00,0.00,0.00,0.00,...  [null,null,null,null,null,null,null,null,null,...  {\"Monday\":34.75,\"Tuesday\":0.00,\"Wednesday\":884...  {\"Wednesday\":4,\"Monday\":5,\"Saturday\":4,\"Thursd...                           744.0                            NaN                    1        260.00                        {\"Square\":6}                            {\"Square\":918.75}     {\"1\":6,\"2\":0,\"3\":0,\"4\":0,\"5-10\":0,\">10\":0}  {\"1\":153.13,\"2\":null,\"3\":null,\"4\":null,\"5-10\":...                    {\"<25k\":2,\"45-60k\":2,\">150k\":4}       {\"<25k\":11.75,\"45-60k\":11.50,\">150k\":294.67}  {\"Austin, TX\":3,\"Morgantown, WV\":2,\"Bridgevill...  {\"McDonald's\":67,\"Walmart\":50,\"Cabela's\":50,\"T...  {\"Apple\":67,\"Etsy\":50,\"Lyft\":50,\"Netflix\":50,\"...                             {\"24 Hour Fitness\":34}                                                 {}                  {\"AT&T\":50,\"Verizon Wireless\":17}  {\"Netflix\":50,\"YouTube TV\":34,\"Hulu\":34,\"Disne...                                                 {}                   {\"Lyft\":50}                                         {}                                                 {}\n",
      "166291  222-222@5wf-jgs-y5f                                        NaN             NaN  2022-05-01 00:00:00.000  2022-06-01 00:00:00.000          3617.54                    41                 40                         80.60                      84.66          {\"25\":44.63,\"75\":121.42}  [0.00,0.00,23.72,128.16,115.68,184.42,0.00,123...  [null,null,23.72,128.16,115.68,92.21,null,123....  {\"Monday\":988.42,\"Tuesday\":654.88,\"Wednesday\":...  {\"Wednesday\":4,\"Monday\":5,\"Saturday\":4,\"Thursd...                             NaN                           -7.0                    1         47.42              {\"No intermediary\":41}                  {\"No intermediary\":3617.54}    {\"1\":39,\"2\":1,\"3\":0,\"4\":0,\"5-10\":0,\">10\":0}  {\"1\":88.86,\"2\":151.88,\"3\":null,\"4\":null,\"5-10\"...  {\"<25k\":2,\"25-45k\":9,\"45-60k\":2,\"75-100k\":3,\"1...  {\"<25k\":76.17,\"25-45k\":67.89,\"45-60k\":124.78,\"...  {\"Massillon, OH\":5,\"Farmville, VA\":4,\"San Fran...  {\"ConocoPhillips\":45,\"Walmart\":43,\"Exxon Mobil...  {\"Amazon\":58,\"Apple\":50,\"AT&T\":30,\"Netflix\":25...  {\"Chick-fil-A\":30,\"McDonald's\":30,\"Subway\":28,...  {\"ConocoPhillips\":33,\"United States Postal Ser...  {\"AT&T\":35,\"Verizon Wireless\":33,\"T-Mobile\":8,...  {\"Netflix\":25,\"Hulu\":23,\"Disney Plus\":13,\"Slin...  {\"Instacart\":8,\"HelloFresh\":5,\"DoorDash\":3,\"Da...          {\"Uber\":15,\"Lyft\":5}                  {\"Afterpay\":5,\"Klarna\":3}                                   {\"Apple Card\":3}\n"
     ]
    },
    {
     "name": "stderr",
     "output_type": "stream",
     "text": [
      "C:\\Users\\tjbla\\AppData\\Local\\Temp\\ipykernel_17624\\4196244775.py:12: UserWarning: Boolean Series key will be reindexed to match DataFrame index.\n",
      "  df_filtered_2022 = df[(df_safegraph_spend['SPEND_DATE_RANGE_START'] >= datetime_start) &\n"
     ]
    }
   ],
   "source": [
    "# Filter by Dates\n",
    "\n",
    "# print('(before filter) # of rows: ', len(df_filtered))\n",
    "df = df_filtered.copy()\n",
    "\n",
    "datetime_start = pd.to_datetime('2022-05-01')\n",
    "datetime_end = pd.to_datetime('2022-09-01')\n",
    "\n",
    "df_safegraph_spend['SPEND_DATE_RANGE_START'] = pd.to_datetime(df_safegraph_spend['SPEND_DATE_RANGE_START'])\n",
    "df_safegraph_spend['SPEND_DATE_RANGE_END'] = pd.to_datetime(df_safegraph_spend['SPEND_DATE_RANGE_END'])\n",
    "\n",
    "df_filtered_2022 = df[(df_safegraph_spend['SPEND_DATE_RANGE_START'] >= datetime_start) &\n",
    "                                 (df_safegraph_spend['SPEND_DATE_RANGE_END'] <= datetime_end)]\n",
    "\n",
    "#print('(after filter) # of rows: ', len(df_filtered))\n",
    "print(df_filtered_2022.head())\n"
   ]
  },
  {
   "cell_type": "code",
   "execution_count": 10,
   "metadata": {},
   "outputs": [],
   "source": [
    "# Make a Plot of the Data\n",
    "\n",
    "# Note: 'SPEND_DATE_RANGE_START' and 'SPEND_DATE_RANGE_END' is typically separated by 1 month (~30 days)\n",
    "#       'SPEND_BY_DAY' is each spend data for each day of the month\n",
    "# Goal; Plot spending for each single day using plotly\n",
    "\n",
    "import plotly.express as px\n",
    "import ast  # For safely evaluating strings containing Python literals\n",
    "import matplotlib.pyplot as plt\n",
    "\n",
    "df = df_filtered_2022.copy()\n",
    "\n",
    "# Convert string representations of lists in 'SPEND_BY_DAY' to actual lists\n",
    "df['SPEND_BY_DAY'] = df['SPEND_BY_DAY'].apply(ast.literal_eval)\n",
    "\n",
    "# Add a new column called 'DATE_OF_MONTH', as a list of integers from 1 to the end of the month (length of the 'SPEND_BY_DAY' list)\n",
    "df['DATE_OF_MONTH'] = df['SPEND_BY_DAY'].apply(lambda x: list(range(1, len(x) + 1)))\n",
    "\n",
    "#print(df.head())\n",
    "\n",
    "# Explode both 'SPEND_BY_DAY' and 'DATE_OF_MONTH' simultaneously to keep their mapping correct\n",
    "df_spend_by_day = df.explode(['SPEND_BY_DAY', 'DATE_OF_MONTH'])\n",
    "\n",
    "# Convert the spending amounts to float\n",
    "df_spend_by_day['SPEND_BY_DAY'] = df_spend_by_day['SPEND_BY_DAY'].astype(float)\n",
    "df_spend_by_day['DATE_OF_MONTH'] = df_spend_by_day['DATE_OF_MONTH'].astype(int)\n",
    "\n",
    "\n",
    "# Calculate 'DATE' correctly by subtracting 1 since 'DATE_OF_MONTH' starts from 1, not 0\n",
    "df_spend_by_day['DATE'] = pd.to_datetime(df_spend_by_day['SPEND_DATE_RANGE_START']) + pd.to_timedelta(df_spend_by_day['DATE_OF_MONTH'] - 1, unit='D')\n",
    "df_spend_by_day['DATE'] = df_spend_by_day['DATE'].dt.strftime('%m-%d')\n",
    "\n",
    "# Ensure the DataFrame is sorted by 'DATE' if not already\n",
    "# df_spend_by_day = df_spend_by_day.sort_values('DATE')\n",
    "\n",
    "grouped_22_gmt = df_spend_by_day.groupby('DATE')['SPEND_BY_DAY'].sum()\n",
    "#print(grouped_22.head(10))\n"
   ]
  },
  {
   "cell_type": "code",
   "execution_count": 13,
   "metadata": {},
   "outputs": [
    {
     "data": {
      "image/png": "[encoded data removed]",
      "text/plain": [
       "<Figure size 1400x800 with 1 Axes>"
      ]
     },
     "metadata": {},
     "output_type": "display_data"
    }
   ],
   "source": [
    "# Plot the overall spending\n",
    "\n",
    "\n",
    "plt.figure(figsize=(14, 8))\n",
    "plt.plot(grouped_19_gmt);\n",
    "plt.plot(grouped_21_gmt);\n",
    "plt.plot(grouped_22_gmt);\n",
    "plt.title('Spending per Day, Gardiner, MT');\n",
    "plt.xlabel('day');\n",
    "plt.ylabel('$');\n",
    "plt.legend(['2019', '2021', '2022']);\n",
    "\n",
    "plt.savefig('General_Gardiner_Spending_2019-2022.png');"
   ]
  },
  {
   "cell_type": "code",
   "execution_count": 14,
   "metadata": {},
   "outputs": [
    {
     "name": "stdout",
     "output_type": "stream",
     "text": [
      "                   PLACEKEY                        SAFEGRAPH_BRAND_IDS       BRANDS   SPEND_DATE_RANGE_START     SPEND_DATE_RANGE_END  RAW_TOTAL_SPEND  RAW_NUM_TRANSACTIONS  RAW_NUM_CUSTOMERS  MEDIAN_SPEND_PER_TRANSACTION  MEDIAN_SPEND_PER_CUSTOMER SPEND_PER_TRANSACTION_PERCENTILES                                       SPEND_BY_DAY                       SPEND_PER_TRANSACTION_BY_DAY                               SPEND_BY_DAY_OF_WEEK                                         DAY_COUNTS  SPEND_PCT_CHANGE_VS_PREV_MONTH  SPEND_PCT_CHANGE_VS_PREV_YEAR  ONLINE_TRANSACTIONS  ONLINE_SPEND TRANSACTION_INTERMEDIARY SPEND_BY_TRANSACTION_INTERMEDIARY                  BUCKETED_CUSTOMER_FREQUENCY               MEAN_SPEND_PER_CUSTOMER_BY_FREQUENCY                          BUCKETED_CUSTOMER_INCOMES                  MEAN_SPEND_PER_CUSTOMER_BY_INCOME                                 CUSTOMER_HOME_CITY         RELATED_CROSS_SHOPPING_PHYSICAL_BRANDS_PCT        RELATED_CROSS_SHOPPING_ONLINE_MERCHANTS_PCT    RELATED_CROSS_SHOPPING_SAME_CATEGORY_BRANDS_PCT RELATED_CROSS_SHOPPING_LOCAL_BRANDS_PCT                     RELATED_WIRELESS_CARRIER_PCT RELATED_STREAMING_CABLE_PCT    RELATED_DELIVERY_SERVICE_PCT RELATED_RIDESHARE_SERVICE_PCT RELATED_BUYNOWPAYLATER_SERVICE_PCT RELATED_PAYMENT_PLATFORM_PCT\n",
      "218779  223-222@5sy-d6f-nnq                                        NaN          NaN  2023-05-01 00:00:00.000  2023-06-01 00:00:00.000          1000.22                    16                 14                         41.68                      38.71           {\"25\":32.68,\"75\":59.00}  [0.00,38.58,38.84,0.00,0.00,0.00,0.00,0.00,0.0...  [null,38.58,38.84,null,null,null,null,null,nul...  {\"Monday\":32.25,\"Tuesday\":197.06,\"Wednesday\":2...  {\"Wednesday\":5,\"Monday\":5,\"Saturday\":4,\"Thursd...                           442.0                           22.0                    2        210.38   {\"No intermediary\":16}       {\"No intermediary\":1000.22}  {\"1\":12,\"2\":2,\"3\":0,\"4\":0,\"5-10\":0,\">10\":0}  {\"1\":50.82,\"2\":195.19,\"3\":null,\"4\":null,\"5-10\"...  {\"<25k\":2,\"25-45k\":2,\"45-60k\":3,\"60-75k\":2,\"75...  {\"<25k\":16.97,\"25-45k\":41.55,\"45-60k\":210.38,\"...  {\"Saint Paul, MN\":2,\"Amalga, UT\":2,\"Driggs, ID...  {\"7-Eleven\":15,\"Ace Hardware\":36,\"Albertsons\":...  {\"Amazon\":50,\"Apple\":43,\"Sirius XM\":22,\"Netfli...                                                 {}                                      {}  {\"AT&T\":29,\"T-Mobile\":22,\"Verizon Wireless\":22}            {\"Paramount+\":8}        {\"DoorDash\":8,\"Shipt\":8}                            {}                                 {}             {\"Apple Card\":8}\n",
      "219074  zzw-222@5sy-d6f-f2k                                        NaN          NaN  2023-05-01 00:00:00.000  2023-06-01 00:00:00.000           317.44                     8                  7                         39.34                      42.88           {\"25\":15.25,\"75\":55.38}  [0.00,0.00,0.00,0.00,0.00,0.00,0.00,0.00,0.00,...  [null,null,null,null,null,null,null,null,null,...  {\"Monday\":0.00,\"Tuesday\":132.50,\"Wednesday\":58...  {\"Wednesday\":5,\"Monday\":5,\"Saturday\":4,\"Thursd...                             NaN                          -53.0                    0          0.00    {\"No intermediary\":8}        {\"No intermediary\":317.44}   {\"1\":6,\"2\":1,\"3\":0,\"4\":0,\"5-10\":0,\">10\":0}  {\"1\":48.02,\"2\":29.30,\"3\":null,\"4\":null,\"5-10\":...  {\"25-45k\":2,\"60-75k\":2,\"75-100k\":2,\"100-150k\":...  {\"25-45k\":42.88,\"60-75k\":37.15,\"75-100k\":35.80...  {\"Longmont, CO\":2,\"Mesquite, NV\":2,\"Elwood, IN...  {\"ARCO\":29,\"Albertsons\":29,\"Apple Retail Store...  {\"Verizon Wireless\":43,\"Netflix\":29,\"Sling TV\"...            {\"Olive Garden\":15,\"Raising Cane's\":15}                                      {}                          {\"Verizon Wireless\":72}                          {}  {\"DoorDash\":15,\"Uber Eats\":15}                   {\"Uber\":15}                                 {}                           {}\n",
      "219091  223-222@5sy-d6g-ks5                                        NaN          NaN  2023-05-01 00:00:00.000  2023-06-01 00:00:00.000           213.50                     7                  5                         27.00                      45.00           {\"25\":20.00,\"75\":40.00}  [0.00,0.00,0.00,0.00,0.00,0.00,0.00,0.00,0.00,...  [null,null,null,null,null,null,null,null,null,...  {\"Monday\":40.00,\"Tuesday\":0.00,\"Wednesday\":0.0...  {\"Wednesday\":5,\"Monday\":5,\"Saturday\":4,\"Thursd...                             NaN                          -80.0                    0          0.00    {\"No intermediary\":7}        {\"No intermediary\":213.50}   {\"1\":3,\"2\":2,\"3\":0,\"4\":0,\"5-10\":0,\">10\":0}  {\"1\":39.83,\"2\":47.00,\"3\":null,\"4\":null,\"5-10\":...       {\"25-45k\":6,\"45-60k\":2,\"60-75k\":2,\">150k\":2}  {\"25-45k\":34.50,\"45-60k\":40.00,\"60-75k\":45.00,...  {\"Saint Petersburg, FL\":2,\"Nashville, TN\":2,\"L...  {\"7-Eleven\":40,\"ARCO\":60,\"Ace Hardware\":40,\"BP...  {\"Amazon\":40,\"Sirius XM\":40,\"Lowe's\":40,\"Kohl'...                {\"Cracker Barrel\":20,\"Culver's\":40}                                      {}                          {\"Verizon Wireless\":20}                          {}                              {}                            {}                                 {}                           {}\n",
      "222092  223-222@5sy-d6f-rzf  SG_BRAND_a144a8c10e1fe8006125571afd1a1e80  Exxon Mobil  2023-05-01 00:00:00.000  2023-06-01 00:00:00.000           155.43                     6                  5                         24.17                      27.93           {\"25\":16.75,\"75\":35.07}  [0.00,0.00,0.00,0.00,0.00,0.00,0.00,0.00,7.00,...  [null,null,null,null,null,null,null,null,7.00,...  {\"Monday\":0.00,\"Tuesday\":27.00,\"Wednesday\":27....  {\"Wednesday\":5,\"Monday\":5,\"Saturday\":4,\"Thursd...                             NaN                          -84.0                    0          0.00    {\"No intermediary\":6}        {\"No intermediary\":155.43}   {\"1\":4,\"2\":1,\"3\":0,\"4\":0,\"5-10\":0,\">10\":0}  {\"1\":26.34,\"2\":50.08,\"3\":null,\"4\":null,\"5-10\":...        {\"<25k\":3,\"45-60k\":2,\"75-100k\":2,\">150k\":2}  {\"<25k\":50.05,\"45-60k\":27.93,\"75-100k\":20.40,\"...                       {\"Lutz, FL\":2,\"Tempe, AZ\":2}  {\"7-Eleven\":20,\"AT&T\":20,\"Agway\":20,\"Applebee'...  {\"Amazon\":40,\"Apple\":40,\"Sirius XM\":20,\"Lowe's...  {\"BP\":20,\"ConocoPhillips\":60,\"Holiday Station\"...                          {\"Super 8\":40}                                      {\"AT&T\":40}                          {}  {\"Dashpass\":20,\"Uber Eats\":20}                            {}                  {\"Affirm.com\":20}                           {}\n",
      "223009  zzy-225@5sy-d6f-dy9                                        NaN          NaN  2023-05-01 00:00:00.000  2023-06-01 00:00:00.000           126.80                     2                  2                         63.40                      63.40           {\"25\":35.33,\"75\":91.47}  [0.00,0.00,0.00,0.00,0.00,0.00,0.00,0.00,0.00,...  [null,null,null,null,null,null,null,null,null,...  {\"Monday\":0.00,\"Tuesday\":0.00,\"Wednesday\":0.00...  {\"Wednesday\":5,\"Monday\":5,\"Saturday\":4,\"Thursd...                             NaN                            NaN                    0          0.00    {\"No intermediary\":2}        {\"No intermediary\":126.80}   {\"1\":2,\"2\":0,\"3\":0,\"4\":0,\"5-10\":0,\">10\":0}  {\"1\":63.40,\"2\":null,\"3\":null,\"4\":null,\"5-10\":n...                          {\"60-75k\":2,\"100-150k\":2}                  {\"60-75k\":35.33,\"100-150k\":91.47}              {\"Murfreesboro, TN\":2,\"Elburn, IL\":2}  {\"ALDI\":50,\"BP\":100,\"Bargain Hunt\":50,\"Baskin ...  {\"Etsy\":100,\"Verizon Wireless\":100,\"Planet Fit...                                                 {}                                      {}               {\"Verizon Wireless\":100,\"AT&T\":50}                          {}                {\"Uber Eats\":50}                            {}                                 {}            {\"Apple Card\":50}\n"
     ]
    },
    {
     "name": "stderr",
     "output_type": "stream",
     "text": [
      "C:\\Users\\tjbla\\AppData\\Local\\Temp\\ipykernel_21468\\2773158075.py:12: UserWarning:\n",
      "\n",
      "Boolean Series key will be reindexed to match DataFrame index.\n",
      "\n"
     ]
    }
   ],
   "source": [
    "# Filter by Dates\n",
    "\n",
    "# print('(before filter) # of rows: ', len(df_filtered))\n",
    "df = df_filtered.copy()\n",
    "\n",
    "datetime_start = pd.to_datetime('2023-05-01')\n",
    "datetime_end = pd.to_datetime('2023-09-01')\n",
    "\n",
    "df_safegraph_spend['SPEND_DATE_RANGE_START'] = pd.to_datetime(df_safegraph_spend['SPEND_DATE_RANGE_START'])\n",
    "df_safegraph_spend['SPEND_DATE_RANGE_END'] = pd.to_datetime(df_safegraph_spend['SPEND_DATE_RANGE_END'])\n",
    "\n",
    "df_filtered_2023 = df[(df_safegraph_spend['SPEND_DATE_RANGE_START'] >= datetime_start) &\n",
    "                                 (df_safegraph_spend['SPEND_DATE_RANGE_END'] <= datetime_end)]\n",
    "\n",
    "#print('(after filter) # of rows: ', len(df_filtered))\n",
    "print(df_filtered_2023.head())\n"
   ]
  },
  {
   "cell_type": "code",
   "execution_count": 18,
   "metadata": {},
   "outputs": [
    {
     "name": "stdout",
     "output_type": "stream",
     "text": [
      "                   PLACEKEY                        SAFEGRAPH_BRAND_IDS       BRANDS   SPEND_DATE_RANGE_START     SPEND_DATE_RANGE_END  RAW_TOTAL_SPEND  RAW_NUM_TRANSACTIONS  RAW_NUM_CUSTOMERS  MEDIAN_SPEND_PER_TRANSACTION  MEDIAN_SPEND_PER_CUSTOMER SPEND_PER_TRANSACTION_PERCENTILES                                       SPEND_BY_DAY                       SPEND_PER_TRANSACTION_BY_DAY                               SPEND_BY_DAY_OF_WEEK                                         DAY_COUNTS  SPEND_PCT_CHANGE_VS_PREV_MONTH  SPEND_PCT_CHANGE_VS_PREV_YEAR  ONLINE_TRANSACTIONS  ONLINE_SPEND TRANSACTION_INTERMEDIARY SPEND_BY_TRANSACTION_INTERMEDIARY                  BUCKETED_CUSTOMER_FREQUENCY               MEAN_SPEND_PER_CUSTOMER_BY_FREQUENCY                          BUCKETED_CUSTOMER_INCOMES                  MEAN_SPEND_PER_CUSTOMER_BY_INCOME                                 CUSTOMER_HOME_CITY         RELATED_CROSS_SHOPPING_PHYSICAL_BRANDS_PCT        RELATED_CROSS_SHOPPING_ONLINE_MERCHANTS_PCT    RELATED_CROSS_SHOPPING_SAME_CATEGORY_BRANDS_PCT RELATED_CROSS_SHOPPING_LOCAL_BRANDS_PCT                     RELATED_WIRELESS_CARRIER_PCT RELATED_STREAMING_CABLE_PCT    RELATED_DELIVERY_SERVICE_PCT RELATED_RIDESHARE_SERVICE_PCT RELATED_BUYNOWPAYLATER_SERVICE_PCT RELATED_PAYMENT_PLATFORM_PCT                                      DATE_OF_MONTH\n",
      "218779  223-222@5sy-d6f-nnq                                        NaN          NaN  2023-05-01 00:00:00.000  2023-06-01 00:00:00.000          1000.22                    16                 14                         41.68                      38.71           {\"25\":32.68,\"75\":59.00}  [0.0, 38.58, 38.84, 0.0, 0.0, 0.0, 0.0, 0.0, 0...  [null,38.58,38.84,null,null,null,null,null,nul...  {\"Monday\":32.25,\"Tuesday\":197.06,\"Wednesday\":2...  {\"Wednesday\":5,\"Monday\":5,\"Saturday\":4,\"Thursd...                           442.0                           22.0                    2        210.38   {\"No intermediary\":16}       {\"No intermediary\":1000.22}  {\"1\":12,\"2\":2,\"3\":0,\"4\":0,\"5-10\":0,\">10\":0}  {\"1\":50.82,\"2\":195.19,\"3\":null,\"4\":null,\"5-10\"...  {\"<25k\":2,\"25-45k\":2,\"45-60k\":3,\"60-75k\":2,\"75...  {\"<25k\":16.97,\"25-45k\":41.55,\"45-60k\":210.38,\"...  {\"Saint Paul, MN\":2,\"Amalga, UT\":2,\"Driggs, ID...  {\"7-Eleven\":15,\"Ace Hardware\":36,\"Albertsons\":...  {\"Amazon\":50,\"Apple\":43,\"Sirius XM\":22,\"Netfli...                                                 {}                                      {}  {\"AT&T\":29,\"T-Mobile\":22,\"Verizon Wireless\":22}            {\"Paramount+\":8}        {\"DoorDash\":8,\"Shipt\":8}                            {}                                 {}             {\"Apple Card\":8}  [1, 2, 3, 4, 5, 6, 7, 8, 9, 10, 11, 12, 13, 14...\n",
      "219074  zzw-222@5sy-d6f-f2k                                        NaN          NaN  2023-05-01 00:00:00.000  2023-06-01 00:00:00.000           317.44                     8                  7                         39.34                      42.88           {\"25\":15.25,\"75\":55.38}  [0.0, 0.0, 0.0, 0.0, 0.0, 0.0, 0.0, 0.0, 0.0, ...  [null,null,null,null,null,null,null,null,null,...  {\"Monday\":0.00,\"Tuesday\":132.50,\"Wednesday\":58...  {\"Wednesday\":5,\"Monday\":5,\"Saturday\":4,\"Thursd...                             NaN                          -53.0                    0          0.00    {\"No intermediary\":8}        {\"No intermediary\":317.44}   {\"1\":6,\"2\":1,\"3\":0,\"4\":0,\"5-10\":0,\">10\":0}  {\"1\":48.02,\"2\":29.30,\"3\":null,\"4\":null,\"5-10\":...  {\"25-45k\":2,\"60-75k\":2,\"75-100k\":2,\"100-150k\":...  {\"25-45k\":42.88,\"60-75k\":37.15,\"75-100k\":35.80...  {\"Longmont, CO\":2,\"Mesquite, NV\":2,\"Elwood, IN...  {\"ARCO\":29,\"Albertsons\":29,\"Apple Retail Store...  {\"Verizon Wireless\":43,\"Netflix\":29,\"Sling TV\"...            {\"Olive Garden\":15,\"Raising Cane's\":15}                                      {}                          {\"Verizon Wireless\":72}                          {}  {\"DoorDash\":15,\"Uber Eats\":15}                   {\"Uber\":15}                                 {}                           {}  [1, 2, 3, 4, 5, 6, 7, 8, 9, 10, 11, 12, 13, 14...\n",
      "219091  223-222@5sy-d6g-ks5                                        NaN          NaN  2023-05-01 00:00:00.000  2023-06-01 00:00:00.000           213.50                     7                  5                         27.00                      45.00           {\"25\":20.00,\"75\":40.00}  [0.0, 0.0, 0.0, 0.0, 0.0, 0.0, 0.0, 0.0, 0.0, ...  [null,null,null,null,null,null,null,null,null,...  {\"Monday\":40.00,\"Tuesday\":0.00,\"Wednesday\":0.0...  {\"Wednesday\":5,\"Monday\":5,\"Saturday\":4,\"Thursd...                             NaN                          -80.0                    0          0.00    {\"No intermediary\":7}        {\"No intermediary\":213.50}   {\"1\":3,\"2\":2,\"3\":0,\"4\":0,\"5-10\":0,\">10\":0}  {\"1\":39.83,\"2\":47.00,\"3\":null,\"4\":null,\"5-10\":...       {\"25-45k\":6,\"45-60k\":2,\"60-75k\":2,\">150k\":2}  {\"25-45k\":34.50,\"45-60k\":40.00,\"60-75k\":45.00,...  {\"Saint Petersburg, FL\":2,\"Nashville, TN\":2,\"L...  {\"7-Eleven\":40,\"ARCO\":60,\"Ace Hardware\":40,\"BP...  {\"Amazon\":40,\"Sirius XM\":40,\"Lowe's\":40,\"Kohl'...                {\"Cracker Barrel\":20,\"Culver's\":40}                                      {}                          {\"Verizon Wireless\":20}                          {}                              {}                            {}                                 {}                           {}  [1, 2, 3, 4, 5, 6, 7, 8, 9, 10, 11, 12, 13, 14...\n",
      "222092  223-222@5sy-d6f-rzf  SG_BRAND_a144a8c10e1fe8006125571afd1a1e80  Exxon Mobil  2023-05-01 00:00:00.000  2023-06-01 00:00:00.000           155.43                     6                  5                         24.17                      27.93           {\"25\":16.75,\"75\":35.07}  [0.0, 0.0, 0.0, 0.0, 0.0, 0.0, 0.0, 0.0, 7.0, ...  [null,null,null,null,null,null,null,null,7.00,...  {\"Monday\":0.00,\"Tuesday\":27.00,\"Wednesday\":27....  {\"Wednesday\":5,\"Monday\":5,\"Saturday\":4,\"Thursd...                             NaN                          -84.0                    0          0.00    {\"No intermediary\":6}        {\"No intermediary\":155.43}   {\"1\":4,\"2\":1,\"3\":0,\"4\":0,\"5-10\":0,\">10\":0}  {\"1\":26.34,\"2\":50.08,\"3\":null,\"4\":null,\"5-10\":...        {\"<25k\":3,\"45-60k\":2,\"75-100k\":2,\">150k\":2}  {\"<25k\":50.05,\"45-60k\":27.93,\"75-100k\":20.40,\"...                       {\"Lutz, FL\":2,\"Tempe, AZ\":2}  {\"7-Eleven\":20,\"AT&T\":20,\"Agway\":20,\"Applebee'...  {\"Amazon\":40,\"Apple\":40,\"Sirius XM\":20,\"Lowe's...  {\"BP\":20,\"ConocoPhillips\":60,\"Holiday Station\"...                          {\"Super 8\":40}                                      {\"AT&T\":40}                          {}  {\"Dashpass\":20,\"Uber Eats\":20}                            {}                  {\"Affirm.com\":20}                           {}  [1, 2, 3, 4, 5, 6, 7, 8, 9, 10, 11, 12, 13, 14...\n",
      "223009  zzy-225@5sy-d6f-dy9                                        NaN          NaN  2023-05-01 00:00:00.000  2023-06-01 00:00:00.000           126.80                     2                  2                         63.40                      63.40           {\"25\":35.33,\"75\":91.47}  [0.0, 0.0, 0.0, 0.0, 0.0, 0.0, 0.0, 0.0, 0.0, ...  [null,null,null,null,null,null,null,null,null,...  {\"Monday\":0.00,\"Tuesday\":0.00,\"Wednesday\":0.00...  {\"Wednesday\":5,\"Monday\":5,\"Saturday\":4,\"Thursd...                             NaN                            NaN                    0          0.00    {\"No intermediary\":2}        {\"No intermediary\":126.80}   {\"1\":2,\"2\":0,\"3\":0,\"4\":0,\"5-10\":0,\">10\":0}  {\"1\":63.40,\"2\":null,\"3\":null,\"4\":null,\"5-10\":n...                          {\"60-75k\":2,\"100-150k\":2}                  {\"60-75k\":35.33,\"100-150k\":91.47}              {\"Murfreesboro, TN\":2,\"Elburn, IL\":2}  {\"ALDI\":50,\"BP\":100,\"Bargain Hunt\":50,\"Baskin ...  {\"Etsy\":100,\"Verizon Wireless\":100,\"Planet Fit...                                                 {}                                      {}               {\"Verizon Wireless\":100,\"AT&T\":50}                          {}                {\"Uber Eats\":50}                            {}                                 {}            {\"Apple Card\":50}  [1, 2, 3, 4, 5, 6, 7, 8, 9, 10, 11, 12, 13, 14...\n",
      "DATE\n",
      "2023-05-01     0.00\n",
      "2023-05-02    38.58\n",
      "2023-05-03    38.84\n",
      "2023-05-04     0.00\n",
      "2023-05-05     0.00\n",
      "2023-05-06     0.00\n",
      "2023-05-07     0.00\n",
      "2023-05-08     0.00\n",
      "2023-05-09     7.00\n",
      "2023-05-10     0.00\n",
      "Name: SPEND_BY_DAY, dtype: float64\n"
     ]
    },
    {
     "name": "stderr",
     "output_type": "stream",
     "text": [
      "c:\\Users\\tjbla\\miniforge3\\envs\\worth\\Lib\\site-packages\\_plotly_utils\\basevalidators.py:106: FutureWarning:\n",
      "\n",
      "The behavior of DatetimeProperties.to_pydatetime is deprecated, in a future version this will return a Series containing python datetime objects instead of an ndarray. To retain the old behavior, call `np.array` on the result\n",
      "\n"
     ]
    },
    {
     "data": {
      "application/vnd.plotly.v1+json": {
       "config": {
        "plotlyServerURL": "https://plot.ly"
       },
       "data": [
        {
         "hovertemplate": "variable=SPEND_BY_DAY<br>DATE=%{x}<br>value=%{y}<extra></extra>",
         "legendgroup": "SPEND_BY_DAY",
         "line": {
          "color": "#636efa",
          "dash": "solid"
         },
         "marker": {
          "symbol": "circle"
         },
         "mode": "lines",
         "name": "SPEND_BY_DAY",
         "orientation": "v",
         "showlegend": true,
         "type": "scatter",
         "x": [
          "2023-05-01T00:00:00",
          "2023-05-02T00:00:00",
          "2023-05-03T00:00:00",
          "2023-05-04T00:00:00",
          "2023-05-05T00:00:00",
          "2023-05-06T00:00:00",
          "2023-05-07T00:00:00",
          "2023-05-08T00:00:00",
          "2023-05-09T00:00:00",
          "2023-05-10T00:00:00",
          "2023-05-11T00:00:00",
          "2023-05-12T00:00:00",
          "2023-05-13T00:00:00",
          "2023-05-14T00:00:00",
          "2023-05-15T00:00:00",
          "2023-05-16T00:00:00",
          "2023-05-17T00:00:00",
          "2023-05-18T00:00:00",
          "2023-05-19T00:00:00",
          "2023-05-20T00:00:00",
          "2023-05-21T00:00:00",
          "2023-05-22T00:00:00",
          "2023-05-23T00:00:00",
          "2023-05-24T00:00:00",
          "2023-05-25T00:00:00",
          "2023-05-26T00:00:00",
          "2023-05-27T00:00:00",
          "2023-05-28T00:00:00",
          "2023-05-29T00:00:00",
          "2023-05-30T00:00:00",
          "2023-05-31T00:00:00",
          "2023-06-01T00:00:00",
          "2023-06-02T00:00:00",
          "2023-06-03T00:00:00",
          "2023-06-04T00:00:00",
          "2023-06-05T00:00:00",
          "2023-06-06T00:00:00",
          "2023-06-07T00:00:00",
          "2023-06-08T00:00:00",
          "2023-06-09T00:00:00",
          "2023-06-10T00:00:00",
          "2023-06-11T00:00:00",
          "2023-06-12T00:00:00",
          "2023-06-13T00:00:00",
          "2023-06-14T00:00:00",
          "2023-06-15T00:00:00",
          "2023-06-16T00:00:00",
          "2023-06-17T00:00:00",
          "2023-06-18T00:00:00",
          "2023-06-19T00:00:00",
          "2023-06-20T00:00:00",
          "2023-06-21T00:00:00",
          "2023-06-22T00:00:00",
          "2023-06-23T00:00:00",
          "2023-06-24T00:00:00",
          "2023-06-25T00:00:00",
          "2023-06-26T00:00:00",
          "2023-06-27T00:00:00",
          "2023-06-28T00:00:00",
          "2023-06-29T00:00:00",
          "2023-06-30T00:00:00",
          "2023-07-01T00:00:00",
          "2023-07-02T00:00:00",
          "2023-07-03T00:00:00",
          "2023-07-04T00:00:00",
          "2023-07-05T00:00:00",
          "2023-07-06T00:00:00",
          "2023-07-07T00:00:00",
          "2023-07-08T00:00:00",
          "2023-07-09T00:00:00",
          "2023-07-10T00:00:00",
          "2023-07-11T00:00:00",
          "2023-07-12T00:00:00",
          "2023-07-13T00:00:00",
          "2023-07-14T00:00:00",
          "2023-07-15T00:00:00",
          "2023-07-16T00:00:00",
          "2023-07-17T00:00:00",
          "2023-07-18T00:00:00",
          "2023-07-19T00:00:00",
          "2023-07-20T00:00:00",
          "2023-07-21T00:00:00",
          "2023-07-22T00:00:00",
          "2023-07-23T00:00:00",
          "2023-07-24T00:00:00",
          "2023-07-25T00:00:00",
          "2023-07-26T00:00:00",
          "2023-07-27T00:00:00",
          "2023-07-28T00:00:00",
          "2023-07-29T00:00:00",
          "2023-07-30T00:00:00",
          "2023-07-31T00:00:00",
          "2023-08-01T00:00:00",
          "2023-08-02T00:00:00",
          "2023-08-03T00:00:00",
          "2023-08-04T00:00:00",
          "2023-08-05T00:00:00",
          "2023-08-06T00:00:00",
          "2023-08-07T00:00:00",
          "2023-08-08T00:00:00",
          "2023-08-09T00:00:00",
          "2023-08-10T00:00:00",
          "2023-08-11T00:00:00",
          "2023-08-12T00:00:00",
          "2023-08-13T00:00:00",
          "2023-08-14T00:00:00",
          "2023-08-15T00:00:00",
          "2023-08-16T00:00:00",
          "2023-08-17T00:00:00",
          "2023-08-18T00:00:00",
          "2023-08-19T00:00:00",
          "2023-08-20T00:00:00",
          "2023-08-21T00:00:00",
          "2023-08-22T00:00:00",
          "2023-08-23T00:00:00",
          "2023-08-24T00:00:00",
          "2023-08-25T00:00:00",
          "2023-08-26T00:00:00",
          "2023-08-27T00:00:00",
          "2023-08-28T00:00:00",
          "2023-08-29T00:00:00",
          "2023-08-30T00:00:00",
          "2023-08-31T00:00:00"
         ],
         "xaxis": "x",
         "y": [
          0,
          38.58,
          38.84,
          0,
          0,
          0,
          0,
          0,
          7,
          0,
          0,
          33.98,
          70,
          94,
          40,
          0,
          58.84,
          44.51,
          159.5,
          621.0699999999999,
          30.08,
          32.25,
          288.47,
          27.93,
          121.15,
          159.26999999999998,
          279.75,
          181.47,
          0,
          689.2,
          333.53999999999996,
          67.08,
          0,
          236.76,
          75.84,
          1055.6,
          483.01,
          244.51999999999998,
          386.13,
          324.68,
          165.28,
          99.94,
          675.76,
          386.35,
          105.07999999999998,
          392.2,
          1208.69,
          464.26,
          130.3,
          525.61,
          477.29,
          341.52,
          379.83,
          724.28,
          183.76999999999998,
          157.85,
          1646.3,
          185.91,
          69.24000000000001,
          133.05,
          421.13,
          864.5600000000001,
          175.2,
          776.29,
          1342.32,
          305.68,
          508.89,
          465.09,
          758.78,
          5.09,
          261.95,
          250.17000000000002,
          301.11,
          284.53,
          235.12,
          248.64,
          445.36,
          1270.51,
          591.12,
          351.78999999999996,
          663.12,
          631.05,
          399.97,
          175.1,
          494.71,
          433.70000000000005,
          194.69,
          522.7,
          148.26,
          422.65,
          235.45,
          643.1800000000001,
          248.68,
          150.13,
          778.66,
          38.28,
          220.56,
          132.34,
          1056.69,
          722.79,
          367.38,
          535.55,
          145.95,
          317.58000000000004,
          127.67,
          619.89,
          472.18,
          973.0899999999999,
          311.34,
          278.89,
          308.56,
          507.04,
          104.71,
          229.95,
          683.3299999999999,
          844.47,
          140.19,
          219.39,
          260.69,
          1123.91,
          58.940000000000005,
          99.52,
          194.64000000000001
         ],
         "yaxis": "y"
        }
       ],
       "layout": {
        "legend": {
         "title": {
          "text": "variable"
         },
         "tracegroupgap": 0
        },
        "template": {
         "data": {
          "bar": [
           {
            "error_x": {
             "color": "#2a3f5f"
            },
            "error_y": {
             "color": "#2a3f5f"
            },
            "marker": {
             "line": {
              "color": "#E5ECF6",
              "width": 0.5
             },
             "pattern": {
              "fillmode": "overlay",
              "size": 10,
              "solidity": 0.2
             }
            },
            "type": "bar"
           }
          ],
          "barpolar": [
           {
            "marker": {
             "line": {
              "color": "#E5ECF6",
              "width": 0.5
             },
             "pattern": {
              "fillmode": "overlay",
              "size": 10,
              "solidity": 0.2
             }
            },
            "type": "barpolar"
           }
          ],
          "carpet": [
           {
            "aaxis": {
             "endlinecolor": "#2a3f5f",
             "gridcolor": "white",
             "linecolor": "white",
             "minorgridcolor": "white",
             "startlinecolor": "#2a3f5f"
            },
            "baxis": {
             "endlinecolor": "#2a3f5f",
             "gridcolor": "white",
             "linecolor": "white",
             "minorgridcolor": "white",
             "startlinecolor": "#2a3f5f"
            },
            "type": "carpet"
           }
          ],
          "choropleth": [
           {
            "colorbar": {
             "outlinewidth": 0,
             "ticks": ""
            },
            "type": "choropleth"
           }
          ],
          "contour": [
           {
            "colorbar": {
             "outlinewidth": 0,
             "ticks": ""
            },
            "colorscale": [
             [
              0,
              "#0d0887"
             ],
             [
              0.1111111111111111,
              "#46039f"
             ],
             [
              0.2222222222222222,
              "#7201a8"
             ],
             [
              0.3333333333333333,
              "#9c179e"
             ],
             [
              0.4444444444444444,
              "#bd3786"
             ],
             [
              0.5555555555555556,
              "#d8576b"
             ],
             [
              0.6666666666666666,
              "#ed7953"
             ],
             [
              0.7777777777777778,
              "#fb9f3a"
             ],
             [
              0.8888888888888888,
              "#fdca26"
             ],
             [
              1,
              "#f0f921"
             ]
            ],
            "type": "contour"
           }
          ],
          "contourcarpet": [
           {
            "colorbar": {
             "outlinewidth": 0,
             "ticks": ""
            },
            "type": "contourcarpet"
           }
          ],
          "heatmap": [
           {
            "colorbar": {
             "outlinewidth": 0,
             "ticks": ""
            },
            "colorscale": [
             [
              0,
              "#0d0887"
             ],
             [
              0.1111111111111111,
              "#46039f"
             ],
             [
              0.2222222222222222,
              "#7201a8"
             ],
             [
              0.3333333333333333,
              "#9c179e"
             ],
             [
              0.4444444444444444,
              "#bd3786"
             ],
             [
              0.5555555555555556,
              "#d8576b"
             ],
             [
              0.6666666666666666,
              "#ed7953"
             ],
             [
              0.7777777777777778,
              "#fb9f3a"
             ],
             [
              0.8888888888888888,
              "#fdca26"
             ],
             [
              1,
              "#f0f921"
             ]
            ],
            "type": "heatmap"
           }
          ],
          "heatmapgl": [
           {
            "colorbar": {
             "outlinewidth": 0,
             "ticks": ""
            },
            "colorscale": [
             [
              0,
              "#0d0887"
             ],
             [
              0.1111111111111111,
              "#46039f"
             ],
             [
              0.2222222222222222,
              "#7201a8"
             ],
             [
              0.3333333333333333,
              "#9c179e"
             ],
             [
              0.4444444444444444,
              "#bd3786"
             ],
             [
              0.5555555555555556,
              "#d8576b"
             ],
             [
              0.6666666666666666,
              "#ed7953"
             ],
             [
              0.7777777777777778,
              "#fb9f3a"
             ],
             [
              0.8888888888888888,
              "#fdca26"
             ],
             [
              1,
              "#f0f921"
             ]
            ],
            "type": "heatmapgl"
           }
          ],
          "histogram": [
           {
            "marker": {
             "pattern": {
              "fillmode": "overlay",
              "size": 10,
              "solidity": 0.2
             }
            },
            "type": "histogram"
           }
          ],
          "histogram2d": [
           {
            "colorbar": {
             "outlinewidth": 0,
             "ticks": ""
            },
            "colorscale": [
             [
              0,
              "#0d0887"
             ],
             [
              0.1111111111111111,
              "#46039f"
             ],
             [
              0.2222222222222222,
              "#7201a8"
             ],
             [
              0.3333333333333333,
              "#9c179e"
             ],
             [
              0.4444444444444444,
              "#bd3786"
             ],
             [
              0.5555555555555556,
              "#d8576b"
             ],
             [
              0.6666666666666666,
              "#ed7953"
             ],
             [
              0.7777777777777778,
              "#fb9f3a"
             ],
             [
              0.8888888888888888,
              "#fdca26"
             ],
             [
              1,
              "#f0f921"
             ]
            ],
            "type": "histogram2d"
           }
          ],
          "histogram2dcontour": [
           {
            "colorbar": {
             "outlinewidth": 0,
             "ticks": ""
            },
            "colorscale": [
             [
              0,
              "#0d0887"
             ],
             [
              0.1111111111111111,
              "#46039f"
             ],
             [
              0.2222222222222222,
              "#7201a8"
             ],
             [
              0.3333333333333333,
              "#9c179e"
             ],
             [
              0.4444444444444444,
              "#bd3786"
             ],
             [
              0.5555555555555556,
              "#d8576b"
             ],
             [
              0.6666666666666666,
              "#ed7953"
             ],
             [
              0.7777777777777778,
              "#fb9f3a"
             ],
             [
              0.8888888888888888,
              "#fdca26"
             ],
             [
              1,
              "#f0f921"
             ]
            ],
            "type": "histogram2dcontour"
           }
          ],
          "mesh3d": [
           {
            "colorbar": {
             "outlinewidth": 0,
             "ticks": ""
            },
            "type": "mesh3d"
           }
          ],
          "parcoords": [
           {
            "line": {
             "colorbar": {
              "outlinewidth": 0,
              "ticks": ""
             }
            },
            "type": "parcoords"
           }
          ],
          "pie": [
           {
            "automargin": true,
            "type": "pie"
           }
          ],
          "scatter": [
           {
            "fillpattern": {
             "fillmode": "overlay",
             "size": 10,
             "solidity": 0.2
            },
            "type": "scatter"
           }
          ],
          "scatter3d": [
           {
            "line": {
             "colorbar": {
              "outlinewidth": 0,
              "ticks": ""
             }
            },
            "marker": {
             "colorbar": {
              "outlinewidth": 0,
              "ticks": ""
             }
            },
            "type": "scatter3d"
           }
          ],
          "scattercarpet": [
           {
            "marker": {
             "colorbar": {
              "outlinewidth": 0,
              "ticks": ""
             }
            },
            "type": "scattercarpet"
           }
          ],
          "scattergeo": [
           {
            "marker": {
             "colorbar": {
              "outlinewidth": 0,
              "ticks": ""
             }
            },
            "type": "scattergeo"
           }
          ],
          "scattergl": [
           {
            "marker": {
             "colorbar": {
              "outlinewidth": 0,
              "ticks": ""
             }
            },
            "type": "scattergl"
           }
          ],
          "scattermapbox": [
           {
            "marker": {
             "colorbar": {
              "outlinewidth": 0,
              "ticks": ""
             }
            },
            "type": "scattermapbox"
           }
          ],
          "scatterpolar": [
           {
            "marker": {
             "colorbar": {
              "outlinewidth": 0,
              "ticks": ""
             }
            },
            "type": "scatterpolar"
           }
          ],
          "scatterpolargl": [
           {
            "marker": {
             "colorbar": {
              "outlinewidth": 0,
              "ticks": ""
             }
            },
            "type": "scatterpolargl"
           }
          ],
          "scatterternary": [
           {
            "marker": {
             "colorbar": {
              "outlinewidth": 0,
              "ticks": ""
             }
            },
            "type": "scatterternary"
           }
          ],
          "surface": [
           {
            "colorbar": {
             "outlinewidth": 0,
             "ticks": ""
            },
            "colorscale": [
             [
              0,
              "#0d0887"
             ],
             [
              0.1111111111111111,
              "#46039f"
             ],
             [
              0.2222222222222222,
              "#7201a8"
             ],
             [
              0.3333333333333333,
              "#9c179e"
             ],
             [
              0.4444444444444444,
              "#bd3786"
             ],
             [
              0.5555555555555556,
              "#d8576b"
             ],
             [
              0.6666666666666666,
              "#ed7953"
             ],
             [
              0.7777777777777778,
              "#fb9f3a"
             ],
             [
              0.8888888888888888,
              "#fdca26"
             ],
             [
              1,
              "#f0f921"
             ]
            ],
            "type": "surface"
           }
          ],
          "table": [
           {
            "cells": {
             "fill": {
              "color": "#EBF0F8"
             },
             "line": {
              "color": "white"
             }
            },
            "header": {
             "fill": {
              "color": "#C8D4E3"
             },
             "line": {
              "color": "white"
             }
            },
            "type": "table"
           }
          ]
         },
         "layout": {
          "annotationdefaults": {
           "arrowcolor": "#2a3f5f",
           "arrowhead": 0,
           "arrowwidth": 1
          },
          "autotypenumbers": "strict",
          "coloraxis": {
           "colorbar": {
            "outlinewidth": 0,
            "ticks": ""
           }
          },
          "colorscale": {
           "diverging": [
            [
             0,
             "#8e0152"
            ],
            [
             0.1,
             "#c51b7d"
            ],
            [
             0.2,
             "#de77ae"
            ],
            [
             0.3,
             "#f1b6da"
            ],
            [
             0.4,
             "#fde0ef"
            ],
            [
             0.5,
             "#f7f7f7"
            ],
            [
             0.6,
             "#e6f5d0"
            ],
            [
             0.7,
             "#b8e186"
            ],
            [
             0.8,
             "#7fbc41"
            ],
            [
             0.9,
             "#4d9221"
            ],
            [
             1,
             "#276419"
            ]
           ],
           "sequential": [
            [
             0,
             "#0d0887"
            ],
            [
             0.1111111111111111,
             "#46039f"
            ],
            [
             0.2222222222222222,
             "#7201a8"
            ],
            [
             0.3333333333333333,
             "#9c179e"
            ],
            [
             0.4444444444444444,
             "#bd3786"
            ],
            [
             0.5555555555555556,
             "#d8576b"
            ],
            [
             0.6666666666666666,
             "#ed7953"
            ],
            [
             0.7777777777777778,
             "#fb9f3a"
            ],
            [
             0.8888888888888888,
             "#fdca26"
            ],
            [
             1,
             "#f0f921"
            ]
           ],
           "sequentialminus": [
            [
             0,
             "#0d0887"
            ],
            [
             0.1111111111111111,
             "#46039f"
            ],
            [
             0.2222222222222222,
             "#7201a8"
            ],
            [
             0.3333333333333333,
             "#9c179e"
            ],
            [
             0.4444444444444444,
             "#bd3786"
            ],
            [
             0.5555555555555556,
             "#d8576b"
            ],
            [
             0.6666666666666666,
             "#ed7953"
            ],
            [
             0.7777777777777778,
             "#fb9f3a"
            ],
            [
             0.8888888888888888,
             "#fdca26"
            ],
            [
             1,
             "#f0f921"
            ]
           ]
          },
          "colorway": [
           "#636efa",
           "#EF553B",
           "#00cc96",
           "#ab63fa",
           "#FFA15A",
           "#19d3f3",
           "#FF6692",
           "#B6E880",
           "#FF97FF",
           "#FECB52"
          ],
          "font": {
           "color": "#2a3f5f"
          },
          "geo": {
           "bgcolor": "white",
           "lakecolor": "white",
           "landcolor": "#E5ECF6",
           "showlakes": true,
           "showland": true,
           "subunitcolor": "white"
          },
          "hoverlabel": {
           "align": "left"
          },
          "hovermode": "closest",
          "mapbox": {
           "style": "light"
          },
          "paper_bgcolor": "white",
          "plot_bgcolor": "#E5ECF6",
          "polar": {
           "angularaxis": {
            "gridcolor": "white",
            "linecolor": "white",
            "ticks": ""
           },
           "bgcolor": "#E5ECF6",
           "radialaxis": {
            "gridcolor": "white",
            "linecolor": "white",
            "ticks": ""
           }
          },
          "scene": {
           "xaxis": {
            "backgroundcolor": "#E5ECF6",
            "gridcolor": "white",
            "gridwidth": 2,
            "linecolor": "white",
            "showbackground": true,
            "ticks": "",
            "zerolinecolor": "white"
           },
           "yaxis": {
            "backgroundcolor": "#E5ECF6",
            "gridcolor": "white",
            "gridwidth": 2,
            "linecolor": "white",
            "showbackground": true,
            "ticks": "",
            "zerolinecolor": "white"
           },
           "zaxis": {
            "backgroundcolor": "#E5ECF6",
            "gridcolor": "white",
            "gridwidth": 2,
            "linecolor": "white",
            "showbackground": true,
            "ticks": "",
            "zerolinecolor": "white"
           }
          },
          "shapedefaults": {
           "line": {
            "color": "#2a3f5f"
           }
          },
          "ternary": {
           "aaxis": {
            "gridcolor": "white",
            "linecolor": "white",
            "ticks": ""
           },
           "baxis": {
            "gridcolor": "white",
            "linecolor": "white",
            "ticks": ""
           },
           "bgcolor": "#E5ECF6",
           "caxis": {
            "gridcolor": "white",
            "linecolor": "white",
            "ticks": ""
           }
          },
          "title": {
           "x": 0.05
          },
          "xaxis": {
           "automargin": true,
           "gridcolor": "white",
           "linecolor": "white",
           "ticks": "",
           "title": {
            "standoff": 15
           },
           "zerolinecolor": "white",
           "zerolinewidth": 2
          },
          "yaxis": {
           "automargin": true,
           "gridcolor": "white",
           "linecolor": "white",
           "ticks": "",
           "title": {
            "standoff": 15
           },
           "zerolinecolor": "white",
           "zerolinewidth": 2
          }
         }
        },
        "title": {
         "text": "Daily Spending 2023"
        },
        "xaxis": {
         "anchor": "y",
         "domain": [
          0,
          1
         ],
         "title": {
          "text": "DATE"
         }
        },
        "yaxis": {
         "anchor": "x",
         "domain": [
          0,
          1
         ],
         "title": {
          "text": "value"
         }
        }
       }
      }
     },
     "metadata": {},
     "output_type": "display_data"
    }
   ],
   "source": [
    "# Make a Plot of the Data\n",
    "\n",
    "# Note: 'SPEND_DATE_RANGE_START' and 'SPEND_DATE_RANGE_END' is typically separated by 1 month (~30 days)\n",
    "#       'SPEND_BY_DAY' is each spend data for each day of the month\n",
    "# Goal; Plot spending for each single day using plotly\n",
    "\n",
    "import plotly.express as px\n",
    "import ast  # For safely evaluating strings containing Python literals\n",
    "\n",
    "df = df_filtered_2023.copy()\n",
    "\n",
    "# Convert string representations of lists in 'SPEND_BY_DAY' to actual lists\n",
    "df['SPEND_BY_DAY'] = df['SPEND_BY_DAY'].apply(ast.literal_eval)\n",
    "\n",
    "# Add a new column called 'DATE_OF_MONTH', as a list of integers from 1 to the end of the month (length of the 'SPEND_BY_DAY' list)\n",
    "df['DATE_OF_MONTH'] = df['SPEND_BY_DAY'].apply(lambda x: list(range(1, len(x) + 1)))\n",
    "\n",
    "print(df.head())\n",
    "\n",
    "# Explode both 'SPEND_BY_DAY' and 'DATE_OF_MONTH' simultaneously to keep their mapping correct\n",
    "df_spend_by_day = df.explode(['SPEND_BY_DAY', 'DATE_OF_MONTH'])\n",
    "\n",
    "# Convert the spending amounts to float\n",
    "df_spend_by_day['SPEND_BY_DAY'] = df_spend_by_day['SPEND_BY_DAY'].astype(float)\n",
    "df_spend_by_day['DATE_OF_MONTH'] = df_spend_by_day['DATE_OF_MONTH'].astype(int)\n",
    "\n",
    "\n",
    "# Calculate 'DATE' correctly by subtracting 1 since 'DATE_OF_MONTH' starts from 1, not 0\n",
    "df_spend_by_day['DATE'] = pd.to_datetime(df_spend_by_day['SPEND_DATE_RANGE_START']) + pd.to_timedelta(df_spend_by_day['DATE_OF_MONTH'] - 1, unit='D')\n",
    "\n",
    "# Ensure the DataFrame is sorted by 'DATE' if not already\n",
    "# df_spend_by_day = df_spend_by_day.sort_values('DATE')\n",
    "\n",
    "#print('# of rows: ', len(df_spend_by_day))\n",
    "#print(df_spend_by_day.head(10))\n",
    "\n",
    "# Plot df_spend_by_day using plotly\n",
    "#fig = px.scatter(df_spend_by_day, x='DATE', y='SPEND_BY_DAY', title='Daily Spend', labels={'SPEND_BY_DAY': 'Spend ($)'})\n",
    "\n",
    "#fig.show()\n",
    "\n",
    "grouped_23 = df_spend_by_day.groupby('DATE')['SPEND_BY_DAY'].sum()\n",
    "print(grouped_23.head(10))\n",
    "fig = px.line(grouped_23, title='Daily Spending 2023')\n",
    "fig.show()\n"
   ]
  },
  {
   "cell_type": "code",
   "execution_count": 22,
   "metadata": {},
   "outputs": [
    {
     "name": "stdout",
     "output_type": "stream",
     "text": [
      "         DATE\n",
      "163061  07-01\n",
      "163061  07-02\n",
      "163061  07-03\n",
      "163061  07-04\n",
      "163061  07-05\n",
      "163061  07-06\n",
      "163061  07-07\n",
      "163061  07-08\n",
      "163061  07-09\n",
      "163061  07-10\n"
     ]
    }
   ],
   "source": [
    "spending = pd.DataFrame()\n",
    "spending['DATE'] = df_spend_by_day['DATE']\n",
    "spending['2021'] = \n",
    "\n",
    "print(spending.head(10))"
   ]
  }
 ],
 "metadata": {
  "kernelspec": {
   "display_name": "Python 3",
   "language": "python",
   "name": "python3"
  },
  "language_info": {
   "codemirror_mode": {
    "name": "ipython",
    "version": 3
   },
   "file_extension": ".py",
   "mimetype": "text/x-python",
   "name": "python",
   "nbconvert_exporter": "python",
   "pygments_lexer": "ipython3",
   "version": "3.12.2"
  }
 },
 "nbformat": 4,
 "nbformat_minor": 2
}
